{
 "cells": [
  {
   "cell_type": "markdown",
   "id": "f67d974d-83ce-4645-8acb-6d5a5d693fc2",
   "metadata": {},
   "source": [
    "# 5.Sets in Python\n",
    "\n",
    " * __Set in one of the 4-build-in types in Python used to store collection of data including list, tuple and dictioanry.__\n",
    "\n",
    " * __Set are unordered, but you can remove items and add new items.__\n",
    " * __Set elements are unique. Duplicated elements are not allowed.__\n",
    " * __A set iteself may be modified, but the elements contained in the set must be of immutable type.__\n",
    " * __Sets are unsed to store multiple items in a single variable.__\n",
    " * __You can denote a set with a pair of curly brackets.{}.__"
   ]
  },
  {
   "cell_type": "code",
   "execution_count": 4,
   "id": "0acbabca-e694-4108-a768-3571449b66f7",
   "metadata": {},
   "outputs": [
    {
     "name": "stdout",
     "output_type": "stream",
     "text": [
      "{}\n",
      "<class 'dict'>\n"
     ]
    }
   ],
   "source": [
    "x = {}   # empty sets\n",
    "print(x)\n",
    "print(type(x))"
   ]
  },
  {
   "cell_type": "code",
   "execution_count": 5,
   "id": "ab63019b-2c68-4e5e-a83b-df74dfc2dcb9",
   "metadata": {},
   "outputs": [
    {
     "name": "stdout",
     "output_type": "stream",
     "text": [
      "set()\n",
      "<class 'set'>\n"
     ]
    }
   ],
   "source": [
    "# how to create empty sets.\n",
    "\n",
    "# set() method\n",
    "\n",
    "set1 = set()\n",
    "print(set1)\n",
    "print(type(set1))"
   ]
  },
  {
   "cell_type": "code",
   "execution_count": 7,
   "id": "3db84c7e-84dd-4f86-84d7-a1557f2b20e8",
   "metadata": {},
   "outputs": [
    {
     "name": "stdout",
     "output_type": "stream",
     "text": [
      "{False, True, 2.718, 3.147, 'Python', 'Hello world'}\n"
     ]
    }
   ],
   "source": [
    "set1 = {'Hello world','Python',3.147,2.718,True,False}\n",
    "print(set1)"
   ]
  },
  {
   "cell_type": "code",
   "execution_count": 8,
   "id": "090f3318-7ccd-4c02-9ddc-02fc71ee8264",
   "metadata": {},
   "outputs": [
    {
     "name": "stdout",
     "output_type": "stream",
     "text": [
      "<class 'set'>\n"
     ]
    }
   ],
   "source": [
    "print(type(set1))"
   ]
  },
  {
   "cell_type": "code",
   "execution_count": 12,
   "id": "533e4112-db52-4f69-ac15-896ba3e59fb6",
   "metadata": {},
   "outputs": [
    {
     "name": "stdout",
     "output_type": "stream",
     "text": [
      "<class 'list'>\n",
      "['Hello world', 'Python', 3.147, 2.718, True, False]\n"
     ]
    }
   ],
   "source": [
    "list1 = ['Hello world','Python',3.147,2.718,True,False]\n",
    "print(type(list1))\n",
    "print(list1)"
   ]
  },
  {
   "cell_type": "code",
   "execution_count": 14,
   "id": "03459ffa-bce5-4716-8a17-3e4b9e374989",
   "metadata": {},
   "outputs": [
    {
     "data": {
      "text/plain": [
       "{2.718, 3.147, False, 'Hello world', 'Python', True}"
      ]
     },
     "execution_count": 14,
     "metadata": {},
     "output_type": "execute_result"
    }
   ],
   "source": [
    "# converting list into set.\n",
    "\n",
    "set2 = set(list1)  # it takes only one parameter at a time [variable,datatype].\n",
    "set2"
   ]
  },
  {
   "cell_type": "code",
   "execution_count": 15,
   "id": "6f83856c-ddff-4dae-bfaa-73e7ed8e7c78",
   "metadata": {},
   "outputs": [
    {
     "name": "stdout",
     "output_type": "stream",
     "text": [
      "{100, 'Hello world'}\n"
     ]
    }
   ],
   "source": [
    "tuple_1 = ('Hello world',100)\n",
    "\n",
    "set4 = set(tuple_1)\n",
    "print(set4)"
   ]
  },
  {
   "cell_type": "markdown",
   "id": "491bf52d-6ab9-40b0-9fa9-fee29533cb41",
   "metadata": {},
   "source": [
    "# set operations"
   ]
  },
  {
   "cell_type": "code",
   "execution_count": 16,
   "id": "9efe850b-cb3c-48da-98e9-a605aee33742",
   "metadata": {},
   "outputs": [],
   "source": [
    "# append()\n",
    "# insert()\n",
    "# extend()"
   ]
  },
  {
   "cell_type": "code",
   "execution_count": 17,
   "id": "9ad21c0e-f3b0-41bf-9077-8cca6d34a22c",
   "metadata": {},
   "outputs": [
    {
     "name": "stdout",
     "output_type": "stream",
     "text": [
      "{50, 20, 40, 10, 30}\n"
     ]
    }
   ],
   "source": [
    "# add() method\n",
    "# To add an element into a set, we use add() method. if the same element is added to the set, \n",
    "# nothing will happend beacuase the set accetps no duplicate.\n",
    "\n",
    "set1 = {10,20,30,40,50}\n",
    "print(set1)"
   ]
  },
  {
   "cell_type": "code",
   "execution_count": 18,
   "id": "92029293-317d-4286-9f07-7bfe6cfe3497",
   "metadata": {},
   "outputs": [
    {
     "name": "stdout",
     "output_type": "stream",
     "text": [
      "{50, 20, 100, 40, 10, 30}\n"
     ]
    }
   ],
   "source": [
    "set1.add(100)\n",
    "print(set1)"
   ]
  },
  {
   "cell_type": "code",
   "execution_count": 19,
   "id": "df0dd496-bae1-45fc-a595-1a6c34a63bc7",
   "metadata": {},
   "outputs": [
    {
     "name": "stdout",
     "output_type": "stream",
     "text": [
      "{50, 20, 100, 40, 10, 30}\n"
     ]
    }
   ],
   "source": [
    "set1.add(100)\n",
    "print(set1)"
   ]
  },
  {
   "cell_type": "code",
   "execution_count": 20,
   "id": "c802333f-370f-4d72-a778-77368aedc01d",
   "metadata": {},
   "outputs": [
    {
     "name": "stdout",
     "output_type": "stream",
     "text": [
      "{50, 20, 100, '100', 40, 10, 30}\n"
     ]
    }
   ],
   "source": [
    "set1.add('100')\n",
    "print(set1)"
   ]
  },
  {
   "cell_type": "code",
   "execution_count": 23,
   "id": "b45de354-614e-4b18-8ef8-560a515bd85a",
   "metadata": {},
   "outputs": [
    {
     "name": "stdout",
     "output_type": "stream",
     "text": [
      "{50, '100.0', 20, 100, '100', 40, 10, 30}\n"
     ]
    }
   ],
   "source": [
    "set1.add('100.0')\n",
    "print(set1)"
   ]
  },
  {
   "cell_type": "code",
   "execution_count": 29,
   "id": "134fb469-4156-421e-9efd-2d5bc3a36076",
   "metadata": {},
   "outputs": [
    {
     "name": "stdout",
     "output_type": "stream",
     "text": [
      "{8, 6, 7}\n",
      "{10, 20, 30}\n"
     ]
    }
   ],
   "source": [
    "# updating() set element.\n",
    "\n",
    "set4 = {6,7,8}\n",
    "\n",
    "set5 = {10,20,30}\n",
    "\n",
    "print(set4)\n",
    "print(set5)"
   ]
  },
  {
   "cell_type": "code",
   "execution_count": 30,
   "id": "d9011c84-0fe3-4eb5-a65c-6acff79bc335",
   "metadata": {},
   "outputs": [
    {
     "data": {
      "text/plain": [
       "({6, 7, 8}, {10, 20, 30})"
      ]
     },
     "execution_count": 30,
     "metadata": {},
     "output_type": "execute_result"
    }
   ],
   "source": [
    "set4,set5"
   ]
  },
  {
   "cell_type": "code",
   "execution_count": 33,
   "id": "29bf3ea4-8253-4325-bf31-fbb6f8362fa2",
   "metadata": {},
   "outputs": [
    {
     "data": {
      "text/plain": [
       "{6, 7, 8, 10, 20, 30}"
      ]
     },
     "execution_count": 33,
     "metadata": {},
     "output_type": "execute_result"
    }
   ],
   "source": [
    "set5.update({10,20,30})\n",
    "set5"
   ]
  },
  {
   "cell_type": "code",
   "execution_count": 34,
   "id": "0cb18b74-a416-4434-b694-7895d0541781",
   "metadata": {},
   "outputs": [
    {
     "data": {
      "text/plain": [
       "{6, 7, 8, 10, 20, 30}"
      ]
     },
     "execution_count": 34,
     "metadata": {},
     "output_type": "execute_result"
    }
   ],
   "source": [
    "set5"
   ]
  },
  {
   "cell_type": "code",
   "execution_count": 35,
   "id": "72b88388-04de-4a0b-bfec-63e6db7a2533",
   "metadata": {},
   "outputs": [
    {
     "data": {
      "text/plain": [
       "{6, 7, 8, 10, 20, 30}"
      ]
     },
     "execution_count": 35,
     "metadata": {},
     "output_type": "execute_result"
    }
   ],
   "source": [
    "# remove() method\n",
    "\n",
    "# To remove an element from the set.\n",
    "\n",
    "set5"
   ]
  },
  {
   "cell_type": "code",
   "execution_count": 36,
   "id": "704835b5-a005-4b22-98ce-d98065bff100",
   "metadata": {},
   "outputs": [
    {
     "ename": "TypeError",
     "evalue": "'set' object is not subscriptable",
     "output_type": "error",
     "traceback": [
      "\u001b[1;31m---------------------------------------------------------------------------\u001b[0m",
      "\u001b[1;31mTypeError\u001b[0m                                 Traceback (most recent call last)",
      "Cell \u001b[1;32mIn[36], line 1\u001b[0m\n\u001b[1;32m----> 1\u001b[0m \u001b[43mset5\u001b[49m\u001b[43m[\u001b[49m\u001b[38;5;241;43m0\u001b[39;49m\u001b[43m]\u001b[49m\n",
      "\u001b[1;31mTypeError\u001b[0m: 'set' object is not subscriptable"
     ]
    }
   ],
   "source": [
    "set5[0]"
   ]
  },
  {
   "cell_type": "code",
   "execution_count": 37,
   "id": "048541cf-5453-47b2-b473-5539990b43da",
   "metadata": {},
   "outputs": [
    {
     "data": {
      "text/plain": [
       "{6, 7, 8, 20, 30}"
      ]
     },
     "execution_count": 37,
     "metadata": {},
     "output_type": "execute_result"
    }
   ],
   "source": [
    "set5.remove(10)\n",
    "set5"
   ]
  },
  {
   "cell_type": "code",
   "execution_count": 38,
   "id": "eb32c806-bd92-4789-8543-e7924762475e",
   "metadata": {},
   "outputs": [
    {
     "data": {
      "text/plain": [
       "{6, 7, 8, 20, 30}"
      ]
     },
     "execution_count": 38,
     "metadata": {},
     "output_type": "execute_result"
    }
   ],
   "source": [
    "# discard() method\n",
    "\n",
    "set5"
   ]
  },
  {
   "cell_type": "code",
   "execution_count": 39,
   "id": "efbba161-12c0-45e4-b3f6-850204074a41",
   "metadata": {},
   "outputs": [
    {
     "ename": "KeyError",
     "evalue": "10",
     "output_type": "error",
     "traceback": [
      "\u001b[1;31m---------------------------------------------------------------------------\u001b[0m",
      "\u001b[1;31mKeyError\u001b[0m                                  Traceback (most recent call last)",
      "Cell \u001b[1;32mIn[39], line 1\u001b[0m\n\u001b[1;32m----> 1\u001b[0m \u001b[43mset5\u001b[49m\u001b[38;5;241;43m.\u001b[39;49m\u001b[43mremove\u001b[49m\u001b[43m(\u001b[49m\u001b[38;5;241;43m10\u001b[39;49m\u001b[43m)\u001b[49m   \u001b[38;5;66;03m# it through an error \u001b[39;00m\n\u001b[0;32m      2\u001b[0m set5\n",
      "\u001b[1;31mKeyError\u001b[0m: 10"
     ]
    }
   ],
   "source": [
    "set5.remove(10)   # it through an error \n",
    "set5"
   ]
  },
  {
   "cell_type": "code",
   "execution_count": 41,
   "id": "55d7e48d-fd36-46d9-b2dc-691eb1de7f2a",
   "metadata": {},
   "outputs": [
    {
     "data": {
      "text/plain": [
       "{6, 7, 20, 30}"
      ]
     },
     "execution_count": 41,
     "metadata": {},
     "output_type": "execute_result"
    }
   ],
   "source": [
    "set5.discard(8)\n",
    "set5"
   ]
  },
  {
   "cell_type": "code",
   "execution_count": 42,
   "id": "d519b218-4df9-4b54-94cc-229e6025b917",
   "metadata": {},
   "outputs": [
    {
     "data": {
      "text/plain": [
       "{6, 7, 20, 30}"
      ]
     },
     "execution_count": 42,
     "metadata": {},
     "output_type": "execute_result"
    }
   ],
   "source": [
    "set5.discard(8)\n",
    "set5"
   ]
  },
  {
   "cell_type": "code",
   "execution_count": 43,
   "id": "d0f0a020-400a-455d-aff8-f824138b6b14",
   "metadata": {},
   "outputs": [
    {
     "data": {
      "text/plain": [
       "{6, 7, 20, 30}"
      ]
     },
     "execution_count": 43,
     "metadata": {},
     "output_type": "execute_result"
    }
   ],
   "source": [
    "# logic operations in sets.\n",
    "set5"
   ]
  },
  {
   "cell_type": "code",
   "execution_count": 44,
   "id": "8d5744e5-dda5-46f7-8801-f997bb26ee0d",
   "metadata": {},
   "outputs": [
    {
     "ename": "TypeError",
     "evalue": "set.add() takes exactly one argument (2 given)",
     "output_type": "error",
     "traceback": [
      "\u001b[1;31m---------------------------------------------------------------------------\u001b[0m",
      "\u001b[1;31mTypeError\u001b[0m                                 Traceback (most recent call last)",
      "Cell \u001b[1;32mIn[44], line 1\u001b[0m\n\u001b[1;32m----> 1\u001b[0m \u001b[43mset5\u001b[49m\u001b[38;5;241;43m.\u001b[39;49m\u001b[43madd\u001b[49m\u001b[43m(\u001b[49m\u001b[38;5;241;43m5\u001b[39;49m\u001b[43m,\u001b[49m\u001b[38;5;241;43m10\u001b[39;49m\u001b[43m)\u001b[49m\n\u001b[0;32m      2\u001b[0m set5\n",
      "\u001b[1;31mTypeError\u001b[0m: set.add() takes exactly one argument (2 given)"
     ]
    }
   ],
   "source": [
    "set5.add(5,10)   # set()\n",
    "set5"
   ]
  },
  {
   "cell_type": "code",
   "execution_count": 48,
   "id": "79e34557-d510-4112-9b19-a4c1552695f4",
   "metadata": {},
   "outputs": [
    {
     "data": {
      "text/plain": [
       "{6, 7, 10, 20, 30, 40, 50, 60}"
      ]
     },
     "execution_count": 48,
     "metadata": {},
     "output_type": "execute_result"
    }
   ],
   "source": [
    "# update() method\n",
    "set5.update({10,20,30,40,50,60})\n",
    "set5"
   ]
  },
  {
   "cell_type": "code",
   "execution_count": 49,
   "id": "caab69e3-5154-4afc-87f7-470590bb8843",
   "metadata": {},
   "outputs": [
    {
     "data": {
      "text/plain": [
       "{6, 7, 10, 20, 30, 40, 50, 60, 100}"
      ]
     },
     "execution_count": 49,
     "metadata": {},
     "output_type": "execute_result"
    }
   ],
   "source": [
    "set5.update({100})\n",
    "set5"
   ]
  },
  {
   "cell_type": "code",
   "execution_count": 50,
   "id": "a680e2d3-efb9-4519-bdb3-c60134588edc",
   "metadata": {},
   "outputs": [],
   "source": [
    "# 1. Union\n",
    "# 2. Intersection\n",
    "# 3. Difference\n",
    "# 4. symmetric Difference."
   ]
  },
  {
   "cell_type": "code",
   "execution_count": 51,
   "id": "90c7130e-8912-4875-b795-0f376423c692",
   "metadata": {},
   "outputs": [
    {
     "data": {
      "text/plain": [
       "({10, 20, 40, 'Hello python', 'Hello world', 'Trupti'},\n",
       " {10, 20, 30, 'Ajinkya', 'Babli', 'Uday'})"
      ]
     },
     "execution_count": 51,
     "metadata": {},
     "output_type": "execute_result"
    }
   ],
   "source": [
    "# Union\n",
    "\n",
    "set1 = {'Hello world','Hello python',10,20,40,'Trupti'}\n",
    "set2 = {10,20,30,'Babli','Uday','Ajinkya'}\n",
    "\n",
    "set1,set2"
   ]
  },
  {
   "cell_type": "code",
   "execution_count": 53,
   "id": "42399543-c47f-4e7b-badc-c000c20f1d58",
   "metadata": {},
   "outputs": [
    {
     "name": "stdout",
     "output_type": "stream",
     "text": [
      "{'Uday', 40, 'Hello python', 10, 'Ajinkya', 20, 'Hello world', 'Babli', 'Trupti', 30}\n"
     ]
    }
   ],
   "source": [
    "print(set1.union(set2))"
   ]
  },
  {
   "cell_type": "code",
   "execution_count": 54,
   "id": "d76f6b26-d1f1-4f07-a59e-baa951122a7b",
   "metadata": {},
   "outputs": [
    {
     "name": "stdout",
     "output_type": "stream",
     "text": [
      "{20, 'Hello world', 40, 'Hello python', 10, 'Trupti'}\n",
      "{'Uday', 20, 'Ajinkya', 'Babli', 10, 30}\n"
     ]
    }
   ],
   "source": [
    "# Difference (Subtract) {a-b} {b-a}\n",
    "print(set1)  # a\n",
    "print(set2)  # b"
   ]
  },
  {
   "cell_type": "code",
   "execution_count": 55,
   "id": "9dd1c257-5e90-448a-ba40-5777cd6019e0",
   "metadata": {},
   "outputs": [
    {
     "data": {
      "text/plain": [
       "{40, 'Hello python', 'Hello world', 'Trupti'}"
      ]
     },
     "execution_count": 55,
     "metadata": {},
     "output_type": "execute_result"
    }
   ],
   "source": [
    "set1-set2   #{a-b}"
   ]
  },
  {
   "cell_type": "code",
   "execution_count": 56,
   "id": "4a321d4c-7b23-4f08-9aa7-007b497fcfdb",
   "metadata": {},
   "outputs": [
    {
     "data": {
      "text/plain": [
       "{30, 'Ajinkya', 'Babli', 'Uday'}"
      ]
     },
     "execution_count": 56,
     "metadata": {},
     "output_type": "execute_result"
    }
   ],
   "source": [
    "# b-a  {b}   {'uday','Ajinkya','babli',30}\n",
    "\n",
    "set2-set1"
   ]
  },
  {
   "cell_type": "code",
   "execution_count": 57,
   "id": "5e345407-f927-4155-a022-e9a3690eb861",
   "metadata": {},
   "outputs": [
    {
     "data": {
      "text/plain": [
       "{40, 'Hello python', 'Hello world', 'Trupti'}"
      ]
     },
     "execution_count": 57,
     "metadata": {},
     "output_type": "execute_result"
    }
   ],
   "source": [
    "# 2nd method\n",
    "\n",
    "# difference() method\n",
    "\n",
    "set1.difference(set2)   # a-b"
   ]
  },
  {
   "cell_type": "code",
   "execution_count": 58,
   "id": "335b623b-60e2-42eb-8e96-57cc900ff4ca",
   "metadata": {},
   "outputs": [
    {
     "data": {
      "text/plain": [
       "{30, 'Ajinkya', 'Babli', 'Uday'}"
      ]
     },
     "execution_count": 58,
     "metadata": {},
     "output_type": "execute_result"
    }
   ],
   "source": [
    "set2.difference(set1)"
   ]
  },
  {
   "cell_type": "code",
   "execution_count": 59,
   "id": "722b1ced-98e9-4392-8cc5-5c73898f4a58",
   "metadata": {},
   "outputs": [
    {
     "name": "stdout",
     "output_type": "stream",
     "text": [
      "{20, 'Hello world', 40, 'Hello python', 10, 'Trupti'} {'Uday', 20, 'Ajinkya', 'Babli', 10, 30}\n"
     ]
    }
   ],
   "source": [
    "# To find the intersection\n",
    "\n",
    "print(set1,set2)"
   ]
  },
  {
   "cell_type": "code",
   "execution_count": 60,
   "id": "20d0dcd1-9d9d-4453-9077-8ebb0bf93972",
   "metadata": {},
   "outputs": [
    {
     "data": {
      "text/plain": [
       "{10, 20}"
      ]
     },
     "execution_count": 60,
     "metadata": {},
     "output_type": "execute_result"
    }
   ],
   "source": [
    "# {20,10}\n",
    "\n",
    "set1.intersection(set2)"
   ]
  },
  {
   "cell_type": "code",
   "execution_count": 61,
   "id": "5d378aa4-7b1d-4650-a224-1291949544fd",
   "metadata": {},
   "outputs": [
    {
     "name": "stdout",
     "output_type": "stream",
     "text": [
      "{10, 20}\n"
     ]
    }
   ],
   "source": [
    "# 2nd method to find intersection\n",
    "inter = set1&set2\n",
    "print(inter)"
   ]
  },
  {
   "cell_type": "code",
   "execution_count": 62,
   "id": "3fc2da53-e6ae-4187-8d9b-e326f827a507",
   "metadata": {},
   "outputs": [
    {
     "name": "stdout",
     "output_type": "stream",
     "text": [
      "{20, 'Hello world', 40, 'Hello python', 10, 'Trupti'}\n",
      "{'Uday', 20, 'Ajinkya', 'Babli', 10, 30}\n"
     ]
    }
   ],
   "source": [
    "# Symmetric Difference\n",
    "print(set1)\n",
    "print(set2)"
   ]
  },
  {
   "cell_type": "code",
   "execution_count": 63,
   "id": "37ca4c9b-9768-426d-b747-778c52b7f173",
   "metadata": {},
   "outputs": [
    {
     "name": "stdout",
     "output_type": "stream",
     "text": [
      "{'Hello python', 'Ajinkya', 'Trupti', 30, 'Uday', 40, 'Hello world', 'Babli'}\n"
     ]
    }
   ],
   "source": [
    "symmetric = set1.symmetric_difference(set2)\n",
    "print(symmetric)"
   ]
  },
  {
   "cell_type": "markdown",
   "id": "85ab598b-7ae2-406b-82e1-a41884385e9d",
   "metadata": {},
   "source": [
    "# min(),max(),sum(),len() function"
   ]
  },
  {
   "cell_type": "code",
   "execution_count": 69,
   "id": "c72b9415-980b-46b8-8711-bd632122980e",
   "metadata": {},
   "outputs": [
    {
     "name": "stdout",
     "output_type": "stream",
     "text": [
      "Original List: [1, 1, 1, 4, 5, 6, 2, 45, 8, 85, 5, 5, 40]\n",
      "Original Set: {1, 2, 4, 5, 6, 8, 40, 45, 85}\n",
      "Sum of the list: 208\n",
      "Sum of the set: 196\n",
      "Minimum value of the list: 1\n",
      "Minimum value of the set: 1\n",
      "Maximum value of the list: 85\n",
      "Maximum value of the set: 85\n",
      "Length of the list: 13\n",
      "Lenght of the set: 9\n"
     ]
    }
   ],
   "source": [
    "nlis = [1,1,1,4,5,6,2,45,8,85,5,5,40]\n",
    "set5 = {1,1,1,4,5,6,2,45,8,85,5,5,40}\n",
    "print('Original List:',nlis)\n",
    "print('Original Set:',set5)\n",
    "\n",
    "print('Sum of the list:',sum(nlis))\n",
    "print('Sum of the set:',sum(set5))\n",
    "print('Minimum value of the list:',min(nlis))\n",
    "print('Minimum value of the set:',min(set5))\n",
    "print('Maximum value of the list:',max(nlis))\n",
    "print('Maximum value of the set:',max(set5))\n",
    "print('Length of the list:',len(nlis))\n",
    "print('Lenght of the set:',len(set5))"
   ]
  },
  {
   "cell_type": "code",
   "execution_count": 70,
   "id": "14a996e5-3da4-45f1-9e06-08b7ef9de936",
   "metadata": {},
   "outputs": [
    {
     "ename": "TypeError",
     "evalue": "unhashable type: 'list'",
     "output_type": "error",
     "traceback": [
      "\u001b[1;31m---------------------------------------------------------------------------\u001b[0m",
      "\u001b[1;31mTypeError\u001b[0m                                 Traceback (most recent call last)",
      "Cell \u001b[1;32mIn[70], line 3\u001b[0m\n\u001b[0;32m      1\u001b[0m \u001b[38;5;66;03m# immutable\u001b[39;00m\n\u001b[1;32m----> 3\u001b[0m set5 \u001b[38;5;241m=\u001b[39m {\u001b[38;5;124m'\u001b[39m\u001b[38;5;124mPython\u001b[39m\u001b[38;5;124m'\u001b[39m,\u001b[38;5;241m1\u001b[39m,\u001b[38;5;241m2\u001b[39m,\u001b[38;5;241m3\u001b[39m,[\u001b[38;5;124m'\u001b[39m\u001b[38;5;124mHello\u001b[39m\u001b[38;5;124m'\u001b[39m]}\n",
      "\u001b[1;31mTypeError\u001b[0m: unhashable type: 'list'"
     ]
    }
   ],
   "source": [
    "# immutable\n",
    "\n",
    "set5 = {'Python',1,2,3,['Hello',3.14]}"
   ]
  },
  {
   "cell_type": "code",
   "execution_count": 71,
   "id": "69246f9f-077c-4691-ae97-f3a634c66bef",
   "metadata": {},
   "outputs": [
    {
     "data": {
      "text/plain": [
       "{1, 2, 4, 5, 6, 8, 40, 45, 85}"
      ]
     },
     "execution_count": 71,
     "metadata": {},
     "output_type": "execute_result"
    }
   ],
   "source": [
    "set5"
   ]
  },
  {
   "cell_type": "code",
   "execution_count": 72,
   "id": "e7b5d214-833c-40e5-a349-1b2603e8c2a2",
   "metadata": {},
   "outputs": [
    {
     "ename": "AttributeError",
     "evalue": "'set' object has no attribute 'index'",
     "output_type": "error",
     "traceback": [
      "\u001b[1;31m---------------------------------------------------------------------------\u001b[0m",
      "\u001b[1;31mAttributeError\u001b[0m                            Traceback (most recent call last)",
      "Cell \u001b[1;32mIn[72], line 1\u001b[0m\n\u001b[1;32m----> 1\u001b[0m \u001b[43mset5\u001b[49m\u001b[38;5;241;43m.\u001b[39;49m\u001b[43mindex\u001b[49m(\u001b[38;5;241m5\u001b[39m)\n",
      "\u001b[1;31mAttributeError\u001b[0m: 'set' object has no attribute 'index'"
     ]
    }
   ],
   "source": [
    "set5.index(5)"
   ]
  },
  {
   "cell_type": "code",
   "execution_count": 76,
   "id": "8cb5517d-0b8b-4330-9ed3-61b3287d52ca",
   "metadata": {},
   "outputs": [
    {
     "ename": "NameError",
     "evalue": "name 'set5' is not defined",
     "output_type": "error",
     "traceback": [
      "\u001b[1;31m---------------------------------------------------------------------------\u001b[0m",
      "\u001b[1;31mNameError\u001b[0m                                 Traceback (most recent call last)",
      "Cell \u001b[1;32mIn[76], line 1\u001b[0m\n\u001b[1;32m----> 1\u001b[0m \u001b[43mset5\u001b[49m\n",
      "\u001b[1;31mNameError\u001b[0m: name 'set5' is not defined"
     ]
    }
   ],
   "source": [
    "set5"
   ]
  },
  {
   "cell_type": "code",
   "execution_count": 74,
   "id": "956d498f-47b6-450b-85df-5d0446a9835c",
   "metadata": {},
   "outputs": [],
   "source": [
    "del(set5)"
   ]
  },
  {
   "cell_type": "code",
   "execution_count": 75,
   "id": "6d81690d-45e5-4b52-8d6b-384fdf1e39b8",
   "metadata": {},
   "outputs": [
    {
     "ename": "NameError",
     "evalue": "name 'set5' is not defined",
     "output_type": "error",
     "traceback": [
      "\u001b[1;31m---------------------------------------------------------------------------\u001b[0m",
      "\u001b[1;31mNameError\u001b[0m                                 Traceback (most recent call last)",
      "Cell \u001b[1;32mIn[75], line 1\u001b[0m\n\u001b[1;32m----> 1\u001b[0m \u001b[43mset5\u001b[49m\n",
      "\u001b[1;31mNameError\u001b[0m: name 'set5' is not defined"
     ]
    }
   ],
   "source": [
    "set5"
   ]
  },
  {
   "cell_type": "code",
   "execution_count": 77,
   "id": "1e1656fd-f668-4833-94c0-3eddaee87d13",
   "metadata": {},
   "outputs": [
    {
     "data": {
      "text/plain": [
       "{1, 2, 4, 5, 6, 8, 40, 45, 85}"
      ]
     },
     "execution_count": 77,
     "metadata": {},
     "output_type": "execute_result"
    }
   ],
   "source": [
    "set5 = {1, 2, 4, 5, 6, 8, 40, 45, 85}\n",
    "set5"
   ]
  },
  {
   "cell_type": "code",
   "execution_count": 78,
   "id": "1b2b76b5-90db-4dae-b720-975a7d8233d6",
   "metadata": {},
   "outputs": [
    {
     "data": {
      "text/plain": [
       "{1, 2, 4, 5, 6, 8, 40, 45, 85}"
      ]
     },
     "execution_count": 78,
     "metadata": {},
     "output_type": "execute_result"
    }
   ],
   "source": [
    "set5"
   ]
  },
  {
   "cell_type": "code",
   "execution_count": 79,
   "id": "a37d5c72-c985-4e4f-a45f-f30c188e232b",
   "metadata": {},
   "outputs": [
    {
     "name": "stdout",
     "output_type": "stream",
     "text": [
      "{1, 2, 4, 5, 6, 8, 40, 45, 85}\n"
     ]
    }
   ],
   "source": [
    "print(set5)"
   ]
  },
  {
   "cell_type": "code",
   "execution_count": 80,
   "id": "4617631a-b073-49a8-8bc9-17f7047555a3",
   "metadata": {},
   "outputs": [],
   "source": [
    "set5.clear()"
   ]
  },
  {
   "cell_type": "code",
   "execution_count": 81,
   "id": "cd58db30-9ce4-4991-b7f0-c1f361d0142b",
   "metadata": {},
   "outputs": [
    {
     "data": {
      "text/plain": [
       "set()"
      ]
     },
     "execution_count": 81,
     "metadata": {},
     "output_type": "execute_result"
    }
   ],
   "source": [
    "set5"
   ]
  },
  {
   "cell_type": "code",
   "execution_count": 82,
   "id": "6166021a-d19e-4946-87bb-21fcbff94522",
   "metadata": {},
   "outputs": [],
   "source": [
    "list1 = [10,20]\n",
    "list1.clear()"
   ]
  },
  {
   "cell_type": "code",
   "execution_count": 83,
   "id": "077a79d6-c7e5-4238-90db-2416076819b9",
   "metadata": {},
   "outputs": [
    {
     "data": {
      "text/plain": [
       "[]"
      ]
     },
     "execution_count": 83,
     "metadata": {},
     "output_type": "execute_result"
    }
   ],
   "source": [
    "list1"
   ]
  },
  {
   "cell_type": "code",
   "execution_count": 84,
   "id": "2fe31574-b996-446f-8a12-23a5e1e5321c",
   "metadata": {},
   "outputs": [
    {
     "data": {
      "text/plain": [
       "{10, 20, 40, 50}"
      ]
     },
     "execution_count": 84,
     "metadata": {},
     "output_type": "execute_result"
    }
   ],
   "source": [
    "set1 = {10,20,50,40}\n",
    "set1"
   ]
  },
  {
   "cell_type": "code",
   "execution_count": 85,
   "id": "07c987aa-4235-4a1b-ac19-9a6626668650",
   "metadata": {},
   "outputs": [
    {
     "data": {
      "text/plain": [
       "{10, 20, 50}"
      ]
     },
     "execution_count": 85,
     "metadata": {},
     "output_type": "execute_result"
    }
   ],
   "source": [
    "set1.pop()\n",
    "set1"
   ]
  },
  {
   "cell_type": "code",
   "execution_count": 86,
   "id": "b2e49e96-b446-4754-8136-86a0b960a5e7",
   "metadata": {},
   "outputs": [
    {
     "data": {
      "text/plain": [
       "{10, 20, 50}"
      ]
     },
     "execution_count": 86,
     "metadata": {},
     "output_type": "execute_result"
    }
   ],
   "source": [
    "set1"
   ]
  },
  {
   "cell_type": "code",
   "execution_count": 87,
   "id": "603edd86-8079-4bfc-8a1d-c3e9ba803ba4",
   "metadata": {},
   "outputs": [
    {
     "data": {
      "text/plain": [
       "10"
      ]
     },
     "execution_count": 87,
     "metadata": {},
     "output_type": "execute_result"
    }
   ],
   "source": [
    "set1.pop()"
   ]
  },
  {
   "cell_type": "code",
   "execution_count": 88,
   "id": "13a4787b-7d26-4bff-b381-24f9fe5968a4",
   "metadata": {},
   "outputs": [
    {
     "data": {
      "text/plain": [
       "{20, 50}"
      ]
     },
     "execution_count": 88,
     "metadata": {},
     "output_type": "execute_result"
    }
   ],
   "source": [
    "set1"
   ]
  },
  {
   "cell_type": "code",
   "execution_count": 89,
   "id": "d222a5d3-b9e6-41bb-96bf-4a6bc588318a",
   "metadata": {},
   "outputs": [
    {
     "data": {
      "text/plain": [
       "70"
      ]
     },
     "execution_count": 89,
     "metadata": {},
     "output_type": "execute_result"
    }
   ],
   "source": [
    "set1 = {10,20,30,40,50,60,70,80}\n",
    "set1.pop()"
   ]
  },
  {
   "cell_type": "code",
   "execution_count": 90,
   "id": "d4ebc486-37fc-4579-aa65-aad1f2cc51d2",
   "metadata": {},
   "outputs": [
    {
     "data": {
      "text/plain": [
       "40"
      ]
     },
     "execution_count": 90,
     "metadata": {},
     "output_type": "execute_result"
    }
   ],
   "source": [
    "set1.pop()"
   ]
  },
  {
   "cell_type": "code",
   "execution_count": 91,
   "id": "c75704be-0a16-4df2-b130-c491671eb267",
   "metadata": {},
   "outputs": [
    {
     "data": {
      "text/plain": [
       "{10, 20, 30, 50, 60, 80}"
      ]
     },
     "execution_count": 91,
     "metadata": {},
     "output_type": "execute_result"
    }
   ],
   "source": [
    "set1"
   ]
  },
  {
   "cell_type": "code",
   "execution_count": 92,
   "id": "09fc4586-1fea-4d06-ba30-583bdc319ae9",
   "metadata": {},
   "outputs": [
    {
     "data": {
      "text/plain": [
       "80"
      ]
     },
     "execution_count": 92,
     "metadata": {},
     "output_type": "execute_result"
    }
   ],
   "source": [
    "list1 = [10, 20, 30, 50, 60, 80]\n",
    "list1.pop()"
   ]
  },
  {
   "cell_type": "code",
   "execution_count": 93,
   "id": "38e0d3f7-423e-45f4-9635-5d09992811ca",
   "metadata": {},
   "outputs": [
    {
     "data": {
      "text/plain": [
       "60"
      ]
     },
     "execution_count": 93,
     "metadata": {},
     "output_type": "execute_result"
    }
   ],
   "source": [
    "list1.pop()"
   ]
  },
  {
   "cell_type": "code",
   "execution_count": 94,
   "id": "8232aca7-0e20-4280-930b-5285c8e93c36",
   "metadata": {},
   "outputs": [
    {
     "data": {
      "text/plain": [
       "50"
      ]
     },
     "execution_count": 94,
     "metadata": {},
     "output_type": "execute_result"
    }
   ],
   "source": [
    "list1.pop()"
   ]
  },
  {
   "cell_type": "code",
   "execution_count": null,
   "id": "f983bbeb-8ed0-436f-9f62-5a89947e6e11",
   "metadata": {},
   "outputs": [],
   "source": []
  }
 ],
 "metadata": {
  "kernelspec": {
   "display_name": "Python 3 (ipykernel)",
   "language": "python",
   "name": "python3"
  },
  "language_info": {
   "codemirror_mode": {
    "name": "ipython",
    "version": 3
   },
   "file_extension": ".py",
   "mimetype": "text/x-python",
   "name": "python",
   "nbconvert_exporter": "python",
   "pygments_lexer": "ipython3",
   "version": "3.12.2"
  }
 },
 "nbformat": 4,
 "nbformat_minor": 5
}
