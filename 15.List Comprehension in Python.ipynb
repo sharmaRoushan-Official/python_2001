{
 "cells": [
  {
   "cell_type": "markdown",
   "id": "0c372595-4d79-4677-bcb5-d746099d74d3",
   "metadata": {},
   "source": [
    "# 15. List Comprehension in Python\n",
    "\n",
    " * __List comprehension in Python is an easy and compact syntax for creating a list from a string or another list.__\n",
    " * __It is very concise way to create a new list by performing an operation on each item in the exisiting list.__\n",
    " * __List Comprehension is considerably faster than processing a list using the for loop.__"
   ]
  },
  {
   "cell_type": "code",
   "execution_count": 1,
   "id": "56aef809-61e9-479a-a575-259b7dd04f83",
   "metadata": {},
   "outputs": [
    {
     "name": "stdout",
     "output_type": "stream",
     "text": [
      "[0, 1, 8, 27, 64]\n"
     ]
    }
   ],
   "source": [
    "cubic_nums = []\n",
    "\n",
    "for i in range(5):\n",
    "    i = i**3\n",
    "    cubic_nums.append(i)\n",
    "\n",
    "print(cubic_nums)"
   ]
  },
  {
   "cell_type": "code",
   "execution_count": 2,
   "id": "003a1241-6296-48c4-92aa-ae56404dfc61",
   "metadata": {},
   "outputs": [
    {
     "data": {
      "text/plain": [
       "[0, 1, 8, 27, 64, 125, 216, 343, 512, 729]"
      ]
     },
     "execution_count": 2,
     "metadata": {},
     "output_type": "execute_result"
    }
   ],
   "source": [
    "cubic_nums = [i**3 for i in range(10)]\n",
    "cubic_nums"
   ]
  },
  {
   "cell_type": "code",
   "execution_count": 3,
   "id": "8c0609aa-f510-4ec2-afc0-9b0afca7cce9",
   "metadata": {},
   "outputs": [
    {
     "name": "stdout",
     "output_type": "stream",
     "text": [
      "[0, 2, 4, 6, 8, 10, 12, 14, 16, 18, 20]\n"
     ]
    }
   ],
   "source": [
    "# using loop\n",
    "\n",
    "even_numbers = []\n",
    "\n",
    "for i in range(21):\n",
    "    if i%2==0:\n",
    "        even_numbers.append(i)\n",
    "        # print(i)\n",
    "\n",
    "print(even_numbers)"
   ]
  },
  {
   "cell_type": "code",
   "execution_count": 4,
   "id": "5079c1f7-6968-4dd3-b7c6-2e3f44e4afe3",
   "metadata": {},
   "outputs": [
    {
     "data": {
      "text/plain": [
       "[0, 2, 4, 6, 8, 10, 12, 14, 16, 18, 20]"
      ]
     },
     "execution_count": 4,
     "metadata": {},
     "output_type": "execute_result"
    }
   ],
   "source": [
    "even = [i for i in range(21) if i%2==0]\n",
    "even"
   ]
  },
  {
   "cell_type": "code",
   "execution_count": 6,
   "id": "dd10e485-41c0-44c3-a9ee-d7fcdadcf20b",
   "metadata": {},
   "outputs": [
    {
     "name": "stdin",
     "output_type": "stream",
     "text": [
      "Enter any number 10\n"
     ]
    },
    {
     "data": {
      "text/plain": [
       "[1, 8, 27, 64, 125, 216, 343, 512, 729, 1000]"
      ]
     },
     "execution_count": 6,
     "metadata": {},
     "output_type": "execute_result"
    }
   ],
   "source": [
    "# user input display\n",
    "\n",
    "n = int(input('Enter any number'))\n",
    "\n",
    "cubic_nums = []\n",
    "\n",
    "for i in range(1,n+1):\n",
    "    i=i**3\n",
    "    cubic_nums.append(i)\n",
    "\n",
    "\n",
    "cubic_nums"
   ]
  },
  {
   "cell_type": "code",
   "execution_count": 9,
   "id": "0f06038b-f8da-420f-a8be-ef1f09cc5d14",
   "metadata": {},
   "outputs": [
    {
     "name": "stdin",
     "output_type": "stream",
     "text": [
      "Enter any value: 5\n"
     ]
    },
    {
     "data": {
      "text/plain": [
       "[1, 8, 27, 64, 125]"
      ]
     },
     "execution_count": 9,
     "metadata": {},
     "output_type": "execute_result"
    }
   ],
   "source": [
    "t=int(input('Enter any value:'))\n",
    "cubic_nums = [i**3 for i in range(1,t+1)]\n",
    "cubic_nums"
   ]
  },
  {
   "cell_type": "code",
   "execution_count": 12,
   "id": "8361774c-8469-4832-a7a1-60905eea643a",
   "metadata": {},
   "outputs": [
    {
     "data": {
      "text/plain": [
       "['T', 'r', 'u', 'p', 't', 'i', ' ', 'K', 'u', 'p', 'e', 'k', 'a', 'r']"
      ]
     },
     "execution_count": 12,
     "metadata": {},
     "output_type": "execute_result"
    }
   ],
   "source": [
    "# string\n",
    "\n",
    "text = []\n",
    "for i in \"Trupti Kupekar\":\n",
    "    text.append(i)\n",
    "    # print(i)\n",
    "\n",
    "text"
   ]
  },
  {
   "cell_type": "code",
   "execution_count": 13,
   "id": "37a14d60-f2d7-4065-9628-450d3d108d83",
   "metadata": {},
   "outputs": [
    {
     "data": {
      "text/plain": [
       "['T', 'r', 'u', 'p', 't', 'i', ' ', 'K', 'u', 'p', 'e', 'k', 'a', 'r']"
      ]
     },
     "execution_count": 13,
     "metadata": {},
     "output_type": "execute_result"
    }
   ],
   "source": [
    "# list \n",
    "x = [i for i in \"Trupti Kupekar\"]\n",
    "x"
   ]
  },
  {
   "cell_type": "code",
   "execution_count": 15,
   "id": "43d41bd1-5523-45ff-ac38-a7f63f97a6a5",
   "metadata": {},
   "outputs": [
    {
     "data": {
      "text/plain": [
       "[30, 60, 90, 120, 150, 180, 210, 240, 270, 300]"
      ]
     },
     "execution_count": 15,
     "metadata": {},
     "output_type": "execute_result"
    }
   ],
   "source": [
    "data = [10,20,30,40,50,60,70,80,90,100]\n",
    "three_times=[]\n",
    "\n",
    "for i in data:\n",
    "    i*=3\n",
    "    three_times.append(i)\n",
    "    # print(i)\n",
    "\n",
    "three_times"
   ]
  },
  {
   "cell_type": "code",
   "execution_count": 16,
   "id": "4c4c447b-f44b-46f8-b426-907ef8249de6",
   "metadata": {},
   "outputs": [
    {
     "data": {
      "text/plain": [
       "[30, 60, 90, 120, 150, 180, 210, 240, 270, 300]"
      ]
     },
     "execution_count": 16,
     "metadata": {},
     "output_type": "execute_result"
    }
   ],
   "source": [
    "data = [10,20,30,40,50,60,70,80,90,100]\n",
    "\n",
    "three_times = [i*3 for i in data]\n",
    "three_times"
   ]
  },
  {
   "cell_type": "code",
   "execution_count": 19,
   "id": "1c6ec8d5-c2c0-4a7f-bab1-6a5ab734fe2e",
   "metadata": {},
   "outputs": [
    {
     "data": {
      "text/plain": [
       "['Django', 'java', 'JavaScript']"
      ]
     },
     "execution_count": 19,
     "metadata": {},
     "output_type": "execute_result"
    }
   ],
   "source": [
    "language = ['Python','Django',\"java\",'JavaScript','C','C++','PHP']\n",
    "lang_list = []\n",
    "\n",
    "for i in language:\n",
    "    if 'a' in i:\n",
    "        # print(i)\n",
    "        lang_list.append(i)\n",
    "    # print(i)\n",
    "\n",
    "lang_list"
   ]
  },
  {
   "cell_type": "code",
   "execution_count": 22,
   "id": "d024192a-15a2-4ad0-9054-751ef6884e82",
   "metadata": {},
   "outputs": [
    {
     "data": {
      "text/plain": [
       "['C', 'C++']"
      ]
     },
     "execution_count": 22,
     "metadata": {},
     "output_type": "execute_result"
    }
   ],
   "source": [
    "lang_list = [i for i in language if 'C' in i]\n",
    "lang_list"
   ]
  },
  {
   "cell_type": "code",
   "execution_count": 26,
   "id": "3582c6ad-50a6-4161-92a8-f03398b8dcee",
   "metadata": {},
   "outputs": [
    {
     "data": {
      "text/plain": [
       "[28, 37, 1729]"
      ]
     },
     "execution_count": 26,
     "metadata": {},
     "output_type": "execute_result"
    }
   ],
   "source": [
    "nums = [0.577,2.718,1.618,6,28,37,1729]\n",
    "\n",
    "new_list=[]\n",
    "for i in nums:\n",
    "    if i>10:\n",
    "        new_list.append(i)\n",
    "        # print(i)\n",
    "\n",
    "new_list"
   ]
  },
  {
   "cell_type": "code",
   "execution_count": 27,
   "id": "7feeb9b2-8e5a-46d7-94b5-6cfbb76fde3d",
   "metadata": {},
   "outputs": [
    {
     "data": {
      "text/plain": [
       "[28, 37, 1729]"
      ]
     },
     "execution_count": 27,
     "metadata": {},
     "output_type": "execute_result"
    }
   ],
   "source": [
    "new_list = [x for x in nums if x>10]\n",
    "new_list"
   ]
  },
  {
   "cell_type": "code",
   "execution_count": 31,
   "id": "e79bfce0-c5d3-434d-aa2e-ac127ed02083",
   "metadata": {},
   "outputs": [
    {
     "data": {
      "text/plain": [
       "['Odd', 'Even', 'Odd', 'Even', 'Odd', 'Even', 'Odd', 'Even', 'Odd']"
      ]
     },
     "execution_count": 31,
     "metadata": {},
     "output_type": "execute_result"
    }
   ],
   "source": [
    "# 1-odd,2-Even, 3-odd ------------------30\n",
    "\n",
    "numbers = []\n",
    "\n",
    "for i in range(1,10):\n",
    "    if i%2==0:\n",
    "        numbers.append('Even')\n",
    "    else:\n",
    "        numbers.append('Odd')\n",
    "    # print(i)\n",
    "\n",
    "numbers"
   ]
  },
  {
   "cell_type": "code",
   "execution_count": 33,
   "id": "d4b693b6-b827-4258-8c2c-a35679a87763",
   "metadata": {},
   "outputs": [
    {
     "data": {
      "text/plain": [
       "['Odd', 'Even', 'Odd', 'Even', 'Odd', 'Even', 'Odd', 'Even', 'Odd']"
      ]
     },
     "execution_count": 33,
     "metadata": {},
     "output_type": "execute_result"
    }
   ],
   "source": [
    "num = ['Even' if i%2==0 else \"Odd\" for i in range(1,10)]\n",
    "num"
   ]
  },
  {
   "cell_type": "code",
   "execution_count": null,
   "id": "abb9d5c6-097e-470a-a874-762fcc95b234",
   "metadata": {},
   "outputs": [],
   "source": []
  }
 ],
 "metadata": {
  "kernelspec": {
   "display_name": "Python 3 (ipykernel)",
   "language": "python",
   "name": "python3"
  },
  "language_info": {
   "codemirror_mode": {
    "name": "ipython",
    "version": 3
   },
   "file_extension": ".py",
   "mimetype": "text/x-python",
   "name": "python",
   "nbconvert_exporter": "python",
   "pygments_lexer": "ipython3",
   "version": "3.12.2"
  }
 },
 "nbformat": 4,
 "nbformat_minor": 5
}
