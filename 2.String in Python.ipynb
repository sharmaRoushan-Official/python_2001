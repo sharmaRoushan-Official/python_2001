{
 "cells": [
  {
   "cell_type": "markdown",
   "id": "2e979da8-d335-4df4-9a20-552a8d67fe87",
   "metadata": {},
   "source": [
    "# 2. String in python"
   ]
  },
  {
   "cell_type": "code",
   "execution_count": 1,
   "id": "498bbf39-ffd9-4c6c-9a6a-4811ae5e872d",
   "metadata": {},
   "outputs": [
    {
     "data": {
      "text/plain": [
       "'Hello world'"
      ]
     },
     "execution_count": 1,
     "metadata": {},
     "output_type": "execute_result"
    }
   ],
   "source": [
    "\"Hello world\""
   ]
  },
  {
   "cell_type": "code",
   "execution_count": 2,
   "id": "417ca41e-983b-4218-b1f0-ea94f62c25f3",
   "metadata": {},
   "outputs": [
    {
     "data": {
      "text/plain": [
       "'Hello Trupti'"
      ]
     },
     "execution_count": 2,
     "metadata": {},
     "output_type": "execute_result"
    }
   ],
   "source": [
    "'Hello Trupti'"
   ]
  },
  {
   "cell_type": "code",
   "execution_count": 3,
   "id": "321809cf-eabd-426a-b21c-0389b14f40cb",
   "metadata": {},
   "outputs": [
    {
     "data": {
      "text/plain": [
       "'Hello Pune'"
      ]
     },
     "execution_count": 3,
     "metadata": {},
     "output_type": "execute_result"
    }
   ],
   "source": [
    "\"Hello Pune\""
   ]
  },
  {
   "cell_type": "code",
   "execution_count": 4,
   "id": "e14f62ce-5396-4d88-91d3-ecfe4bea2c59",
   "metadata": {},
   "outputs": [
    {
     "data": {
      "text/plain": [
       "'Hello Noida'"
      ]
     },
     "execution_count": 4,
     "metadata": {},
     "output_type": "execute_result"
    }
   ],
   "source": [
    "\"Hello Noida\""
   ]
  },
  {
   "cell_type": "code",
   "execution_count": 5,
   "id": "d1268a7b-246a-4ee8-ac78-27b0c9fe5486",
   "metadata": {},
   "outputs": [
    {
     "data": {
      "text/plain": [
       "' 3 54 6 6 '"
      ]
     },
     "execution_count": 5,
     "metadata": {},
     "output_type": "execute_result"
    }
   ],
   "source": [
    "\" 3 54 6 6 \""
   ]
  },
  {
   "cell_type": "code",
   "execution_count": 6,
   "id": "2721d170-6a40-4d4f-806f-66b44e8bf592",
   "metadata": {},
   "outputs": [
    {
     "data": {
      "text/plain": [
       "'# $ % ^ & *'"
      ]
     },
     "execution_count": 6,
     "metadata": {},
     "output_type": "execute_result"
    }
   ],
   "source": [
    "\"# $ % ^ & *\""
   ]
  },
  {
   "cell_type": "code",
   "execution_count": 7,
   "id": "b44b4876-e22b-4ee5-a2f2-8e85c2be2e00",
   "metadata": {},
   "outputs": [
    {
     "name": "stdout",
     "output_type": "stream",
     "text": [
      "Hello world\n"
     ]
    }
   ],
   "source": [
    "# String follows index value\n",
    "msg = \"Hello world\"\n",
    "print(msg)"
   ]
  },
  {
   "cell_type": "code",
   "execution_count": 18,
   "id": "5e424137-e747-4bdd-bef7-8fd14ae628ce",
   "metadata": {},
   "outputs": [
    {
     "name": "stdout",
     "output_type": "stream",
     "text": [
      "H\n",
      "e\n",
      "l\n",
      "l\n",
      "o\n",
      " \n",
      "w\n",
      "o\n",
      "r\n",
      "l\n",
      "d\n"
     ]
    }
   ],
   "source": [
    "# it is positive indexing\n",
    "print(msg[0])\n",
    "print(msg[1])\n",
    "print(msg[2])\n",
    "print(msg[3])\n",
    "print(msg[4])\n",
    "print(msg[5])\n",
    "print(msg[6])\n",
    "print(msg[7])\n",
    "print(msg[8])\n",
    "print(msg[9])\n",
    "print(msg[10])"
   ]
  },
  {
   "cell_type": "code",
   "execution_count": 23,
   "id": "478cbeea-4bd8-460b-ae2a-d1605132ac00",
   "metadata": {},
   "outputs": [
    {
     "name": "stdout",
     "output_type": "stream",
     "text": [
      "d\n",
      "l\n",
      "r\n",
      "o\n",
      "w\n",
      " \n",
      "o\n",
      "l\n",
      "l\n",
      "e\n",
      "H\n"
     ]
    }
   ],
   "source": [
    "# Negative indexing\n",
    "\n",
    "print(msg[-1])\n",
    "print(msg[-2])\n",
    "print(msg[-3])\n",
    "print(msg[-4])\n",
    "print(msg[-5])\n",
    "print(msg[-6])\n",
    "print(msg[-7])\n",
    "print(msg[-8])\n",
    "print(msg[-9])\n",
    "print(msg[-10])\n",
    "print(msg[-11])"
   ]
  },
  {
   "cell_type": "code",
   "execution_count": 24,
   "id": "3891d439-6c4e-4e46-accc-7d5c5796379b",
   "metadata": {},
   "outputs": [
    {
     "data": {
      "text/plain": [
       "'Hello world'"
      ]
     },
     "execution_count": 24,
     "metadata": {},
     "output_type": "execute_result"
    }
   ],
   "source": [
    "msg"
   ]
  },
  {
   "cell_type": "code",
   "execution_count": 25,
   "id": "6fdda949-ec18-463a-aae7-05bc260afe2f",
   "metadata": {},
   "outputs": [
    {
     "ename": "IndexError",
     "evalue": "string index out of range",
     "output_type": "error",
     "traceback": [
      "\u001b[1;31m---------------------------------------------------------------------------\u001b[0m",
      "\u001b[1;31mIndexError\u001b[0m                                Traceback (most recent call last)",
      "Cell \u001b[1;32mIn[25], line 1\u001b[0m\n\u001b[1;32m----> 1\u001b[0m \u001b[38;5;28mprint\u001b[39m(\u001b[43mmsg\u001b[49m\u001b[43m[\u001b[49m\u001b[38;5;241;43m11\u001b[39;49m\u001b[43m]\u001b[49m)\n",
      "\u001b[1;31mIndexError\u001b[0m: string index out of range"
     ]
    }
   ],
   "source": [
    "print(msg[11])"
   ]
  },
  {
   "cell_type": "code",
   "execution_count": 26,
   "id": "614ed68d-5271-4064-a96f-57da83ac2804",
   "metadata": {},
   "outputs": [
    {
     "data": {
      "text/plain": [
       "'Hello Trupti'"
      ]
     },
     "execution_count": 26,
     "metadata": {},
     "output_type": "execute_result"
    }
   ],
   "source": [
    "# Slicing of string\n",
    "msg1 = \"Hello Trupti\"\n",
    "msg1"
   ]
  },
  {
   "cell_type": "code",
   "execution_count": 28,
   "id": "de4a377b-204b-466e-bfa3-7c6cb90bed0c",
   "metadata": {},
   "outputs": [
    {
     "data": {
      "text/plain": [
       "'Trupti'"
      ]
     },
     "execution_count": 28,
     "metadata": {},
     "output_type": "execute_result"
    }
   ],
   "source": [
    "msg1[6:12]   # n-1 = 12-1 =11"
   ]
  },
  {
   "cell_type": "code",
   "execution_count": 29,
   "id": "4cf5a7b4-7c95-4c63-8d00-c6ccd31b5e72",
   "metadata": {},
   "outputs": [
    {
     "data": {
      "text/plain": [
       "'Hello'"
      ]
     },
     "execution_count": 29,
     "metadata": {},
     "output_type": "execute_result"
    }
   ],
   "source": [
    "msg1[0:5]"
   ]
  },
  {
   "cell_type": "code",
   "execution_count": 32,
   "id": "a2292462-ed70-4d49-a942-f2f6a54efdf7",
   "metadata": {},
   "outputs": [
    {
     "data": {
      "text/plain": [
       "'Hello Trupti'"
      ]
     },
     "execution_count": 32,
     "metadata": {},
     "output_type": "execute_result"
    }
   ],
   "source": [
    "# display all character using slicing.\n",
    "\n",
    "msg1[0:12]"
   ]
  },
  {
   "cell_type": "code",
   "execution_count": 33,
   "id": "f52f7f0a-4783-4070-a0c2-8530883a4c8e",
   "metadata": {},
   "outputs": [
    {
     "data": {
      "text/plain": [
       "'Hello Trupti'"
      ]
     },
     "execution_count": 33,
     "metadata": {},
     "output_type": "execute_result"
    }
   ],
   "source": [
    "msg1[:]"
   ]
  },
  {
   "cell_type": "code",
   "execution_count": 34,
   "id": "6919b27e-f8ea-4093-93fa-8c63012af358",
   "metadata": {},
   "outputs": [
    {
     "name": "stdout",
     "output_type": "stream",
     "text": [
      "The quick brown fox jump over the lazy dog.\n"
     ]
    }
   ],
   "source": [
    "x= \"The quick brown fox jump over the lazy dog.\"\n",
    "print(x)"
   ]
  },
  {
   "cell_type": "code",
   "execution_count": 40,
   "id": "2df110de-3142-4181-a432-71df8034dd7b",
   "metadata": {},
   "outputs": [
    {
     "name": "stdout",
     "output_type": "stream",
     "text": [
      "HloTut\n",
      "HlTp\n"
     ]
    }
   ],
   "source": [
    "# slicing\n",
    "# striding.\n",
    "\n",
    "x = \"Hello Trupti\" # alternet = HloTut\n",
    "#x[starting index:Ending index:skip value]\n",
    "print(x[::2])   # 2 means 1 skip value, 3 - 2skip value 4-3skip value\n",
    "print(x[::3])"
   ]
  },
  {
   "cell_type": "code",
   "execution_count": 41,
   "id": "194f8c12-d41b-4cf6-bb8e-e784071d5922",
   "metadata": {},
   "outputs": [
    {
     "ename": "SyntaxError",
     "evalue": "unterminated string literal (detected at line 2) (4163291136.py, line 2)",
     "output_type": "error",
     "traceback": [
      "\u001b[1;36m  Cell \u001b[1;32mIn[41], line 2\u001b[1;36m\u001b[0m\n\u001b[1;33m    print('\\')\u001b[0m\n\u001b[1;37m          ^\u001b[0m\n\u001b[1;31mSyntaxError\u001b[0m\u001b[1;31m:\u001b[0m unterminated string literal (detected at line 2)\n"
     ]
    }
   ],
   "source": [
    "# Escape Sequence\n",
    "print('\\')"
   ]
  },
  {
   "cell_type": "code",
   "execution_count": 46,
   "id": "9661e79e-7804-4889-83b1-7a48c55c25ff",
   "metadata": {},
   "outputs": [
    {
     "name": "stdout",
     "output_type": "stream",
     "text": [
      "\\\\\\\n"
     ]
    }
   ],
   "source": [
    "print('\\\\\\\\\\\\')"
   ]
  },
  {
   "cell_type": "code",
   "execution_count": 47,
   "id": "210539d8-005e-445e-b571-3b0f2c042ab9",
   "metadata": {},
   "outputs": [
    {
     "name": "stdout",
     "output_type": "stream",
     "text": [
      "Hello world How many people are living on the earth?\n"
     ]
    }
   ],
   "source": [
    "x = \"Hello world How many people are living on the earth?\"  # 8.2 people\n",
    "print(x)"
   ]
  },
  {
   "cell_type": "code",
   "execution_count": 48,
   "id": "8a307ffe-e04d-476e-b8f4-727c0ffff4d1",
   "metadata": {},
   "outputs": [
    {
     "name": "stdout",
     "output_type": "stream",
     "text": [
      "Hello world How many people are living on the earth?\n"
     ]
    }
   ],
   "source": [
    "x = \"Hello world How many people are living on the earth?\"  # 8.2 people\n",
    "print(x)"
   ]
  },
  {
   "cell_type": "code",
   "execution_count": 49,
   "id": "7d1cfb68-2a87-41b8-bf96-c9eb03a075d2",
   "metadata": {},
   "outputs": [
    {
     "name": "stdout",
     "output_type": "stream",
     "text": [
      "Hello world\n",
      "How many people are living on the earth?\n"
     ]
    }
   ],
   "source": [
    "x =\"Hello world\"\n",
    "y = \"How many people are living on the earth?\"\n",
    "print(x)\n",
    "print(y)"
   ]
  },
  {
   "cell_type": "code",
   "execution_count": 50,
   "id": "f015d68f-cddd-46ba-bc16-d5b3cc7c4a6a",
   "metadata": {},
   "outputs": [
    {
     "name": "stdout",
     "output_type": "stream",
     "text": [
      "Hello world\n",
      "How many people are living on the earth?\n"
     ]
    }
   ],
   "source": [
    "x = \"Hello world\\nHow many people are living on the earth?\"  # 8.2 people # \\n -> new line.\n",
    "print(x)"
   ]
  },
  {
   "cell_type": "code",
   "execution_count": 51,
   "id": "00bb9a7f-a845-4144-946d-6c7a48cfc69e",
   "metadata": {},
   "outputs": [
    {
     "name": "stdout",
     "output_type": "stream",
     "text": [
      "Hello world\tHow many people are living on the earth?\n"
     ]
    }
   ],
   "source": [
    "x = \"Hello world\\tHow many people are living on the earth?\"  # 8.2 people # \\t -> tab \n",
    "print(x)"
   ]
  },
  {
   "cell_type": "code",
   "execution_count": 52,
   "id": "d6059737-ee99-4616-9851-9bf2a1e0e3a0",
   "metadata": {},
   "outputs": [
    {
     "name": "stdout",
     "output_type": "stream",
     "text": [
      "Hello world\\How many people are living on the earth?\n"
     ]
    },
    {
     "name": "stderr",
     "output_type": "stream",
     "text": [
      "<>:1: SyntaxWarning: invalid escape sequence '\\H'\n",
      "<>:1: SyntaxWarning: invalid escape sequence '\\H'\n",
      "C:\\Users\\Admin\\AppData\\Local\\Temp\\ipykernel_960\\3027508313.py:1: SyntaxWarning: invalid escape sequence '\\H'\n",
      "  x = \"Hello world\\How many people are living on the earth?\"  # 8.2 people\n"
     ]
    }
   ],
   "source": [
    "x = \"Hello world\\How many people are living on the earth?\"  # 8.2 people\n",
    "print(x)"
   ]
  },
  {
   "cell_type": "markdown",
   "id": "9cc44a6c-9c6c-4196-888b-709e19cda5e8",
   "metadata": {},
   "source": [
    "# String Operations\n"
   ]
  },
  {
   "cell_type": "code",
   "execution_count": 65,
   "id": "b0066f0a-7ec0-4b81-b45b-28ef7a1d8ba0",
   "metadata": {},
   "outputs": [
    {
     "name": "stdout",
     "output_type": "stream",
     "text": [
      "Before Uppercase: hello TRupti\n",
      "After Uppercase: HELLO TRUPTI\n",
      "After Lowsercase: hello trupti\n",
      "After Capitalize: Hello trupti\n",
      "After Title: Hello Trupti\n"
     ]
    }
   ],
   "source": [
    "x = 'hello TRupti'\n",
    "\n",
    "# Upper case\n",
    "\n",
    "print(\"Before Uppercase:\",x)\n",
    "print('After Uppercase:',x.upper())\n",
    "\n",
    "\n",
    "# Lower case\n",
    "\n",
    "print('After Lowsercase:',x.lower())\n",
    "\n",
    "\n",
    "# Capitalize() : It only convert 1st character into capital\n",
    "print('After Capitalize:',x.capitalize())\n",
    "\n",
    "\n",
    "# Title()\n",
    "print('After Title:',x.title())"
   ]
  },
  {
   "cell_type": "code",
   "execution_count": 60,
   "id": "a53e90ed-ccc0-40c5-8127-2d2d5ce77be7",
   "metadata": {},
   "outputs": [
    {
     "name": "stdout",
     "output_type": "stream",
     "text": [
      "Shahid Kapoor was born in New Delhi on 25 February 1981 to actor Pankaj Kapur and actor-dancer Neelima Azeem.[1][2] On his mother's side, he is related to filmmaker Khwaja Ahmad Abbas.[3] His parents divorced when he was three years old; his father shifted to Mumbai (and married the actress Supriya Pathak) and Kapoor continued living in Delhi with his mother and maternal grandparents.[4][5] His grandparents were journalists for the Russian magazine Sputnik, and Kapoor was particularly fond of his grandfather: He would walk me to school every single day. He would talk to me about Dad, with whom he shared a great relationship, and read out his letters to me.[4] His father, who was then a struggling actor in Mumbai, would visit Kapoor only once a year on his birthday.[4] When Kapoor was 10, his mother, who was working as a dancer, moved to Mumbai to work as an actress.[4]In Mumbai, Azeem went on to marry the actor Rajesh Khattar.[5] Kapoor continued living with his mother and Khattar, until they separated in 2001.[5] Kapoor continues to use the last name Khattar on his passport.[6] He has a maternal half-brother, Ishaan, from his mother's marriage to Khattar.[5] From his father's marriage to Pathak, he has two paternal half-siblings, Sanah and Ruhaan.[7] Kapoor was educated at the Gyan Bharati School in Delhi and Rajhans Vidyalaya in Mumbai.[8] He later attended Mumbai's Mithibai College for three years.[9]Kapoor was interested in dance from an early age, and at the age of 15, he joined Shiamak Davar's dance institute.[10] As a student there, Kapoor appeared as a background dancer in the films Dil To Pagal Hai (1997) and Taal (1999), in which Davar served as choreographer.[10] During a stage show at the institute, Kapoor performed in the songs Vogue and GoldenEye to a positive response from the audience; he described the experience as the first time that he felt like a star.[10] He later became an instructor at the institute.[10] During this time, Kapoor accompanied a friend to an audition for a Pepsi commercial featuring the stars Shah Rukh Khan, Kajol and Rani Mukerji, but wound up with the part himself.[4] He appeared in television commercials for the brands Kit Kat and Close-Up, among others, and featured in music videos for several performers, including the band Aryans and the singer Kumar Sanu.[11] Kapoor also took on the job of an assistant director to his father on the 1998 television series Mohandas B.A.L.L.B.\n",
      "-------------------------------------------------------------\n",
      "SHAHID KAPOOR WAS BORN IN NEW DELHI ON 25 FEBRUARY 1981 TO ACTOR PANKAJ KAPUR AND ACTOR-DANCER NEELIMA AZEEM.[1][2] ON HIS MOTHER'S SIDE, HE IS RELATED TO FILMMAKER KHWAJA AHMAD ABBAS.[3] HIS PARENTS DIVORCED WHEN HE WAS THREE YEARS OLD; HIS FATHER SHIFTED TO MUMBAI (AND MARRIED THE ACTRESS SUPRIYA PATHAK) AND KAPOOR CONTINUED LIVING IN DELHI WITH HIS MOTHER AND MATERNAL GRANDPARENTS.[4][5] HIS GRANDPARENTS WERE JOURNALISTS FOR THE RUSSIAN MAGAZINE SPUTNIK, AND KAPOOR WAS PARTICULARLY FOND OF HIS GRANDFATHER: HE WOULD WALK ME TO SCHOOL EVERY SINGLE DAY. HE WOULD TALK TO ME ABOUT DAD, WITH WHOM HE SHARED A GREAT RELATIONSHIP, AND READ OUT HIS LETTERS TO ME.[4] HIS FATHER, WHO WAS THEN A STRUGGLING ACTOR IN MUMBAI, WOULD VISIT KAPOOR ONLY ONCE A YEAR ON HIS BIRTHDAY.[4] WHEN KAPOOR WAS 10, HIS MOTHER, WHO WAS WORKING AS A DANCER, MOVED TO MUMBAI TO WORK AS AN ACTRESS.[4]IN MUMBAI, AZEEM WENT ON TO MARRY THE ACTOR RAJESH KHATTAR.[5] KAPOOR CONTINUED LIVING WITH HIS MOTHER AND KHATTAR, UNTIL THEY SEPARATED IN 2001.[5] KAPOOR CONTINUES TO USE THE LAST NAME KHATTAR ON HIS PASSPORT.[6] HE HAS A MATERNAL HALF-BROTHER, ISHAAN, FROM HIS MOTHER'S MARRIAGE TO KHATTAR.[5] FROM HIS FATHER'S MARRIAGE TO PATHAK, HE HAS TWO PATERNAL HALF-SIBLINGS, SANAH AND RUHAAN.[7] KAPOOR WAS EDUCATED AT THE GYAN BHARATI SCHOOL IN DELHI AND RAJHANS VIDYALAYA IN MUMBAI.[8] HE LATER ATTENDED MUMBAI'S MITHIBAI COLLEGE FOR THREE YEARS.[9]KAPOOR WAS INTERESTED IN DANCE FROM AN EARLY AGE, AND AT THE AGE OF 15, HE JOINED SHIAMAK DAVAR'S DANCE INSTITUTE.[10] AS A STUDENT THERE, KAPOOR APPEARED AS A BACKGROUND DANCER IN THE FILMS DIL TO PAGAL HAI (1997) AND TAAL (1999), IN WHICH DAVAR SERVED AS CHOREOGRAPHER.[10] DURING A STAGE SHOW AT THE INSTITUTE, KAPOOR PERFORMED IN THE SONGS VOGUE AND GOLDENEYE TO A POSITIVE RESPONSE FROM THE AUDIENCE; HE DESCRIBED THE EXPERIENCE AS THE FIRST TIME THAT HE FELT LIKE A STAR.[10] HE LATER BECAME AN INSTRUCTOR AT THE INSTITUTE.[10] DURING THIS TIME, KAPOOR ACCOMPANIED A FRIEND TO AN AUDITION FOR A PEPSI COMMERCIAL FEATURING THE STARS SHAH RUKH KHAN, KAJOL AND RANI MUKERJI, BUT WOUND UP WITH THE PART HIMSELF.[4] HE APPEARED IN TELEVISION COMMERCIALS FOR THE BRANDS KIT KAT AND CLOSE-UP, AMONG OTHERS, AND FEATURED IN MUSIC VIDEOS FOR SEVERAL PERFORMERS, INCLUDING THE BAND ARYANS AND THE SINGER KUMAR SANU.[11] KAPOOR ALSO TOOK ON THE JOB OF AN ASSISTANT DIRECTOR TO HIS FATHER ON THE 1998 TELEVISION SERIES MOHANDAS B.A.L.L.B.\n"
     ]
    }
   ],
   "source": [
    "str1 = \"Shahid Kapoor was born in New Delhi on 25 February 1981 to actor Pankaj Kapur and actor-dancer Neelima Azeem.[1][2] On his mother's side, he is related to filmmaker Khwaja Ahmad Abbas.[3] His parents divorced when he was three years old; his father shifted to Mumbai (and married the actress Supriya Pathak) and Kapoor continued living in Delhi with his mother and maternal grandparents.[4][5] His grandparents were journalists for the Russian magazine Sputnik, and Kapoor was particularly fond of his grandfather: He would walk me to school every single day. He would talk to me about Dad, with whom he shared a great relationship, and read out his letters to me.[4] His father, who was then a struggling actor in Mumbai, would visit Kapoor only once a year on his birthday.[4] When Kapoor was 10, his mother, who was working as a dancer, moved to Mumbai to work as an actress.[4]In Mumbai, Azeem went on to marry the actor Rajesh Khattar.[5] Kapoor continued living with his mother and Khattar, until they separated in 2001.[5] Kapoor continues to use the last name Khattar on his passport.[6] He has a maternal half-brother, Ishaan, from his mother's marriage to Khattar.[5] From his father's marriage to Pathak, he has two paternal half-siblings, Sanah and Ruhaan.[7] Kapoor was educated at the Gyan Bharati School in Delhi and Rajhans Vidyalaya in Mumbai.[8] He later attended Mumbai's Mithibai College for three years.[9]Kapoor was interested in dance from an early age, and at the age of 15, he joined Shiamak Davar's dance institute.[10] As a student there, Kapoor appeared as a background dancer in the films Dil To Pagal Hai (1997) and Taal (1999), in which Davar served as choreographer.[10] During a stage show at the institute, Kapoor performed in the songs Vogue and GoldenEye to a positive response from the audience; he described the experience as the first time that he felt like a star.[10] He later became an instructor at the institute.[10] During this time, Kapoor accompanied a friend to an audition for a Pepsi commercial featuring the stars Shah Rukh Khan, Kajol and Rani Mukerji, but wound up with the part himself.[4] He appeared in television commercials for the brands Kit Kat and Close-Up, among others, and featured in music videos for several performers, including the band Aryans and the singer Kumar Sanu.[11] Kapoor also took on the job of an assistant director to his father on the 1998 television series Mohandas B.A.L.L.B.\"\n",
    "print(str1)\n",
    "print(\"-------------------------------------------------------------\")\n",
    "\n",
    "str2 = str1.upper()\n",
    "print(str2)"
   ]
  },
  {
   "cell_type": "code",
   "execution_count": 68,
   "id": "86bc3b5f-39b9-4826-9aff-1ed08c6f9160",
   "metadata": {},
   "outputs": [
    {
     "name": "stdout",
     "output_type": "stream",
     "text": [
      "What's your name?\n"
     ]
    }
   ],
   "source": [
    "x1 = \"What's your name?\"\n",
    "print(x1)"
   ]
  },
  {
   "cell_type": "code",
   "execution_count": 69,
   "id": "eb8dbf96-afac-47db-b170-0e024bbdcfcd",
   "metadata": {},
   "outputs": [
    {
     "name": "stdout",
     "output_type": "stream",
     "text": [
      "What\"s Your name?\n"
     ]
    }
   ],
   "source": [
    "x2 = 'What\"s Your name?'\n",
    "print(x2)"
   ]
  },
  {
   "cell_type": "code",
   "execution_count": 72,
   "id": "082f85f5-09f6-4e3e-9567-83b53e938d26",
   "metadata": {},
   "outputs": [
    {
     "name": "stdout",
     "output_type": "stream",
     "text": [
      "Hello Trupti Kupekar\n",
      "Hi Trupti Kupekar\n"
     ]
    }
   ],
   "source": [
    "# replace -\n",
    "x2=\"Hello Trupti Kupekar\"\n",
    "print(x2)\n",
    "x3 = x2.replace(\"Hello\",\"Hi\")   # parameter\n",
    "print(x3)"
   ]
  },
  {
   "cell_type": "code",
   "execution_count": 75,
   "id": "97020fb3-0aa0-42ad-b5a9-920485161764",
   "metadata": {},
   "outputs": [
    {
     "name": "stdout",
     "output_type": "stream",
     "text": [
      "Hello Trupti Kupekar\n",
      "6\n",
      "13\n"
     ]
    }
   ],
   "source": [
    "# find() method: it returns the index value of the character \n",
    "print(x2)\n",
    "print(x2.find('T'))\n",
    "print(x2.find('K'))"
   ]
  },
  {
   "cell_type": "code",
   "execution_count": 77,
   "id": "43013fe8-a73f-4fd4-8fd7-8931350e84d5",
   "metadata": {},
   "outputs": [
    {
     "name": "stdout",
     "output_type": "stream",
     "text": [
      "0\n"
     ]
    }
   ],
   "source": [
    "x2 = \"Helllo Hi\"\n",
    "print(x2.find('He'))"
   ]
  },
  {
   "cell_type": "code",
   "execution_count": 78,
   "id": "26bf2414-e9a4-4534-8470-1bb301449898",
   "metadata": {},
   "outputs": [
    {
     "name": "stdout",
     "output_type": "stream",
     "text": [
      "7\n"
     ]
    }
   ],
   "source": [
    "print(x2.find(\"Hi\"))"
   ]
  },
  {
   "cell_type": "code",
   "execution_count": 81,
   "id": "9fe8ef7f-c315-4a4d-94b3-afbb128f6ab0",
   "metadata": {},
   "outputs": [
    {
     "name": "stdout",
     "output_type": "stream",
     "text": [
      "Hello Trupti\n"
     ]
    }
   ],
   "source": [
    "x10 = \"Hello Trupti\"\n",
    "print(x10)"
   ]
  },
  {
   "cell_type": "code",
   "execution_count": 82,
   "id": "2977abf0-32e7-48fd-adc9-ffe06fc3d750",
   "metadata": {},
   "outputs": [
    {
     "name": "stdout",
     "output_type": "stream",
     "text": [
      "6\n"
     ]
    }
   ],
   "source": [
    "print(x10.find('Trupti'))"
   ]
  },
  {
   "cell_type": "code",
   "execution_count": 83,
   "id": "d94c66f8-d449-4908-b4dc-d264ec822ea8",
   "metadata": {},
   "outputs": [
    {
     "name": "stdout",
     "output_type": "stream",
     "text": [
      "Hello Trupti\n"
     ]
    }
   ],
   "source": [
    "str1 = \"Hello Trupti\"\n",
    "print(str1)"
   ]
  },
  {
   "cell_type": "code",
   "execution_count": 84,
   "id": "de2242fe-9fcd-447d-98e0-f68d6ca70e69",
   "metadata": {},
   "outputs": [
    {
     "name": "stdout",
     "output_type": "stream",
     "text": [
      "-1\n"
     ]
    }
   ],
   "source": [
    "print(str1.find('Kupekar'))"
   ]
  },
  {
   "cell_type": "code",
   "execution_count": 85,
   "id": "bb32942d-b313-4b57-918f-e14dd8371955",
   "metadata": {},
   "outputs": [],
   "source": [
    "# it returns -1 when no value found inside the string."
   ]
  },
  {
   "cell_type": "code",
   "execution_count": 87,
   "id": "4c8fdf55-5539-4dfc-9c82-3358e08a1b8a",
   "metadata": {},
   "outputs": [
    {
     "name": "stdout",
     "output_type": "stream",
     "text": [
      "0\n",
      "6\n"
     ]
    }
   ],
   "source": [
    "x11= \"Hello world\"\n",
    "print(x11.find('H'))\n",
    "print(x11.find('w'))"
   ]
  },
  {
   "cell_type": "code",
   "execution_count": 92,
   "id": "79822c3a-e400-4e30-8b9d-aa483a39d2dd",
   "metadata": {},
   "outputs": [
    {
     "name": "stdout",
     "output_type": "stream",
     "text": [
      "12\n",
      "********************************************Hello Trupti********************************************\n"
     ]
    }
   ],
   "source": [
    "# center\n",
    "x12 = 'Hello Trupti'# 50\n",
    "print(len(x12))\n",
    "print(x12.center(100,\"*\"))\n"
   ]
  },
  {
   "cell_type": "code",
   "execution_count": 90,
   "id": "9146a4f1-0d80-45b0-a8de-6f313ed4cf06",
   "metadata": {},
   "outputs": [
    {
     "data": {
      "text/plain": [
       "19.0"
      ]
     },
     "execution_count": 90,
     "metadata": {},
     "output_type": "execute_result"
    }
   ],
   "source": [
    "38/2"
   ]
  },
  {
   "cell_type": "code",
   "execution_count": 96,
   "id": "a284f161-95e9-44a3-8801-a8f9c775b2b9",
   "metadata": {},
   "outputs": [
    {
     "name": "stdout",
     "output_type": "stream",
     "text": [
      "1\n",
      "1\n",
      "1\n",
      "2\n"
     ]
    }
   ],
   "source": [
    "x13 = 'Hello Trupti Kupekar'\n",
    "print(x13.count('H'))\n",
    "print(x13.count('T'))\n",
    "print(x13.count('t'))\n",
    "print(x13.count('e'))"
   ]
  },
  {
   "cell_type": "code",
   "execution_count": 97,
   "id": "053953aa-6795-4b5d-bae8-152fb9ceb718",
   "metadata": {},
   "outputs": [
    {
     "name": "stdout",
     "output_type": "stream",
     "text": [
      "Hello Trupti\n"
     ]
    }
   ],
   "source": [
    "# format() method\n",
    "\n",
    "txt = 'Hello {world}'   # {} placeholder\n",
    "print(txt.format(world=\"Trupti\"))"
   ]
  },
  {
   "cell_type": "code",
   "execution_count": 98,
   "id": "d5c762a5-803e-4e38-8a78-59e68a5e2a86",
   "metadata": {},
   "outputs": [
    {
     "data": {
      "text/plain": [
       "'dog dog dog'"
      ]
     },
     "execution_count": 98,
     "metadata": {},
     "output_type": "execute_result"
    }
   ],
   "source": [
    "x = \"cat cat cat\"\n",
    "x.replace('cat','dog')"
   ]
  },
  {
   "cell_type": "code",
   "execution_count": 100,
   "id": "9f7ac6ee-2e48-44b4-86ad-98cb4d8c0d59",
   "metadata": {},
   "outputs": [
    {
     "data": {
      "text/plain": [
       "'cat cat Dog'"
      ]
     },
     "execution_count": 100,
     "metadata": {},
     "output_type": "execute_result"
    }
   ],
   "source": [
    "x1 = 'cat cat {cat}'\n",
    "x1.format(cat=\"Dog\")"
   ]
  },
  {
   "cell_type": "code",
   "execution_count": 104,
   "id": "ae0fe5d7-ba75-4a9c-8ee8-8389fd96f611",
   "metadata": {},
   "outputs": [
    {
     "name": "stdout",
     "output_type": "stream",
     "text": [
      "My name is {} and I am {} years old.\n",
      "My name is Trupti and I am 45 years old.\n",
      "My name is 25 and I am Trupti years old.\n"
     ]
    }
   ],
   "source": [
    "sen='My name is {} and I am {} years old.'\n",
    "print(sen)\n",
    "print(sen.format('Trupti',45))\n",
    "print(sen.format(25,'Trupti'))"
   ]
  },
  {
   "cell_type": "code",
   "execution_count": 106,
   "id": "d5f52929-87a8-4208-91a9-8b9115e603f4",
   "metadata": {},
   "outputs": [
    {
     "name": "stdout",
     "output_type": "stream",
     "text": [
      "My name is Trupti and I am 25 years old.\n",
      "My name is Trupti Kupekar and I am 26 years old.\n"
     ]
    }
   ],
   "source": [
    "sen='My name is {a1} and I am {b1} years old.'\n",
    "print(sen.format(a1='Trupti',b1=25))\n",
    "print(sen.format(b1=26,a1='Trupti Kupekar'))"
   ]
  },
  {
   "cell_type": "code",
   "execution_count": 1,
   "id": "afd405f1-c823-49c5-a757-f70c4b2a8b34",
   "metadata": {},
   "outputs": [
    {
     "data": {
      "text/plain": [
       "'The End of String.'"
      ]
     },
     "execution_count": 1,
     "metadata": {},
     "output_type": "execute_result"
    }
   ],
   "source": [
    "\"The End of String.\""
   ]
  },
  {
   "cell_type": "code",
   "execution_count": null,
   "id": "ebfe6224-6802-4f87-b14e-cd42f89a0f1e",
   "metadata": {},
   "outputs": [],
   "source": [
    "# Operator in python\n",
    "# 1. Mathematical operator: +,-,/,//,** etc.\n",
    "# 2. Comparisonal operator: \"==,>,<,>=,<=,!=\"\n",
    "# 3. Assignment Opearator: \"=\"\n",
    "# 4. Logical operator: \"AND,OR,NOT\"\n",
    "# 5. Membership operator: \"in or not in\"\n",
    "# 6. Identity Operator: \"is or is not\"\n"
   ]
  }
 ],
 "metadata": {
  "kernelspec": {
   "display_name": "Python 3 (ipykernel)",
   "language": "python",
   "name": "python3"
  },
  "language_info": {
   "codemirror_mode": {
    "name": "ipython",
    "version": 3
   },
   "file_extension": ".py",
   "mimetype": "text/x-python",
   "name": "python",
   "nbconvert_exporter": "python",
   "pygments_lexer": "ipython3",
   "version": "3.12.2"
  }
 },
 "nbformat": 4,
 "nbformat_minor": 5
}
