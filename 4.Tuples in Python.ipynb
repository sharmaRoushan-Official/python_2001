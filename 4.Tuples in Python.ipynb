{
 "cells": [
  {
   "cell_type": "markdown",
   "id": "9a5403ad-eeb5-462d-bba9-0afb0cd9462a",
   "metadata": {},
   "source": [
    "# 4. Tuples in Python\n",
    " * __Tuples are immutable lists and can not be changed in any way when once it is created.__\n",
    " * __Tuples are defined in the same way as lists.__\n",
    " * __Tuples are enclosed with parenthesis and not in square brackets.__\n",
    " * __Tuples are ordered.__\n",
    " * __Similar to the sting indices, the first value of tuples will have the index[0], the second value [1].__\n",
    " * __Negative indices are counted from the end of the tupole, just like lists.__\n",
    " * __Tuple can store duplicate value.__\n",
    " * __Tuples allows you to store several data items including string, integer, float in one variable.__"
   ]
  },
  {
   "cell_type": "code",
   "execution_count": 1,
   "id": "ba75ae6b-90d9-41b4-b2d7-421306d5d1d2",
   "metadata": {},
   "outputs": [
    {
     "name": "stdout",
     "output_type": "stream",
     "text": [
      "()\n",
      "<class 'tuple'>\n"
     ]
    }
   ],
   "source": [
    "tuple1 = ()\n",
    "print(tuple1)\n",
    "print(type(tuple1))"
   ]
  },
  {
   "cell_type": "code",
   "execution_count": 3,
   "id": "1707434c-b285-4e0e-84e3-935b2d18dae6",
   "metadata": {},
   "outputs": [
    {
     "name": "stdout",
     "output_type": "stream",
     "text": [
      "Hello\n",
      "<class 'str'>\n"
     ]
    }
   ],
   "source": [
    "# single element as a tuple\n",
    "\n",
    "tup2 = (\"Hello\")\n",
    "print(tup2)\n",
    "print(type(tup2))"
   ]
  },
  {
   "cell_type": "code",
   "execution_count": 4,
   "id": "3744c341-d0c7-4467-8aa5-2f85cc091ad5",
   "metadata": {},
   "outputs": [
    {
     "name": "stdout",
     "output_type": "stream",
     "text": [
      "('Hello',)\n",
      "<class 'tuple'>\n"
     ]
    }
   ],
   "source": [
    "tup2 = (\"Hello\",)\n",
    "print(tup2)\n",
    "print(type(tup2))"
   ]
  },
  {
   "cell_type": "code",
   "execution_count": 5,
   "id": "dfc77efa-874c-48ec-9d71-bcedd9818517",
   "metadata": {},
   "outputs": [],
   "source": [
    "# sting,\n",
    "# float\n",
    "# integer,\n",
    "# boolean\n",
    "# nested list\n",
    "# nested tuple\n",
    "# nested set\n",
    "# nested dict\n",
    "# other data structure\n"
   ]
  },
  {
   "cell_type": "code",
   "execution_count": 6,
   "id": "50089a96-ee43-44cd-a97b-260162528b46",
   "metadata": {},
   "outputs": [
    {
     "data": {
      "text/plain": [
       "('Python',\n",
       " 3.147,\n",
       " 100,\n",
       " True,\n",
       " False,\n",
       " ['hey python', 100],\n",
       " (20, 30, 555),\n",
       " {10, 20, 30, 40, 50},\n",
       " {'a': 45, 'b': 'Hello'})"
      ]
     },
     "execution_count": 6,
     "metadata": {},
     "output_type": "execute_result"
    }
   ],
   "source": [
    "tup2 = ('Python',3.147,100,True,False,['hey python',100],(20,30,555),{10,20,30,50,40},{'a':45,\"b\":'Hello'})\n",
    "tup2"
   ]
  },
  {
   "cell_type": "code",
   "execution_count": 10,
   "id": "e7821316-cb83-48cf-912b-917a19732c1f",
   "metadata": {},
   "outputs": [
    {
     "name": "stdout",
     "output_type": "stream",
     "text": [
      "<class 'str'>\n",
      "<class 'float'>\n",
      "<class 'int'>\n",
      "<class 'bool'>\n",
      "<class 'bool'>\n",
      "<class 'list'>\n"
     ]
    }
   ],
   "source": [
    "print(type(tup2[0]))\n",
    "print(type(tup2[1]))\n",
    "print(type(tup2[2]))\n",
    "print(type(tup2[3]))\n",
    "print(type(tup2[4]))\n",
    "print(type(tup2[5]))"
   ]
  },
  {
   "cell_type": "code",
   "execution_count": 12,
   "id": "7138ac33-2517-48ec-ab61-dc75579e8b97",
   "metadata": {},
   "outputs": [
    {
     "name": "stdout",
     "output_type": "stream",
     "text": [
      "<class 'dict'>\n",
      "<class 'set'>\n"
     ]
    }
   ],
   "source": [
    "print(type(tup2[-1]))\n",
    "print(type(tup2[-2]))"
   ]
  },
  {
   "cell_type": "code",
   "execution_count": 13,
   "id": "35d8641b-5b33-4308-8485-1efaa0dda4fb",
   "metadata": {},
   "outputs": [
    {
     "name": "stdout",
     "output_type": "stream",
     "text": [
      "('Hello world', 100, 200)\n"
     ]
    }
   ],
   "source": [
    "# Concatenation of the tuple\n",
    "\n",
    "tup1 = ('Hello world',)\n",
    "\n",
    "tup2 = (100,200)\n",
    "\n",
    "print(tup1+tup2)"
   ]
  },
  {
   "cell_type": "code",
   "execution_count": 14,
   "id": "64ed0216-bdba-4c1e-af61-81ef20886ef3",
   "metadata": {},
   "outputs": [
    {
     "data": {
      "text/plain": [
       "'Hello worldHello worldHello worldHello world'"
      ]
     },
     "execution_count": 14,
     "metadata": {},
     "output_type": "execute_result"
    }
   ],
   "source": [
    "# Repetation of tuple\n",
    "\n",
    "4*\"Hello world\""
   ]
  },
  {
   "cell_type": "code",
   "execution_count": 15,
   "id": "b4b2bb2d-9657-4e22-ac2a-3679d22354cb",
   "metadata": {},
   "outputs": [
    {
     "data": {
      "text/plain": [
       "('Python',\n",
       " 3.147,\n",
       " 100,\n",
       " True,\n",
       " False,\n",
       " ['hey python', 100],\n",
       " (20, 30, 555),\n",
       " {10, 20, 30, 40, 50},\n",
       " {'a': 45, 'b': 'Hello'})"
      ]
     },
     "execution_count": 15,
     "metadata": {},
     "output_type": "execute_result"
    }
   ],
   "source": [
    "tup2 = ('Python',3.147,100,True,False,['hey python',100],(20,30,555),{10,20,30,50,40},{'a':45,\"b\":'Hello'})\n",
    "tup2"
   ]
  },
  {
   "cell_type": "code",
   "execution_count": 19,
   "id": "38f8ab03-9e95-436a-8dce-41f8c4fe2248",
   "metadata": {},
   "outputs": [
    {
     "name": "stdout",
     "output_type": "stream",
     "text": [
      "hey python\n"
     ]
    },
    {
     "data": {
      "text/plain": [
       "str"
      ]
     },
     "execution_count": 19,
     "metadata": {},
     "output_type": "execute_result"
    }
   ],
   "source": [
    "print(tup2[5][0])\n",
    "type(tup2[5][0])"
   ]
  },
  {
   "cell_type": "code",
   "execution_count": 22,
   "id": "84511871-95e7-4de2-be03-d7f76cad2fc1",
   "metadata": {},
   "outputs": [
    {
     "ename": "TypeError",
     "evalue": "'set' object is not subscriptable",
     "output_type": "error",
     "traceback": [
      "\u001b[1;31m---------------------------------------------------------------------------\u001b[0m",
      "\u001b[1;31mTypeError\u001b[0m                                 Traceback (most recent call last)",
      "Cell \u001b[1;32mIn[22], line 1\u001b[0m\n\u001b[1;32m----> 1\u001b[0m \u001b[43mtup2\u001b[49m\u001b[43m[\u001b[49m\u001b[38;5;241;43m7\u001b[39;49m\u001b[43m]\u001b[49m\u001b[43m[\u001b[49m\u001b[38;5;241;43m0\u001b[39;49m\u001b[43m]\u001b[49m\n",
      "\u001b[1;31mTypeError\u001b[0m: 'set' object is not subscriptable"
     ]
    }
   ],
   "source": [
    "tup2[7][0]"
   ]
  },
  {
   "cell_type": "code",
   "execution_count": 23,
   "id": "0188aa62-660d-4ed2-8eee-02f41e2defa1",
   "metadata": {},
   "outputs": [
    {
     "ename": "AttributeError",
     "evalue": "'tuple' object has no attribute 'append'",
     "output_type": "error",
     "traceback": [
      "\u001b[1;31m---------------------------------------------------------------------------\u001b[0m",
      "\u001b[1;31mAttributeError\u001b[0m                            Traceback (most recent call last)",
      "Cell \u001b[1;32mIn[23], line 3\u001b[0m\n\u001b[0;32m      1\u001b[0m \u001b[38;5;66;03m# it is immutable data tuple:\u001b[39;00m\n\u001b[0;32m      2\u001b[0m tuple1\u001b[38;5;241m=\u001b[39m (\u001b[38;5;241m10\u001b[39m,\u001b[38;5;241m20\u001b[39m,\u001b[38;5;241m30\u001b[39m,\u001b[38;5;241m40\u001b[39m)\n\u001b[1;32m----> 3\u001b[0m \u001b[43mtuple1\u001b[49m\u001b[38;5;241;43m.\u001b[39;49m\u001b[43mappend\u001b[49m(\u001b[38;5;241m100\u001b[39m)\n\u001b[0;32m      4\u001b[0m tuple1\n",
      "\u001b[1;31mAttributeError\u001b[0m: 'tuple' object has no attribute 'append'"
     ]
    }
   ],
   "source": [
    "# it is immutable data tuple:\n",
    "tuple1= (10,20,30,40)\n",
    "tuple1.append(100)\n",
    "tuple1"
   ]
  },
  {
   "cell_type": "code",
   "execution_count": 28,
   "id": "be899ce2-200a-498f-8943-c2f3d8b5d562",
   "metadata": {},
   "outputs": [
    {
     "name": "stdout",
     "output_type": "stream",
     "text": [
      "(10, 20, 30, 40)\n"
     ]
    },
    {
     "ename": "TypeError",
     "evalue": "'tuple' object does not support item assignment",
     "output_type": "error",
     "traceback": [
      "\u001b[1;31m---------------------------------------------------------------------------\u001b[0m",
      "\u001b[1;31mTypeError\u001b[0m                                 Traceback (most recent call last)",
      "Cell \u001b[1;32mIn[28], line 2\u001b[0m\n\u001b[0;32m      1\u001b[0m \u001b[38;5;28mprint\u001b[39m(tuple1)\n\u001b[1;32m----> 2\u001b[0m \u001b[43mtuple1\u001b[49m\u001b[43m[\u001b[49m\u001b[38;5;241;43m0\u001b[39;49m\u001b[43m]\u001b[49m \u001b[38;5;241m=\u001b[39m \u001b[38;5;241m100\u001b[39m\n\u001b[0;32m      4\u001b[0m \u001b[38;5;28mprint\u001b[39m(tuple1)\n",
      "\u001b[1;31mTypeError\u001b[0m: 'tuple' object does not support item assignment"
     ]
    }
   ],
   "source": [
    "print(tuple1)\n",
    "tuple1[0] = 100\n",
    "\n",
    "print(tuple1)"
   ]
  },
  {
   "cell_type": "code",
   "execution_count": 26,
   "id": "d6a2909b-571e-42d2-9a4f-981eb8855e5d",
   "metadata": {},
   "outputs": [
    {
     "name": "stdout",
     "output_type": "stream",
     "text": [
      "[10, 20]\n"
     ]
    }
   ],
   "source": [
    "list1 = [10, 20]\n",
    "print(list1)"
   ]
  },
  {
   "cell_type": "code",
   "execution_count": 27,
   "id": "448cb1a0-5fe9-4608-ad0e-c553cbbc7fff",
   "metadata": {},
   "outputs": [
    {
     "data": {
      "text/plain": [
       "[100, 20]"
      ]
     },
     "execution_count": 27,
     "metadata": {},
     "output_type": "execute_result"
    }
   ],
   "source": [
    "list1[0] = 100\n",
    "list1"
   ]
  },
  {
   "cell_type": "code",
   "execution_count": 30,
   "id": "f47184d1-9bbe-4832-aaef-b5d91303460d",
   "metadata": {},
   "outputs": [
    {
     "data": {
      "text/plain": [
       "(10, 20, 30, 40)"
      ]
     },
     "execution_count": 30,
     "metadata": {},
     "output_type": "execute_result"
    }
   ],
   "source": [
    "tuple1"
   ]
  },
  {
   "cell_type": "code",
   "execution_count": 31,
   "id": "3edd4cd3-aba4-40fc-afe6-d92597a38a81",
   "metadata": {},
   "outputs": [
    {
     "ename": "TypeError",
     "evalue": "'tuple' object doesn't support item deletion",
     "output_type": "error",
     "traceback": [
      "\u001b[1;31m---------------------------------------------------------------------------\u001b[0m",
      "\u001b[1;31mTypeError\u001b[0m                                 Traceback (most recent call last)",
      "Cell \u001b[1;32mIn[31], line 1\u001b[0m\n\u001b[1;32m----> 1\u001b[0m \u001b[38;5;28;01mdel\u001b[39;00m(\u001b[43mtuple1\u001b[49m\u001b[43m[\u001b[49m\u001b[38;5;241;43m0\u001b[39;49m\u001b[43m]\u001b[49m)\n",
      "\u001b[1;31mTypeError\u001b[0m: 'tuple' object doesn't support item deletion"
     ]
    }
   ],
   "source": [
    "del(tuple1[0])"
   ]
  },
  {
   "cell_type": "code",
   "execution_count": 32,
   "id": "7e887d45-01b8-4cdf-83a6-166821b1f14f",
   "metadata": {},
   "outputs": [],
   "source": [
    "del(tuple1)"
   ]
  },
  {
   "cell_type": "code",
   "execution_count": 33,
   "id": "33e9fde8-4af2-4ba9-8c28-179cc315bf8f",
   "metadata": {},
   "outputs": [
    {
     "ename": "NameError",
     "evalue": "name 'tuple1' is not defined",
     "output_type": "error",
     "traceback": [
      "\u001b[1;31m---------------------------------------------------------------------------\u001b[0m",
      "\u001b[1;31mNameError\u001b[0m                                 Traceback (most recent call last)",
      "Cell \u001b[1;32mIn[33], line 1\u001b[0m\n\u001b[1;32m----> 1\u001b[0m \u001b[43mtuple1\u001b[49m\n",
      "\u001b[1;31mNameError\u001b[0m: name 'tuple1' is not defined"
     ]
    }
   ],
   "source": [
    "tuple1"
   ]
  },
  {
   "cell_type": "code",
   "execution_count": 37,
   "id": "6ee95405-84bf-4d53-b638-af04f4ff8a68",
   "metadata": {},
   "outputs": [
    {
     "name": "stdout",
     "output_type": "stream",
     "text": [
      "(0, 10, 20, 30, 55, 89, 75, 889)\n",
      "<class 'tuple'>\n",
      "[0, 10, 20, 30, 55, 75, 89, 889]\n",
      "<class 'list'>\n"
     ]
    }
   ],
   "source": [
    "# sorting an element.\n",
    "# ascending, descending \n",
    "tuple_1 =(0,10,20,30,55,89,75,889) # ascending order\n",
    "print(tuple_1)\n",
    "print(type(tuple_1))\n",
    "\n",
    "# sorted()\n",
    "\n",
    "sorted_tup = sorted(tuple_1)\n",
    "print(sorted_tup)\n",
    "print(type(sorted_tup))"
   ]
  },
  {
   "cell_type": "code",
   "execution_count": 40,
   "id": "6e15c1eb-198a-401e-8940-a01b62edf0ed",
   "metadata": {},
   "outputs": [
    {
     "name": "stdout",
     "output_type": "stream",
     "text": [
      "[0, 10, 20, 30, 55, 75, 89, 889]\n",
      "[889, 89, 75, 55, 30, 20, 10, 0]\n"
     ]
    }
   ],
   "source": [
    "# descending order.\n",
    "print(sorted_tup)\n",
    "tuple2= sorted_tup[::-1]\n",
    "print(tuple2)"
   ]
  },
  {
   "cell_type": "code",
   "execution_count": null,
   "id": "f9d45382-59f5-4962-bc46-dd37556c67d4",
   "metadata": {},
   "outputs": [],
   "source": []
  }
 ],
 "metadata": {
  "kernelspec": {
   "display_name": "Python 3 (ipykernel)",
   "language": "python",
   "name": "python3"
  },
  "language_info": {
   "codemirror_mode": {
    "name": "ipython",
    "version": 3
   },
   "file_extension": ".py",
   "mimetype": "text/x-python",
   "name": "python",
   "nbconvert_exporter": "python",
   "pygments_lexer": "ipython3",
   "version": "3.12.2"
  }
 },
 "nbformat": 4,
 "nbformat_minor": 5
}
