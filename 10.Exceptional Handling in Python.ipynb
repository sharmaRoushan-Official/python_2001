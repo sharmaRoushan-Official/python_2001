{
 "cells": [
  {
   "cell_type": "markdown",
   "id": "856e32d7-0938-4953-8c4b-d6d1b3112479",
   "metadata": {},
   "source": [
    "# 10. Exception Handling in Python\n",
    "\n",
    " * __An exception is an event, which occurs during the execution of a program that disrupts the normal flow of the program's instructions.__\n",
    " * __In general, when a Python scripts encounters a situation that it cannot cope with, it raises an exception.__\n",
    " * __An exception is a Python object that represents an error.__\n",
    " * __When a Python script raises an exception, it must either handle the exception immediately otherwise it terminates and quits.__\n",
    " * __If you have some suspicious code that may raise an exception, you can defend your program by placing the suspicious code in try:black.__\n",
    " * __After the try:block, include an except: statement, followed by a block of code which hadles the problem as elegantly as possible.__\n",
    " * __Common exceptions__\n",
    "   * __ZeroDivisonError__\n",
    "   * __NameError__\n",
    "   * __ValueError__\n",
    "   * __IOError__\n",
    "   * __EOFError__\n",
    "   * __IndentationError__"
   ]
  },
  {
   "cell_type": "code",
   "execution_count": 3,
   "id": "ccc2c9f6-c0ff-4ffc-a6d9-5cf8f4af71de",
   "metadata": {},
   "outputs": [
    {
     "ename": "ZeroDivisionError",
     "evalue": "division by zero",
     "output_type": "error",
     "traceback": [
      "\u001b[1;31m---------------------------------------------------------------------------\u001b[0m",
      "\u001b[1;31mZeroDivisionError\u001b[0m                         Traceback (most recent call last)",
      "Cell \u001b[1;32mIn[3], line 1\u001b[0m\n\u001b[1;32m----> 1\u001b[0m \u001b[38;5;241;43m2\u001b[39;49m\u001b[38;5;241;43m/\u001b[39;49m\u001b[38;5;241;43m0\u001b[39;49m\n\u001b[0;32m      2\u001b[0m \u001b[38;5;28mprint\u001b[39m(\u001b[38;5;124m'\u001b[39m\u001b[38;5;124mHello world\u001b[39m\u001b[38;5;124m'\u001b[39m)\n",
      "\u001b[1;31mZeroDivisionError\u001b[0m: division by zero"
     ]
    }
   ],
   "source": [
    "2/0\n",
    "print('Hello world')"
   ]
  },
  {
   "cell_type": "code",
   "execution_count": 5,
   "id": "ff7bbc77-31ba-416c-83c6-96d59ad3730d",
   "metadata": {},
   "outputs": [
    {
     "name": "stdin",
     "output_type": "stream",
     "text": [
      "Enter first value: 10\n",
      "Enter second value: 0\n"
     ]
    },
    {
     "ename": "ZeroDivisionError",
     "evalue": "division by zero",
     "output_type": "error",
     "traceback": [
      "\u001b[1;31m---------------------------------------------------------------------------\u001b[0m",
      "\u001b[1;31mZeroDivisionError\u001b[0m                         Traceback (most recent call last)",
      "Cell \u001b[1;32mIn[5], line 3\u001b[0m\n\u001b[0;32m      1\u001b[0m x \u001b[38;5;241m=\u001b[39m \u001b[38;5;28mint\u001b[39m(\u001b[38;5;28minput\u001b[39m(\u001b[38;5;124m'\u001b[39m\u001b[38;5;124mEnter first value:\u001b[39m\u001b[38;5;124m'\u001b[39m))\n\u001b[0;32m      2\u001b[0m y \u001b[38;5;241m=\u001b[39m \u001b[38;5;28mint\u001b[39m(\u001b[38;5;28minput\u001b[39m(\u001b[38;5;124m'\u001b[39m\u001b[38;5;124mEnter second value:\u001b[39m\u001b[38;5;124m'\u001b[39m))\n\u001b[1;32m----> 3\u001b[0m z \u001b[38;5;241m=\u001b[39m \u001b[43mx\u001b[49m\u001b[38;5;241;43m/\u001b[39;49m\u001b[43my\u001b[49m\n\u001b[0;32m      4\u001b[0m \u001b[38;5;28mprint\u001b[39m(z)\n",
      "\u001b[1;31mZeroDivisionError\u001b[0m: division by zero"
     ]
    }
   ],
   "source": [
    "x = int(input('Enter first value:'))\n",
    "y = int(input('Enter second value:'))\n",
    "z = x/y\n",
    "print(z)"
   ]
  },
  {
   "cell_type": "code",
   "execution_count": 9,
   "id": "e51c82d0-9bec-4b49-8ef5-b51b08991080",
   "metadata": {},
   "outputs": [
    {
     "name": "stdin",
     "output_type": "stream",
     "text": [
      "Enter fist number: 10\n",
      "Enter second value: 0\n"
     ]
    },
    {
     "name": "stdout",
     "output_type": "stream",
     "text": [
      "It is ZeroDivisionError.\n",
      "Hey Trupti Vijay Kupekar\n"
     ]
    }
   ],
   "source": [
    "# Exceptional Handling.\n",
    "try:\n",
    "    x = int(input('Enter fist number:'))\n",
    "    y = int(input('Enter second value:'))\n",
    "    result = x/y  #10/0\n",
    "except ZeroDivisionError:\n",
    "    print('It is ZeroDivisionError.')\n",
    "else:\n",
    "    print(result)\n",
    "print('Hey Trupti Vijay Kupekar')"
   ]
  },
  {
   "cell_type": "code",
   "execution_count": 11,
   "id": "6706c8b5-a79f-46e5-a7f8-c8c48741a238",
   "metadata": {},
   "outputs": [
    {
     "name": "stdin",
     "output_type": "stream",
     "text": [
      "Enter First value: 14\n",
      "Enter Second value: 5\n"
     ]
    },
    {
     "name": "stdout",
     "output_type": "stream",
     "text": [
      "2.8\n"
     ]
    }
   ],
   "source": [
    "try:\n",
    "    firstnum = int(input('Enter First value:'))\n",
    "    secondnum = int(input('Enter Second value:'))\n",
    "    result = firstnum/secondnum\n",
    "\n",
    "except:\n",
    "    print('It display an Error.')\n",
    "else:\n",
    "    print(result)"
   ]
  },
  {
   "cell_type": "code",
   "execution_count": 14,
   "id": "99804c7c-ee3a-4915-a656-fc3d33cbb88f",
   "metadata": {},
   "outputs": [
    {
     "name": "stdout",
     "output_type": "stream",
     "text": [
      "It display an Error.\n",
      "Done!\n"
     ]
    }
   ],
   "source": [
    "try:\n",
    "    nlis = []\n",
    "    count = 0\n",
    "    \n",
    "    nlis/count\n",
    "except TypeError:\n",
    "    print('It display an Error.')\n",
    "\n",
    "print('Done!')"
   ]
  },
  {
   "cell_type": "code",
   "execution_count": 15,
   "id": "6c07f162-b4da-4e89-a591-5fe55f684725",
   "metadata": {},
   "outputs": [
    {
     "ename": "TypeError",
     "evalue": "unsupported operand type(s) for /: 'list' and 'int'",
     "output_type": "error",
     "traceback": [
      "\u001b[1;31m---------------------------------------------------------------------------\u001b[0m",
      "\u001b[1;31mTypeError\u001b[0m                                 Traceback (most recent call last)",
      "Cell \u001b[1;32mIn[15], line 4\u001b[0m\n\u001b[0;32m      1\u001b[0m nlis \u001b[38;5;241m=\u001b[39m []\n\u001b[0;32m      2\u001b[0m count \u001b[38;5;241m=\u001b[39m \u001b[38;5;241m0\u001b[39m\n\u001b[1;32m----> 4\u001b[0m \u001b[43mnlis\u001b[49m\u001b[38;5;241;43m/\u001b[39;49m\u001b[43mcount\u001b[49m\n\u001b[0;32m      5\u001b[0m \u001b[38;5;28mprint\u001b[39m(\u001b[38;5;124m'\u001b[39m\u001b[38;5;124mDone!\u001b[39m\u001b[38;5;124m'\u001b[39m)\n",
      "\u001b[1;31mTypeError\u001b[0m: unsupported operand type(s) for /: 'list' and 'int'"
     ]
    }
   ],
   "source": [
    "nlis = []\n",
    "count = 0\n",
    "nlis/count\n",
    "print('Done!')"
   ]
  },
  {
   "cell_type": "code",
   "execution_count": 21,
   "id": "50dded01-c55f-4420-b109-024eb5878cda",
   "metadata": {},
   "outputs": [
    {
     "ename": "ZeroDivisionError",
     "evalue": "division by zero",
     "output_type": "error",
     "traceback": [
      "\u001b[1;31m---------------------------------------------------------------------------\u001b[0m",
      "\u001b[1;31mZeroDivisionError\u001b[0m                         Traceback (most recent call last)",
      "Cell \u001b[1;32mIn[21], line 3\u001b[0m\n\u001b[0;32m      1\u001b[0m nlis \u001b[38;5;241m=\u001b[39m []\n\u001b[0;32m      2\u001b[0m count \u001b[38;5;241m=\u001b[39m \u001b[38;5;241m10\u001b[39m\n\u001b[1;32m----> 3\u001b[0m mean \u001b[38;5;241m=\u001b[39m \u001b[43mcount\u001b[49m\u001b[38;5;241;43m/\u001b[39;49m\u001b[38;5;28;43mlen\u001b[39;49m\u001b[43m(\u001b[49m\u001b[43mnlis\u001b[49m\u001b[43m)\u001b[49m\n\u001b[0;32m      4\u001b[0m mean\n",
      "\u001b[1;31mZeroDivisionError\u001b[0m: division by zero"
     ]
    }
   ],
   "source": [
    "nlis = []\n",
    "count = 10\n",
    "mean = count/len(nlis)\n",
    "mean"
   ]
  },
  {
   "cell_type": "code",
   "execution_count": 40,
   "id": "13801771-8d40-428c-9881-e5d0a1a4cb24",
   "metadata": {},
   "outputs": [
    {
     "name": "stdout",
     "output_type": "stream",
     "text": [
      "TypeError\n",
      "Done!\n"
     ]
    }
   ],
   "source": [
    "try:\n",
    "    nlis = []\n",
    "    count = 10\n",
    "    mean = count/nlis\n",
    "    # mean = count/len(nlis)\n",
    "except TypeError:\n",
    "    print('TypeError')\n",
    "except ZeroDivisionError:\n",
    "    print('ZeroDivisionError')\n",
    "except:\n",
    "    print('Error')\n",
    "else:\n",
    "    print(mean)\n",
    "finally:\n",
    "    print('Done!')"
   ]
  },
  {
   "cell_type": "markdown",
   "id": "9ccc0590-5bb0-4894-be75-3ef532be92eb",
   "metadata": {},
   "source": [
    "# NameError"
   ]
  },
  {
   "cell_type": "code",
   "execution_count": 48,
   "id": "7b07d841-2607-411c-8e12-6934ecacbfeb",
   "metadata": {},
   "outputs": [
    {
     "name": "stdout",
     "output_type": "stream",
     "text": [
      "This code gives a NameError.\n"
     ]
    }
   ],
   "source": [
    "nlis = [10]\n",
    "count = 0\n",
    "try:\n",
    "    mean = count/len(nlis)\n",
    "    print('The mean value is:',meen)\n",
    "except ZeroDivisionError:\n",
    "    print('This code gives a ZeroDivisonError.')\n",
    "except NameError:\n",
    "    print('This code gives a NameError.')"
   ]
  },
  {
   "cell_type": "code",
   "execution_count": 2,
   "id": "4f037fc0-9920-4fc5-bb08-0e6264b377b5",
   "metadata": {},
   "outputs": [
    {
     "ename": "ZeroDivisionError",
     "evalue": "division by zero",
     "output_type": "error",
     "traceback": [
      "\u001b[1;31m---------------------------------------------------------------------------\u001b[0m",
      "\u001b[1;31mZeroDivisionError\u001b[0m                         Traceback (most recent call last)",
      "Cell \u001b[1;32mIn[2], line 1\u001b[0m\n\u001b[1;32m----> 1\u001b[0m \u001b[38;5;241;43m1\u001b[39;49m\u001b[38;5;241;43m/\u001b[39;49m\u001b[38;5;241;43m0\u001b[39;49m\n\u001b[0;32m      2\u001b[0m \u001b[38;5;28mprint\u001b[39m(\u001b[38;5;124m'\u001b[39m\u001b[38;5;124mhello world\u001b[39m\u001b[38;5;124m'\u001b[39m)\n",
      "\u001b[1;31mZeroDivisionError\u001b[0m: division by zero"
     ]
    }
   ],
   "source": [
    "1/0\n",
    "print('hello world')"
   ]
  },
  {
   "cell_type": "code",
   "execution_count": 4,
   "id": "5bfc61c0-f2ce-4ae9-a0a8-046e089bb33c",
   "metadata": {},
   "outputs": [
    {
     "name": "stdout",
     "output_type": "stream",
     "text": [
      "It throgh an Error.\n",
      "Hello world\n"
     ]
    }
   ],
   "source": [
    "try:\n",
    "    1/0\n",
    "except ZeroDivisionError:\n",
    "    print(\"It throgh an Error.\")\n",
    "print('Hello world')"
   ]
  },
  {
   "cell_type": "code",
   "execution_count": 7,
   "id": "52dc4000-9684-4dea-8409-841645ba1b4a",
   "metadata": {},
   "outputs": [
    {
     "name": "stdin",
     "output_type": "stream",
     "text": [
      "Enter first value: 15\n",
      "Enter second value 46\n"
     ]
    },
    {
     "ename": "NameError",
     "evalue": "name 'a' is not defined",
     "output_type": "error",
     "traceback": [
      "\u001b[1;31m---------------------------------------------------------------------------\u001b[0m",
      "\u001b[1;31mNameError\u001b[0m                                 Traceback (most recent call last)",
      "Cell \u001b[1;32mIn[7], line 4\u001b[0m\n\u001b[0;32m      2\u001b[0m y \u001b[38;5;241m=\u001b[39m \u001b[38;5;28mint\u001b[39m(\u001b[38;5;28minput\u001b[39m(\u001b[38;5;124m'\u001b[39m\u001b[38;5;124mEnter second value\u001b[39m\u001b[38;5;124m'\u001b[39m))\n\u001b[0;32m      3\u001b[0m z \u001b[38;5;241m=\u001b[39m x\u001b[38;5;241m/\u001b[39my\n\u001b[1;32m----> 4\u001b[0m \u001b[38;5;28mprint\u001b[39m(\u001b[43ma\u001b[49m)\n\u001b[0;32m      5\u001b[0m \u001b[38;5;28mprint\u001b[39m(z)\n",
      "\u001b[1;31mNameError\u001b[0m: name 'a' is not defined"
     ]
    }
   ],
   "source": [
    "x = int(input('Enter first value:'))\n",
    "y = int(input('Enter second value'))\n",
    "z = x/y\n",
    "print(a)\n",
    "print(z)"
   ]
  },
  {
   "cell_type": "code",
   "execution_count": 11,
   "id": "ae467821-acad-4281-88ab-4ca578e453fc",
   "metadata": {},
   "outputs": [
    {
     "name": "stdin",
     "output_type": "stream",
     "text": [
      "Enter first value: 15\n",
      "Enter Second value: 36\n"
     ]
    },
    {
     "name": "stdout",
     "output_type": "stream",
     "text": [
      "NameError\n",
      "Hello world\n"
     ]
    }
   ],
   "source": [
    "try:\n",
    "    x = int(input('Enter first value:'))\n",
    "    y = int(input('Enter Second value:'))\n",
    "    z = x/y\n",
    "    print(a)\n",
    "\n",
    "except NameError:\n",
    "    print('NameError')\n",
    "\n",
    "print('Hello world')"
   ]
  },
  {
   "cell_type": "code",
   "execution_count": 12,
   "id": "b6ff1741-00c1-4415-b1a4-ead2374be04f",
   "metadata": {},
   "outputs": [
    {
     "name": "stdin",
     "output_type": "stream",
     "text": [
      "Enter any value Hello \n"
     ]
    },
    {
     "ename": "ValueError",
     "evalue": "invalid literal for int() with base 10: 'Hello '",
     "output_type": "error",
     "traceback": [
      "\u001b[1;31m---------------------------------------------------------------------------\u001b[0m",
      "\u001b[1;31mValueError\u001b[0m                                Traceback (most recent call last)",
      "Cell \u001b[1;32mIn[12], line 2\u001b[0m\n\u001b[0;32m      1\u001b[0m \u001b[38;5;66;03m# default except\u001b[39;00m\n\u001b[1;32m----> 2\u001b[0m x \u001b[38;5;241m=\u001b[39m \u001b[38;5;28;43mint\u001b[39;49m\u001b[43m(\u001b[49m\u001b[38;5;28;43minput\u001b[39;49m\u001b[43m(\u001b[49m\u001b[38;5;124;43m'\u001b[39;49m\u001b[38;5;124;43mEnter any value\u001b[39;49m\u001b[38;5;124;43m'\u001b[39;49m\u001b[43m)\u001b[49m\u001b[43m)\u001b[49m\n\u001b[0;32m      3\u001b[0m \u001b[38;5;28mprint\u001b[39m(x)\n",
      "\u001b[1;31mValueError\u001b[0m: invalid literal for int() with base 10: 'Hello '"
     ]
    }
   ],
   "source": [
    "# default except\n",
    "x = int(input('Enter any value'))\n",
    "print(x)"
   ]
  },
  {
   "cell_type": "code",
   "execution_count": 16,
   "id": "1b1ae080-6833-4576-b66b-57806e661d7c",
   "metadata": {},
   "outputs": [
    {
     "name": "stdin",
     "output_type": "stream",
     "text": [
      "Enter any value: ^\n"
     ]
    },
    {
     "name": "stdout",
     "output_type": "stream",
     "text": [
      "It through an Error.\n"
     ]
    }
   ],
   "source": [
    "try:\n",
    "    x = int(input('Enter any value:'))\n",
    "except:\n",
    "    print('It through an Error.')\n",
    "else:\n",
    "    print(x)"
   ]
  },
  {
   "cell_type": "code",
   "execution_count": 24,
   "id": "9f1f9c63-4f79-4a6d-bdc9-9487a667a2a4",
   "metadata": {},
   "outputs": [
    {
     "name": "stdin",
     "output_type": "stream",
     "text": [
      "Enter your value: p\n"
     ]
    },
    {
     "name": "stdout",
     "output_type": "stream",
     "text": [
      "Enter a valid Number\n",
      "Done!\n"
     ]
    }
   ],
   "source": [
    "# wap to take input from user and if user enter 0 then terminate the input box. After find their sum.\n",
    "\n",
    "try:\n",
    "    list1 = []\n",
    "    sum1 = 0\n",
    "    for i in iter(int,1):\n",
    "        user = int(input('Enter your value:'))\n",
    "        list1.append(user)\n",
    "        sum1 = sum1+user\n",
    "        if user ==0:\n",
    "            break\n",
    "except:\n",
    "    print('Enter a valid Number')\n",
    "else:\n",
    "    print(list1,':',sum1)\n",
    "finally:\n",
    "    print('Done!')"
   ]
  },
  {
   "cell_type": "code",
   "execution_count": 29,
   "id": "df701dff-2578-4ac9-bad5-4adf8e7e8a2e",
   "metadata": {},
   "outputs": [
    {
     "name": "stdin",
     "output_type": "stream",
     "text": [
      "Enter any value: *\n"
     ]
    },
    {
     "name": "stdout",
     "output_type": "stream",
     "text": [
      "You Should provide a number not string.\n",
      "This process is completed.\n"
     ]
    }
   ],
   "source": [
    "try:\n",
    "    num1 =float(input('Enter any value:'))\n",
    "    num2 = float(input('Enter second value:'))\n",
    "    value = num1/num2\n",
    "except ZeroDivisionError:\n",
    "    print('This Function gives a ZeroDivisionError since a number cannot divided by 0.')\n",
    "except ValueError:\n",
    "    print('You Should provide a number not string.')\n",
    "except:\n",
    "    print('Someting went wrong.')\n",
    "else:\n",
    "    print(f'This process is running with value:',value)\n",
    "finally:\n",
    "    print('This process is completed.')"
   ]
  },
  {
   "cell_type": "code",
   "execution_count": null,
   "id": "98aeba5f-1c94-432d-a956-a2ccd6d01224",
   "metadata": {},
   "outputs": [],
   "source": []
  }
 ],
 "metadata": {
  "kernelspec": {
   "display_name": "Python 3 (ipykernel)",
   "language": "python",
   "name": "python3"
  },
  "language_info": {
   "codemirror_mode": {
    "name": "ipython",
    "version": 3
   },
   "file_extension": ".py",
   "mimetype": "text/x-python",
   "name": "python",
   "nbconvert_exporter": "python",
   "pygments_lexer": "ipython3",
   "version": "3.12.2"
  }
 },
 "nbformat": 4,
 "nbformat_minor": 5
}
