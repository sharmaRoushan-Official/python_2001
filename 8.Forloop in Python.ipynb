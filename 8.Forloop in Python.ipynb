{
 "cells": [
  {
   "cell_type": "code",
   "execution_count": 1,
   "id": "f0b01e71-44f4-421e-bdf7-669aa7b30be4",
   "metadata": {},
   "outputs": [
    {
     "data": {
      "text/plain": [
       "range(0, 10)"
      ]
     },
     "execution_count": 1,
     "metadata": {},
     "output_type": "execute_result"
    }
   ],
   "source": [
    "range(10)    # 1"
   ]
  },
  {
   "cell_type": "code",
   "execution_count": 2,
   "id": "f97e17b8-03bb-4962-91f1-799f3c22039b",
   "metadata": {},
   "outputs": [
    {
     "data": {
      "text/plain": [
       "range(0, 50)"
      ]
     },
     "execution_count": 2,
     "metadata": {},
     "output_type": "execute_result"
    }
   ],
   "source": [
    "range(50)"
   ]
  },
  {
   "cell_type": "code",
   "execution_count": 4,
   "id": "6c3f0f6f-c3e0-44a9-b400-38147369588a",
   "metadata": {},
   "outputs": [
    {
     "data": {
      "text/plain": [
       "range(0, -10)"
      ]
     },
     "execution_count": 4,
     "metadata": {},
     "output_type": "execute_result"
    }
   ],
   "source": [
    "range(-10)"
   ]
  },
  {
   "cell_type": "code",
   "execution_count": 5,
   "id": "f532086f-0089-4111-b8ad-358c89450608",
   "metadata": {},
   "outputs": [
    {
     "data": {
      "text/plain": [
       "range(0, 1000)"
      ]
     },
     "execution_count": 5,
     "metadata": {},
     "output_type": "execute_result"
    }
   ],
   "source": [
    "range(1000)"
   ]
  },
  {
   "cell_type": "code",
   "execution_count": 7,
   "id": "0fde4abb-b297-4850-acaf-6e0d791d98a6",
   "metadata": {},
   "outputs": [
    {
     "data": {
      "text/plain": [
       "range(10, 100)"
      ]
     },
     "execution_count": 7,
     "metadata": {},
     "output_type": "execute_result"
    }
   ],
   "source": [
    "range(10,100)"
   ]
  },
  {
   "cell_type": "code",
   "execution_count": 8,
   "id": "2407ddf0-3d6f-4e70-ad92-6efa10fedd3e",
   "metadata": {},
   "outputs": [
    {
     "name": "stdout",
     "output_type": "stream",
     "text": [
      "0\n",
      "1\n",
      "2\n",
      "3\n",
      "4\n",
      "5\n",
      "6\n",
      "7\n",
      "8\n",
      "9\n"
     ]
    }
   ],
   "source": [
    "for i in range(10):  #0,1,2,3,4,5,6,7,8,9\n",
    "    print(i)"
   ]
  },
  {
   "cell_type": "code",
   "execution_count": 15,
   "id": "879c2a48-9bea-471e-ba84-12bbe155b360",
   "metadata": {},
   "outputs": [
    {
     "name": "stdout",
     "output_type": "stream",
     "text": [
      "0 1 2 3 4 5 6 7 8 9 "
     ]
    }
   ],
   "source": [
    "for i in range(10):\n",
    "    print(i,end=' ')   # delimeter= ,' ', * , -"
   ]
  },
  {
   "cell_type": "code",
   "execution_count": 17,
   "id": "fe7a145d-e228-429d-85a0-80d6c3d3a6f9",
   "metadata": {},
   "outputs": [
    {
     "name": "stdout",
     "output_type": "stream",
     "text": [
      "0\n",
      "1\n",
      "2\n",
      "3\n",
      "4\n"
     ]
    }
   ],
   "source": [
    "for uday in range(5):\n",
    "    print(uday)"
   ]
  },
  {
   "cell_type": "code",
   "execution_count": 18,
   "id": "c11353c8-a350-46ec-9bed-27b753aa1b97",
   "metadata": {},
   "outputs": [
    {
     "name": "stdout",
     "output_type": "stream",
     "text": [
      "Python\n",
      "uday\n",
      "ashish\n",
      "ajinkya\n",
      "anteshwar\n",
      "Babli\n",
      "Trupti\n",
      "Amrish\n"
     ]
    }
   ],
   "source": [
    "list1 =['Python','uday','ashish','ajinkya','anteshwar','Babli','Trupti','Amrish']\n",
    "\n",
    "for name in list1:\n",
    "    print(name)"
   ]
  },
  {
   "cell_type": "code",
   "execution_count": 22,
   "id": "43ab14e6-2b1a-4593-bf88-6940f7d9b80b",
   "metadata": {},
   "outputs": [
    {
     "name": "stdout",
     "output_type": "stream",
     "text": [
      "0 Python\n",
      "1 uday\n",
      "2 ashish\n",
      "3 ajinkya\n",
      "4 anteshwar\n",
      "5 Babli\n",
      "6 Trupti\n",
      "7 Amrish\n"
     ]
    }
   ],
   "source": [
    "for i in range(len(list1)):\n",
    "    print(i,list1[i])"
   ]
  },
  {
   "cell_type": "code",
   "execution_count": 23,
   "id": "e6306e6f-c590-42db-a14a-2896accf655c",
   "metadata": {},
   "outputs": [
    {
     "name": "stdout",
     "output_type": "stream",
     "text": [
      "2001\n",
      "2002\n",
      "2003\n",
      "2004\n",
      "2005\n",
      "2006\n",
      "2007\n",
      "2008\n",
      "2009\n",
      "2010\n"
     ]
    }
   ],
   "source": [
    "years = [2001,2002,2003,2004,2005,2006,2007,2008,2009,2010]\n",
    "\n",
    "for i in years:\n",
    "    print(i)"
   ]
  },
  {
   "cell_type": "code",
   "execution_count": 26,
   "id": "1580b5e4-c7b3-4a6a-b964-5d1e3776bc6f",
   "metadata": {},
   "outputs": [
    {
     "name": "stdout",
     "output_type": "stream",
     "text": [
      "0 2001\n",
      "1 2002\n",
      "2 2003\n",
      "3 2004\n",
      "4 2005\n",
      "5 2006\n",
      "6 2007\n",
      "7 2008\n",
      "8 2009\n",
      "9 2010\n"
     ]
    }
   ],
   "source": [
    "for i in range(len(years)):\n",
    "    print(i,years[i])"
   ]
  },
  {
   "cell_type": "code",
   "execution_count": 28,
   "id": "2cf6955f-8feb-44a8-a468-78ac8ad8e749",
   "metadata": {},
   "outputs": [
    {
     "name": "stdout",
     "output_type": "stream",
     "text": [
      "10\n",
      "11\n",
      "12\n",
      "13\n",
      "14\n",
      "15\n",
      "16\n",
      "17\n",
      "18\n",
      "19\n",
      "20\n"
     ]
    }
   ],
   "source": [
    "for i in range(10,21):   #n-1 = 21-1 = 20\n",
    "    print(i)"
   ]
  },
  {
   "cell_type": "code",
   "execution_count": 35,
   "id": "09910648-acdc-4bc7-9fcc-03606b61eb8d",
   "metadata": {},
   "outputs": [
    {
     "name": "stdout",
     "output_type": "stream",
     "text": [
      "10\n",
      "12\n",
      "14\n",
      "16\n",
      "18\n",
      "20\n"
     ]
    }
   ],
   "source": [
    "for i in range(10,21,2):\n",
    "    print(i)"
   ]
  },
  {
   "cell_type": "code",
   "execution_count": 30,
   "id": "2e31820d-0ef3-4074-a2ed-e25d62e66fda",
   "metadata": {},
   "outputs": [
    {
     "name": "stdout",
     "output_type": "stream",
     "text": [
      "Hello world\n"
     ]
    }
   ],
   "source": [
    "x= 'Hello world'\n",
    "print(x)"
   ]
  },
  {
   "cell_type": "code",
   "execution_count": 32,
   "id": "88a96bd3-0d7f-4f03-b9f5-315006a3299f",
   "metadata": {},
   "outputs": [
    {
     "data": {
      "text/plain": [
       "'Hlowrd'"
      ]
     },
     "execution_count": 32,
     "metadata": {},
     "output_type": "execute_result"
    }
   ],
   "source": [
    "x[::2]"
   ]
  },
  {
   "cell_type": "code",
   "execution_count": 38,
   "id": "6c4937ce-9e3a-4b13-ad47-af7f00c3bc1b",
   "metadata": {},
   "outputs": [
    {
     "name": "stdout",
     "output_type": "stream",
     "text": [
      "Python,Java,javaScript,Kotlin,C,C++,Go,HTML,CSS,"
     ]
    }
   ],
   "source": [
    "languages = ['Python','Java','javaScript','Kotlin','C','C++','Go','HTML',\"CSS\"]\n",
    "\n",
    "\n",
    "for i in languages:\n",
    "    print(i,end=',')"
   ]
  },
  {
   "cell_type": "code",
   "execution_count": 39,
   "id": "8595a9cc-eae0-4751-a69a-f49832627902",
   "metadata": {},
   "outputs": [
    {
     "name": "stdout",
     "output_type": "stream",
     "text": [
      "-10\n",
      "-9\n",
      "-8\n",
      "-7\n",
      "-6\n",
      "-5\n",
      "-4\n",
      "-3\n",
      "-2\n",
      "-1\n",
      "0\n",
      "1\n",
      "2\n",
      "3\n",
      "4\n",
      "5\n",
      "6\n",
      "7\n",
      "8\n",
      "9\n"
     ]
    }
   ],
   "source": [
    "for i in range(-10,10):\n",
    "    print(i)"
   ]
  },
  {
   "cell_type": "code",
   "execution_count": 42,
   "id": "e7d6c652-190a-4eb2-8dcc-8db407ae3088",
   "metadata": {},
   "outputs": [
    {
     "name": "stdout",
     "output_type": "stream",
     "text": [
      "19 X 1 = 19\n",
      "19 X 2 = 38\n",
      "19 X 3 = 57\n",
      "19 X 4 = 76\n",
      "19 X 5 = 95\n",
      "19 X 6 = 114\n",
      "19 X 7 = 133\n",
      "19 X 8 = 152\n",
      "19 X 9 = 171\n",
      "19 X 10 = 190\n"
     ]
    }
   ],
   "source": [
    "# wap to print table of 19.\n",
    "x = 19\n",
    "\n",
    "for i in range(1,11):\n",
    "    print(x,'X',i,'=',x*i)     # 19x1=19, 19x2=38, 19x3=57"
   ]
  },
  {
   "cell_type": "code",
   "execution_count": 44,
   "id": "26c16f6b-1440-4880-ab2a-5489e6593247",
   "metadata": {},
   "outputs": [
    {
     "name": "stdin",
     "output_type": "stream",
     "text": [
      "Babli Enter your range: 10\n"
     ]
    },
    {
     "name": "stdout",
     "output_type": "stream",
     "text": [
      "10 X 1 = 10\n",
      "10 X 2 = 20\n",
      "10 X 3 = 30\n",
      "10 X 4 = 40\n",
      "10 X 5 = 50\n",
      "10 X 6 = 60\n",
      "10 X 7 = 70\n",
      "10 X 8 = 80\n",
      "10 X 9 = 90\n",
      "10 X 10 = 100\n"
     ]
    }
   ],
   "source": [
    "# wap to print table of 19.\n",
    "x = int(input('Babli Enter your range:'))\n",
    "\n",
    "for i in range(1,11):\n",
    "    print(x,'X',i,'=',x*i)     # 19x1=19, 19x2=38, 19x3=57"
   ]
  },
  {
   "cell_type": "code",
   "execution_count": 48,
   "id": "fff693a9-7a22-41ce-bad1-d05107d2f66f",
   "metadata": {},
   "outputs": [
    {
     "name": "stdin",
     "output_type": "stream",
     "text": [
      "Enter any value: 19\n"
     ]
    },
    {
     "name": "stdout",
     "output_type": "stream",
     "text": [
      "19X1=19\n",
      "19X2=38\n",
      "19X3=57\n",
      "19X4=76\n",
      "19X5=95\n",
      "19X6=114\n",
      "19X7=133\n",
      "19X8=152\n",
      "19X9=171\n",
      "19X10=190\n"
     ]
    }
   ],
   "source": [
    "# 2nd mthod\n",
    "\n",
    "num1 = int(input('Enter any value:'))\n",
    "\n",
    "for i in range(1,11):\n",
    "    print('%dX%d=%d'%(num1,i,num1*i))"
   ]
  },
  {
   "cell_type": "code",
   "execution_count": 49,
   "id": "dd1ccd86-77f0-4622-aee8-499fe836410a",
   "metadata": {},
   "outputs": [
    {
     "name": "stdin",
     "output_type": "stream",
     "text": [
      "Enter any value: 19\n"
     ]
    },
    {
     "name": "stdout",
     "output_type": "stream",
     "text": [
      "19X1=19\n",
      "19X2=38\n",
      "19X3=57\n",
      "19X4=76\n",
      "19X5=95\n",
      "19X6=114\n",
      "19X7=133\n",
      "19X8=152\n",
      "19X9=171\n",
      "19X10=190\n"
     ]
    }
   ],
   "source": [
    "num2= int(input('Enter any value:'))\n",
    "\n",
    "for i in range(1,11):\n",
    "    print(f'{num2}X{i}={num2*i}')"
   ]
  },
  {
   "cell_type": "code",
   "execution_count": 50,
   "id": "ca654ace-8ed6-4717-a483-121da01312ee",
   "metadata": {},
   "outputs": [
    {
     "name": "stdin",
     "output_type": "stream",
     "text": [
      "Enter any value: 20\n"
     ]
    },
    {
     "name": "stdout",
     "output_type": "stream",
     "text": [
      "20X1=20\n",
      "20X2=40\n",
      "20X3=60\n",
      "20X4=80\n",
      "20X5=100\n",
      "20X6=120\n",
      "20X7=140\n",
      "20X8=160\n",
      "20X9=180\n",
      "20X10=200\n"
     ]
    }
   ],
   "source": [
    "num3 = int(input('Enter any value:'))\n",
    "\n",
    "for i in range(1,11):\n",
    "    print('{}X{}={}'.format(num3,i,num3*i))"
   ]
  },
  {
   "cell_type": "code",
   "execution_count": 56,
   "id": "efc343a7-db10-4414-86ed-3f6f195eab60",
   "metadata": {},
   "outputs": [
    {
     "name": "stdin",
     "output_type": "stream",
     "text": [
      "Enter any range: 10\n"
     ]
    },
    {
     "name": "stdout",
     "output_type": "stream",
     "text": [
      "1\n",
      "3\n",
      "6\n",
      "10\n",
      "15\n",
      "21\n",
      "28\n",
      "36\n",
      "45\n",
      "55\n"
     ]
    }
   ],
   "source": [
    "# Take range from user and find their sum.\n",
    "\n",
    "x = int(input('Enter any range:'))\n",
    "\n",
    "sum1 = 0  # 0  # 1 # 3 \n",
    "for i in range(1,x+1):\n",
    "    sum1 = sum1+i # 6+4 =10\n",
    "    print(sum1)"
   ]
  },
  {
   "cell_type": "code",
   "execution_count": 62,
   "id": "a4118727-a79a-47aa-aa60-0cebbfa985fb",
   "metadata": {},
   "outputs": [
    {
     "name": "stdin",
     "output_type": "stream",
     "text": [
      "Enter any value: 1000\n"
     ]
    },
    {
     "name": "stdout",
     "output_type": "stream",
     "text": [
      "500500\n"
     ]
    }
   ],
   "source": [
    "# 2nd method\n",
    "y = int(input('Enter any value:'))\n",
    "\n",
    "sum2 = 0\n",
    "for n in range(1,y+1):\n",
    "    sum2+=n\n",
    "print(sum2)"
   ]
  },
  {
   "cell_type": "code",
   "execution_count": 68,
   "id": "8d500b8e-255f-4d6d-8f5b-f70d1e239975",
   "metadata": {},
   "outputs": [
    {
     "name": "stdin",
     "output_type": "stream",
     "text": [
      "Enter any value: 100\n"
     ]
    },
    {
     "name": "stdout",
     "output_type": "stream",
     "text": [
      "Total sum of the range: 5050 \n",
      "Total Average of the range: 50.5\n"
     ]
    }
   ],
   "source": [
    "# average= sum of total number/total number of observation.\n",
    "\n",
    "# 2nd method\n",
    "y = int(input('Enter any value:'))\n",
    "\n",
    "sum2 = 0\n",
    "avg = 0\n",
    "for n in range(1,y+1):\n",
    "    sum2+=n\n",
    "    avg = sum2/n\n",
    "print(\"Total sum of the range:\",sum2,\"\\nTotal Average of the range:\",avg)"
   ]
  },
  {
   "cell_type": "code",
   "execution_count": 74,
   "id": "7fd512dd-e43c-4376-b4cc-051a2f185a45",
   "metadata": {},
   "outputs": [
    {
     "name": "stdin",
     "output_type": "stream",
     "text": [
      "Enter your range: 10\n"
     ]
    },
    {
     "name": "stdout",
     "output_type": "stream",
     "text": [
      "2\n",
      "4\n",
      "6\n",
      "8\n",
      "10\n"
     ]
    }
   ],
   "source": [
    "# Find the even number from user input range.\n",
    "\n",
    "num3 = int(input('Enter your range:'))\n",
    "\n",
    "for i in range(1,num3+1):\n",
    "    if i%2==0:\n",
    "        print(i)"
   ]
  },
  {
   "cell_type": "code",
   "execution_count": 76,
   "id": "693680bf-f338-422c-89ad-4646c3841af7",
   "metadata": {},
   "outputs": [
    {
     "name": "stdin",
     "output_type": "stream",
     "text": [
      "Enter your range: 100\n"
     ]
    },
    {
     "name": "stdout",
     "output_type": "stream",
     "text": [
      "1\n",
      "3\n",
      "5\n",
      "7\n",
      "9\n",
      "11\n",
      "13\n",
      "15\n",
      "17\n",
      "19\n",
      "21\n",
      "23\n",
      "25\n",
      "27\n",
      "29\n",
      "31\n",
      "33\n",
      "35\n",
      "37\n",
      "39\n",
      "41\n",
      "43\n",
      "45\n",
      "47\n",
      "49\n",
      "51\n",
      "53\n",
      "55\n",
      "57\n",
      "59\n",
      "61\n",
      "63\n",
      "65\n",
      "67\n",
      "69\n",
      "71\n",
      "73\n",
      "75\n",
      "77\n",
      "79\n",
      "81\n",
      "83\n",
      "85\n",
      "87\n",
      "89\n",
      "91\n",
      "93\n",
      "95\n",
      "97\n",
      "99\n"
     ]
    }
   ],
   "source": [
    "# Find the even number from user input range.\n",
    "\n",
    "num3 = int(input('Enter your range:'))\n",
    "\n",
    "for i in range(1,num3+1):\n",
    "    if i%2!=0:\n",
    "        print(i)"
   ]
  },
  {
   "cell_type": "code",
   "execution_count": 82,
   "id": "ebc83b27-53ba-494b-a83c-8da3b8102777",
   "metadata": {},
   "outputs": [
    {
     "name": "stdin",
     "output_type": "stream",
     "text": [
      "Enter any range: 100\n"
     ]
    },
    {
     "name": "stdout",
     "output_type": "stream",
     "text": [
      "List of Even Number: [2, 4, 6, 8, 10, 12, 14, 16, 18, 20, 22, 24, 26, 28, 30, 32, 34, 36, 38, 40, 42, 44, 46, 48, 50, 52, 54, 56, 58, 60, 62, 64, 66, 68, 70, 72, 74, 76, 78, 80, 82, 84, 86, 88, 90, 92, 94, 96, 98, 100] \n",
      "Sum of even number is: 2550\n"
     ]
    }
   ],
   "source": [
    "# wap to take range from user and find their sum of even only.\n",
    "\n",
    "num4 = int(input('Enter any range:'))\n",
    "sum4 = 0\n",
    "list1 = []\n",
    "for i in range(1,num4+1):\n",
    "    if i%2==0:\n",
    "        list1.append(i)\n",
    "        sum4 = sum4+i\n",
    "        # print(i)\n",
    "\n",
    "\n",
    "print('List of Even Number:',list1,'\\nSum of even number is:',sum4)"
   ]
  },
  {
   "cell_type": "markdown",
   "id": "e6c3285b-8570-4e98-9b4a-0d8f6669689b",
   "metadata": {},
   "source": [
    "# for-else"
   ]
  },
  {
   "cell_type": "code",
   "execution_count": 84,
   "id": "341c9e94-18fc-4489-ad86-0540a5f5de5d",
   "metadata": {},
   "outputs": [
    {
     "name": "stdout",
     "output_type": "stream",
     "text": [
      "1\n",
      "2\n",
      "3\n",
      "4\n",
      "5\n",
      "6\n",
      "7\n",
      "8\n",
      "9\n",
      "10\n",
      "These are the data from 1 to 10\n"
     ]
    }
   ],
   "source": [
    "x = 10\n",
    "\n",
    "for i in range(1,x+1):\n",
    "    print(i)\n",
    "\n",
    "else:\n",
    "    print(f'These are the data from 1 to {i}')"
   ]
  },
  {
   "cell_type": "code",
   "execution_count": 88,
   "id": "c3dcd4aa-9a67-4c26-afe8-3419917f1e40",
   "metadata": {},
   "outputs": [
    {
     "name": "stdout",
     "output_type": "stream",
     "text": [
      "1\n",
      "2\n",
      "3\n",
      "4\n",
      "5\n"
     ]
    }
   ],
   "source": [
    "# contorl Break and continue\n",
    "\n",
    "for i in range(1,11):\n",
    "    if i==6:\n",
    "        break\n",
    "    print(i)"
   ]
  },
  {
   "cell_type": "code",
   "execution_count": 96,
   "id": "23103c8d-8ec4-4151-a1a0-e4cf9946992e",
   "metadata": {},
   "outputs": [
    {
     "name": "stdout",
     "output_type": "stream",
     "text": [
      "10\n",
      "Hello\n",
      "11\n",
      "Hello\n",
      "12\n",
      "Hello\n",
      "13\n",
      "Hello\n",
      "14\n",
      "Hello\n",
      "16\n",
      "Hello\n",
      "17\n",
      "Hello\n",
      "18\n",
      "Hello\n",
      "19\n",
      "Hello\n",
      "20\n",
      "Hello\n"
     ]
    }
   ],
   "source": [
    "# continue\n",
    "\n",
    "\n",
    "for i in range(10,20+1):\n",
    "    if i==15:\n",
    "        continue\n",
    "    print(i)\n",
    "    print('Hello')"
   ]
  },
  {
   "cell_type": "markdown",
   "id": "98ea7d7c-9c9d-4617-9796-8d3b266abc43",
   "metadata": {},
   "source": [
    "# While "
   ]
  },
  {
   "cell_type": "code",
   "execution_count": 97,
   "id": "a4f3bf52-589e-4f63-a816-3ffbbb111cdd",
   "metadata": {},
   "outputs": [
    {
     "name": "stdout",
     "output_type": "stream",
     "text": [
      "1\n",
      "2\n",
      "3\n",
      "4\n",
      "5\n",
      "6\n",
      "7\n",
      "8\n",
      "9\n"
     ]
    }
   ],
   "source": [
    "startval= 1\n",
    "\n",
    "endval = 10\n",
    "\n",
    "# while condition:\n",
    "#     statement\n",
    "#     iterationval\n",
    "\n",
    "while startval<endval:\n",
    "    print(startval)\n",
    "    startval+=1"
   ]
  },
  {
   "cell_type": "code",
   "execution_count": 100,
   "id": "1a3cd62c-99d5-4275-9e90-898defb430df",
   "metadata": {},
   "outputs": [
    {
     "name": "stdout",
     "output_type": "stream",
     "text": [
      "10\n",
      "15\n",
      "20\n",
      "25\n",
      "30\n",
      "35\n",
      "40\n",
      "45\n"
     ]
    }
   ],
   "source": [
    "val=10\n",
    "while val<50:\n",
    "    print(val)\n",
    "    val+=5"
   ]
  },
  {
   "cell_type": "code",
   "execution_count": 103,
   "id": "68578301-993b-4207-b59f-453c1921a1df",
   "metadata": {},
   "outputs": [
    {
     "name": "stdout",
     "output_type": "stream",
     "text": [
      "21 X 1 = 21\n",
      "21 X 2 = 42\n",
      "21 X 3 = 63\n",
      "21 X 4 = 84\n",
      "21 X 5 = 105\n",
      "21 X 6 = 126\n",
      "21 X 7 = 147\n",
      "21 X 8 = 168\n",
      "21 X 9 = 189\n",
      "21 X 10 = 210\n"
     ]
    }
   ],
   "source": [
    "# write a program to display table using while loop\n",
    "\n",
    "# 21 \n",
    "\n",
    "table = 21\n",
    "x = 1\n",
    "while x<11:\n",
    "    print(table,'X',x,'=',table*x)\n",
    "    x+=1"
   ]
  },
  {
   "cell_type": "code",
   "execution_count": 104,
   "id": "7e46a4fc-f9a1-4829-b737-e07eda811725",
   "metadata": {},
   "outputs": [
    {
     "name": "stdout",
     "output_type": "stream",
     "text": [
      "10\n",
      "9\n",
      "8\n",
      "7\n",
      "6\n",
      "5\n",
      "4\n",
      "3\n",
      "2\n",
      "1\n"
     ]
    }
   ],
   "source": [
    "# 10-1\n",
    "\n",
    "i = 10\n",
    "\n",
    "while i>=1:\n",
    "    print(i)\n",
    "    i-=1"
   ]
  },
  {
   "cell_type": "code",
   "execution_count": 110,
   "id": "d65208b9-e07d-4c64-b0f4-59a303895f64",
   "metadata": {},
   "outputs": [
    {
     "name": "stdout",
     "output_type": "stream",
     "text": [
      "10\n",
      "20\n",
      "50\n",
      "552\n",
      "8\n",
      "8\n",
      "6\n",
      "6\n",
      "56\n"
     ]
    }
   ],
   "source": [
    "nlis = [10,20,50,552,55,8,8,55,6,6,5,56,5,5]\n",
    "\n",
    "# print the data even number usin while.\n",
    "x = 0\n",
    "while x<len(nlis):\n",
    "    if nlis[x]%2==0:\n",
    "        print(nlis[x])\n",
    "    x+=1"
   ]
  },
  {
   "cell_type": "code",
   "execution_count": 119,
   "id": "db894403-c176-4864-b3ac-aefea9273fdb",
   "metadata": {},
   "outputs": [
    {
     "name": "stdout",
     "output_type": "stream",
     "text": [
      "10 20 50 552 8 8 6 6 56 "
     ]
    }
   ],
   "source": [
    "nlis = [10,20,50,552,55,8,8,55,6,6,5,56,5,5]\n",
    "\n",
    "\n",
    "while True:\n",
    "    for i in range(len(nlis)):\n",
    "        if nlis[i]%2==0:\n",
    "            print(nlis[i],end=' ')\n",
    "    break"
   ]
  },
  {
   "cell_type": "code",
   "execution_count": 2,
   "id": "24301359-ed83-4b15-aa06-d6c5ac5afba4",
   "metadata": {},
   "outputs": [
    {
     "name": "stdout",
     "output_type": "stream",
     "text": [
      "Total Sum of the 50 natural numbers: 1275\n"
     ]
    }
   ],
   "source": [
    "# Wap to find sum of 1-50 natural number.\n",
    "sum1= 0\n",
    "for i in range(1,51):\n",
    "    sum1=sum1+i\n",
    "\n",
    "print('Total Sum of the 50 natural numbers:',sum1)"
   ]
  },
  {
   "cell_type": "code",
   "execution_count": 5,
   "id": "757e273a-cf06-470d-835d-32dbfa67e821",
   "metadata": {},
   "outputs": [
    {
     "name": "stdout",
     "output_type": "stream",
     "text": [
      "Total Sum of the 50 natural numbers: 1275\n"
     ]
    }
   ],
   "source": [
    "# Using while loop\n",
    "\n",
    "x = 1\n",
    "y = 51\n",
    "sum2 =0\n",
    "while x<y:\n",
    "    sum2+=x\n",
    "    x+=1\n",
    "\n",
    "print('Total Sum of the 50 natural numbers:',sum2)"
   ]
  },
  {
   "cell_type": "code",
   "execution_count": 11,
   "id": "2fd0e52c-ac39-4549-8c90-b05a8d6c7497",
   "metadata": {},
   "outputs": [
    {
     "name": "stdin",
     "output_type": "stream",
     "text": [
      "Enter any value: 15\n",
      "Enter any value: 12\n",
      "Enter any value: 36\n",
      "Enter any value: 89\n",
      "Enter any value: 56\n",
      "Enter any value: 0\n"
     ]
    },
    {
     "name": "stdout",
     "output_type": "stream",
     "text": [
      "[15, 12, 36, 89, 56, 0] \n",
      "Total Sum of the list is: 208 \n",
      "Average of the list is 34.666666666666664\n"
     ]
    }
   ],
   "source": [
    "# Wap to keep accepting the number until the user enters zero.\n",
    "# find their sum and average.\n",
    "\n",
    "list1 = []\n",
    "sum1 = 0\n",
    "while True:\n",
    "    \n",
    "    x =int(input('Enter any value:'))\n",
    "    list1.append(x)\n",
    "    sum1 = sum1+x\n",
    "    if x==0:\n",
    "        break\n",
    "\n",
    "print(list1,\"\\nTotal Sum of the list is:\",sum1,'\\nAverage of the list is',sum1/len(list1))"
   ]
  },
  {
   "cell_type": "code",
   "execution_count": 18,
   "id": "6984536e-e99b-4ae3-b03a-e213f9538534",
   "metadata": {},
   "outputs": [
    {
     "name": "stdin",
     "output_type": "stream",
     "text": [
      "Enter any value: 15\n",
      "Enter any value: 48\n",
      "Enter any value: 79\n",
      "Enter any value: 58\n",
      "Enter any value: -100\n",
      "Enter any value: 0\n"
     ]
    },
    {
     "name": "stdout",
     "output_type": "stream",
     "text": [
      "List is: [15, 48, 79, 58, -100, 0] \n",
      "Total Sum of the list is: 100 \n",
      "Average of the list is: 16.666666666666668\n"
     ]
    }
   ],
   "source": [
    "list2 = []\n",
    "sum3 = 0\n",
    "for i in iter(int,1):\n",
    "    user = int(input('Enter any value:'))\n",
    "    list2.append(user)\n",
    "    sum3 = sum3+user\n",
    "    if user ==0:\n",
    "        break\n",
    "\n",
    "print('List is:',list2,'\\nTotal Sum of the list is:',sum3,'\\nAverage of the list is:',sum3/len(list2))"
   ]
  },
  {
   "cell_type": "code",
   "execution_count": null,
   "id": "377f5870-5590-43da-b5d1-5300dc126c52",
   "metadata": {},
   "outputs": [],
   "source": []
  },
  {
   "cell_type": "code",
   "execution_count": 19,
   "id": "a1f1d762-30f4-439a-b1c4-5fa8aa134d1b",
   "metadata": {},
   "outputs": [
    {
     "name": "stdout",
     "output_type": "stream",
     "text": [
      "Enter Number(enter 0 to stop):\n"
     ]
    },
    {
     "name": "stdin",
     "output_type": "stream",
     "text": [
      " 15\n",
      " 42\n",
      " 52\n",
      " 0\n"
     ]
    },
    {
     "name": "stdout",
     "output_type": "stream",
     "text": [
      "Sum of numbers: 109.0\n",
      "Average of numbers: 36.333333333333336\n"
     ]
    }
   ],
   "source": [
    "total_sum = 0\n",
    "count = 0\n",
    "\n",
    "print(\"Enter Number(enter 0 to stop):\")\n",
    "\n",
    "for i in range(1,1000):\n",
    "    number = float(input())\n",
    "\n",
    "    if number == 0:\n",
    "        break\n",
    "\n",
    "    total_sum += number\n",
    "    count += 1\n",
    "\n",
    "    if count > 0:\n",
    "        average = total_sum / count\n",
    "    else:\n",
    "        average = 0\n",
    "print(f\"Sum of numbers: {total_sum}\")\n",
    "print(f\"Average of numbers: {average}\")"
   ]
  },
  {
   "cell_type": "code",
   "execution_count": 23,
   "id": "92ba1621-d47d-476d-a340-5d5104809591",
   "metadata": {},
   "outputs": [
    {
     "name": "stdout",
     "output_type": "stream",
     "text": [
      "[1, 3, 5, 7, 9, 11, 13, 15, 17, 19, 21, 23, 25] : 169\n"
     ]
    }
   ],
   "source": [
    "# wap to print first 25 odd number:\n",
    "list4 = []\n",
    "sum5 = 0\n",
    "for i in range(1,26):\n",
    "    if i%2!=0:\n",
    "        sum5=sum5+i\n",
    "        list4.append(i)\n",
    "        \n",
    "print(list4,':',sum5)"
   ]
  },
  {
   "cell_type": "code",
   "execution_count": 28,
   "id": "ff5f63c9-09b2-46e3-afc3-866e25972e88",
   "metadata": {},
   "outputs": [
    {
     "name": "stdout",
     "output_type": "stream",
     "text": [
      "[1, 3, 5, 7, 9, 11, 13, 15, 17, 19, 21, 23, 25] = 169\n"
     ]
    }
   ],
   "source": [
    "x = 1\n",
    "y = 25\n",
    "\n",
    "list5 = []\n",
    "sum5 = 0\n",
    "while x<=25:\n",
    "    if x%2!=0:\n",
    "        list5.append(x)\n",
    "        sum5 = sum5+x\n",
    "    x+=1\n",
    "\n",
    "print(list5,'=',sum5)"
   ]
  },
  {
   "cell_type": "code",
   "execution_count": 36,
   "id": "5873f68b-bb5e-49e2-9598-1bf5171c3e67",
   "metadata": {},
   "outputs": [
    {
     "name": "stdin",
     "output_type": "stream",
     "text": [
      "Enter any numbers: 14\n",
      "Enter any numbers: 15\n",
      "Enter any numbers: -100\n",
      "Enter any numbers: -78\n",
      "Enter any numbers: 0\n"
     ]
    },
    {
     "name": "stdout",
     "output_type": "stream",
     "text": [
      "Generated List is: [14, 15, -100, -78, 0] \n",
      "Positive list: [14, 15] = 29 \n",
      "Negative List is: [-100, -78] = -178\n"
     ]
    }
   ],
   "source": [
    "# wap to print sum,avg,len of positive and negative values given in range.\n",
    "new_list= []\n",
    "pos_list= []\n",
    "poslist = 0\n",
    "neg_list= []\n",
    "neglist=0\n",
    "\n",
    "for i in iter(int,1):\n",
    "    user2 = int(input('Enter any numbers:'))\n",
    "    new_list.append(user2)\n",
    "    if user2>0:\n",
    "        pos_list.append(user2)\n",
    "        poslist=poslist+user2\n",
    "    elif user2<0:\n",
    "        neg_list.append(user2)\n",
    "        neglist=neglist+user2\n",
    "    if user2 == 0:\n",
    "        break\n",
    "\n",
    "print('Generated List is:',new_list,'\\nPositive list:',pos_list,'=',poslist,\"\\nNegative List is:\",neg_list,'=',neglist)"
   ]
  },
  {
   "cell_type": "code",
   "execution_count": 39,
   "id": "5e5a890d-a966-4815-9b48-def75b6da8d4",
   "metadata": {},
   "outputs": [
    {
     "name": "stdin",
     "output_type": "stream",
     "text": [
      "Enter your value: 14\n",
      "Enter your value: 12\n",
      "Enter your value: 36\n",
      "Enter your value: -78\n",
      "Enter your value: 96\n",
      "Enter your value: -100\n",
      "Enter your value: 0\n"
     ]
    },
    {
     "name": "stdout",
     "output_type": "stream",
     "text": [
      "Generated List is: [14, 12, 36, -78, 96, -100, 0] \n",
      "Positive list: [14, 12, 36, 96] = 158 \n",
      "Negative List is: [-78, -100] = -178\n"
     ]
    }
   ],
   "source": [
    "new_list= []\n",
    "pos_list= []\n",
    "poslist = 0\n",
    "neg_list= []\n",
    "neglist=0\n",
    "\n",
    "while True:\n",
    "    user2 = int(input('Enter your value:'))\n",
    "    new_list.append(user2)\n",
    "    if user2>0:\n",
    "        pos_list.append(user2)\n",
    "        poslist=poslist+user2\n",
    "    elif user2<0:\n",
    "        neg_list.append(user2)\n",
    "        neglist=neglist+user2\n",
    "    if user2==0:\n",
    "        break\n",
    "\n",
    "\n",
    "print('Generated List is:',new_list,'\\nPositive list:',pos_list,'=',poslist,\"\\nNegative List is:\",neg_list,'=',neglist)"
   ]
  },
  {
   "cell_type": "code",
   "execution_count": 50,
   "id": "48b962b5-2cdc-4ba8-ab9c-a66a91355b22",
   "metadata": {},
   "outputs": [
    {
     "name": "stdout",
     "output_type": "stream",
     "text": [
      "Apple\n",
      "Arpan\n",
      "annpurna\n",
      "Akash\n",
      "Ashish\n",
      "anteshwar\n"
     ]
    }
   ],
   "source": [
    "# given a list of names print all names starting with \"A\"\n",
    "\n",
    "list4 = [\"Apple\",\"Arpan\",'Trisha','Uday','Russal','priya',\"annpurna\",\"Akash\",\"Ashish\",'anteshwar',\"ball\",'cat']\n",
    "for i in range(len(list4)):\n",
    "    if list4[i][0] == 'a' or list4[i][0] == 'A':\n",
    "        print(list4[i])\n",
    "    # print(i,list4[i])"
   ]
  },
  {
   "cell_type": "code",
   "execution_count": 72,
   "id": "1e132c5f-5767-4dd8-b9cd-7cda9a498dba",
   "metadata": {},
   "outputs": [
    {
     "name": "stdout",
     "output_type": "stream",
     "text": [
      "Apple\n",
      "Arpan\n",
      "annpurna\n",
      "Akash\n",
      "Ashish\n",
      "anteshwar\n"
     ]
    }
   ],
   "source": [
    "list4 = [\"Apple\",\"Arpan\",'Trisha','Uday','Russal','priya',\"annpurna\",\"Akash\",\"Ashish\",'anteshwar',\"ball\",'cat']\n",
    "i = 0\n",
    "while i<len(list4):\n",
    "    if list4[i][0] == \"A\" or list4[i][0] == 'a':\n",
    "        print(list4[i])\n",
    "    i+=1"
   ]
  },
  {
   "cell_type": "code",
   "execution_count": 74,
   "id": "0c411354-0beb-4068-8523-120134e24100",
   "metadata": {},
   "outputs": [
    {
     "name": "stdin",
     "output_type": "stream",
     "text": [
      "Enter your range: 5\n"
     ]
    },
    {
     "name": "stdout",
     "output_type": "stream",
     "text": [
      "Factorial: 120\n"
     ]
    }
   ],
   "source": [
    "# wap to factorial of given number.\n",
    "\n",
    "# 2 = 1x2 = 2\n",
    "# 3 = 1x2x3= 6\n",
    "# 4 = 1x2x3x4= 24\n",
    "\n",
    "n=int(input('Enter your range:'))\n",
    "factorial = 1  # 1, 2, 6, 24, 120\n",
    "for i in range(1,n+1):\n",
    "    factorial*=i\n",
    "\n",
    "\n",
    "print('Factorial:',factorial)"
   ]
  },
  {
   "cell_type": "code",
   "execution_count": 83,
   "id": "1b6dc71b-eff5-4404-8944-3b17289d04d4",
   "metadata": {},
   "outputs": [
    {
     "name": "stdin",
     "output_type": "stream",
     "text": [
      "Enter any Range: 5\n"
     ]
    },
    {
     "name": "stdout",
     "output_type": "stream",
     "text": [
      "Factorial: 120\n"
     ]
    }
   ],
   "source": [
    "i = 1\n",
    "n = int(input('Enter any Range:'))\n",
    "fact = 1\n",
    "while i<n+1:\n",
    "    fact *=i\n",
    "    # print(i)\n",
    "    i+=1\n",
    "\n",
    "print('Factorial:',fact)"
   ]
  },
  {
   "cell_type": "code",
   "execution_count": 97,
   "id": "57d1d020-9d03-4295-a7dd-3a56285fe04f",
   "metadata": {},
   "outputs": [
    {
     "name": "stdout",
     "output_type": "stream",
     "text": [
      "Apple\n",
      "Trupti\n",
      "Anteshwar\n",
      "Rahane\n",
      "Ajinkya\n"
     ]
    }
   ],
   "source": [
    "# given a list of words count the number of words more than 5 character.\n",
    "\n",
    "words = ['Apple','Trupti','Uday','Anteshwar','Rahane','Ajinkya','Ram']\n",
    "\n",
    "for i in range(len(words)):\n",
    "    if len(words[i])>=5:\n",
    "        print(words[i])\n",
    "    # print(i,words[i])"
   ]
  },
  {
   "cell_type": "code",
   "execution_count": 106,
   "id": "702862cb-a2c0-4251-b13e-942825892fb3",
   "metadata": {},
   "outputs": [
    {
     "name": "stdout",
     "output_type": "stream",
     "text": [
      "Apple\n",
      "Trupti\n",
      "Anteshwar\n",
      "Rahane\n",
      "Ajinkya\n"
     ]
    }
   ],
   "source": [
    "x = 0\n",
    "\n",
    "while x<len(words):\n",
    "    if len(words[x])>=5:\n",
    "        \n",
    "        print(words[x])\n",
    "    x+=1"
   ]
  },
  {
   "cell_type": "code",
   "execution_count": 107,
   "id": "3de8bfe3-06e1-466c-83e3-3faa306607b2",
   "metadata": {},
   "outputs": [],
   "source": [
    "import math"
   ]
  },
  {
   "cell_type": "code",
   "execution_count": 115,
   "id": "bd758054-89d9-4a40-9ac0-ee3dfd8b1b9b",
   "metadata": {},
   "outputs": [
    {
     "data": {
      "text/plain": [
       "3.141592653589793"
      ]
     },
     "execution_count": 115,
     "metadata": {},
     "output_type": "execute_result"
    }
   ],
   "source": [
    "math.pi"
   ]
  },
  {
   "cell_type": "code",
   "execution_count": 118,
   "id": "300ca9cb-3f50-4e51-83ad-27a0bf53634a",
   "metadata": {},
   "outputs": [
    {
     "data": {
      "text/plain": [
       "2.718281828459045"
      ]
     },
     "execution_count": 118,
     "metadata": {},
     "output_type": "execute_result"
    }
   ],
   "source": [
    "math.e"
   ]
  },
  {
   "cell_type": "code",
   "execution_count": 119,
   "id": "9b22feb4-5792-4bf7-8045-d43f9de7dd18",
   "metadata": {},
   "outputs": [
    {
     "data": {
      "text/plain": [
       "6.718281828459045"
      ]
     },
     "execution_count": 119,
     "metadata": {},
     "output_type": "execute_result"
    }
   ],
   "source": [
    "4+math.e"
   ]
  },
  {
   "cell_type": "code",
   "execution_count": 122,
   "id": "40a3bd15-8491-4dc6-9b2a-adba05e3f91f",
   "metadata": {},
   "outputs": [
    {
     "name": "stdin",
     "output_type": "stream",
     "text": [
      "Enter radius of circle 5\n"
     ]
    },
    {
     "name": "stdout",
     "output_type": "stream",
     "text": [
      "Area of circle is: 78.53981633974483 cm² \n",
      "Circumference of circle is: 31.41592653589793 cm\n"
     ]
    }
   ],
   "source": [
    "# find the area of circle and radius is entered by user.\n",
    "\n",
    "radius = int(input('Enter radius of circle'))\n",
    "\n",
    "area = math.pi*radius**2\n",
    "circumference = 2*math.pi*radius\n",
    "print('Area of circle is:',area,'cm²','\\nCircumference of circle is:',circumference,'cm')"
   ]
  },
  {
   "cell_type": "code",
   "execution_count": null,
   "id": "18f0bb84-4c66-450b-a061-2aec1af2c5f3",
   "metadata": {},
   "outputs": [],
   "source": []
  }
 ],
 "metadata": {
  "kernelspec": {
   "display_name": "Python 3 (ipykernel)",
   "language": "python",
   "name": "python3"
  },
  "language_info": {
   "codemirror_mode": {
    "name": "ipython",
    "version": 3
   },
   "file_extension": ".py",
   "mimetype": "text/x-python",
   "name": "python",
   "nbconvert_exporter": "python",
   "pygments_lexer": "ipython3",
   "version": "3.12.2"
  }
 },
 "nbformat": 4,
 "nbformat_minor": 5
}
