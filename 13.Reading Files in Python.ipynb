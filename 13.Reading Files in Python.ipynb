{
 "cells": [
  {
   "cell_type": "markdown",
   "id": "24e8ebad-c0ac-4e3f-b661-087204380fe2",
   "metadata": {},
   "source": [
    "# 13. Reading Files in Python\n",
    "\n",
    " * __To Read a text files in Python follow these steps:__\n",
    " * __First, Open a text file for reading by using the open() functions.__\n",
    " * __Second, read text form the text file using the file read(), readline() or readlines() method of the file object.__\n",
    " * __Third, close the file using the close() method, This frees up resources and ensures consistency across different python version.__\n",
    " * __Methods : ---------------------------- Descriptions__\n",
    " * __writable()----------------------------> Returns whether the files can be written or not.__\n",
    " * __readable():---------------------------> Returns whether the files stream can be read or not.__\n",
    " * __read():------------------------------->  Returns the file content.__\n",
    " * __realine():----------------------------> Returns one line from the file.__\n",
    " * __readlines():--------------------------> Writes a list of strings to the file.__\n",
    " * __close():------------------------------> Closed the file.__\n",
    " * __flush():------------------------------> Flushed the internal buffer.__\n",
    " * __tell():-------------------------------> Returns the current file.__\n",
    " * __truncate():---------------------------> Resize the file to a specified.__"
   ]
  },
  {
   "cell_type": "code",
   "execution_count": 2,
   "id": "cf51d8b1-e3cf-4886-8a02-d2fe7a93bb20",
   "metadata": {},
   "outputs": [
    {
     "data": {
      "text/plain": [
       "'Shahid Kapoor (pronounced [ÊƒaËÉ¦ÉªdÌª kÉ™ËˆpuËr]; born 25 February 1981) is an Indian actor who appears in Hindi films. Initially recognised for portraying romantic roles, he has since taken on parts in action films and thrillers, and is the recipient of several awards, including three Filmfare Awards.\\n\\nThe son of actors Pankaj Kapur and Neelima Azeem, Kapoor trained as a dancer at Shiamak Davar\\'s academy. He appeared as a background dancer in a few films of the 1990s, and featured in music videos and television commercials. He made his film debut in 2003 with a leading role in the romantic comedy Ishq Vishk, a sleeper hit for which he won the Filmfare Award for Best Male Debut. He followed it with roles in several commercial failures before starring in Sooraj Barjatya\\'s top-grossing family drama Vivah (2006).\\n\\nKapoor earned praise for playing a troubled businessman in Imtiaz Ali\\'s romantic comedy Jab We Met (2007) and twin brothers in Vishal Bhardwaj\\'s action film Kaminey (2009). Further acclaim came for portraying the Hamlet character in Bhardwaj\\'s tragedy Haider (2014) and a drug abusing singer in the crime drama Udta Punjab (2016). For the former, he won the Filmfare Award for Best Actor and for the latter, he won the Filmfare Critics Award for Best Actor. Kapoor\\'s highest-grossing releases came with the period drama Padmaavat (2018) and the romantic drama Kabir Singh (2019). He has since starred in the crime drama series Farzi (2023) and the romantic comedy Teri Baaton Mein Aisa Uljha Jiya (2024).\\n\\nIn addition to acting, Kapoor supports charities, hosts award ceremonies, and has featured as a talent judge on the dance reality show Jhalak Dikhhla Jaa Reloaded (2015). He is married to Mira Rajput, with whom he has two children.\\n\\nEarly life and background\\nShahid Kapoor was born in New Delhi on 25 February 1981 to actor Pankaj Kapur and actor-dancer Neelima Azeem.[1][2] On his mother\\'s side, he is related to filmmaker Khwaja Ahmad Abbas.[3] His parents divorced when he was three years old; his father shifted to Mumbai (and married the actress Supriya Pathak) and Kapoor continued living in Delhi with his mother and maternal grandparents.[4][5] His grandparents were journalists for the Russian magazine Sputnik, and Kapoor was particularly fond of his grandfather: \"He would walk me to school every single day. He would talk to me about Dad, with whom he shared a great relationship, and read out his letters to me.\"[4] His father, who was then a struggling actor in Mumbai, would visit Kapoor only once a year on his birthday.[4] When Kapoor was 10, his mother, who was working as a dancer, moved to Mumbai to work as an actress.[4]\\n\\nIn Mumbai, Azeem went on to marry the actor Rajesh Khattar.[5] Kapoor continued living with his mother and Khattar, until they separated in 2001.[5] Kapoor continues to use the last name Khattar on his passport.[6] He has a maternal half-brother, Ishaan, from his mother\\'s marriage to Khattar.[5] From his father\\'s marriage to Pathak, he has two paternal half-siblings, Sanah and Ruhaan.[7] Kapoor was educated at the Gyan Bharati School in Delhi and Rajhans Vidyalaya in Mumbai.[8] He later attended Mumbai\\'s Mithibai College for three years.[9]\\n\\nKapoor was interested in dance from an early age, and at the age of 15, he joined Shiamak Davar\\'s dance institute.[10] As a student there, Kapoor appeared as a background dancer in the films Dil To Pagal Hai (1997) and Taal (1999), in which Davar served as choreographer.[10] During a stage show at the institute, Kapoor performed in the songs \"Vogue\" and \"GoldenEye\" to a positive response from the audience; he described the experience as the first time that he \"felt like a star\".[10] He later became an instructor at the institute.[10] During this time, Kapoor accompanied a friend to an audition for a Pepsi commercial featuring the stars Shah Rukh Khan, Kajol and Rani Mukerji, but wound up with the part himself.[4] He appeared in television commercials for the brands Kit Kat and Close-Up, among others, and featured in music videos for several performers, including the band Aryans and the singer Kumar Sanu.[11] Kapoor also took on the job of an assistant director to his father on the 1998 television series Mohandas B.A.L.L.B.'"
      ]
     },
     "execution_count": 2,
     "metadata": {},
     "output_type": "execute_result"
    }
   ],
   "source": [
    "# pdf, text, xml,.docx,.xslx, :------------------------->\n",
    "\n",
    "file_name= \"C:\\\\Users\\\\Admin\\\\Downloads\\\\sahid_kapoor.txt\"  #Escape Sequence\n",
    "file = open(file_name,errors='ignore')\n",
    "content = file.read()\n",
    "content"
   ]
  },
  {
   "cell_type": "code",
   "execution_count": 3,
   "id": "d23b1ff4-2ca6-40a4-91f4-28111b4d5e3c",
   "metadata": {},
   "outputs": [
    {
     "name": "stdout",
     "output_type": "stream",
     "text": [
      "Shahid Kapoor (pronounced [ÊƒaËÉ¦ÉªdÌª kÉ™ËˆpuËr]; born 25 February 1981) is an Indian actor who appears in Hindi films. Initially recognised for portraying romantic roles, he has since taken on parts in action films and thrillers, and is the recipient of several awards, including three Filmfare Awards.\n",
      "\n",
      "The son of actors Pankaj Kapur and Neelima Azeem, Kapoor trained as a dancer at Shiamak Davar's academy. He appeared as a background dancer in a few films of the 1990s, and featured in music videos and television commercials. He made his film debut in 2003 with a leading role in the romantic comedy Ishq Vishk, a sleeper hit for which he won the Filmfare Award for Best Male Debut. He followed it with roles in several commercial failures before starring in Sooraj Barjatya's top-grossing family drama Vivah (2006).\n",
      "\n",
      "Kapoor earned praise for playing a troubled businessman in Imtiaz Ali's romantic comedy Jab We Met (2007) and twin brothers in Vishal Bhardwaj's action film Kaminey (2009). Further acclaim came for portraying the Hamlet character in Bhardwaj's tragedy Haider (2014) and a drug abusing singer in the crime drama Udta Punjab (2016). For the former, he won the Filmfare Award for Best Actor and for the latter, he won the Filmfare Critics Award for Best Actor. Kapoor's highest-grossing releases came with the period drama Padmaavat (2018) and the romantic drama Kabir Singh (2019). He has since starred in the crime drama series Farzi (2023) and the romantic comedy Teri Baaton Mein Aisa Uljha Jiya (2024).\n",
      "\n",
      "In addition to acting, Kapoor supports charities, hosts award ceremonies, and has featured as a talent judge on the dance reality show Jhalak Dikhhla Jaa Reloaded (2015). He is married to Mira Rajput, with whom he has two children.\n",
      "\n",
      "Early life and background\n",
      "Shahid Kapoor was born in New Delhi on 25 February 1981 to actor Pankaj Kapur and actor-dancer Neelima Azeem.[1][2] On his mother's side, he is related to filmmaker Khwaja Ahmad Abbas.[3] His parents divorced when he was three years old; his father shifted to Mumbai (and married the actress Supriya Pathak) and Kapoor continued living in Delhi with his mother and maternal grandparents.[4][5] His grandparents were journalists for the Russian magazine Sputnik, and Kapoor was particularly fond of his grandfather: \"He would walk me to school every single day. He would talk to me about Dad, with whom he shared a great relationship, and read out his letters to me.\"[4] His father, who was then a struggling actor in Mumbai, would visit Kapoor only once a year on his birthday.[4] When Kapoor was 10, his mother, who was working as a dancer, moved to Mumbai to work as an actress.[4]\n",
      "\n",
      "In Mumbai, Azeem went on to marry the actor Rajesh Khattar.[5] Kapoor continued living with his mother and Khattar, until they separated in 2001.[5] Kapoor continues to use the last name Khattar on his passport.[6] He has a maternal half-brother, Ishaan, from his mother's marriage to Khattar.[5] From his father's marriage to Pathak, he has two paternal half-siblings, Sanah and Ruhaan.[7] Kapoor was educated at the Gyan Bharati School in Delhi and Rajhans Vidyalaya in Mumbai.[8] He later attended Mumbai's Mithibai College for three years.[9]\n",
      "\n",
      "Kapoor was interested in dance from an early age, and at the age of 15, he joined Shiamak Davar's dance institute.[10] As a student there, Kapoor appeared as a background dancer in the films Dil To Pagal Hai (1997) and Taal (1999), in which Davar served as choreographer.[10] During a stage show at the institute, Kapoor performed in the songs \"Vogue\" and \"GoldenEye\" to a positive response from the audience; he described the experience as the first time that he \"felt like a star\".[10] He later became an instructor at the institute.[10] During this time, Kapoor accompanied a friend to an audition for a Pepsi commercial featuring the stars Shah Rukh Khan, Kajol and Rani Mukerji, but wound up with the part himself.[4] He appeared in television commercials for the brands Kit Kat and Close-Up, among others, and featured in music videos for several performers, including the band Aryans and the singer Kumar Sanu.[11] Kapoor also took on the job of an assistant director to his father on the 1998 television series Mohandas B.A.L.L.B.\n"
     ]
    }
   ],
   "source": [
    "print(content)"
   ]
  },
  {
   "cell_type": "code",
   "execution_count": 4,
   "id": "af1fe629-aa09-4629-8297-f10b6005067f",
   "metadata": {},
   "outputs": [
    {
     "name": "stdout",
     "output_type": "stream",
     "text": [
      "C:\\Users\\Admin\\Downloads\\sahid_kapoor.txt\n"
     ]
    }
   ],
   "source": [
    "# Printing the file path\n",
    "print(file.name)"
   ]
  },
  {
   "cell_type": "code",
   "execution_count": 5,
   "id": "bd66cfb7-c4e0-4d2d-bd74-8a428e20f41e",
   "metadata": {},
   "outputs": [
    {
     "name": "stdout",
     "output_type": "stream",
     "text": [
      "r\n"
     ]
    }
   ],
   "source": [
    "# printing the mode of the file.\n",
    "print(file.mode)"
   ]
  },
  {
   "cell_type": "code",
   "execution_count": 7,
   "id": "fcf6a3ef-fc2d-4b26-b575-66d6e6882e27",
   "metadata": {},
   "outputs": [
    {
     "name": "stdout",
     "output_type": "stream",
     "text": [
      "<class 'str'>\n"
     ]
    }
   ],
   "source": [
    "print(type(content))"
   ]
  },
  {
   "cell_type": "code",
   "execution_count": 8,
   "id": "0742fd40-019e-442d-bec9-e521df3e8d62",
   "metadata": {},
   "outputs": [
    {
     "data": {
      "text/plain": [
       "False"
      ]
     },
     "execution_count": 8,
     "metadata": {},
     "output_type": "execute_result"
    }
   ],
   "source": [
    "# Verification of the file.\n",
    "\n",
    "file.closed"
   ]
  },
  {
   "cell_type": "code",
   "execution_count": 10,
   "id": "baf5d59d-db8d-418b-a7ec-c7373ee53178",
   "metadata": {},
   "outputs": [],
   "source": [
    "# closing the file.\n",
    "file.close()"
   ]
  },
  {
   "cell_type": "code",
   "execution_count": 11,
   "id": "d985f51c-f409-49e6-a869-ae626dcad91b",
   "metadata": {},
   "outputs": [
    {
     "data": {
      "text/plain": [
       "True"
      ]
     },
     "execution_count": 11,
     "metadata": {},
     "output_type": "execute_result"
    }
   ],
   "source": [
    "file.closed"
   ]
  },
  {
   "cell_type": "code",
   "execution_count": 12,
   "id": "315f57b6-b5c8-4947-a231-30937eb0c6c6",
   "metadata": {},
   "outputs": [
    {
     "data": {
      "text/plain": [
       "'Shahid Kapoor (pronounced [ÊƒaËÉ¦ÉªdÌª kÉ™ËˆpuËr]; born 25 February 1981) is an Indian actor who appears in Hindi films. Initially recognised for portraying romantic roles, he has since taken on parts in action films and thrillers, and is the recipient of several awards, including three Filmfare Awards.\\n\\nThe son of actors Pankaj Kapur and Neelima Azeem, Kapoor trained as a dancer at Shiamak Davar\\'s academy. He appeared as a background dancer in a few films of the 1990s, and featured in music videos and television commercials. He made his film debut in 2003 with a leading role in the romantic comedy Ishq Vishk, a sleeper hit for which he won the Filmfare Award for Best Male Debut. He followed it with roles in several commercial failures before starring in Sooraj Barjatya\\'s top-grossing family drama Vivah (2006).\\n\\nKapoor earned praise for playing a troubled businessman in Imtiaz Ali\\'s romantic comedy Jab We Met (2007) and twin brothers in Vishal Bhardwaj\\'s action film Kaminey (2009). Further acclaim came for portraying the Hamlet character in Bhardwaj\\'s tragedy Haider (2014) and a drug abusing singer in the crime drama Udta Punjab (2016). For the former, he won the Filmfare Award for Best Actor and for the latter, he won the Filmfare Critics Award for Best Actor. Kapoor\\'s highest-grossing releases came with the period drama Padmaavat (2018) and the romantic drama Kabir Singh (2019). He has since starred in the crime drama series Farzi (2023) and the romantic comedy Teri Baaton Mein Aisa Uljha Jiya (2024).\\n\\nIn addition to acting, Kapoor supports charities, hosts award ceremonies, and has featured as a talent judge on the dance reality show Jhalak Dikhhla Jaa Reloaded (2015). He is married to Mira Rajput, with whom he has two children.\\n\\nEarly life and background\\nShahid Kapoor was born in New Delhi on 25 February 1981 to actor Pankaj Kapur and actor-dancer Neelima Azeem.[1][2] On his mother\\'s side, he is related to filmmaker Khwaja Ahmad Abbas.[3] His parents divorced when he was three years old; his father shifted to Mumbai (and married the actress Supriya Pathak) and Kapoor continued living in Delhi with his mother and maternal grandparents.[4][5] His grandparents were journalists for the Russian magazine Sputnik, and Kapoor was particularly fond of his grandfather: \"He would walk me to school every single day. He would talk to me about Dad, with whom he shared a great relationship, and read out his letters to me.\"[4] His father, who was then a struggling actor in Mumbai, would visit Kapoor only once a year on his birthday.[4] When Kapoor was 10, his mother, who was working as a dancer, moved to Mumbai to work as an actress.[4]\\n\\nIn Mumbai, Azeem went on to marry the actor Rajesh Khattar.[5] Kapoor continued living with his mother and Khattar, until they separated in 2001.[5] Kapoor continues to use the last name Khattar on his passport.[6] He has a maternal half-brother, Ishaan, from his mother\\'s marriage to Khattar.[5] From his father\\'s marriage to Pathak, he has two paternal half-siblings, Sanah and Ruhaan.[7] Kapoor was educated at the Gyan Bharati School in Delhi and Rajhans Vidyalaya in Mumbai.[8] He later attended Mumbai\\'s Mithibai College for three years.[9]\\n\\nKapoor was interested in dance from an early age, and at the age of 15, he joined Shiamak Davar\\'s dance institute.[10] As a student there, Kapoor appeared as a background dancer in the films Dil To Pagal Hai (1997) and Taal (1999), in which Davar served as choreographer.[10] During a stage show at the institute, Kapoor performed in the songs \"Vogue\" and \"GoldenEye\" to a positive response from the audience; he described the experience as the first time that he \"felt like a star\".[10] He later became an instructor at the institute.[10] During this time, Kapoor accompanied a friend to an audition for a Pepsi commercial featuring the stars Shah Rukh Khan, Kajol and Rani Mukerji, but wound up with the part himself.[4] He appeared in television commercials for the brands Kit Kat and Close-Up, among others, and featured in music videos for several performers, including the band Aryans and the singer Kumar Sanu.[11] Kapoor also took on the job of an assistant director to his father on the 1998 television series Mohandas B.A.L.L.B.'"
      ]
     },
     "execution_count": 12,
     "metadata": {},
     "output_type": "execute_result"
    }
   ],
   "source": [
    "content"
   ]
  },
  {
   "cell_type": "code",
   "execution_count": 13,
   "id": "050ae07f-f99d-4064-ae85-85a764a2ecb6",
   "metadata": {},
   "outputs": [
    {
     "name": "stdout",
     "output_type": "stream",
     "text": [
      "Shahid Kapoor (pronounced [ÊƒaËÉ¦ÉªdÌª kÉ™ËˆpuËr]; born 25 February 1981) is an Indian actor who appears in Hindi films. Initially recognised for portraying romantic roles, he has since taken on parts in action films and thrillers, and is the recipient of several awards, including three Filmfare Awards.\n",
      "\n",
      "The son of actors Pankaj Kapur and Neelima Azeem, Kapoor trained as a dancer at Shiamak Davar's academy. He appeared as a background dancer in a few films of the 1990s, and featured in music videos and television commercials. He made his film debut in 2003 with a leading role in the romantic comedy Ishq Vishk, a sleeper hit for which he won the Filmfare Award for Best Male Debut. He followed it with roles in several commercial failures before starring in Sooraj Barjatya's top-grossing family drama Vivah (2006).\n",
      "\n",
      "Kapoor earned praise for playing a troubled businessman in Imtiaz Ali's romantic comedy Jab We Met (2007) and twin brothers in Vishal Bhardwaj's action film Kaminey (2009). Further acclaim came for portraying the Hamlet character in Bhardwaj's tragedy Haider (2014) and a drug abusing singer in the crime drama Udta Punjab (2016). For the former, he won the Filmfare Award for Best Actor and for the latter, he won the Filmfare Critics Award for Best Actor. Kapoor's highest-grossing releases came with the period drama Padmaavat (2018) and the romantic drama Kabir Singh (2019). He has since starred in the crime drama series Farzi (2023) and the romantic comedy Teri Baaton Mein Aisa Uljha Jiya (2024).\n",
      "\n",
      "In addition to acting, Kapoor supports charities, hosts award ceremonies, and has featured as a talent judge on the dance reality show Jhalak Dikhhla Jaa Reloaded (2015). He is married to Mira Rajput, with whom he has two children.\n",
      "\n",
      "Early life and background\n",
      "Shahid Kapoor was born in New Delhi on 25 February 1981 to actor Pankaj Kapur and actor-dancer Neelima Azeem.[1][2] On his mother's side, he is related to filmmaker Khwaja Ahmad Abbas.[3] His parents divorced when he was three years old; his father shifted to Mumbai (and married the actress Supriya Pathak) and Kapoor continued living in Delhi with his mother and maternal grandparents.[4][5] His grandparents were journalists for the Russian magazine Sputnik, and Kapoor was particularly fond of his grandfather: \"He would walk me to school every single day. He would talk to me about Dad, with whom he shared a great relationship, and read out his letters to me.\"[4] His father, who was then a struggling actor in Mumbai, would visit Kapoor only once a year on his birthday.[4] When Kapoor was 10, his mother, who was working as a dancer, moved to Mumbai to work as an actress.[4]\n",
      "\n",
      "In Mumbai, Azeem went on to marry the actor Rajesh Khattar.[5] Kapoor continued living with his mother and Khattar, until they separated in 2001.[5] Kapoor continues to use the last name Khattar on his passport.[6] He has a maternal half-brother, Ishaan, from his mother's marriage to Khattar.[5] From his father's marriage to Pathak, he has two paternal half-siblings, Sanah and Ruhaan.[7] Kapoor was educated at the Gyan Bharati School in Delhi and Rajhans Vidyalaya in Mumbai.[8] He later attended Mumbai's Mithibai College for three years.[9]\n",
      "\n",
      "Kapoor was interested in dance from an early age, and at the age of 15, he joined Shiamak Davar's dance institute.[10] As a student there, Kapoor appeared as a background dancer in the films Dil To Pagal Hai (1997) and Taal (1999), in which Davar served as choreographer.[10] During a stage show at the institute, Kapoor performed in the songs \"Vogue\" and \"GoldenEye\" to a positive response from the audience; he described the experience as the first time that he \"felt like a star\".[10] He later became an instructor at the institute.[10] During this time, Kapoor accompanied a friend to an audition for a Pepsi commercial featuring the stars Shah Rukh Khan, Kajol and Rani Mukerji, but wound up with the part himself.[4] He appeared in television commercials for the brands Kit Kat and Close-Up, among others, and featured in music videos for several performers, including the band Aryans and the singer Kumar Sanu.[11] Kapoor also took on the job of an assistant director to his father on the 1998 television series Mohandas B.A.L.L.B.\n"
     ]
    }
   ],
   "source": [
    "# file_name= \"C:\\\\Users\\\\Admin\\\\Downloads\\\\sahid_kapoor.txt\"  #Escape Sequence\n",
    "# file = open(file_name,errors='ignore')\n",
    "# content = file.read()\n",
    "\n",
    "x = \"C:\\\\Users\\\\Admin\\\\Downloads\\\\sahid_kapoor.txt\"\n",
    "\n",
    "with open(x,\"r\",errors=\"ignore\") as f:\n",
    "    print(f.read())"
   ]
  },
  {
   "cell_type": "code",
   "execution_count": 17,
   "id": "e3c1e5bd-d6e4-4abc-8008-e04d817044bb",
   "metadata": {},
   "outputs": [
    {
     "name": "stdout",
     "output_type": "stream",
     "text": [
      "Sh\n",
      "ahid Kapoor (pronounced [ÊƒaËÉ¦ÉªdÌª kÉ™ËˆpuËr]; born 25 February 1981) is an Indian actor who appea\n"
     ]
    }
   ],
   "source": [
    "\n",
    "x = \"C:\\\\Users\\\\Admin\\\\Downloads\\\\sahid_kapoor.txt\"\n",
    "\n",
    "with open(x,\"r\",errors=\"ignore\") as f:\n",
    "    print(f.read(2))   # 100 words\n",
    "    print(f.read(100))"
   ]
  },
  {
   "cell_type": "code",
   "execution_count": 21,
   "id": "c09d0310-7e99-428f-9c7b-0ca0f1417f21",
   "metadata": {},
   "outputs": [
    {
     "name": "stdout",
     "output_type": "stream",
     "text": [
      "Shahid Kapoor (pronounced [ÊƒaËÉ¦ÉªdÌª kÉ™ËˆpuËr]; born 25 February 1981) is an Indian actor who appears in Hindi films. Initially recognised for portraying romantic roles, he has since taken on parts in action films and thrillers, and is the recipient of several awards, including three Filmfare Awards.\n",
      "\n",
      "\n",
      "\n",
      "The son of actors Pankaj Kapur and Neelima Azeem, Kapoor trained as a dancer at Shiamak Davar's academy. He appeared as a background dancer in a few films of the 1990s, and featured in music videos and television commercials. He made his film debut in 2003 with a leading role in the romantic comedy Ishq Vishk, a sleeper hit for which he won the Filmfare Award for Best Male Debut. He followed it with roles in several commercial failures before starring in Sooraj Barjatya's top-grossing family drama Vivah (2006).\n",
      "\n"
     ]
    }
   ],
   "source": [
    "with open(x,\"r\",errors=\"ignore\") as f:\n",
    "    print(f.readline())\n",
    "    print(f.readline())\n",
    "    print(f.readline())"
   ]
  },
  {
   "cell_type": "code",
   "execution_count": 28,
   "id": "ef5b671b-b423-4336-aa17-6cb5cdc62663",
   "metadata": {},
   "outputs": [
    {
     "name": "stdout",
     "output_type": "stream",
     "text": [
      "['Shahid Kapoor (pronounced [ÊƒaËÉ¦ÉªdÌª kÉ™ËˆpuËr]; born 25 February 1981) is an Indian actor who appears in Hindi films. Initially recognised for portraying romantic roles, he has since taken on parts in action films and thrillers, and is the recipient of several awards, including three Filmfare Awards.\\n']\n",
      "['\\n', \"The son of actors Pankaj Kapur and Neelima Azeem, Kapoor trained as a dancer at Shiamak Davar's academy. He appeared as a background dancer in a few films of the 1990s, and featured in music videos and television commercials. He made his film debut in 2003 with a leading role in the romantic comedy Ishq Vishk, a sleeper hit for which he won the Filmfare Award for Best Male Debut. He followed it with roles in several commercial failures before starring in Sooraj Barjatya's top-grossing family drama Vivah (2006).\\n\"]\n"
     ]
    }
   ],
   "source": [
    "with open(x,\"r\",errors=\"ignore\") as f:\n",
    "    print(f.readlines(100))\n",
    "    print(f.readlines(200))"
   ]
  },
  {
   "cell_type": "code",
   "execution_count": 29,
   "id": "59ffcf73-2d61-4227-9a55-3a5852f144a6",
   "metadata": {},
   "outputs": [
    {
     "name": "stdout",
     "output_type": "stream",
     "text": [
      "Paragraph 1 : Shahid Kapoor (pronounced [ÊƒaËÉ¦ÉªdÌª kÉ™ËˆpuËr]; born 25 February 1981) is an Indian actor who appears in Hindi films. Initially recognised for portraying romantic roles, he has since taken on parts in action films and thrillers, and is the recipient of several awards, including three Filmfare Awards.\n",
      "\n",
      "Paragraph 2 : \n",
      "\n",
      "Paragraph 3 : The son of actors Pankaj Kapur and Neelima Azeem, Kapoor trained as a dancer at Shiamak Davar's academy. He appeared as a background dancer in a few films of the 1990s, and featured in music videos and television commercials. He made his film debut in 2003 with a leading role in the romantic comedy Ishq Vishk, a sleeper hit for which he won the Filmfare Award for Best Male Debut. He followed it with roles in several commercial failures before starring in Sooraj Barjatya's top-grossing family drama Vivah (2006).\n",
      "\n",
      "Paragraph 4 : \n",
      "\n",
      "Paragraph 5 : Kapoor earned praise for playing a troubled businessman in Imtiaz Ali's romantic comedy Jab We Met (2007) and twin brothers in Vishal Bhardwaj's action film Kaminey (2009). Further acclaim came for portraying the Hamlet character in Bhardwaj's tragedy Haider (2014) and a drug abusing singer in the crime drama Udta Punjab (2016). For the former, he won the Filmfare Award for Best Actor and for the latter, he won the Filmfare Critics Award for Best Actor. Kapoor's highest-grossing releases came with the period drama Padmaavat (2018) and the romantic drama Kabir Singh (2019). He has since starred in the crime drama series Farzi (2023) and the romantic comedy Teri Baaton Mein Aisa Uljha Jiya (2024).\n",
      "\n",
      "Paragraph 6 : \n",
      "\n",
      "Paragraph 7 : In addition to acting, Kapoor supports charities, hosts award ceremonies, and has featured as a talent judge on the dance reality show Jhalak Dikhhla Jaa Reloaded (2015). He is married to Mira Rajput, with whom he has two children.\n",
      "\n",
      "Paragraph 8 : \n",
      "\n",
      "Paragraph 9 : Early life and background\n",
      "\n",
      "Paragraph 10 : Shahid Kapoor was born in New Delhi on 25 February 1981 to actor Pankaj Kapur and actor-dancer Neelima Azeem.[1][2] On his mother's side, he is related to filmmaker Khwaja Ahmad Abbas.[3] His parents divorced when he was three years old; his father shifted to Mumbai (and married the actress Supriya Pathak) and Kapoor continued living in Delhi with his mother and maternal grandparents.[4][5] His grandparents were journalists for the Russian magazine Sputnik, and Kapoor was particularly fond of his grandfather: \"He would walk me to school every single day. He would talk to me about Dad, with whom he shared a great relationship, and read out his letters to me.\"[4] His father, who was then a struggling actor in Mumbai, would visit Kapoor only once a year on his birthday.[4] When Kapoor was 10, his mother, who was working as a dancer, moved to Mumbai to work as an actress.[4]\n",
      "\n",
      "Paragraph 11 : \n",
      "\n",
      "Paragraph 12 : In Mumbai, Azeem went on to marry the actor Rajesh Khattar.[5] Kapoor continued living with his mother and Khattar, until they separated in 2001.[5] Kapoor continues to use the last name Khattar on his passport.[6] He has a maternal half-brother, Ishaan, from his mother's marriage to Khattar.[5] From his father's marriage to Pathak, he has two paternal half-siblings, Sanah and Ruhaan.[7] Kapoor was educated at the Gyan Bharati School in Delhi and Rajhans Vidyalaya in Mumbai.[8] He later attended Mumbai's Mithibai College for three years.[9]\n",
      "\n",
      "Paragraph 13 : \n",
      "\n",
      "Paragraph 14 : Kapoor was interested in dance from an early age, and at the age of 15, he joined Shiamak Davar's dance institute.[10] As a student there, Kapoor appeared as a background dancer in the films Dil To Pagal Hai (1997) and Taal (1999), in which Davar served as choreographer.[10] During a stage show at the institute, Kapoor performed in the songs \"Vogue\" and \"GoldenEye\" to a positive response from the audience; he described the experience as the first time that he \"felt like a star\".[10] He later became an instructor at the institute.[10] During this time, Kapoor accompanied a friend to an audition for a Pepsi commercial featuring the stars Shah Rukh Khan, Kajol and Rani Mukerji, but wound up with the part himself.[4] He appeared in television commercials for the brands Kit Kat and Close-Up, among others, and featured in music videos for several performers, including the band Aryans and the singer Kumar Sanu.[11] Kapoor also took on the job of an assistant director to his father on the 1998 television series Mohandas B.A.L.L.B.\n"
     ]
    }
   ],
   "source": [
    "with open(x,\"r\",errors=\"ignore\") as f:\n",
    "    line_number=1\n",
    "    for i in f:\n",
    "        print(\"Paragraph\",str(line_number),\":\",i)\n",
    "        line_number+=1"
   ]
  },
  {
   "cell_type": "code",
   "execution_count": 30,
   "id": "54a37a29-6df4-486c-8433-332e415758d6",
   "metadata": {},
   "outputs": [
    {
     "name": "stdout",
     "output_type": "stream",
     "text": [
      "Shahid Kapoor (pronounced [ÊƒaËÉ¦ÉªdÌª kÉ™ËˆpuËr]; born 25 February 1981) is an Indian actor who appears in Hindi films. Initially recognised for portraying romantic roles, he has since taken on parts in action films and thrillers, and is the recipient of several awards, including three Filmfare Awards.\n",
      "\n",
      "The son of actors Pankaj Kapur and Neelima Azeem, Kapoor trained as a dancer at Shiamak Davar's academy. He appeared as a background dancer in a few films of the 1990s, and featured in music videos and television commercials. He made his film debut in 2003 with a leading role in the romantic comedy Ishq Vishk, a sleeper hit for which he won the Filmfare Award for Best Male Debut. He followed it with roles in several commercial failures before starring in Sooraj Barjatya's top-grossing family drama Vivah (2006).\n",
      "\n",
      "Kapoor earned praise for playing a troubled businessman in Imtiaz Ali's romantic comedy Jab We Met (2007) and twin brothers in Vishal Bhardwaj's action film Kaminey (2009). Further acclaim came for portraying the Hamlet character in Bhardwaj's tragedy Haider (2014) and a drug abusing singer in the crime drama Udta Punjab (2016). For the former, he won the Filmfare Award for Best Actor and for the latter, he won the Filmfare Critics Award for Best Actor. Kapoor's highest-grossing releases came with the period drama Padmaavat (2018) and the romantic drama Kabir Singh (2019). He has since starred in the crime drama series Farzi (2023) and the romantic comedy Teri Baaton Mein Aisa Uljha Jiya (2024).\n",
      "\n",
      "In addition to acting, Kapoor supports charities, hosts award ceremonies, and has featured as a talent judge on the dance reality show Jhalak Dikhhla Jaa Reloaded (2015). He is married to Mira Rajput, with whom he has two children.\n",
      "\n",
      "Early life and background\n",
      "Shahid Kapoor was born in New Delhi on 25 February 1981 to actor Pankaj Kapur and actor-dancer Neelima Azeem.[1][2] On his mother's side, he is related to filmmaker Khwaja Ahmad Abbas.[3] His parents divorced when he was three years old; his father shifted to Mumbai (and married the actress Supriya Pathak) and Kapoor continued living in Delhi with his mother and maternal grandparents.[4][5] His grandparents were journalists for the Russian magazine Sputnik, and Kapoor was particularly fond of his grandfather: \"He would walk me to school every single day. He would talk to me about Dad, with whom he shared a great relationship, and read out his letters to me.\"[4] His father, who was then a struggling actor in Mumbai, would visit Kapoor only once a year on his birthday.[4] When Kapoor was 10, his mother, who was working as a dancer, moved to Mumbai to work as an actress.[4]\n",
      "\n",
      "In Mumbai, Azeem went on to marry the actor Rajesh Khattar.[5] Kapoor continued living with his mother and Khattar, until they separated in 2001.[5] Kapoor continues to use the last name Khattar on his passport.[6] He has a maternal half-brother, Ishaan, from his mother's marriage to Khattar.[5] From his father's marriage to Pathak, he has two paternal half-siblings, Sanah and Ruhaan.[7] Kapoor was educated at the Gyan Bharati School in Delhi and Rajhans Vidyalaya in Mumbai.[8] He later attended Mumbai's Mithibai College for three years.[9]\n",
      "\n",
      "Kapoor was interested in dance from an early age, and at the age of 15, he joined Shiamak Davar's dance institute.[10] As a student there, Kapoor appeared as a background dancer in the films Dil To Pagal Hai (1997) and Taal (1999), in which Davar served as choreographer.[10] During a stage show at the institute, Kapoor performed in the songs \"Vogue\" and \"GoldenEye\" to a positive response from the audience; he described the experience as the first time that he \"felt like a star\".[10] He later became an instructor at the institute.[10] During this time, Kapoor accompanied a friend to an audition for a Pepsi commercial featuring the stars Shah Rukh Khan, Kajol and Rani Mukerji, but wound up with the part himself.[4] He appeared in television commercials for the brands Kit Kat and Close-Up, among others, and featured in music videos for several performers, including the band Aryans and the singer Kumar Sanu.[11] Kapoor also took on the job of an assistant director to his father on the 1998 television series Mohandas B.A.L.L.B.\n"
     ]
    }
   ],
   "source": [
    "# file open using function\n",
    "\n",
    "# def and return , print()\n",
    "\n",
    "def file(x):\n",
    "    file_name = x\n",
    "    file = open(file_name, 'r', errors='ignore')\n",
    "    content2=file.read()\n",
    "    print(content)\n",
    "\n",
    "file('C:\\\\Users\\\\Admin\\\\Downloads\\\\sahid_kapoor.txt')"
   ]
  },
  {
   "cell_type": "code",
   "execution_count": 32,
   "id": "56dac7f5-469d-45bc-9ac1-826b1f859576",
   "metadata": {},
   "outputs": [
    {
     "name": "stdout",
     "output_type": "stream",
     "text": [
      "Shahid Kapoor (pronounced [ÊƒaËÉ¦ÉªdÌª kÉ™ËˆpuËr]; born 25 February 1981) is an Indian actor who appears in Hindi films. Initially recognised for portraying romantic roles, he has since taken on parts in action films and thrillers, and is the recipient of several awards, including three Filmfare Awards.\n",
      "\n",
      "The son of actors Pankaj Kapur and Neelima Azeem, Kapoor trained as a dancer at Shiamak Davar's academy. He appeared as a background dancer in a few films of the 1990s, and featured in music videos and television commercials. He made his film debut in 2003 with a leading role in the romantic comedy Ishq Vishk, a sleeper hit for which he won the Filmfare Award for Best Male Debut. He followed it with roles in several commercial failures before starring in Sooraj Barjatya's top-grossing family drama Vivah (2006).\n",
      "\n",
      "Kapoor earned praise for playing a troubled businessman in Imtiaz Ali's romantic comedy Jab We Met (2007) and twin brothers in Vishal Bhardwaj's action film Kaminey (2009). Further acclaim came for portraying the Hamlet character in Bhardwaj's tragedy Haider (2014) and a drug abusing singer in the crime drama Udta Punjab (2016). For the former, he won the Filmfare Award for Best Actor and for the latter, he won the Filmfare Critics Award for Best Actor. Kapoor's highest-grossing releases came with the period drama Padmaavat (2018) and the romantic drama Kabir Singh (2019). He has since starred in the crime drama series Farzi (2023) and the romantic comedy Teri Baaton Mein Aisa Uljha Jiya (2024).\n",
      "\n",
      "In addition to acting, Kapoor supports charities, hosts award ceremonies, and has featured as a talent judge on the dance reality show Jhalak Dikhhla Jaa Reloaded (2015). He is married to Mira Rajput, with whom he has two children.\n",
      "\n",
      "Early life and background\n",
      "Shahid Kapoor was born in New Delhi on 25 February 1981 to actor Pankaj Kapur and actor-dancer Neelima Azeem.[1][2] On his mother's side, he is related to filmmaker Khwaja Ahmad Abbas.[3] His parents divorced when he was three years old; his father shifted to Mumbai (and married the actress Supriya Pathak) and Kapoor continued living in Delhi with his mother and maternal grandparents.[4][5] His grandparents were journalists for the Russian magazine Sputnik, and Kapoor was particularly fond of his grandfather: \"He would walk me to school every single day. He would talk to me about Dad, with whom he shared a great relationship, and read out his letters to me.\"[4] His father, who was then a struggling actor in Mumbai, would visit Kapoor only once a year on his birthday.[4] When Kapoor was 10, his mother, who was working as a dancer, moved to Mumbai to work as an actress.[4]\n",
      "\n",
      "In Mumbai, Azeem went on to marry the actor Rajesh Khattar.[5] Kapoor continued living with his mother and Khattar, until they separated in 2001.[5] Kapoor continues to use the last name Khattar on his passport.[6] He has a maternal half-brother, Ishaan, from his mother's marriage to Khattar.[5] From his father's marriage to Pathak, he has two paternal half-siblings, Sanah and Ruhaan.[7] Kapoor was educated at the Gyan Bharati School in Delhi and Rajhans Vidyalaya in Mumbai.[8] He later attended Mumbai's Mithibai College for three years.[9]\n",
      "\n",
      "Kapoor was interested in dance from an early age, and at the age of 15, he joined Shiamak Davar's dance institute.[10] As a student there, Kapoor appeared as a background dancer in the films Dil To Pagal Hai (1997) and Taal (1999), in which Davar served as choreographer.[10] During a stage show at the institute, Kapoor performed in the songs \"Vogue\" and \"GoldenEye\" to a positive response from the audience; he described the experience as the first time that he \"felt like a star\".[10] He later became an instructor at the institute.[10] During this time, Kapoor accompanied a friend to an audition for a Pepsi commercial featuring the stars Shah Rukh Khan, Kajol and Rani Mukerji, but wound up with the part himself.[4] He appeared in television commercials for the brands Kit Kat and Close-Up, among others, and featured in music videos for several performers, including the band Aryans and the singer Kumar Sanu.[11] Kapoor also took on the job of an assistant director to his father on the 1998 television series Mohandas B.A.L.L.B.\n"
     ]
    }
   ],
   "source": [
    "# file open with class and object.\n",
    "\n",
    "class file:\n",
    "    def __init__(self, filename):\n",
    "        self.filename=filename\n",
    "\n",
    "    def openfile(self):\n",
    "        filename=self.filename\n",
    "        file1 = open(filename,'r',errors=\"ignore\")\n",
    "        x1 = file1.read()\n",
    "        return x1\n",
    "\n",
    "obj1 =file(\"C:\\\\Users\\\\Admin\\\\Downloads\\\\sahid_kapoor.txt\")\n",
    "print(obj1.openfile())"
   ]
  },
  {
   "cell_type": "code",
   "execution_count": 38,
   "id": "906801da-34ef-4b0a-9ab1-26f2d0d5be41",
   "metadata": {},
   "outputs": [
    {
     "name": "stdout",
     "output_type": "stream",
     "text": [
      "Total characters of the text is:4260\n",
      "Total characters of the text without spaces is:3566\n"
     ]
    }
   ],
   "source": [
    "fname=\"C:\\\\Users\\\\Admin\\\\Downloads\\\\sahid_kapoor.txt\"\n",
    "\n",
    "with open(fname,'r',errors=\"ignore\") as f:\n",
    "    str1 = ''\n",
    "    for line in f:\n",
    "        str1+=line\n",
    "    print(f'Total characters of the text is:{len(str1)}')\n",
    "    print(f'Total characters of the text without spaces is:{len(str1.replace(\" \",''))}')"
   ]
  },
  {
   "cell_type": "code",
   "execution_count": 49,
   "id": "88fb19ea-ffa9-4f98-a437-11f89a92bccb",
   "metadata": {},
   "outputs": [
    {
     "name": "stdout",
     "output_type": "stream",
     "text": [
      "Shahid Kapoor (pronounced [ÊƒaËÉ¦ÉªdÌª kÉ™ËˆpuËr]; born 25 February 1981) is an Indian actor who appears in Hindi films. Initially recognised for portraying romantic roles, he has since taken on parts in action films and thrillers, and is the recipient of several awards, including three Filmfare Awards.\n",
      "\n",
      "The son of actors Pankaj Kapur and Neelima Azeem, Kapoor trained as a dancer at Shiamak Davar's academy. He appeared as a background dancer in a few films of the 1990s, and featured in music videos and television commercials. He made his film debut in 2003 with a leading role in the romantic comedy Ishq Vishk, a sleeper hit for which he won the Filmfare Award for Best Male Debut. He followed it with roles in several commercial failures before starring in Sooraj Barjatya's top-grossing family drama Vivah (2006).\n",
      "\n",
      "Kapoor earned praise for playing a troubled businessman in Imtiaz Ali's romantic comedy Jab We Met (2007) and twin brothers in Vishal Bhardwaj's action film Kaminey (2009). Further acclaim came for portraying the Hamlet character in Bhardwaj's tragedy Haider (2014) and a drug abusing singer in the crime drama Udta Punjab (2016). For the former, he won the Filmfare Award for Best Actor and for the latter, he won the Filmfare Critics Award for Best Actor. Kapoor's highest-grossing releases came with the period drama Padmaavat (2018) and the romantic drama Kabir Singh (2019). He has since starred in the crime drama series Farzi (2023) and the romantic comedy Teri Baaton Mein Aisa Uljha Jiya (2024).\n",
      "\n",
      "In addition to acting, Kapoor supports charities, hosts award ceremonies, and has featured as a talent judge on the dance reality show Jhalak Dikhhla Jaa Reloaded (2015). He is married to Mira Rajput, with whom he has two children.\n",
      "\n",
      "Early life and background\n",
      "Shahid Kapoor was born in New Delhi on 25 February 1981 to actor Pankaj Kapur and actor-dancer Neelima Azeem.[1][2] On his mother's side, he is related to filmmaker Khwaja Ahmad Abbas.[3] His parents divorced when he was three years old; his father shifted to Mumbai (and married the actress Supriya Pathak) and Kapoor continued living in Delhi with his mother and maternal grandparents.[4][5] His grandparents were journalists for the Russian magazine Sputnik, and Kapoor was particularly fond of his grandfather: \"He would walk me to school every single day. He would talk to me about Dad, with whom he shared a great relationship, and read out his letters to me.\"[4] His father, who was then a struggling actor in Mumbai, would visit Kapoor only once a year on his birthday.[4] When Kapoor was 10, his mother, who was working as a dancer, moved to Mumbai to work as an actress.[4]\n",
      "\n",
      "In Mumbai, Azeem went on to marry the actor Rajesh Khattar.[5] Kapoor continued living with his mother and Khattar, until they separated in 2001.[5] Kapoor continues to use the last name Khattar on his passport.[6] He has a maternal half-brother, Ishaan, from his mother's marriage to Khattar.[5] From his father's marriage to Pathak, he has two paternal half-siblings, Sanah and Ruhaan.[7] Kapoor was educated at the Gyan Bharati School in Delhi and Rajhans Vidyalaya in Mumbai.[8] He later attended Mumbai's Mithibai College for three years.[9]\n",
      "\n",
      "Kapoor was interested in dance from an early age, and at the age of 15, he joined Shiamak Davar's dance institute.[10] As a student there, Kapoor appeared as a background dancer in the films Dil To Pagal Hai (1997) and Taal (1999), in which Davar served as choreographer.[10] During a stage show at the institute, Kapoor performed in the songs \"Vogue\" and \"GoldenEye\" to a positive response from the audience; he described the experience as the first time that he \"felt like a star\".[10] He later became an instructor at the institute.[10] During this time, Kapoor accompanied a friend to an audition for a Pepsi commercial featuring the stars Shah Rukh Khan, Kajol and Rani Mukerji, but wound up with the part himself.[4] He appeared in television commercials for the brands Kit Kat and Close-Up, among others, and featured in music videos for several performers, including the band Aryans and the singer Kumar Sanu.[11] Kapoor also took on the job of an assistant director to his father on the 1998 television series Mohandas B.A.L.L.B.\n"
     ]
    }
   ],
   "source": [
    "try:\n",
    "    file_name1 = \"sahid_kapoor.txt\"\n",
    "    file = open(file_name1,'r',errors='ignore')\n",
    "    content4 = file.read()\n",
    "    print(content4)\n",
    "\n",
    "except FileNotFoundError:\n",
    "    print(\"Invalid File Name\")\n",
    "\n",
    "except:\n",
    "    print('Invalid syntax')"
   ]
  },
  {
   "cell_type": "code",
   "execution_count": 50,
   "id": "2ca41a66-f744-411e-8774-99c9485c4045",
   "metadata": {},
   "outputs": [],
   "source": [
    "# file open excel\n",
    "\n",
    "import pandas as pd"
   ]
  },
  {
   "cell_type": "code",
   "execution_count": 51,
   "id": "40f98933-f5b4-485f-878a-9e89b67ce314",
   "metadata": {},
   "outputs": [
    {
     "name": "stdout",
     "output_type": "stream",
     "text": [
      "    id                         name  fk_country\n",
      "0   41                  West Bengal         NaN\n",
      "1   39                  Uttarakhand         NaN\n",
      "2   38                Uttar Pradesh         NaN\n",
      "3   37                      Tripura         NaN\n",
      "4   36                    Telangana         NaN\n",
      "5   35                   Tamil Nadu         NaN\n",
      "6   34                       Sikkim         NaN\n",
      "7   33                    Rajasthan         NaN\n",
      "8   32                       Punjab         NaN\n",
      "9   31                  Pondicherry         NaN\n",
      "10  29                       Odisha         NaN\n",
      "11  26                     Nagaland         NaN\n",
      "12  25                      Mizoram         NaN\n",
      "13  24                    Meghalaya         NaN\n",
      "14  23                      Manipur         NaN\n",
      "15  22                  Maharashtra         NaN\n",
      "16  21               Madhya Pradesh         NaN\n",
      "17  20                  Lakshadweep         NaN\n",
      "18  19                       Kerala         NaN\n",
      "19  17                    Karnataka         NaN\n",
      "20  16                    Jharkhand         NaN\n",
      "21  15            Jammu and Kashmir         NaN\n",
      "22  14             Himachal Pradesh         NaN\n",
      "23  13                      Haryana         NaN\n",
      "24  12                      Gujarat         NaN\n",
      "25  11                          Goa         NaN\n",
      "26  10                        Delhi         NaN\n",
      "27   9                Daman and Diu         NaN\n",
      "28   8       Dadra and Nagar Haveli         NaN\n",
      "29   7                 Chhattisgarh         NaN\n",
      "30   6                   Chandigarh         NaN\n",
      "31   5                        Bihar         NaN\n",
      "32   4                        Assam         NaN\n",
      "33   3            Arunachal Pradesh         NaN\n",
      "34   2               Andhra Pradesh         NaN\n",
      "35   1  Andaman and Nicobar Islands         NaN\n"
     ]
    }
   ],
   "source": [
    "file1 = pd.read_csv(r'C:\\\\Users\\\\Admin\\\\Downloads\\\\StateMaster-2024-06-21.csv')\n",
    "print(file1)"
   ]
  },
  {
   "cell_type": "code",
   "execution_count": 54,
   "id": "54941ee2-36ed-4553-afb4-8fc45b5cab89",
   "metadata": {},
   "outputs": [
    {
     "data": {
      "text/html": [
       "<div>\n",
       "<style scoped>\n",
       "    .dataframe tbody tr th:only-of-type {\n",
       "        vertical-align: middle;\n",
       "    }\n",
       "\n",
       "    .dataframe tbody tr th {\n",
       "        vertical-align: top;\n",
       "    }\n",
       "\n",
       "    .dataframe thead th {\n",
       "        text-align: right;\n",
       "    }\n",
       "</style>\n",
       "<table border=\"1\" class=\"dataframe\">\n",
       "  <thead>\n",
       "    <tr style=\"text-align: right;\">\n",
       "      <th></th>\n",
       "      <th>id</th>\n",
       "      <th>name</th>\n",
       "      <th>fk_country</th>\n",
       "    </tr>\n",
       "  </thead>\n",
       "  <tbody>\n",
       "    <tr>\n",
       "      <th>0</th>\n",
       "      <td>41</td>\n",
       "      <td>West Bengal</td>\n",
       "      <td>NaN</td>\n",
       "    </tr>\n",
       "    <tr>\n",
       "      <th>1</th>\n",
       "      <td>39</td>\n",
       "      <td>Uttarakhand</td>\n",
       "      <td>NaN</td>\n",
       "    </tr>\n",
       "    <tr>\n",
       "      <th>2</th>\n",
       "      <td>38</td>\n",
       "      <td>Uttar Pradesh</td>\n",
       "      <td>NaN</td>\n",
       "    </tr>\n",
       "    <tr>\n",
       "      <th>3</th>\n",
       "      <td>37</td>\n",
       "      <td>Tripura</td>\n",
       "      <td>NaN</td>\n",
       "    </tr>\n",
       "    <tr>\n",
       "      <th>4</th>\n",
       "      <td>36</td>\n",
       "      <td>Telangana</td>\n",
       "      <td>NaN</td>\n",
       "    </tr>\n",
       "    <tr>\n",
       "      <th>5</th>\n",
       "      <td>35</td>\n",
       "      <td>Tamil Nadu</td>\n",
       "      <td>NaN</td>\n",
       "    </tr>\n",
       "    <tr>\n",
       "      <th>6</th>\n",
       "      <td>34</td>\n",
       "      <td>Sikkim</td>\n",
       "      <td>NaN</td>\n",
       "    </tr>\n",
       "    <tr>\n",
       "      <th>7</th>\n",
       "      <td>33</td>\n",
       "      <td>Rajasthan</td>\n",
       "      <td>NaN</td>\n",
       "    </tr>\n",
       "    <tr>\n",
       "      <th>8</th>\n",
       "      <td>32</td>\n",
       "      <td>Punjab</td>\n",
       "      <td>NaN</td>\n",
       "    </tr>\n",
       "    <tr>\n",
       "      <th>9</th>\n",
       "      <td>31</td>\n",
       "      <td>Pondicherry</td>\n",
       "      <td>NaN</td>\n",
       "    </tr>\n",
       "    <tr>\n",
       "      <th>10</th>\n",
       "      <td>29</td>\n",
       "      <td>Odisha</td>\n",
       "      <td>NaN</td>\n",
       "    </tr>\n",
       "    <tr>\n",
       "      <th>11</th>\n",
       "      <td>26</td>\n",
       "      <td>Nagaland</td>\n",
       "      <td>NaN</td>\n",
       "    </tr>\n",
       "    <tr>\n",
       "      <th>12</th>\n",
       "      <td>25</td>\n",
       "      <td>Mizoram</td>\n",
       "      <td>NaN</td>\n",
       "    </tr>\n",
       "    <tr>\n",
       "      <th>13</th>\n",
       "      <td>24</td>\n",
       "      <td>Meghalaya</td>\n",
       "      <td>NaN</td>\n",
       "    </tr>\n",
       "    <tr>\n",
       "      <th>14</th>\n",
       "      <td>23</td>\n",
       "      <td>Manipur</td>\n",
       "      <td>NaN</td>\n",
       "    </tr>\n",
       "    <tr>\n",
       "      <th>15</th>\n",
       "      <td>22</td>\n",
       "      <td>Maharashtra</td>\n",
       "      <td>NaN</td>\n",
       "    </tr>\n",
       "    <tr>\n",
       "      <th>16</th>\n",
       "      <td>21</td>\n",
       "      <td>Madhya Pradesh</td>\n",
       "      <td>NaN</td>\n",
       "    </tr>\n",
       "    <tr>\n",
       "      <th>17</th>\n",
       "      <td>20</td>\n",
       "      <td>Lakshadweep</td>\n",
       "      <td>NaN</td>\n",
       "    </tr>\n",
       "    <tr>\n",
       "      <th>18</th>\n",
       "      <td>19</td>\n",
       "      <td>Kerala</td>\n",
       "      <td>NaN</td>\n",
       "    </tr>\n",
       "    <tr>\n",
       "      <th>19</th>\n",
       "      <td>17</td>\n",
       "      <td>Karnataka</td>\n",
       "      <td>NaN</td>\n",
       "    </tr>\n",
       "    <tr>\n",
       "      <th>20</th>\n",
       "      <td>16</td>\n",
       "      <td>Jharkhand</td>\n",
       "      <td>NaN</td>\n",
       "    </tr>\n",
       "    <tr>\n",
       "      <th>21</th>\n",
       "      <td>15</td>\n",
       "      <td>Jammu and Kashmir</td>\n",
       "      <td>NaN</td>\n",
       "    </tr>\n",
       "    <tr>\n",
       "      <th>22</th>\n",
       "      <td>14</td>\n",
       "      <td>Himachal Pradesh</td>\n",
       "      <td>NaN</td>\n",
       "    </tr>\n",
       "    <tr>\n",
       "      <th>23</th>\n",
       "      <td>13</td>\n",
       "      <td>Haryana</td>\n",
       "      <td>NaN</td>\n",
       "    </tr>\n",
       "    <tr>\n",
       "      <th>24</th>\n",
       "      <td>12</td>\n",
       "      <td>Gujarat</td>\n",
       "      <td>NaN</td>\n",
       "    </tr>\n",
       "    <tr>\n",
       "      <th>25</th>\n",
       "      <td>11</td>\n",
       "      <td>Goa</td>\n",
       "      <td>NaN</td>\n",
       "    </tr>\n",
       "    <tr>\n",
       "      <th>26</th>\n",
       "      <td>10</td>\n",
       "      <td>Delhi</td>\n",
       "      <td>NaN</td>\n",
       "    </tr>\n",
       "    <tr>\n",
       "      <th>27</th>\n",
       "      <td>9</td>\n",
       "      <td>Daman and Diu</td>\n",
       "      <td>NaN</td>\n",
       "    </tr>\n",
       "    <tr>\n",
       "      <th>28</th>\n",
       "      <td>8</td>\n",
       "      <td>Dadra and Nagar Haveli</td>\n",
       "      <td>NaN</td>\n",
       "    </tr>\n",
       "    <tr>\n",
       "      <th>29</th>\n",
       "      <td>7</td>\n",
       "      <td>Chhattisgarh</td>\n",
       "      <td>NaN</td>\n",
       "    </tr>\n",
       "    <tr>\n",
       "      <th>30</th>\n",
       "      <td>6</td>\n",
       "      <td>Chandigarh</td>\n",
       "      <td>NaN</td>\n",
       "    </tr>\n",
       "    <tr>\n",
       "      <th>31</th>\n",
       "      <td>5</td>\n",
       "      <td>Bihar</td>\n",
       "      <td>NaN</td>\n",
       "    </tr>\n",
       "    <tr>\n",
       "      <th>32</th>\n",
       "      <td>4</td>\n",
       "      <td>Assam</td>\n",
       "      <td>NaN</td>\n",
       "    </tr>\n",
       "    <tr>\n",
       "      <th>33</th>\n",
       "      <td>3</td>\n",
       "      <td>Arunachal Pradesh</td>\n",
       "      <td>NaN</td>\n",
       "    </tr>\n",
       "    <tr>\n",
       "      <th>34</th>\n",
       "      <td>2</td>\n",
       "      <td>Andhra Pradesh</td>\n",
       "      <td>NaN</td>\n",
       "    </tr>\n",
       "    <tr>\n",
       "      <th>35</th>\n",
       "      <td>1</td>\n",
       "      <td>Andaman and Nicobar Islands</td>\n",
       "      <td>NaN</td>\n",
       "    </tr>\n",
       "  </tbody>\n",
       "</table>\n",
       "</div>"
      ],
      "text/plain": [
       "    id                         name  fk_country\n",
       "0   41                  West Bengal         NaN\n",
       "1   39                  Uttarakhand         NaN\n",
       "2   38                Uttar Pradesh         NaN\n",
       "3   37                      Tripura         NaN\n",
       "4   36                    Telangana         NaN\n",
       "5   35                   Tamil Nadu         NaN\n",
       "6   34                       Sikkim         NaN\n",
       "7   33                    Rajasthan         NaN\n",
       "8   32                       Punjab         NaN\n",
       "9   31                  Pondicherry         NaN\n",
       "10  29                       Odisha         NaN\n",
       "11  26                     Nagaland         NaN\n",
       "12  25                      Mizoram         NaN\n",
       "13  24                    Meghalaya         NaN\n",
       "14  23                      Manipur         NaN\n",
       "15  22                  Maharashtra         NaN\n",
       "16  21               Madhya Pradesh         NaN\n",
       "17  20                  Lakshadweep         NaN\n",
       "18  19                       Kerala         NaN\n",
       "19  17                    Karnataka         NaN\n",
       "20  16                    Jharkhand         NaN\n",
       "21  15            Jammu and Kashmir         NaN\n",
       "22  14             Himachal Pradesh         NaN\n",
       "23  13                      Haryana         NaN\n",
       "24  12                      Gujarat         NaN\n",
       "25  11                          Goa         NaN\n",
       "26  10                        Delhi         NaN\n",
       "27   9                Daman and Diu         NaN\n",
       "28   8       Dadra and Nagar Haveli         NaN\n",
       "29   7                 Chhattisgarh         NaN\n",
       "30   6                   Chandigarh         NaN\n",
       "31   5                        Bihar         NaN\n",
       "32   4                        Assam         NaN\n",
       "33   3            Arunachal Pradesh         NaN\n",
       "34   2               Andhra Pradesh         NaN\n",
       "35   1  Andaman and Nicobar Islands         NaN"
      ]
     },
     "execution_count": 54,
     "metadata": {},
     "output_type": "execute_result"
    }
   ],
   "source": [
    "df1 = pd.DataFrame(file1)\n",
    "df1"
   ]
  },
  {
   "cell_type": "code",
   "execution_count": 55,
   "id": "74b7d838-98de-431f-a484-1934139156da",
   "metadata": {},
   "outputs": [
    {
     "ename": "ModuleNotFoundError",
     "evalue": "No module named 'pypdf2'",
     "output_type": "error",
     "traceback": [
      "\u001b[1;31m---------------------------------------------------------------------------\u001b[0m",
      "\u001b[1;31mModuleNotFoundError\u001b[0m                       Traceback (most recent call last)",
      "Cell \u001b[1;32mIn[55], line 1\u001b[0m\n\u001b[1;32m----> 1\u001b[0m \u001b[38;5;28;01mimport\u001b[39;00m \u001b[38;5;21;01mpypdf2\u001b[39;00m\n",
      "\u001b[1;31mModuleNotFoundError\u001b[0m: No module named 'pypdf2'"
     ]
    }
   ],
   "source": [
    "import pypdf2"
   ]
  },
  {
   "cell_type": "code",
   "execution_count": 57,
   "id": "05fa6cba-bed0-44a7-8a35-1e065e7ae73d",
   "metadata": {},
   "outputs": [
    {
     "data": {
      "text/plain": [
       "'3.0.1'"
      ]
     },
     "execution_count": 57,
     "metadata": {},
     "output_type": "execute_result"
    }
   ],
   "source": [
    "import PyPDF2\n",
    "PyPDF2.__version__"
   ]
  },
  {
   "cell_type": "code",
   "execution_count": 61,
   "id": "e99f14d2-3def-4870-bad6-f8d673819751",
   "metadata": {},
   "outputs": [
    {
     "ename": "DeprecationError",
     "evalue": "PdfFileReader is deprecated and was removed in PyPDF2 3.0.0. Use PdfReader instead.",
     "output_type": "error",
     "traceback": [
      "\u001b[1;31m---------------------------------------------------------------------------\u001b[0m",
      "\u001b[1;31mDeprecationError\u001b[0m                          Traceback (most recent call last)",
      "Cell \u001b[1;32mIn[61], line 4\u001b[0m\n\u001b[0;32m      1\u001b[0m \u001b[38;5;28;01mimport\u001b[39;00m \u001b[38;5;21;01mPyPDF2\u001b[39;00m \u001b[38;5;28;01mas\u001b[39;00m \u001b[38;5;21;01mpdf2\u001b[39;00m\n\u001b[0;32m      3\u001b[0m \u001b[38;5;28;01mwith\u001b[39;00m \u001b[38;5;28mopen\u001b[39m (\u001b[38;5;124m\"\u001b[39m\u001b[38;5;124mC:\u001b[39m\u001b[38;5;130;01m\\\\\u001b[39;00m\u001b[38;5;124mUsers\u001b[39m\u001b[38;5;130;01m\\\\\u001b[39;00m\u001b[38;5;124mAdmin\u001b[39m\u001b[38;5;130;01m\\\\\u001b[39;00m\u001b[38;5;124mDownloads\u001b[39m\u001b[38;5;130;01m\\\\\u001b[39;00m\u001b[38;5;124mSample.pdf\u001b[39m\u001b[38;5;124m\"\u001b[39m, \u001b[38;5;124m\"\u001b[39m\u001b[38;5;124mrb\u001b[39m\u001b[38;5;124m\"\u001b[39m) \u001b[38;5;28;01mas\u001b[39;00m f:\n\u001b[1;32m----> 4\u001b[0m    pdf \u001b[38;5;241m=\u001b[39m \u001b[43mpdf2\u001b[49m\u001b[38;5;241;43m.\u001b[39;49m\u001b[43mPdfFileReader\u001b[49m\u001b[43m(\u001b[49m\u001b[43mf\u001b[49m\u001b[43m)\u001b[49m\n",
      "File \u001b[1;32mC:\\Python312\\Lib\\site-packages\\PyPDF2\\_reader.py:1974\u001b[0m, in \u001b[0;36mPdfFileReader.__init__\u001b[1;34m(self, *args, **kwargs)\u001b[0m\n\u001b[0;32m   1973\u001b[0m \u001b[38;5;28;01mdef\u001b[39;00m \u001b[38;5;21m__init__\u001b[39m(\u001b[38;5;28mself\u001b[39m, \u001b[38;5;241m*\u001b[39margs: Any, \u001b[38;5;241m*\u001b[39m\u001b[38;5;241m*\u001b[39mkwargs: Any) \u001b[38;5;241m-\u001b[39m\u001b[38;5;241m>\u001b[39m \u001b[38;5;28;01mNone\u001b[39;00m:\n\u001b[1;32m-> 1974\u001b[0m     \u001b[43mdeprecation_with_replacement\u001b[49m\u001b[43m(\u001b[49m\u001b[38;5;124;43m\"\u001b[39;49m\u001b[38;5;124;43mPdfFileReader\u001b[39;49m\u001b[38;5;124;43m\"\u001b[39;49m\u001b[43m,\u001b[49m\u001b[43m \u001b[49m\u001b[38;5;124;43m\"\u001b[39;49m\u001b[38;5;124;43mPdfReader\u001b[39;49m\u001b[38;5;124;43m\"\u001b[39;49m\u001b[43m,\u001b[49m\u001b[43m \u001b[49m\u001b[38;5;124;43m\"\u001b[39;49m\u001b[38;5;124;43m3.0.0\u001b[39;49m\u001b[38;5;124;43m\"\u001b[39;49m\u001b[43m)\u001b[49m\n\u001b[0;32m   1975\u001b[0m     \u001b[38;5;28;01mif\u001b[39;00m \u001b[38;5;124m\"\u001b[39m\u001b[38;5;124mstrict\u001b[39m\u001b[38;5;124m\"\u001b[39m \u001b[38;5;129;01mnot\u001b[39;00m \u001b[38;5;129;01min\u001b[39;00m kwargs \u001b[38;5;129;01mand\u001b[39;00m \u001b[38;5;28mlen\u001b[39m(args) \u001b[38;5;241m<\u001b[39m \u001b[38;5;241m2\u001b[39m:\n\u001b[0;32m   1976\u001b[0m         kwargs[\u001b[38;5;124m\"\u001b[39m\u001b[38;5;124mstrict\u001b[39m\u001b[38;5;124m\"\u001b[39m] \u001b[38;5;241m=\u001b[39m \u001b[38;5;28;01mTrue\u001b[39;00m  \u001b[38;5;66;03m# maintain the default\u001b[39;00m\n",
      "File \u001b[1;32mC:\\Python312\\Lib\\site-packages\\PyPDF2\\_utils.py:369\u001b[0m, in \u001b[0;36mdeprecation_with_replacement\u001b[1;34m(old_name, new_name, removed_in)\u001b[0m\n\u001b[0;32m    363\u001b[0m \u001b[38;5;28;01mdef\u001b[39;00m \u001b[38;5;21mdeprecation_with_replacement\u001b[39m(\n\u001b[0;32m    364\u001b[0m     old_name: \u001b[38;5;28mstr\u001b[39m, new_name: \u001b[38;5;28mstr\u001b[39m, removed_in: \u001b[38;5;28mstr\u001b[39m \u001b[38;5;241m=\u001b[39m \u001b[38;5;124m\"\u001b[39m\u001b[38;5;124m3.0.0\u001b[39m\u001b[38;5;124m\"\u001b[39m\n\u001b[0;32m    365\u001b[0m ) \u001b[38;5;241m-\u001b[39m\u001b[38;5;241m>\u001b[39m \u001b[38;5;28;01mNone\u001b[39;00m:\n\u001b[0;32m    366\u001b[0m \u001b[38;5;250m    \u001b[39m\u001b[38;5;124;03m\"\"\"\u001b[39;00m\n\u001b[0;32m    367\u001b[0m \u001b[38;5;124;03m    Raise an exception that a feature was already removed, but has a replacement.\u001b[39;00m\n\u001b[0;32m    368\u001b[0m \u001b[38;5;124;03m    \"\"\"\u001b[39;00m\n\u001b[1;32m--> 369\u001b[0m     \u001b[43mdeprecation\u001b[49m\u001b[43m(\u001b[49m\u001b[43mDEPR_MSG_HAPPENED\u001b[49m\u001b[38;5;241;43m.\u001b[39;49m\u001b[43mformat\u001b[49m\u001b[43m(\u001b[49m\u001b[43mold_name\u001b[49m\u001b[43m,\u001b[49m\u001b[43m \u001b[49m\u001b[43mremoved_in\u001b[49m\u001b[43m,\u001b[49m\u001b[43m \u001b[49m\u001b[43mnew_name\u001b[49m\u001b[43m)\u001b[49m\u001b[43m)\u001b[49m\n",
      "File \u001b[1;32mC:\\Python312\\Lib\\site-packages\\PyPDF2\\_utils.py:351\u001b[0m, in \u001b[0;36mdeprecation\u001b[1;34m(msg)\u001b[0m\n\u001b[0;32m    350\u001b[0m \u001b[38;5;28;01mdef\u001b[39;00m \u001b[38;5;21mdeprecation\u001b[39m(msg: \u001b[38;5;28mstr\u001b[39m) \u001b[38;5;241m-\u001b[39m\u001b[38;5;241m>\u001b[39m \u001b[38;5;28;01mNone\u001b[39;00m:\n\u001b[1;32m--> 351\u001b[0m     \u001b[38;5;28;01mraise\u001b[39;00m DeprecationError(msg)\n",
      "\u001b[1;31mDeprecationError\u001b[0m: PdfFileReader is deprecated and was removed in PyPDF2 3.0.0. Use PdfReader instead."
     ]
    }
   ],
   "source": [
    "import PyPDF2 as pdf2\n",
    "\n",
    "with open (\"C:\\\\Users\\\\Admin\\\\Downloads\\\\Sample.pdf\", \"rb\") as f:\n",
    "   pdf = pdf2.PdfFileReader(f)"
   ]
  },
  {
   "cell_type": "code",
   "execution_count": 63,
   "id": "76f39e18-0ed6-425a-8776-fec95cf02ada",
   "metadata": {},
   "outputs": [
    {
     "name": "stdout",
     "output_type": "stream",
     "text": [
      "1\n",
      "Sample PDFThis is a simple PDF ﬁle. Fun fun fun.\n",
      "Lorem ipsum dolor sit amet, consectetuer adipiscing elit. Phasellus facilisis odio sed mi. \n",
      "Curabitur suscipit. Nullam vel nisi. Etiam semper ipsum ut lectus. Proin aliquam, erat eget \n",
      "pharetra commodo, eros mi condimentum quam, sed commodo justo quam ut velit. \n",
      "Integer a erat. Cras laoreet ligula cursus enim. Aenean scelerisque velit et tellus. \n",
      "Vestibulum dictum aliquet sem. Nulla facilisi. Vestibulum accumsan ante vitae elit. Nulla \n",
      "erat dolor, blandit in, rutrum quis, semper pulvinar, enim. Nullam varius congue risus. \n",
      "Vivamus sollicitudin, metus ut interdum eleifend, nisi tellus pellentesque elit, tristique \n",
      "accumsan eros quam et risus. Suspendisse libero odio, mattis sit amet, aliquet eget, \n",
      "hendrerit vel, nulla. Sed vitae augue. Aliquam erat volutpat. Aliquam feugiat vulputate nisl. \n",
      "Suspendisse quis nulla pretium ante pretium mollis. Proin velit ligula, sagittis at, egestas a, \n",
      "pulvinar quis, nisl.\n",
      "Pellentesque sit amet lectus. Praesent pulvinar, nunc quis iaculis sagittis, justo quam \n",
      "lobortis tortor, sed vestibulum dui metus venenatis est. Nunc cursus ligula. Nulla facilisi. \n",
      "Phasellus ullamcorper consectetuer ante. Duis tincidunt, urna id condimentum luctus, nibh \n",
      "ante vulputate sapien, id sagittis massa orci ut enim. Pellentesque vestibulum convallis \n",
      "sem. Nulla consequat quam ut nisl. Nullam est. Curabitur tincidunt dapibus lorem. Proin \n",
      "velit turpis, scelerisque sit amet, iaculis nec, rhoncus ac, ipsum. Phasellus lorem arcu, \n",
      "feugiat eu, gravida eu, consequat molestie, ipsum. Nullam vel est ut ipsum volutpat \n",
      "feugiat. Aenean pellentesque.\n",
      "In mauris. Pellentesque dui nisi, iaculis eu, rhoncus in, venenatis ac, ante. Ut odio justo, \n",
      "scelerisque vel, facilisis non, commodo a, pede. Cras nec massa sit amet tortor volutpat \n",
      "varius. Donec lacinia, neque a luctus aliquet, pede massa imperdiet ante, at varius lorem \n",
      "pede sed sapien. Fusce erat nibh, aliquet in, eleifend eget, commodo eget, erat. Fusce \n",
      "consectetuer. Cras risus tortor, porttitor nec, tristique sed, convallis semper, eros. Fusce \n",
      "vulputate ipsum a mauris. Phasellus mollis. Curabitur sed urna. Aliquam nec sapien non \n",
      "nibh pulvinar convallis. Vivamus facilisis augue quis quam. Proin cursus aliquet metus. \n",
      "Suspendisse lacinia. Nulla at tellus ac turpis eleifend scelerisque. Maecenas a pede vitae \n",
      "enim commodo interdum. Donec odio. Sed sollicitudin dui vitae justo.\n",
      "Morbi elit nunc, facilisis a, mollis a, molestie at, lectus. Suspendisse eget mauris eu tellus \n",
      "molestie cursus. Duis ut magna at justo dignissim condimentum. Cum sociis natoque \n",
      "penatibus et magnis dis parturient montes, nascetur ridiculus mus. Vivamus varius. Ut sit \n",
      "amet diam suscipit mauris ornare aliquam. Sed varius. Duis arcu. Etiam tristique massa \n",
      "eget dui. Phasellus congue. Aenean est erat, tincidunt eget, venenatis quis, commodo at, \n",
      "quam.\n"
     ]
    }
   ],
   "source": [
    "# importing required classes\n",
    "from pypdf import PdfReader\n",
    "\n",
    "# creating a pdf reader object\n",
    "reader = PdfReader('C:\\\\Users\\\\Admin\\\\Downloads\\\\Sample.pdf')\n",
    "\n",
    "# printing number of pages in pdf file\n",
    "print(len(reader.pages))\n",
    "\n",
    "# creating a page object\n",
    "page = reader.pages[0]\n",
    "\n",
    "# extracting text from page\n",
    "print(page.extract_text())"
   ]
  },
  {
   "cell_type": "code",
   "execution_count": 68,
   "id": "c061023a-26e3-43ac-a083-ebd4b034f0c3",
   "metadata": {},
   "outputs": [
    {
     "name": "stdout",
     "output_type": "stream",
     "text": [
      "2\n",
      "The first book explains Noddy's origins. He is made by a woodcarver in a toy shop but runs away \n",
      "after the man begins to make a wooden lion, which scares Noddy. As he wanders through the woods \n",
      "naked, penniless, and homeless, he meets Big Ears, a friendly brownie. Big Ears decides that Noddy is \n",
      "a toy and takes him to live in Toyland. He generously provides Noddy with a set of clothing and a \n",
      "house. While Noddy is quite happy to be a toy, the citizens of Toyland are not sure that he actually is \n",
      "one. They put Noddy on trial and examine whether he is a toy or an ornament. Eventually, Noddy is \n",
      "declared a toy, but still has to convince the court that he is a good toy. The judge accepts that Noddy \n",
      "is good after a doll tells the court that he saved her little girl from a lion, and he is allowed to stay in \n",
      "Toyland. Noddy gets his car in the second book. It is given to him after he helps solve a local mystery. \n",
      " \n",
      "The other toys can hear him coming by the distinctive \"Parp Parp\" sound of his car's horn and the \n",
      "jingle of the bell on his blue hat. Often he uses his car to visit all of the places in Toyland. When his \n",
      "taxi business is not doing so well, or when he needs help, Noddy turns to Big Ears. Big Ears will often \n",
      "lend him what he needs. On occasion, Noddy will allow people to make his head nod, in exchange \n",
      "for small items such as his morning milk. \n",
      " \n",
      "Noddy is kind and honest, but he often gets into trouble, either through his own misunderstandings \n",
      "or because someone, usually one of the naughty goblins Sly or Gobbo, has played a trick on him. He \n",
      "is very childlike in his understanding of the world and often becomes confused as a result. For \n",
      "example, in the first Noddy book, Noddy and Big Ears are building Noddy's house for one. Noddy \n",
      "suggests that they build the roof first, in case it rains. With no understanding of gravity or of the \n",
      "need for roof supports, this is perfectly logical to him. (In fact, this is not so silly. Some multi-story \n",
      "buildings start with the roof, which is then raised on hydraulic jacks, and the story beneath is built, \n",
      "and then the roof is raised again, and so on. This is the Upbrella method.) As the series continues, \n",
      "Noddy becomes wiser but without losing his charm and lovable naivety. \n",
      " \n",
      "Noddy's best friends are Big Ears, Tessie Bear, Bumpy Dog, and the Tubby Bears. Big Ears, who \n",
      "brought Noddy to Toyland, is the most important figure in his life. Whenever he faces serious peril, it \n",
      "tends to be Big Ears who comes to the rescue, one way or another, and it is invariably Big Ears to \n",
      "whom Noddy turns for support and reassurance. Big Ears is not so much a parental figure, but more \n",
      "like a guardian, or perhaps Noddy's attorney. While kind to Noddy, Big Ears has an intimidating \n",
      "presence and voice that makes him feared by goblins. He is capable of facing down wizards with his \n",
      "own spells, and is able to plead Noddy's case to Mr. Plod, the local policeman, when Noddy finds \n",
      "himself in legal peril. On rare occasions, however, Big Ears finds himself in trouble, in which case \n",
      "Noddy comes to his aid. Big Ears and Noddy have rarely quarreled seriously. Examples of such \n",
      "quarrels are when Big Ears harshly scolded the very sensitive Tessie Bear for failing to control her \n",
      "dog and when Noddy ran his car into Big Ears's clothes post and then drove away, dragging Big Ears's \n",
      "clean washing behind him. \n",
      " \n",
      "Tessie is a gentle-hearted, gold bear who often wears a bonnet with flowers and a skirt. She is young \n",
      "like Noddy, and very loving towards all of her friends and neighbours. Bumpy Dog is Tessie's pet. He \n",
      "loves to run up and \"bump\" people over. Noddy frequently gets annoyed with Bumpy but still likes \n",
      "him. Whenever Noddy threatens Bumpy, Tessie gets upset, and sometimes even begins to cry. The \n"
     ]
    }
   ],
   "source": [
    "# importing required classes\n",
    "from pypdf import PdfReader\n",
    "\n",
    "# creating a pdf reader object\n",
    "reader = PdfReader('C:\\\\Users\\\\Admin\\\\Downloads\\\\The first book explains Noddy.pdf')\n",
    "\n",
    "# printing number of pages in pdf file\n",
    "print(len(reader.pages))\n",
    "\n",
    "# creating a page object\n",
    "page = reader.pages[0]\n",
    "\n",
    "# extracting text from page\n",
    "print(page.extract_text())"
   ]
  },
  {
   "cell_type": "code",
   "execution_count": null,
   "id": "18e02d49-cbbf-4efa-9156-13aee70dd153",
   "metadata": {},
   "outputs": [],
   "source": []
  }
 ],
 "metadata": {
  "kernelspec": {
   "display_name": "Python 3 (ipykernel)",
   "language": "python",
   "name": "python3"
  },
  "language_info": {
   "codemirror_mode": {
    "name": "ipython",
    "version": 3
   },
   "file_extension": ".py",
   "mimetype": "text/x-python",
   "name": "python",
   "nbconvert_exporter": "python",
   "pygments_lexer": "ipython3",
   "version": "3.12.2"
  }
 },
 "nbformat": 4,
 "nbformat_minor": 5
}
