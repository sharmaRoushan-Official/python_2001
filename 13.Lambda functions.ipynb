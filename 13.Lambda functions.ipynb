{
 "cells": [
  {
   "cell_type": "markdown",
   "id": "1c695e3d-6cc3-4dd4-93d4-8c726581cbdd",
   "metadata": {},
   "source": [
    "# 13. Lambda Functions in python\n",
    "\n",
    " * __A Lambda function is a small anonymous functions.__\n",
    " * __A Lambda function can take any number as argument, but can only have one expressions.__\n",
    " * __The expression is evaluated and returned.__\n",
    " * __Lambda functions can be used wherever function objects are required.__\n",
    " * __Lambda Expression(or lambda fucntions) are essentially blocks of code that can be assigned to variable, passed as an arguments, or returned from a function call, In Language that support high-order functions.__\n",
    " * __The main role of the lambda fucntion is better described in the scenarios when we employ them anonymously inside another functiions.__\n",
    " * __n Python, the Lamnda function can be utilized as an arguments to the higher-order functions as an arugments.__\n",
    " * __Lambda function in Python.__\n",
    "    * __1.Syntax.__\n",
    "      * __Normal Functions__\n",
    "      * __Anonymous Functions__\n",
    "    * __2. Usages__\n",
    "      * __Lambda with filters()__\n",
    "      * __Lambda with map()__\n",
    "      * __Lambda with reduce()__\n",
    "      * __Lambda with sorted()__\n",
    "      * __Lambda with apply()__\n",
    "    * __3 Common Errors__\n",
    "      * __SyntaxError__\n",
    "      * __TypeError__"
   ]
  },
  {
   "cell_type": "code",
   "execution_count": 1,
   "id": "8a419fd5-2fb2-4d89-918c-f8ca122eeadb",
   "metadata": {},
   "outputs": [
    {
     "data": {
      "text/plain": [
       "16"
      ]
     },
     "execution_count": 1,
     "metadata": {},
     "output_type": "execute_result"
    }
   ],
   "source": [
    "def func(x):\n",
    "    return x+6\n",
    "\n",
    "func(10)"
   ]
  },
  {
   "cell_type": "code",
   "execution_count": 2,
   "id": "3f04eb6b-c02a-428b-8213-5aec57f0d0d8",
   "metadata": {},
   "outputs": [
    {
     "data": {
      "text/plain": [
       "16"
      ]
     },
     "execution_count": 2,
     "metadata": {},
     "output_type": "execute_result"
    }
   ],
   "source": [
    "# using lambda \n",
    "\n",
    "(lambda y:y+6)(10)"
   ]
  },
  {
   "cell_type": "code",
   "execution_count": 4,
   "id": "ab3c14b8-ba35-4a93-87b2-ec9dee06c878",
   "metadata": {},
   "outputs": [
    {
     "data": {
      "text/plain": [
       "8"
      ]
     },
     "execution_count": 4,
     "metadata": {},
     "output_type": "execute_result"
    }
   ],
   "source": [
    "def expo(x,y):\n",
    "    return x**y\n",
    "\n",
    "expo(2,3)"
   ]
  },
  {
   "cell_type": "code",
   "execution_count": 7,
   "id": "24f2867f-9144-45b2-b825-b878d07af297",
   "metadata": {},
   "outputs": [
    {
     "data": {
      "text/plain": [
       "8"
      ]
     },
     "execution_count": 7,
     "metadata": {},
     "output_type": "execute_result"
    }
   ],
   "source": [
    "# using lamdba \n",
    "\n",
    "trup=(lambda x1,y1:x1**y1)(2,3)\n",
    "trup"
   ]
  },
  {
   "cell_type": "code",
   "execution_count": 6,
   "id": "91546646-2f16-4415-8235-cc88ace9396a",
   "metadata": {},
   "outputs": [
    {
     "data": {
      "text/plain": [
       "16"
      ]
     },
     "execution_count": 6,
     "metadata": {},
     "output_type": "execute_result"
    }
   ],
   "source": [
    "expo(4,2)"
   ]
  },
  {
   "cell_type": "code",
   "execution_count": 8,
   "id": "7db540a2-7a10-4f03-b5bc-37ad1cfa5c55",
   "metadata": {},
   "outputs": [
    {
     "data": {
      "text/plain": [
       "8"
      ]
     },
     "execution_count": 8,
     "metadata": {},
     "output_type": "execute_result"
    }
   ],
   "source": [
    "trup"
   ]
  },
  {
   "cell_type": "code",
   "execution_count": 9,
   "id": "620a5d84-1ab1-490a-9ae3-1d7595fad42c",
   "metadata": {},
   "outputs": [
    {
     "name": "stdin",
     "output_type": "stream",
     "text": [
      "Enter first Number: 2\n",
      "Enter second Number: 4\n"
     ]
    },
    {
     "data": {
      "text/plain": [
       "16"
      ]
     },
     "execution_count": 9,
     "metadata": {},
     "output_type": "execute_result"
    }
   ],
   "source": [
    "def func1():\n",
    "    x = int(input('Enter first Number:'))\n",
    "    y = int(input('Enter second Number:'))\n",
    "    z = x**y\n",
    "    return z\n",
    "func1()"
   ]
  },
  {
   "cell_type": "code",
   "execution_count": 10,
   "id": "48e51e93-80ab-4c60-8966-915b6f7f733c",
   "metadata": {},
   "outputs": [
    {
     "name": "stdin",
     "output_type": "stream",
     "text": [
      "Enter first Number: 5\n",
      "Enter second Number: 6\n"
     ]
    },
    {
     "data": {
      "text/plain": [
       "15625"
      ]
     },
     "execution_count": 10,
     "metadata": {},
     "output_type": "execute_result"
    }
   ],
   "source": [
    "x = int(input('Enter first Number:'))\n",
    "y = int(input('Enter second Number:'))\n",
    "(lambda a,b:a**b)(x,y)"
   ]
  },
  {
   "cell_type": "code",
   "execution_count": 15,
   "id": "998391f8-d86b-4c90-9223-9c9b57c39df3",
   "metadata": {},
   "outputs": [
    {
     "name": "stdout",
     "output_type": "stream",
     "text": [
      "Even numbers is: [10, 20, 30, 50, 26, 78, 62, 102] \n",
      "Odd numbers is: [25, 79, 45, 53, 51, 1001, 103]\n"
     ]
    }
   ],
   "source": [
    "# 1. Write a Python program to count even number and odd numbers in a given array of integers using function and loop.\n",
    "# array = [10,20,30,50,25,26,78,79,45,62,53,51,1001,102,103]\n",
    "\n",
    "array = [10,20,30,50,25,26,78,79,45,62,53,51,1001,102,103]\n",
    "\n",
    "even = []\n",
    "odd = []\n",
    "\n",
    "for i in array:\n",
    "    if i%2==0:\n",
    "        even.append(i)\n",
    "        # print(i)\n",
    "    else:\n",
    "        odd.append(i)\n",
    "\n",
    "print(\"Even numbers is:\",even,'\\nOdd numbers is:',odd)"
   ]
  },
  {
   "cell_type": "code",
   "execution_count": 20,
   "id": "20e175f6-8e70-48bc-a642-c4e029317750",
   "metadata": {},
   "outputs": [
    {
     "name": "stdout",
     "output_type": "stream",
     "text": [
      "[10, 20, 30, 50, 26, 78, 62, 102]\n",
      "[25, 79, 45, 53, 51, 1001, 103]\n"
     ]
    }
   ],
   "source": [
    "array = [10,20,30,50,25,26,78,79,45,62,53,51,1001,102,103]\n",
    "\n",
    "even_num=list(filter(lambda x:(x%2==0),array))\n",
    "print(even_num)\n",
    "odd_num=list(filter(lambda y:(y%2!=0),array))\n",
    "print(odd_num)"
   ]
  },
  {
   "cell_type": "code",
   "execution_count": 24,
   "id": "2d53939d-0783-406b-a3e4-5e2dbf696020",
   "metadata": {},
   "outputs": [
    {
     "name": "stdout",
     "output_type": "stream",
     "text": [
      "['Monday', 'Friday', 'Sunday']\n"
     ]
    }
   ],
   "source": [
    "# Write a Python program to filter a given list to determine if the value in the list have length of 6 with lambda function.\n",
    "# Using for loop and \n",
    "\n",
    "weekdays = [\"Monday\",\"Tuesday\",\"Wednesday\",\"Thursday\",\"Friday\",\"Saturday\",\"Sunday\"]\n",
    "\n",
    "\n",
    "filter_data = []\n",
    "\n",
    "for i in weekdays:\n",
    "    if len(i) == 6:\n",
    "        filter_data.append(i)\n",
    "print(filter_data)"
   ]
  },
  {
   "cell_type": "code",
   "execution_count": 25,
   "id": "70c73ad1-09eb-4d91-8c70-13c81b4a22d4",
   "metadata": {},
   "outputs": [
    {
     "data": {
      "text/plain": [
       "['Monday', 'Friday', 'Sunday']"
      ]
     },
     "execution_count": 25,
     "metadata": {},
     "output_type": "execute_result"
    }
   ],
   "source": [
    "filter_list = list(filter(lambda x:len(x)==6,weekdays))\n",
    "\n",
    "filter_list"
   ]
  },
  {
   "cell_type": "code",
   "execution_count": null,
   "id": "a03d279b-1acd-408a-b741-fac309564e6e",
   "metadata": {},
   "outputs": [],
   "source": []
  }
 ],
 "metadata": {
  "kernelspec": {
   "display_name": "Python 3 (ipykernel)",
   "language": "python",
   "name": "python3"
  },
  "language_info": {
   "codemirror_mode": {
    "name": "ipython",
    "version": 3
   },
   "file_extension": ".py",
   "mimetype": "text/x-python",
   "name": "python",
   "nbconvert_exporter": "python",
   "pygments_lexer": "ipython3",
   "version": "3.12.2"
  }
 },
 "nbformat": 4,
 "nbformat_minor": 5
}
