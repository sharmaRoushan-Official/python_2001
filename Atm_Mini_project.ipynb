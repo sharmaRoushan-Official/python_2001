{
 "cells": [
  {
   "cell_type": "code",
   "execution_count": 2,
   "id": "f675f58e-0faf-4761-a7b9-90e2c212a6ff",
   "metadata": {},
   "outputs": [
    {
     "name": "stdin",
     "output_type": "stream",
     "text": [
      "Enter your name: Trupti\n",
      "Enter your account number: 123\n",
      "Enter your PIN: 1000\n"
     ]
    },
    {
     "name": "stdout",
     "output_type": "stream",
     "text": [
      "\n",
      "List of Options:\n",
      "        \n",
      "1.Account Details\n",
      "        \n",
      "2.Check Balance\n",
      "        \n",
      "3.Deposite\n",
      "        \n",
      "4.Withdraw\n",
      "        \n",
      "5.Change PIN\n",
      "        \u0006.Exit\n"
     ]
    },
    {
     "name": "stdin",
     "output_type": "stream",
     "text": [
      "\n",
      "Choose any Option. 5\n",
      "Enter your current PIN. 456\n"
     ]
    },
    {
     "name": "stdout",
     "output_type": "stream",
     "text": [
      "You have entered incorrect pin.\n"
     ]
    },
    {
     "name": "stdin",
     "output_type": "stream",
     "text": [
      "\n",
      "Choose any Option. 852\n",
      "\n",
      "Choose any Option. 1000\n",
      "\n",
      "Choose any Option. 5\n",
      "Enter your current PIN. 456\n"
     ]
    },
    {
     "name": "stdout",
     "output_type": "stream",
     "text": [
      "You have entered incorrect pin.\n"
     ]
    },
    {
     "name": "stdin",
     "output_type": "stream",
     "text": [
      "\n",
      "Choose any Option. 5\n",
      "Enter your current PIN. 1000\n",
      "Enter your new pin 7894\n"
     ]
    },
    {
     "name": "stdout",
     "output_type": "stream",
     "text": [
      "PIN has been updated.\n"
     ]
    },
    {
     "name": "stdin",
     "output_type": "stream",
     "text": [
      "\n",
      "Choose any Option. 6\n"
     ]
    },
    {
     "name": "stdout",
     "output_type": "stream",
     "text": [
      "Thank you for using this ATM.\n"
     ]
    }
   ],
   "source": [
    "# ATM\n",
    "\n",
    "class atm():\n",
    "    def __init__(self,name,acc,pin,balance=0):\n",
    "        self.name=name\n",
    "        self.acc=acc\n",
    "        self.pin=pin\n",
    "        self.balance=balance\n",
    "\n",
    "    def details_person(self):\n",
    "        print(f'\\nCustomer Name:{self.name}\\nAccount Number:{self.acc}\\nAccount PIN: ####\\nAccount Balance:{self.balance}')\n",
    "\n",
    "    def deposite(self,depo):\n",
    "        self.balance=self.balance+depo\n",
    "        print(f\"\\nCurrent Account Balance is:{self.balance}\")\n",
    "\n",
    "    def withdraw(self,witt):\n",
    "        if witt>self.balance:\n",
    "            print(f'Insufficient Balance, the amount in your account you have is :₹{self.balance}')\n",
    "        else:\n",
    "            self.balance=self.balance-witt\n",
    "            print(f'You have withdraw your amount is :₹{witt}\\nRemaining Balance is:{self.balance}')\n",
    "\n",
    "    def bal(self):\n",
    "        print(f'Available Funds in Your Account is:{self.balance}')\n",
    "\n",
    "    def pinchange(self,oldpin,newpin=0):\n",
    "        if oldpin!=self.pin:\n",
    "            print('You have entered incorrect pin.')\n",
    "        else:\n",
    "            newpin = int(input('Enter your new pin'))\n",
    "            self.pin = newpin\n",
    "            print('PIN has been updated.')\n",
    "\n",
    "    def trans(self):\n",
    "        print(\"\"\"\\nList of Options:\n",
    "        \\n1.Account Details\n",
    "        \\n2.Check Balance\n",
    "        \\n3.Deposite\n",
    "        \\n4.Withdraw\n",
    "        \\n5.Change PIN\n",
    "        \\6.Exit\"\"\")\n",
    "\n",
    "        while True:\n",
    "            try:\n",
    "                option = int(input('\\nChoose any Option.'))\n",
    "    \n",
    "            except:\n",
    "                print('Error: Choose a Correct Option.\\n')\n",
    "                continue\n",
    "            else:\n",
    "                if option ==1:\n",
    "                    atm.details_person(self)\n",
    "                elif option ==2:\n",
    "                    atm.bal(self)\n",
    "                elif option == 3:\n",
    "                    depo = int(input('Enter your amount to Deposite:'))\n",
    "                    atm.deposite(self,depo)\n",
    "                elif option == 4:\n",
    "                    witt=int(input('Enter your amount to withdraw:'))\n",
    "                    atm.withdraw(self,witt)\n",
    "                elif option ==5:\n",
    "                    oldpin = int(input('Enter your current PIN.'))\n",
    "                    atm.pinchange(self,oldpin)\n",
    "                elif option == 6:\n",
    "                    print('Thank you for using this ATM.')\n",
    "                    break\n",
    "\n",
    "\n",
    "customer_name=input('Enter your name:')\n",
    "cus_account = int(input('Enter your account number:'))\n",
    "atm_pin1 = int(input('Enter your PIN:'))\n",
    "\n",
    "obj=atm(customer_name,cus_account,atm_pin1)\n",
    "obj.trans()"
   ]
  },
  {
   "cell_type": "code",
   "execution_count": null,
   "id": "b713cfe3-02e3-47e2-b4cd-04276dddee51",
   "metadata": {},
   "outputs": [
    {
     "name": "stdin",
     "output_type": "stream",
     "text": [
      "Enter First Number to Calculate: 88\n"
     ]
    },
    {
     "name": "stdout",
     "output_type": "stream",
     "text": [
      "Select one of the five operators:\n",
      "+,-,*,/,**\n"
     ]
    },
    {
     "name": "stdin",
     "output_type": "stream",
     "text": [
      "Choose any option: -\n",
      "Enter number to perform operations with: 100\n"
     ]
    },
    {
     "name": "stdout",
     "output_type": "stream",
     "text": [
      "=-12.0\n"
     ]
    },
    {
     "name": "stdin",
     "output_type": "stream",
     "text": [
      "Do you wish to operations?(Y/N) y\n"
     ]
    },
    {
     "name": "stdout",
     "output_type": "stream",
     "text": [
      "Select one of the five operators:\n",
      "+,-,*,/,**\n"
     ]
    },
    {
     "name": "stdin",
     "output_type": "stream",
     "text": [
      "Choose any option: +\n",
      "Enter number to perform operations with: 100\n"
     ]
    },
    {
     "name": "stdout",
     "output_type": "stream",
     "text": [
      "=88.0\n"
     ]
    },
    {
     "name": "stdin",
     "output_type": "stream",
     "text": [
      "Do you wish to operations?(Y/N) n\n"
     ]
    },
    {
     "name": "stdout",
     "output_type": "stream",
     "text": [
      "Thank you for using calculator.\n"
     ]
    }
   ],
   "source": [
    "class calc():\n",
    "    def __init__(self,n2):\n",
    "        self.n2=n2\n",
    "\n",
    "    def add(self,n1):\n",
    "        self.n2+=n1\n",
    "        print(f'={self.n2}')\n",
    "    def sub(self,n1):\n",
    "        self.n2-=n1\n",
    "        print(f'={self.n2}')\n",
    "\n",
    "    def multi(self,n1):\n",
    "        self.n2*=n1\n",
    "        print(f'={self.n2}')\n",
    "\n",
    "    def div(self,n1):\n",
    "        self.n2/=n1\n",
    "        print(f'={self.n2}')\n",
    "\n",
    "    def expo(self,n1):\n",
    "        if expo<0:\n",
    "            print('Invalid Exponent Number')\n",
    "        else:\n",
    "            self.n2**=n1\n",
    "            print(f'={self.n2}')\n",
    "\n",
    "    def calculate(self):\n",
    "        while True:\n",
    "            try:\n",
    "                choice=input('Do you wish to operations?(Y/N)')\n",
    "            except:\n",
    "                print('Wrong Option,Try again!')\n",
    "                continue\n",
    "            else:\n",
    "                if choice.upper() == \"Y\":\n",
    "                    calc.option(self)\n",
    "                elif choice.upper()==\"N\":\n",
    "                    print('Thank you for using calculator.')\n",
    "                    break\n",
    "\n",
    "    def option(self):\n",
    "        print('''Select one of the five operators:\\n+,-,*,/,**''')\n",
    "        while True:\n",
    "            try:\n",
    "                opt = input('Choose any option:')\n",
    "                n1 = float(input('Enter number to perform operations with:'))\n",
    "\n",
    "            except:\n",
    "                print('Error:Enter a valid Options.\\n')\n",
    "                continue\n",
    "            else:\n",
    "                if opt == '+':\n",
    "                    calc.add(self,n1)\n",
    "                    calc.calculate(self)\n",
    "                elif opt == '-':\n",
    "                    calc.sub(self,n1)\n",
    "                    calc.calculate(self)\n",
    "                elif opt == '*':\n",
    "                    calc.multi(self,n1)\n",
    "                    calc.calculate(self)\n",
    "                elif opt == '/':\n",
    "                    calc.div(self,n1)\n",
    "                    calc.calculate(self)\n",
    "                elif opt == '**':\n",
    "                    calc.expo(self,n1)\n",
    "                    calc.calculate(self)\n",
    "\n",
    "\n",
    "n2 = float(input('Enter First Number to Calculate:'))\n",
    "val=calc(n2)\n",
    "val.option()"
   ]
  },
  {
   "cell_type": "code",
   "execution_count": null,
   "id": "ec9bf924-80d7-408e-b0b3-8b47e4336eda",
   "metadata": {},
   "outputs": [],
   "source": []
  }
 ],
 "metadata": {
  "kernelspec": {
   "display_name": "Python 3 (ipykernel)",
   "language": "python",
   "name": "python3"
  },
  "language_info": {
   "codemirror_mode": {
    "name": "ipython",
    "version": 3
   },
   "file_extension": ".py",
   "mimetype": "text/x-python",
   "name": "python",
   "nbconvert_exporter": "python",
   "pygments_lexer": "ipython3",
   "version": "3.12.2"
  }
 },
 "nbformat": 4,
 "nbformat_minor": 5
}
