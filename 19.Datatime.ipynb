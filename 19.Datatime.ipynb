{
 "cells": [
  {
   "cell_type": "code",
   "execution_count": 1,
   "id": "b78d5755-bacc-47da-8371-d0b4c385b0be",
   "metadata": {},
   "outputs": [],
   "source": [
    "import datetime"
   ]
  },
  {
   "cell_type": "code",
   "execution_count": 2,
   "id": "c027a534-7432-4a8f-8c43-cd2fe969f723",
   "metadata": {},
   "outputs": [
    {
     "name": "stdout",
     "output_type": "stream",
     "text": [
      "['MAXYEAR', 'MINYEAR', 'UTC', '__all__', '__builtins__', '__cached__', '__doc__', '__file__', '__loader__', '__name__', '__package__', '__spec__', 'date', 'datetime', 'datetime_CAPI', 'time', 'timedelta', 'timezone', 'tzinfo']\n"
     ]
    }
   ],
   "source": [
    "print(dir(datetime))"
   ]
  },
  {
   "cell_type": "code",
   "execution_count": 13,
   "id": "8a3fb6c8-1fd2-4054-bb4e-a4adaaf29b7c",
   "metadata": {},
   "outputs": [
    {
     "name": "stdout",
     "output_type": "stream",
     "text": [
      "2024-11-13 19:17:49.436952\n"
     ]
    }
   ],
   "source": [
    "from datetime import datetime\n",
    "\n",
    "now = datetime.now()\n",
    "print(now)"
   ]
  },
  {
   "cell_type": "code",
   "execution_count": 16,
   "id": "be4f5ef7-ba05-41b7-978b-b67a08bd9771",
   "metadata": {},
   "outputs": [
    {
     "data": {
      "text/plain": [
       "13"
      ]
     },
     "execution_count": 16,
     "metadata": {},
     "output_type": "execute_result"
    }
   ],
   "source": [
    "day = now.day\n",
    "day"
   ]
  },
  {
   "cell_type": "code",
   "execution_count": 17,
   "id": "8bafd0be-7bac-4361-b7b5-902cd5f64092",
   "metadata": {},
   "outputs": [
    {
     "data": {
      "text/plain": [
       "11"
      ]
     },
     "execution_count": 17,
     "metadata": {},
     "output_type": "execute_result"
    }
   ],
   "source": [
    "month = now.month\n",
    "month"
   ]
  },
  {
   "cell_type": "code",
   "execution_count": 18,
   "id": "80d6e287-35ce-4b47-9b26-066081baf759",
   "metadata": {},
   "outputs": [
    {
     "data": {
      "text/plain": [
       "2024"
      ]
     },
     "execution_count": 18,
     "metadata": {},
     "output_type": "execute_result"
    }
   ],
   "source": [
    "year = now.year\n",
    "year"
   ]
  },
  {
   "cell_type": "code",
   "execution_count": 19,
   "id": "37ad2071-7440-447a-9fc3-ab7a10a964cc",
   "metadata": {},
   "outputs": [
    {
     "data": {
      "text/plain": [
       "19"
      ]
     },
     "execution_count": 19,
     "metadata": {},
     "output_type": "execute_result"
    }
   ],
   "source": [
    "hour = now.hour\n",
    "hour"
   ]
  },
  {
   "cell_type": "code",
   "execution_count": 20,
   "id": "a2b49b1e-ab9c-4d5f-8841-d68bb6caf043",
   "metadata": {},
   "outputs": [
    {
     "data": {
      "text/plain": [
       "17"
      ]
     },
     "execution_count": 20,
     "metadata": {},
     "output_type": "execute_result"
    }
   ],
   "source": [
    "minute = now.minute\n",
    "minute"
   ]
  },
  {
   "cell_type": "code",
   "execution_count": 21,
   "id": "2a3bf06d-752e-4d21-a6fd-4ec436879917",
   "metadata": {},
   "outputs": [
    {
     "data": {
      "text/plain": [
       "49"
      ]
     },
     "execution_count": 21,
     "metadata": {},
     "output_type": "execute_result"
    }
   ],
   "source": [
    "second = now.second\n",
    "second"
   ]
  },
  {
   "cell_type": "code",
   "execution_count": 24,
   "id": "aef330aa-0404-4366-92d3-c9db3948f232",
   "metadata": {},
   "outputs": [
    {
     "data": {
      "text/plain": [
       "1731505669.436952"
      ]
     },
     "execution_count": 24,
     "metadata": {},
     "output_type": "execute_result"
    }
   ],
   "source": [
    "timestamp = now.timestamp()\n",
    "timestamp"
   ]
  },
  {
   "cell_type": "code",
   "execution_count": 23,
   "id": "b6812c39-66f6-4cf4-84d2-f50a6648df67",
   "metadata": {},
   "outputs": [
    {
     "name": "stdout",
     "output_type": "stream",
     "text": [
      "13 11 2024 19 17\n"
     ]
    }
   ],
   "source": [
    "print(day,month,year,hour,minute)"
   ]
  },
  {
   "cell_type": "code",
   "execution_count": 25,
   "id": "b2230cca-8193-482e-bb59-7e2c4f54c0fe",
   "metadata": {},
   "outputs": [
    {
     "data": {
      "text/plain": [
       "datetime.datetime(2024, 11, 13, 19, 20, 49, 804092)"
      ]
     },
     "execution_count": 25,
     "metadata": {},
     "output_type": "execute_result"
    }
   ],
   "source": [
    "from datetime import datetime\n",
    "\n",
    "now = datetime.now()\n",
    "now"
   ]
  },
  {
   "cell_type": "code",
   "execution_count": 32,
   "id": "6ab7ff49-d82d-4697-8d58-722b33773522",
   "metadata": {},
   "outputs": [
    {
     "data": {
      "text/plain": [
       "'19:21:42'"
      ]
     },
     "execution_count": 32,
     "metadata": {},
     "output_type": "execute_result"
    }
   ],
   "source": [
    "now = datetime.now()\n",
    "t = now.strftime('%H:%M:%S')\n",
    "t"
   ]
  },
  {
   "cell_type": "code",
   "execution_count": 39,
   "id": "f86fd5c4-19ff-4885-806f-bdd8c72b18ea",
   "metadata": {},
   "outputs": [
    {
     "data": {
      "text/plain": [
       "'11/13/2024,  19:22:57'"
      ]
     },
     "execution_count": 39,
     "metadata": {},
     "output_type": "execute_result"
    }
   ],
   "source": [
    "now = datetime.now()\n",
    "t = now.strftime('%m/%d/%Y,  %H:%M:%S')\n",
    "t"
   ]
  },
  {
   "cell_type": "code",
   "execution_count": 44,
   "id": "d5dad7bb-5c53-4c91-95f2-c5ba31f958d5",
   "metadata": {},
   "outputs": [
    {
     "name": "stdout",
     "output_type": "stream",
     "text": [
      "Date_string: 5 January, 2019\n"
     ]
    }
   ],
   "source": [
    "date_string = \"5 January, 2019\"\n",
    "\n",
    "print('Date_string:',date_string)"
   ]
  },
  {
   "cell_type": "code",
   "execution_count": 45,
   "id": "073bc534-49af-4805-a918-b9723140b538",
   "metadata": {},
   "outputs": [
    {
     "data": {
      "text/plain": [
       "datetime.datetime(2019, 1, 5, 0, 0)"
      ]
     },
     "execution_count": 45,
     "metadata": {},
     "output_type": "execute_result"
    }
   ],
   "source": [
    "date_object = datetime.strptime(date_string,\"%d %B, %Y\")\n",
    "date_object"
   ]
  },
  {
   "cell_type": "code",
   "execution_count": null,
   "id": "23fd9cb5-97c0-41d6-9d66-d5a9373c47a5",
   "metadata": {},
   "outputs": [],
   "source": []
  }
 ],
 "metadata": {
  "kernelspec": {
   "display_name": "Python 3 (ipykernel)",
   "language": "python",
   "name": "python3"
  },
  "language_info": {
   "codemirror_mode": {
    "name": "ipython",
    "version": 3
   },
   "file_extension": ".py",
   "mimetype": "text/x-python",
   "name": "python",
   "nbconvert_exporter": "python",
   "pygments_lexer": "ipython3",
   "version": "3.12.2"
  }
 },
 "nbformat": 4,
 "nbformat_minor": 5
}
