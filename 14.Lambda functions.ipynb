{
 "cells": [
  {
   "cell_type": "markdown",
   "id": "1c695e3d-6cc3-4dd4-93d4-8c726581cbdd",
   "metadata": {},
   "source": [
    "# 14. Lambda Functions in python\n",
    "\n",
    " * __A Lambda function is a small anonymous functions.__\n",
    " * __A Lambda function can take any number as argument, but can only have one expressions.__\n",
    " * __The expression is evaluated and returned.__\n",
    " * __Lambda functions can be used wherever function objects are required.__\n",
    " * __Lambda Expression(or lambda fucntions) are essentially blocks of code that can be assigned to variable, passed as an arguments, or returned from a function call, In Language that support high-order functions.__\n",
    " * __The main role of the lambda fucntion is better described in the scenarios when we employ them anonymously inside another functiions.__\n",
    " * __n Python, the Lamnda function can be utilized as an arguments to the higher-order functions as an arugments.__\n",
    " * __Lambda function in Python.__\n",
    "    * __1.Syntax.__\n",
    "      * __Normal Functions__\n",
    "      * __Anonymous Functions__\n",
    "    * __2. Usages__\n",
    "      * __Lambda with filters()__\n",
    "      * __Lambda with map()__\n",
    "      * __Lambda with reduce()__\n",
    "      * __Lambda with sorted()__\n",
    "      * __Lambda with apply()__\n",
    "    * __3 Common Errors__\n",
    "      * __SyntaxError__\n",
    "      * __TypeError__"
   ]
  },
  {
   "cell_type": "code",
   "execution_count": 1,
   "id": "8a419fd5-2fb2-4d89-918c-f8ca122eeadb",
   "metadata": {},
   "outputs": [
    {
     "data": {
      "text/plain": [
       "16"
      ]
     },
     "execution_count": 1,
     "metadata": {},
     "output_type": "execute_result"
    }
   ],
   "source": [
    "def func(x):\n",
    "    return x+6\n",
    "\n",
    "func(10)"
   ]
  },
  {
   "cell_type": "code",
   "execution_count": 2,
   "id": "3f04eb6b-c02a-428b-8213-5aec57f0d0d8",
   "metadata": {},
   "outputs": [
    {
     "data": {
      "text/plain": [
       "16"
      ]
     },
     "execution_count": 2,
     "metadata": {},
     "output_type": "execute_result"
    }
   ],
   "source": [
    "# using lambda \n",
    "\n",
    "(lambda y:y+6)(10)"
   ]
  },
  {
   "cell_type": "code",
   "execution_count": 4,
   "id": "ab3c14b8-ba35-4a93-87b2-ec9dee06c878",
   "metadata": {},
   "outputs": [
    {
     "data": {
      "text/plain": [
       "8"
      ]
     },
     "execution_count": 4,
     "metadata": {},
     "output_type": "execute_result"
    }
   ],
   "source": [
    "def expo(x,y):\n",
    "    return x**y\n",
    "\n",
    "expo(2,3)"
   ]
  },
  {
   "cell_type": "code",
   "execution_count": 7,
   "id": "24f2867f-9144-45b2-b825-b878d07af297",
   "metadata": {},
   "outputs": [
    {
     "data": {
      "text/plain": [
       "8"
      ]
     },
     "execution_count": 7,
     "metadata": {},
     "output_type": "execute_result"
    }
   ],
   "source": [
    "# using lamdba \n",
    "\n",
    "trup=(lambda x1,y1:x1**y1)(2,3)\n",
    "trup"
   ]
  },
  {
   "cell_type": "code",
   "execution_count": 6,
   "id": "91546646-2f16-4415-8235-cc88ace9396a",
   "metadata": {},
   "outputs": [
    {
     "data": {
      "text/plain": [
       "16"
      ]
     },
     "execution_count": 6,
     "metadata": {},
     "output_type": "execute_result"
    }
   ],
   "source": [
    "expo(4,2)"
   ]
  },
  {
   "cell_type": "code",
   "execution_count": 8,
   "id": "7db540a2-7a10-4f03-b5bc-37ad1cfa5c55",
   "metadata": {},
   "outputs": [
    {
     "data": {
      "text/plain": [
       "8"
      ]
     },
     "execution_count": 8,
     "metadata": {},
     "output_type": "execute_result"
    }
   ],
   "source": [
    "trup"
   ]
  },
  {
   "cell_type": "code",
   "execution_count": 9,
   "id": "620a5d84-1ab1-490a-9ae3-1d7595fad42c",
   "metadata": {},
   "outputs": [
    {
     "name": "stdin",
     "output_type": "stream",
     "text": [
      "Enter first Number: 2\n",
      "Enter second Number: 4\n"
     ]
    },
    {
     "data": {
      "text/plain": [
       "16"
      ]
     },
     "execution_count": 9,
     "metadata": {},
     "output_type": "execute_result"
    }
   ],
   "source": [
    "def func1():\n",
    "    x = int(input('Enter first Number:'))\n",
    "    y = int(input('Enter second Number:'))\n",
    "    z = x**y\n",
    "    return z\n",
    "func1()"
   ]
  },
  {
   "cell_type": "code",
   "execution_count": 10,
   "id": "48e51e93-80ab-4c60-8966-915b6f7f733c",
   "metadata": {},
   "outputs": [
    {
     "name": "stdin",
     "output_type": "stream",
     "text": [
      "Enter first Number: 5\n",
      "Enter second Number: 6\n"
     ]
    },
    {
     "data": {
      "text/plain": [
       "15625"
      ]
     },
     "execution_count": 10,
     "metadata": {},
     "output_type": "execute_result"
    }
   ],
   "source": [
    "x = int(input('Enter first Number:'))\n",
    "y = int(input('Enter second Number:'))\n",
    "(lambda a,b:a**b)(x,y)"
   ]
  },
  {
   "cell_type": "code",
   "execution_count": 15,
   "id": "998391f8-d86b-4c90-9223-9c9b57c39df3",
   "metadata": {},
   "outputs": [
    {
     "name": "stdout",
     "output_type": "stream",
     "text": [
      "Even numbers is: [10, 20, 30, 50, 26, 78, 62, 102] \n",
      "Odd numbers is: [25, 79, 45, 53, 51, 1001, 103]\n"
     ]
    }
   ],
   "source": [
    "# 1. Write a Python program to count even number and odd numbers in a given array of integers using function and loop.\n",
    "# array = [10,20,30,50,25,26,78,79,45,62,53,51,1001,102,103]\n",
    "\n",
    "array = [10,20,30,50,25,26,78,79,45,62,53,51,1001,102,103]\n",
    "\n",
    "even = []\n",
    "odd = []\n",
    "\n",
    "for i in array:\n",
    "    if i%2==0:\n",
    "        even.append(i)\n",
    "        # print(i)\n",
    "    else:\n",
    "        odd.append(i)\n",
    "\n",
    "print(\"Even numbers is:\",even,'\\nOdd numbers is:',odd)"
   ]
  },
  {
   "cell_type": "code",
   "execution_count": 20,
   "id": "20e175f6-8e70-48bc-a642-c4e029317750",
   "metadata": {},
   "outputs": [
    {
     "name": "stdout",
     "output_type": "stream",
     "text": [
      "[10, 20, 30, 50, 26, 78, 62, 102]\n",
      "[25, 79, 45, 53, 51, 1001, 103]\n"
     ]
    }
   ],
   "source": [
    "array = [10,20,30,50,25,26,78,79,45,62,53,51,1001,102,103]\n",
    "\n",
    "even_num=list(filter(lambda x:(x%2==0),array))\n",
    "print(even_num)\n",
    "odd_num=list(filter(lambda y:(y%2!=0),array))\n",
    "print(odd_num)"
   ]
  },
  {
   "cell_type": "code",
   "execution_count": 24,
   "id": "2d53939d-0783-406b-a3e4-5e2dbf696020",
   "metadata": {},
   "outputs": [
    {
     "name": "stdout",
     "output_type": "stream",
     "text": [
      "['Monday', 'Friday', 'Sunday']\n"
     ]
    }
   ],
   "source": [
    "# Write a Python program to filter a given list to determine if the value in the list have length of 6 with lambda function.\n",
    "# Using for loop and \n",
    "\n",
    "weekdays = [\"Monday\",\"Tuesday\",\"Wednesday\",\"Thursday\",\"Friday\",\"Saturday\",\"Sunday\"]\n",
    "\n",
    "\n",
    "filter_data = []\n",
    "\n",
    "for i in weekdays:\n",
    "    if len(i) == 6:\n",
    "        filter_data.append(i)\n",
    "print(filter_data)"
   ]
  },
  {
   "cell_type": "code",
   "execution_count": 25,
   "id": "70c73ad1-09eb-4d91-8c70-13c81b4a22d4",
   "metadata": {},
   "outputs": [
    {
     "data": {
      "text/plain": [
       "['Monday', 'Friday', 'Sunday']"
      ]
     },
     "execution_count": 25,
     "metadata": {},
     "output_type": "execute_result"
    }
   ],
   "source": [
    "filter_list = list(filter(lambda x:len(x)==6,weekdays))\n",
    "\n",
    "filter_list"
   ]
  },
  {
   "cell_type": "markdown",
   "id": "652fb00a-3446-4ce8-b02c-33cd63564f2d",
   "metadata": {},
   "source": [
    "# Lambda Filter()\n",
    "\n",
    " * __A higher-order function__\n",
    " * __Syntax:filter(function,sequence)__\n",
    "    * __It applies function to each element of sequence and returns for which the funciton returns true.__\n",
    " * __filter returns a subset of sequence__\n",
    "    * __To generate the actual list, we need to apply list.__"
   ]
  },
  {
   "cell_type": "code",
   "execution_count": 7,
   "id": "7ec27b56-184e-44fa-8d42-eb1551b4c666",
   "metadata": {},
   "outputs": [
    {
     "name": "stdout",
     "output_type": "stream",
     "text": [
      "True\n",
      "True\n"
     ]
    }
   ],
   "source": [
    "def isDiv3(x):\n",
    "    return x%3==0\n",
    "def isEven(x):\n",
    "    return x%2==0\n",
    "\n",
    "obj1 = isDiv3(21)\n",
    "print(obj1)\n",
    "\n",
    "obj2 = isEven(10)\n",
    "print(obj2)"
   ]
  },
  {
   "cell_type": "code",
   "execution_count": 8,
   "id": "46e9dba6-dd8a-451e-9605-8592b82eba72",
   "metadata": {},
   "outputs": [
    {
     "data": {
      "text/plain": [
       "[2, 4, 6, 8, 10, 12, 14, 16, 18, 20, 22, 24, 26, 28, 30]"
      ]
     },
     "execution_count": 8,
     "metadata": {},
     "output_type": "execute_result"
    }
   ],
   "source": [
    "list(filter(isEven, range(1,31)))"
   ]
  },
  {
   "cell_type": "code",
   "execution_count": 11,
   "id": "9493f61a-f6f5-496c-9271-3740f99e9572",
   "metadata": {},
   "outputs": [
    {
     "data": {
      "text/plain": [
       "[12, 15, 18, 21, 24, 27, 30, 33, 36, 39, 42]"
      ]
     },
     "execution_count": 11,
     "metadata": {},
     "output_type": "execute_result"
    }
   ],
   "source": [
    "list(filter(isDiv3,range(10,45)))"
   ]
  },
  {
   "cell_type": "code",
   "execution_count": 19,
   "id": "c3ffbb68-5be4-48d8-9be2-4ecbeb5ddb9d",
   "metadata": {},
   "outputs": [
    {
     "name": "stdout",
     "output_type": "stream",
     "text": [
      "('Trupti', 'Babli', 'Akansha', 'Binod', 'Shankar', 'puja', 'kupekar', 'rohit', 'ghatkoper', 'marine drive', 'Abhishek')\n"
     ]
    }
   ],
   "source": [
    "# write a function to check words is in capital or not?  \"Trupti Vijay Kupekar\" = title\n",
    "\n",
    "tup = ('Trupti',\"Babli\",\"Akansha\",\"Binod\",\"Shankar\",\"puja\",'kupekar','rohit','ghatkoper','marine drive','Abhishek')\n",
    "print(tup)"
   ]
  },
  {
   "cell_type": "code",
   "execution_count": 17,
   "id": "be55ad68-3e18-4f6b-9b60-8e7712c50661",
   "metadata": {},
   "outputs": [
    {
     "data": {
      "text/plain": [
       "True"
      ]
     },
     "execution_count": 17,
     "metadata": {},
     "output_type": "execute_result"
    }
   ],
   "source": [
    "def isCaps(s):\n",
    "    return \"A\"<= s[0] <=\"Z\" \n",
    "\n",
    "x = isCaps('Trupti')\n",
    "x"
   ]
  },
  {
   "cell_type": "code",
   "execution_count": 21,
   "id": "08a7cd58-55d6-4dd6-b9cd-b927e1e1303f",
   "metadata": {},
   "outputs": [
    {
     "data": {
      "text/plain": [
       "['Trupti', 'Babli', 'Akansha', 'Binod', 'Shankar', 'Abhishek']"
      ]
     },
     "execution_count": 21,
     "metadata": {},
     "output_type": "execute_result"
    }
   ],
   "source": [
    "x1 = list(filter(isCaps,('Trupti',\"Babli\",\"Akansha\",\"Binod\",\"Shankar\",\"puja\",'kupekar','rohit','ghatkoper','marine drive','Abhishek')))\n",
    "x1"
   ]
  },
  {
   "cell_type": "code",
   "execution_count": 42,
   "id": "15cd23b9-539c-491d-a954-724b5a549c64",
   "metadata": {},
   "outputs": [
    {
     "name": "stdin",
     "output_type": "stream",
     "text": [
      "Enter your range: 10\n"
     ]
    },
    {
     "name": "stdout",
     "output_type": "stream",
     "text": [
      "Square List is: [1, 4, 9, 16, 25, 36, 49, 64, 81, 100]\n"
     ]
    }
   ],
   "source": [
    "# waf to take range from user input and find their sequar of the number.\n",
    "\n",
    "# 10-- 1,4,9----------------------------------\n",
    "\n",
    "\n",
    "\n",
    "def square(x2):\n",
    "    sqr_list=[]\n",
    "    for i in range(1,x2+1):\n",
    "        y= i**2\n",
    "        # return y\n",
    "        sqr_list.append(y)\n",
    "        # print(i)\n",
    "    print('Square List is:',sqr_list)\n",
    "\n",
    "x1 = int(input('Enter your range:'))\n",
    "square(x1)"
   ]
  },
  {
   "cell_type": "code",
   "execution_count": 45,
   "id": "8fc498be-224b-4349-b9ab-daee57ed0244",
   "metadata": {},
   "outputs": [
    {
     "ename": "NameError",
     "evalue": "name 'z' is not defined",
     "output_type": "error",
     "traceback": [
      "\u001b[1;31m---------------------------------------------------------------------------\u001b[0m",
      "\u001b[1;31mNameError\u001b[0m                                 Traceback (most recent call last)",
      "Cell \u001b[1;32mIn[45], line 7\u001b[0m\n\u001b[0;32m      5\u001b[0m         list1\u001b[38;5;241m.\u001b[39mappend(y2)\n\u001b[0;32m      6\u001b[0m     \u001b[38;5;28mprint\u001b[39m(list1)\n\u001b[1;32m----> 7\u001b[0m square1(\u001b[43mz\u001b[49m)\n",
      "\u001b[1;31mNameError\u001b[0m: name 'z' is not defined"
     ]
    }
   ],
   "source": [
    "def square1(x2):\n",
    "    list1 = []\n",
    "    for i in range(1,x2+1):\n",
    "        y2 = i**2\n",
    "        list1.append(y2)\n",
    "    print(list1)\n",
    "square1(z)"
   ]
  },
  {
   "cell_type": "code",
   "execution_count": 47,
   "id": "d98dd235-2a2e-41e0-a5cd-2d9f65b2b1bb",
   "metadata": {},
   "outputs": [
    {
     "name": "stdin",
     "output_type": "stream",
     "text": [
      "Enter your range: 10\n"
     ]
    },
    {
     "name": "stdout",
     "output_type": "stream",
     "text": [
      "Square List is: [1]\n",
      "Square List is: [1, 4]\n",
      "Square List is: [1, 4, 9]\n",
      "Square List is: [1, 4, 9, 16]\n",
      "Square List is: [1, 4, 9, 16, 25]\n",
      "Square List is: [1, 4, 9, 16, 25, 36]\n",
      "Square List is: [1, 4, 9, 16, 25, 36, 49]\n",
      "Square List is: [1, 4, 9, 16, 25, 36, 49, 64]\n",
      "Square List is: [1, 4, 9, 16, 25, 36, 49, 64, 81]\n",
      "Square List is: [1, 4, 9, 16, 25, 36, 49, 64, 81, 100]\n"
     ]
    },
    {
     "data": {
      "text/plain": [
       "[]"
      ]
     },
     "execution_count": 47,
     "metadata": {},
     "output_type": "execute_result"
    }
   ],
   "source": [
    "a2 = int(input('Enter your range:'))\n",
    "a1 = list(filter(square,range(1,a2+1)))\n",
    "a1"
   ]
  },
  {
   "cell_type": "code",
   "execution_count": 48,
   "id": "82c5da2c-2e93-476b-8282-5ba1f535ea29",
   "metadata": {},
   "outputs": [],
   "source": [
    "def square2(x):\n",
    "    return x**2"
   ]
  },
  {
   "cell_type": "code",
   "execution_count": 49,
   "id": "2e8c06fc-b615-471f-b0bf-29bf6b525d4e",
   "metadata": {},
   "outputs": [
    {
     "name": "stdin",
     "output_type": "stream",
     "text": [
      "Enter any number: 10\n"
     ]
    },
    {
     "data": {
      "text/plain": [
       "[1, 4, 9, 16, 25, 36, 49, 64, 81, 100]"
      ]
     },
     "execution_count": 49,
     "metadata": {},
     "output_type": "execute_result"
    }
   ],
   "source": [
    "y = int(input('Enter any number:'))\n",
    "list(map(square2,range(1,y+1)))"
   ]
  },
  {
   "cell_type": "markdown",
   "id": "388bebe6-deda-49ea-bdf6-faa891941bf6",
   "metadata": {},
   "source": [
    "# map() functions\n",
    "\n",
    " * __A high-order functions__\n",
    " * __syntax: map(function, sequence)__\n",
    " * __It applies function to each element of sequecne and return the result.__"
   ]
  },
  {
   "cell_type": "code",
   "execution_count": 53,
   "id": "ed95ca34-be1c-4f76-9400-c8f15d97df7e",
   "metadata": {},
   "outputs": [
    {
     "name": "stdout",
     "output_type": "stream",
     "text": [
      "[1, 55, 69, 25]\n",
      "[1, 3025, 4761, 625]\n",
      "[1, 166375, 328509, 15625]\n",
      "[3, 165, 207, 75]\n"
     ]
    }
   ],
   "source": [
    "a = [1,20,50,55,69,58,78,96,36,25,10]\n",
    "\n",
    "def myfunc(z):  # using filter. and find thier square of the number.\n",
    "    if z%2!=0:\n",
    "        return True\n",
    "    else:\n",
    "        return False\n",
    "\n",
    "val = list(filter(myfunc,a)) \n",
    "print(val)\n",
    "\n",
    "def cube(a):\n",
    "    return a**3\n",
    "\n",
    "sqr = list(map(square2,val))\n",
    "print(sqr)\n",
    "\n",
    "\n",
    "cube = list(map(cube,val))\n",
    "print(cube)\n",
    "\n",
    "\n",
    "def triple(z1):\n",
    "    return 3*z1\n",
    "\n",
    "\n",
    "trip = list(map(triple,val))\n",
    "print(trip)"
   ]
  },
  {
   "cell_type": "markdown",
   "id": "7b996b29-4f23-4135-affe-622b6a2deb19",
   "metadata": {},
   "source": [
    "# reduce()\n",
    "\n",
    " * __Required: from functools import reduce__\n",
    " * __syntax:reduce(function,seq)__\n",
    " * __reduce,continually applies the reduce(function,sequence). It returns a single value.__"
   ]
  },
  {
   "cell_type": "code",
   "execution_count": 54,
   "id": "2cfd87d6-bea1-4455-a345-7cb14086da69",
   "metadata": {},
   "outputs": [],
   "source": [
    "from functools import reduce"
   ]
  },
  {
   "cell_type": "code",
   "execution_count": 55,
   "id": "158b1674-51f4-480d-b3ef-b87c30aae3e9",
   "metadata": {},
   "outputs": [
    {
     "name": "stdout",
     "output_type": "stream",
     "text": [
      "Help on built-in function reduce in module _functools:\n",
      "\n",
      "reduce(...)\n",
      "    reduce(function, iterable[, initial]) -> value\n",
      "\n",
      "    Apply a function of two arguments cumulatively to the items of a sequence\n",
      "    or iterable, from left to right, so as to reduce the iterable to a single\n",
      "    value.  For example, reduce(lambda x, y: x+y, [1, 2, 3, 4, 5]) calculates\n",
      "    ((((1+2)+3)+4)+5).  If initial is present, it is placed before the items\n",
      "    of the iterable in the calculation, and serves as a default when the\n",
      "    iterable is empty.\n",
      "\n"
     ]
    }
   ],
   "source": [
    "help(reduce)"
   ]
  },
  {
   "cell_type": "code",
   "execution_count": 58,
   "id": "645e0754-357b-4443-811b-b83165c752bf",
   "metadata": {},
   "outputs": [
    {
     "data": {
      "text/plain": [
       "90"
      ]
     },
     "execution_count": 58,
     "metadata": {},
     "output_type": "execute_result"
    }
   ],
   "source": [
    "# reduce: small value returnd\n",
    "\n",
    "def add(x,y):\n",
    "    return x+y   #3,6,10,20,40,90\n",
    "\n",
    "\n",
    "x1 = reduce(add,[1,2,3,4,10,20,50])  # single value returned \n",
    "x1"
   ]
  },
  {
   "cell_type": "code",
   "execution_count": 60,
   "id": "1b1dee7f-fcf7-4e30-9668-020cbba6bf3b",
   "metadata": {},
   "outputs": [
    {
     "data": {
      "text/plain": [
       "-88"
      ]
     },
     "execution_count": 60,
     "metadata": {},
     "output_type": "execute_result"
    }
   ],
   "source": [
    "# reduce: small value returnd\n",
    "\n",
    "def subtract(x,y):\n",
    "    return x-y   \n",
    "\n",
    "\n",
    "x1 = reduce(subtract,[1,2,3,4,10,20,50])  # single value returned \n",
    "x1"
   ]
  },
  {
   "cell_type": "code",
   "execution_count": 61,
   "id": "e63fdcaa-b2aa-4c68-9fa0-c9e308a78a47",
   "metadata": {},
   "outputs": [
    {
     "data": {
      "text/plain": [
       "3628800"
      ]
     },
     "execution_count": 61,
     "metadata": {},
     "output_type": "execute_result"
    }
   ],
   "source": [
    "# range \n",
    "def multi(x,y):\n",
    "    return x*y\n",
    "\n",
    "\n",
    "def misti(n):\n",
    "    return reduce(multi,range(1,n+1))   #1,2,3,4,5,6,7,8,9,10\n",
    "misti(10)"
   ]
  },
  {
   "cell_type": "markdown",
   "id": "831dee38-83a8-4165-a743-fd5634db4d55",
   "metadata": {},
   "source": [
    "# Lambda with sorted()"
   ]
  },
  {
   "cell_type": "markdown",
   "id": "685afb38-592a-48a3-b3a7-1bb1b87fdfd0",
   "metadata": {},
   "source": [
    "# Sorted Function in Lambda\n",
    "\n",
    " * __A simple ascending sort is very easy. Just call the sorted() functions. It returns a new list.__"
   ]
  },
  {
   "cell_type": "code",
   "execution_count": 63,
   "id": "29720348-2b22-48b5-93f7-3bba22353192",
   "metadata": {},
   "outputs": [
    {
     "data": {
      "text/plain": [
       "[1, 2, 3, 4, 5, 7]"
      ]
     },
     "execution_count": 63,
     "metadata": {},
     "output_type": "execute_result"
    }
   ],
   "source": [
    "# arranged in ascending order using sorted function\n",
    "\n",
    "x = [5,2,4,1,3,7]\n",
    "\n",
    "y = sorted(x)\n",
    "y"
   ]
  },
  {
   "cell_type": "code",
   "execution_count": 64,
   "id": "ffe95c07-5dfd-409a-ad52-a911d9714e3d",
   "metadata": {},
   "outputs": [
    {
     "data": {
      "text/plain": [
       "[1, 2, 3, 4, 5, 7]"
      ]
     },
     "execution_count": 64,
     "metadata": {},
     "output_type": "execute_result"
    }
   ],
   "source": [
    "x = [5,2,4,1,3,7]\n",
    "\n",
    "x.sort()\n",
    "x"
   ]
  },
  {
   "cell_type": "code",
   "execution_count": 71,
   "id": "07e301b4-e9fc-402d-bcb2-d8873a42af9f",
   "metadata": {},
   "outputs": [
    {
     "data": {
      "text/plain": [
       "[('Trupti', 'A', 15), ('Priya', 'C', 12), ('Komal', 'B', 20)]"
      ]
     },
     "execution_count": 71,
     "metadata": {},
     "output_type": "execute_result"
    }
   ],
   "source": [
    "# Dictianry\n",
    "\n",
    "students = [\n",
    "    ('Trupti','A',15),\n",
    "    ('Priya','C',12),\n",
    "    ('Komal','B',20)\n",
    "]\n",
    "students"
   ]
  },
  {
   "cell_type": "code",
   "execution_count": 72,
   "id": "7c64c1d5-a6c8-4d00-89b2-673198256c69",
   "metadata": {},
   "outputs": [
    {
     "data": {
      "text/plain": [
       "tuple"
      ]
     },
     "execution_count": 72,
     "metadata": {},
     "output_type": "execute_result"
    }
   ],
   "source": [
    "type(students[0])"
   ]
  },
  {
   "cell_type": "code",
   "execution_count": 73,
   "id": "ed125aac-fa9e-47f2-8c2b-0ee79be52150",
   "metadata": {},
   "outputs": [
    {
     "data": {
      "text/plain": [
       "list"
      ]
     },
     "execution_count": 73,
     "metadata": {},
     "output_type": "execute_result"
    }
   ],
   "source": [
    "type(students)"
   ]
  },
  {
   "cell_type": "code",
   "execution_count": 74,
   "id": "bde54882-2fc9-4c5b-8a71-cc74403bff34",
   "metadata": {},
   "outputs": [
    {
     "data": {
      "text/plain": [
       "[('Priya', 'C', 12), ('Trupti', 'A', 15), ('Komal', 'B', 20)]"
      ]
     },
     "execution_count": 74,
     "metadata": {},
     "output_type": "execute_result"
    }
   ],
   "source": [
    "sorted(students,key=lambda students:students[2])"
   ]
  },
  {
   "cell_type": "code",
   "execution_count": 75,
   "id": "e5111d2c-6da7-4f1a-8ad6-2feb300ecc7f",
   "metadata": {},
   "outputs": [
    {
     "data": {
      "text/plain": [
       "[('Trupti', 'A', 15), ('Komal', 'B', 20), ('Priya', 'C', 12)]"
      ]
     },
     "execution_count": 75,
     "metadata": {},
     "output_type": "execute_result"
    }
   ],
   "source": [
    "sorted(students,key=lambda students:students[1])"
   ]
  },
  {
   "cell_type": "code",
   "execution_count": 76,
   "id": "3c85007f-7a01-4a81-a8f5-2fd04ade0877",
   "metadata": {},
   "outputs": [
    {
     "data": {
      "text/plain": [
       "[('Komal', 'B', 20), ('Priya', 'C', 12), ('Trupti', 'A', 15)]"
      ]
     },
     "execution_count": 76,
     "metadata": {},
     "output_type": "execute_result"
    }
   ],
   "source": [
    "sorted(students,key=lambda students:students[0])"
   ]
  },
  {
   "cell_type": "code",
   "execution_count": 2,
   "id": "770ac42e-3578-42b7-a342-ab664eaa8b0f",
   "metadata": {},
   "outputs": [
    {
     "data": {
      "text/plain": [
       "'Trupti'"
      ]
     },
     "execution_count": 2,
     "metadata": {},
     "output_type": "execute_result"
    }
   ],
   "source": [
    "class person:\n",
    "    def __init__(self,name,age,grade,gender):\n",
    "        self.name=name\n",
    "        self.age=age\n",
    "        self.grade=grade\n",
    "        self.gender=gender\n",
    "\n",
    "\n",
    "    def __repr__(self):\n",
    "        return repr((self.name,self.age,self.gender,self.grade))\n",
    "\n",
    "\n",
    "\n",
    "obj1 = person('Trupti',26,\"A\",\"Female\")\n",
    "obj1.name"
   ]
  },
  {
   "cell_type": "code",
   "execution_count": 3,
   "id": "5a7a09f8-5f67-4ef7-b2a8-dc4ed80e4421",
   "metadata": {},
   "outputs": [
    {
     "data": {
      "text/plain": [
       "[('Trupti', 26, 'Female', 'A'),\n",
       " ('Srinivash', 45, 'Male', 'C'),\n",
       " ('Uday', 12, 'Male', 'D'),\n",
       " ('Pallavi', 40, 'Female', 'B')]"
      ]
     },
     "execution_count": 3,
     "metadata": {},
     "output_type": "execute_result"
    }
   ],
   "source": [
    "student1 = [\n",
    "    person('Trupti',26,'A','Female'),\n",
    "    person('Srinivash',45,'C',\"Male\"),\n",
    "    person('Uday',12,'D','Male'),\n",
    "    person('Pallavi',40,'B','Female')\n",
    "]\n",
    "student1"
   ]
  },
  {
   "cell_type": "code",
   "execution_count": 4,
   "id": "d1c7edd4-169b-4434-8c23-4485118050e5",
   "metadata": {},
   "outputs": [
    {
     "data": {
      "text/plain": [
       "[('Pallavi', 40, 'Female', 'B'),\n",
       " ('Srinivash', 45, 'Male', 'C'),\n",
       " ('Trupti', 26, 'Female', 'A'),\n",
       " ('Uday', 12, 'Male', 'D')]"
      ]
     },
     "execution_count": 4,
     "metadata": {},
     "output_type": "execute_result"
    }
   ],
   "source": [
    "sorted(student1,key=lambda person:person.name)"
   ]
  },
  {
   "cell_type": "code",
   "execution_count": 5,
   "id": "fea6efef-8e8f-47c0-a89b-4f0059e0f027",
   "metadata": {},
   "outputs": [
    {
     "data": {
      "text/plain": [
       "[('Uday', 12, 'Male', 'D'),\n",
       " ('Trupti', 26, 'Female', 'A'),\n",
       " ('Pallavi', 40, 'Female', 'B'),\n",
       " ('Srinivash', 45, 'Male', 'C')]"
      ]
     },
     "execution_count": 5,
     "metadata": {},
     "output_type": "execute_result"
    }
   ],
   "source": [
    "sorted(student1,key=lambda person:person.age)"
   ]
  },
  {
   "cell_type": "code",
   "execution_count": 6,
   "id": "ee9bc30b-80ef-4e0d-8392-3054653921fe",
   "metadata": {},
   "outputs": [
    {
     "data": {
      "text/plain": [
       "[('Trupti', 26, 'Female', 'A'),\n",
       " ('Pallavi', 40, 'Female', 'B'),\n",
       " ('Srinivash', 45, 'Male', 'C'),\n",
       " ('Uday', 12, 'Male', 'D')]"
      ]
     },
     "execution_count": 6,
     "metadata": {},
     "output_type": "execute_result"
    }
   ],
   "source": [
    "sorted(student1,key=lambda person:person.grade)"
   ]
  },
  {
   "cell_type": "code",
   "execution_count": 7,
   "id": "7b3b12f0-5a54-413f-93e1-0c51275440f3",
   "metadata": {},
   "outputs": [
    {
     "data": {
      "text/plain": [
       "[('Trupti', 26, 'Female', 'A'),\n",
       " ('Pallavi', 40, 'Female', 'B'),\n",
       " ('Srinivash', 45, 'Male', 'C'),\n",
       " ('Uday', 12, 'Male', 'D')]"
      ]
     },
     "execution_count": 7,
     "metadata": {},
     "output_type": "execute_result"
    }
   ],
   "source": [
    "sorted(student1,key=lambda person:person.gender)"
   ]
  },
  {
   "cell_type": "markdown",
   "id": "cdc54d47-4ba2-45f3-89f8-5263bef51ca5",
   "metadata": {},
   "source": [
    "# Lambda with apply()"
   ]
  },
  {
   "cell_type": "code",
   "execution_count": 8,
   "id": "cf75f505-9db5-49b1-b8b7-c3924c028099",
   "metadata": {},
   "outputs": [],
   "source": [
    "import pandas as pd"
   ]
  },
  {
   "cell_type": "code",
   "execution_count": 9,
   "id": "f375b022-72c9-45a0-947e-8f6a55214fbb",
   "metadata": {},
   "outputs": [
    {
     "data": {
      "text/plain": [
       "[('Trupti', 26, 'Female', 'A'),\n",
       " ('Srinivash', 45, 'Male', 'C'),\n",
       " ('Uday', 12, 'Male', 'D'),\n",
       " ('Pallavi', 40, 'Female', 'B')]"
      ]
     },
     "execution_count": 9,
     "metadata": {},
     "output_type": "execute_result"
    }
   ],
   "source": [
    "student1 = [\n",
    "    person('Trupti',26,'A','Female'),\n",
    "    person('Srinivash',45,'C',\"Male\"),\n",
    "    person('Uday',12,'D','Male'),\n",
    "    person('Pallavi',40,'B','Female')\n",
    "]\n",
    "student1"
   ]
  },
  {
   "cell_type": "code",
   "execution_count": 15,
   "id": "eb8cba35-a6d7-45a6-afe5-30d88894a18d",
   "metadata": {},
   "outputs": [
    {
     "data": {
      "text/html": [
       "<div>\n",
       "<style scoped>\n",
       "    .dataframe tbody tr th:only-of-type {\n",
       "        vertical-align: middle;\n",
       "    }\n",
       "\n",
       "    .dataframe tbody tr th {\n",
       "        vertical-align: top;\n",
       "    }\n",
       "\n",
       "    .dataframe thead th {\n",
       "        text-align: right;\n",
       "    }\n",
       "</style>\n",
       "<table border=\"1\" class=\"dataframe\">\n",
       "  <thead>\n",
       "    <tr style=\"text-align: right;\">\n",
       "      <th></th>\n",
       "      <th>Name</th>\n",
       "      <th>Age</th>\n",
       "      <th>Gender</th>\n",
       "      <th>Section</th>\n",
       "    </tr>\n",
       "  </thead>\n",
       "  <tbody>\n",
       "    <tr>\n",
       "      <th>0</th>\n",
       "      <td>Trupti</td>\n",
       "      <td>26</td>\n",
       "      <td>A</td>\n",
       "      <td>Female</td>\n",
       "    </tr>\n",
       "    <tr>\n",
       "      <th>1</th>\n",
       "      <td>Srinivash</td>\n",
       "      <td>45</td>\n",
       "      <td>C</td>\n",
       "      <td>Male</td>\n",
       "    </tr>\n",
       "    <tr>\n",
       "      <th>2</th>\n",
       "      <td>Uday</td>\n",
       "      <td>12</td>\n",
       "      <td>D</td>\n",
       "      <td>Male</td>\n",
       "    </tr>\n",
       "    <tr>\n",
       "      <th>3</th>\n",
       "      <td>Pallavi</td>\n",
       "      <td>40</td>\n",
       "      <td>B</td>\n",
       "      <td>Female</td>\n",
       "    </tr>\n",
       "  </tbody>\n",
       "</table>\n",
       "</div>"
      ],
      "text/plain": [
       "        Name  Age Gender Section\n",
       "0     Trupti   26      A  Female\n",
       "1  Srinivash   45      C    Male\n",
       "2       Uday   12      D    Male\n",
       "3    Pallavi   40      B  Female"
      ]
     },
     "execution_count": 15,
     "metadata": {},
     "output_type": "execute_result"
    }
   ],
   "source": [
    "student1 = [\n",
    "    ('Trupti',26,'A','Female'),\n",
    "    ('Srinivash',45,'C',\"Male\"),\n",
    "    ('Uday',12,'D','Male'),\n",
    "    ('Pallavi',40,'B','Female')\n",
    "]\n",
    "student1\n",
    "df = pd.DataFrame(student1,columns=['Name','Age','Gender',\"Section\"])\n",
    "df"
   ]
  },
  {
   "cell_type": "code",
   "execution_count": 17,
   "id": "c53ad8f0-f979-4dbf-87a6-96b483942cb7",
   "metadata": {},
   "outputs": [],
   "source": [
    "import numpy as np"
   ]
  },
  {
   "cell_type": "code",
   "execution_count": 18,
   "id": "ae1ae88e-23aa-44f5-95a4-55bf7e0b531f",
   "metadata": {},
   "outputs": [],
   "source": [
    "import pandas as pd"
   ]
  },
  {
   "cell_type": "code",
   "execution_count": 19,
   "id": "0b2c7904-1786-44df-b3b2-0025bc96a00f",
   "metadata": {},
   "outputs": [
    {
     "name": "stdout",
     "output_type": "stream",
     "text": [
      "[[15, 2.5, 100], [20, 4.5, 50], [25, 5.5, 80], [45, 5.8, 48], [40, 6.3, 70], [41, 6.4, 90], [51, 2.3, 111]]\n"
     ]
    }
   ],
   "source": [
    "values_list = [[15,2.5,100],[20,4.5,50],[25,5.5,80],[45,5.8,48],[40,6.3,70],[41,6.4,90],[51,2.3,111]]\n",
    "print(values_list)"
   ]
  },
  {
   "cell_type": "code",
   "execution_count": 20,
   "id": "5239e3ad-05c8-4b36-82f9-8368f9756ce9",
   "metadata": {},
   "outputs": [
    {
     "data": {
      "text/html": [
       "<div>\n",
       "<style scoped>\n",
       "    .dataframe tbody tr th:only-of-type {\n",
       "        vertical-align: middle;\n",
       "    }\n",
       "\n",
       "    .dataframe tbody tr th {\n",
       "        vertical-align: top;\n",
       "    }\n",
       "\n",
       "    .dataframe thead th {\n",
       "        text-align: right;\n",
       "    }\n",
       "</style>\n",
       "<table border=\"1\" class=\"dataframe\">\n",
       "  <thead>\n",
       "    <tr style=\"text-align: right;\">\n",
       "      <th></th>\n",
       "      <th>0</th>\n",
       "      <th>1</th>\n",
       "      <th>2</th>\n",
       "    </tr>\n",
       "  </thead>\n",
       "  <tbody>\n",
       "    <tr>\n",
       "      <th>0</th>\n",
       "      <td>15</td>\n",
       "      <td>2.5</td>\n",
       "      <td>100</td>\n",
       "    </tr>\n",
       "    <tr>\n",
       "      <th>1</th>\n",
       "      <td>20</td>\n",
       "      <td>4.5</td>\n",
       "      <td>50</td>\n",
       "    </tr>\n",
       "    <tr>\n",
       "      <th>2</th>\n",
       "      <td>25</td>\n",
       "      <td>5.5</td>\n",
       "      <td>80</td>\n",
       "    </tr>\n",
       "    <tr>\n",
       "      <th>3</th>\n",
       "      <td>45</td>\n",
       "      <td>5.8</td>\n",
       "      <td>48</td>\n",
       "    </tr>\n",
       "    <tr>\n",
       "      <th>4</th>\n",
       "      <td>40</td>\n",
       "      <td>6.3</td>\n",
       "      <td>70</td>\n",
       "    </tr>\n",
       "    <tr>\n",
       "      <th>5</th>\n",
       "      <td>41</td>\n",
       "      <td>6.4</td>\n",
       "      <td>90</td>\n",
       "    </tr>\n",
       "    <tr>\n",
       "      <th>6</th>\n",
       "      <td>51</td>\n",
       "      <td>2.3</td>\n",
       "      <td>111</td>\n",
       "    </tr>\n",
       "  </tbody>\n",
       "</table>\n",
       "</div>"
      ],
      "text/plain": [
       "    0    1    2\n",
       "0  15  2.5  100\n",
       "1  20  4.5   50\n",
       "2  25  5.5   80\n",
       "3  45  5.8   48\n",
       "4  40  6.3   70\n",
       "5  41  6.4   90\n",
       "6  51  2.3  111"
      ]
     },
     "execution_count": 20,
     "metadata": {},
     "output_type": "execute_result"
    }
   ],
   "source": [
    "df = pd.DataFrame(values_list)\n",
    "df"
   ]
  },
  {
   "cell_type": "code",
   "execution_count": 32,
   "id": "f3191e86-4735-4d16-b78d-811cecfbcc14",
   "metadata": {},
   "outputs": [
    {
     "data": {
      "text/html": [
       "<div>\n",
       "<style scoped>\n",
       "    .dataframe tbody tr th:only-of-type {\n",
       "        vertical-align: middle;\n",
       "    }\n",
       "\n",
       "    .dataframe tbody tr th {\n",
       "        vertical-align: top;\n",
       "    }\n",
       "\n",
       "    .dataframe thead th {\n",
       "        text-align: right;\n",
       "    }\n",
       "</style>\n",
       "<table border=\"1\" class=\"dataframe\">\n",
       "  <thead>\n",
       "    <tr style=\"text-align: right;\">\n",
       "      <th></th>\n",
       "      <th>0</th>\n",
       "      <th>1</th>\n",
       "      <th>2</th>\n",
       "    </tr>\n",
       "  </thead>\n",
       "  <tbody>\n",
       "    <tr>\n",
       "      <th>0</th>\n",
       "      <td>30</td>\n",
       "      <td>5.0</td>\n",
       "      <td>200</td>\n",
       "    </tr>\n",
       "    <tr>\n",
       "      <th>1</th>\n",
       "      <td>40</td>\n",
       "      <td>9.0</td>\n",
       "      <td>100</td>\n",
       "    </tr>\n",
       "    <tr>\n",
       "      <th>2</th>\n",
       "      <td>50</td>\n",
       "      <td>11.0</td>\n",
       "      <td>160</td>\n",
       "    </tr>\n",
       "    <tr>\n",
       "      <th>3</th>\n",
       "      <td>90</td>\n",
       "      <td>11.6</td>\n",
       "      <td>96</td>\n",
       "    </tr>\n",
       "    <tr>\n",
       "      <th>4</th>\n",
       "      <td>80</td>\n",
       "      <td>12.6</td>\n",
       "      <td>140</td>\n",
       "    </tr>\n",
       "    <tr>\n",
       "      <th>5</th>\n",
       "      <td>82</td>\n",
       "      <td>12.8</td>\n",
       "      <td>180</td>\n",
       "    </tr>\n",
       "    <tr>\n",
       "      <th>6</th>\n",
       "      <td>102</td>\n",
       "      <td>4.6</td>\n",
       "      <td>222</td>\n",
       "    </tr>\n",
       "  </tbody>\n",
       "</table>\n",
       "</div>"
      ],
      "text/plain": [
       "     0     1    2\n",
       "0   30   5.0  200\n",
       "1   40   9.0  100\n",
       "2   50  11.0  160\n",
       "3   90  11.6   96\n",
       "4   80  12.6  140\n",
       "5   82  12.8  180\n",
       "6  102   4.6  222"
      ]
     },
     "execution_count": 32,
     "metadata": {},
     "output_type": "execute_result"
    }
   ],
   "source": [
    "df2 = df.apply(lambda x:x*2)\n",
    "df2"
   ]
  },
  {
   "cell_type": "code",
   "execution_count": null,
   "id": "641d4bef-5de4-4234-b2fc-1ad7dfcc688f",
   "metadata": {},
   "outputs": [],
   "source": []
  }
 ],
 "metadata": {
  "kernelspec": {
   "display_name": "Python 3 (ipykernel)",
   "language": "python",
   "name": "python3"
  },
  "language_info": {
   "codemirror_mode": {
    "name": "ipython",
    "version": 3
   },
   "file_extension": ".py",
   "mimetype": "text/x-python",
   "name": "python",
   "nbconvert_exporter": "python",
   "pygments_lexer": "ipython3",
   "version": "3.12.2"
  }
 },
 "nbformat": 4,
 "nbformat_minor": 5
}
