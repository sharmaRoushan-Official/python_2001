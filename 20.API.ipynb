{
 "cells": [
  {
   "cell_type": "markdown",
   "id": "ef47dc00-6ad1-43fd-ac77-a48af2848653",
   "metadata": {},
   "source": [
    "# 20. Application Programming Interface(API)"
   ]
  },
  {
   "cell_type": "markdown",
   "id": "4d71ed4e-bb01-4ecb-9e1a-fa832bd20b64",
   "metadata": {},
   "source": [
    " * __API stands for Application Programming Interface. The kind of API we will cover in this section is going to be web APIs. Web APIs are the defined interfaces through which interactions happen between an enterprises and applications that use its assets, Which also is a Service Level Agreement(SLA) to specify the function provider and expose the service path or URL for its API user.__"
   ]
  },
  {
   "cell_type": "markdown",
   "id": "7a0e851c-a6c7-49c2-930d-cab9f1f82c27",
   "metadata": {},
   "source": [
    "GET---->HTTP[Hyper text transfer protocol]"
   ]
  },
  {
   "cell_type": "code",
   "execution_count": null,
   "id": "5d9e40da-0e04-472b-ac9f-623e729175ea",
   "metadata": {},
   "outputs": [],
   "source": []
  }
 ],
 "metadata": {
  "kernelspec": {
   "display_name": "Python 3 (ipykernel)",
   "language": "python",
   "name": "python3"
  },
  "language_info": {
   "codemirror_mode": {
    "name": "ipython",
    "version": 3
   },
   "file_extension": ".py",
   "mimetype": "text/x-python",
   "name": "python",
   "nbconvert_exporter": "python",
   "pygments_lexer": "ipython3",
   "version": "3.12.2"
  }
 },
 "nbformat": 4,
 "nbformat_minor": 5
}
