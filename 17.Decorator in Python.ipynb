{
 "cells": [
  {
   "cell_type": "markdown",
   "id": "f0e43d49-9f13-4fff-9a8b-2bcd46d6e79d",
   "metadata": {},
   "source": [
    "# 17. Decorator in Python\n",
    "\n",
    " * __Decorator provides a simple syntax for calling high-order functions.__\n",
    " * __By definition, a decorator is a function that takes another function and extends their behaviour of the letter funciton without explicitly modifying it.__\n",
    " * __A decorator in Python is a function that takes another function as it's argument, and return yet another functions.__\n",
    " * __Decorators can extremely useful as they allow the extension of an existing functions, without any modification to the original function sources code.__\n",
    " * __In fact, there are two types of decorator in python including class decorators and function decorators.__\n",
    " * __In application, decorators are majorly used in creating middle layer in the backend, it perform task like token authentication, validation, image compression and many more functionality.__"
   ]
  },
  {
   "cell_type": "code",
   "execution_count": 1,
   "id": "78108008-0d94-4c77-92ca-4ffc6b46091b",
   "metadata": {},
   "outputs": [],
   "source": [
    "# decorator\n",
    "\n",
    "import decorator"
   ]
  },
  {
   "cell_type": "code",
   "execution_count": 2,
   "id": "7cc6b03c-b78c-48ab-bf9a-2e3fea8295da",
   "metadata": {},
   "outputs": [
    {
     "name": "stdout",
     "output_type": "stream",
     "text": [
      "Help on module decorator:\n",
      "\n",
      "NAME\n",
      "    decorator\n",
      "\n",
      "DESCRIPTION\n",
      "    Decorator module, see\n",
      "    https://github.com/micheles/decorator/blob/master/docs/documentation.md\n",
      "    for the documentation.\n",
      "\n",
      "CLASSES\n",
      "    builtins.object\n",
      "        FunctionMaker\n",
      "    contextlib._GeneratorContextManager(contextlib._GeneratorContextManagerBase, contextlib.AbstractContextManager, contextlib.ContextDecorator)\n",
      "        ContextManager\n",
      "\n",
      "    class ContextManager(contextlib._GeneratorContextManager)\n",
      "     |  ContextManager(g, *a, **k)\n",
      "     |\n",
      "     |  Method resolution order:\n",
      "     |      ContextManager\n",
      "     |      contextlib._GeneratorContextManager\n",
      "     |      contextlib._GeneratorContextManagerBase\n",
      "     |      contextlib.AbstractContextManager\n",
      "     |      abc.ABC\n",
      "     |      contextlib.ContextDecorator\n",
      "     |      builtins.object\n",
      "     |\n",
      "     |  Methods defined here:\n",
      "     |\n",
      "     |  __call__(self, func)\n",
      "     |      Call self as a function.\n",
      "     |\n",
      "     |  __init__(self, g, *a, **k)\n",
      "     |      Initialize self.  See help(type(self)) for accurate signature.\n",
      "     |\n",
      "     |  ----------------------------------------------------------------------\n",
      "     |  Data and other attributes defined here:\n",
      "     |\n",
      "     |  __abstractmethods__ = frozenset()\n",
      "     |\n",
      "     |  ----------------------------------------------------------------------\n",
      "     |  Methods inherited from contextlib._GeneratorContextManager:\n",
      "     |\n",
      "     |  __enter__(self)\n",
      "     |      Return `self` upon entering the runtime context.\n",
      "     |\n",
      "     |  __exit__(self, typ, value, traceback)\n",
      "     |      Raise any exception triggered within the runtime context.\n",
      "     |\n",
      "     |  ----------------------------------------------------------------------\n",
      "     |  Data descriptors inherited from contextlib._GeneratorContextManagerBase:\n",
      "     |\n",
      "     |  __dict__\n",
      "     |      dictionary for instance variables\n",
      "     |\n",
      "     |  __weakref__\n",
      "     |      list of weak references to the object\n",
      "     |\n",
      "     |  ----------------------------------------------------------------------\n",
      "     |  Class methods inherited from contextlib.AbstractContextManager:\n",
      "     |\n",
      "     |  __class_getitem__ = GenericAlias(...) from abc.ABCMeta\n",
      "     |      Represent a PEP 585 generic type\n",
      "     |\n",
      "     |      E.g. for t = list[int], t.__origin__ is list and t.__args__ is (int,).\n",
      "     |\n",
      "     |  __subclasshook__(C) from abc.ABCMeta\n",
      "     |      Abstract classes can override this to customize issubclass().\n",
      "     |\n",
      "     |      This is invoked early on by abc.ABCMeta.__subclasscheck__().\n",
      "     |      It should return True, False or NotImplemented.  If it returns\n",
      "     |      NotImplemented, the normal algorithm is used.  Otherwise, it\n",
      "     |      overrides the normal algorithm (and the outcome is cached).\n",
      "\n",
      "    class FunctionMaker(builtins.object)\n",
      "     |  FunctionMaker(func=None, name=None, signature=None, defaults=None, doc=None, module=None, funcdict=None)\n",
      "     |\n",
      "     |  An object with the ability to create functions with a given signature.\n",
      "     |  It has attributes name, doc, module, signature, defaults, dict and\n",
      "     |  methods update and make.\n",
      "     |\n",
      "     |  Methods defined here:\n",
      "     |\n",
      "     |  __init__(self, func=None, name=None, signature=None, defaults=None, doc=None, module=None, funcdict=None)\n",
      "     |      Initialize self.  See help(type(self)) for accurate signature.\n",
      "     |\n",
      "     |  make(self, src_templ, evaldict=None, addsource=False, **attrs)\n",
      "     |      Make a new function from a given template and update the signature\n",
      "     |\n",
      "     |  update(self, func, **kw)\n",
      "     |      Update the signature of func with the data in self\n",
      "     |\n",
      "     |  ----------------------------------------------------------------------\n",
      "     |  Class methods defined here:\n",
      "     |\n",
      "     |  create(obj, body, evaldict, defaults=None, doc=None, module=None, addsource=True, **attrs) from builtins.type\n",
      "     |      Create a function from the strings name, signature and body.\n",
      "     |      evaldict is the evaluation dictionary. If addsource is true an\n",
      "     |      attribute __source__ is added to the result. The attributes attrs\n",
      "     |      are added, if any.\n",
      "     |\n",
      "     |  ----------------------------------------------------------------------\n",
      "     |  Data descriptors defined here:\n",
      "     |\n",
      "     |  __dict__\n",
      "     |      dictionary for instance variables\n",
      "     |\n",
      "     |  __weakref__\n",
      "     |      list of weak references to the object\n",
      "     |\n",
      "     |  ----------------------------------------------------------------------\n",
      "     |  Data and other attributes defined here:\n",
      "     |\n",
      "     |  args = ()\n",
      "     |\n",
      "     |  defaults = ()\n",
      "     |\n",
      "     |  kwonlyargs = ()\n",
      "     |\n",
      "     |  kwonlydefaults = ()\n",
      "     |\n",
      "     |  varargs = ()\n",
      "     |\n",
      "     |  varkw = ()\n",
      "\n",
      "FUNCTIONS\n",
      "    append(a, vancestors)\n",
      "        Append ``a`` to the list of the virtual ancestors, unless it is already\n",
      "        included.\n",
      "\n",
      "    contextmanager(func)\n",
      "\n",
      "    decorate(func, caller, extras=(), kwsyntax=False)\n",
      "        Decorates a function/generator/coroutine using a caller.\n",
      "        If kwsyntax is True calling the decorated functions with keyword\n",
      "        syntax will pass the named arguments inside the ``kw`` dictionary,\n",
      "        even if such argument are positional, similarly to what functools.wraps\n",
      "        does. By default kwsyntax is False and the the arguments are untouched.\n",
      "\n",
      "    decorator(caller, _func=None, kwsyntax=False)\n",
      "        decorator(caller) converts a caller function into a decorator\n",
      "\n",
      "    decoratorx(caller)\n",
      "        A version of \"decorator\" implemented via \"exec\" and not via the\n",
      "        Signature object. Use this if you are want to preserve the `.__code__`\n",
      "        object properties (https://github.com/micheles/decorator/issues/129).\n",
      "\n",
      "    dispatch_on(*dispatch_args)\n",
      "        Factory of decorators turning a function into a generic function\n",
      "        dispatching on the given arguments.\n",
      "\n",
      "    fix(args, kwargs, sig)\n",
      "        Fix args and kwargs to be consistent with the signature\n",
      "\n",
      "DATA\n",
      "    DEF = re.compile('\\\\s*def\\\\s*([_\\\\w][_\\\\w\\\\d]*)\\\\s*\\\\(')\n",
      "    POS = <_ParameterKind.POSITIONAL_OR_KEYWORD: 1>\n",
      "\n",
      "VERSION\n",
      "    5.1.1\n",
      "\n",
      "FILE\n",
      "    c:\\python312\\lib\\site-packages\\decorator.py\n",
      "\n",
      "\n"
     ]
    }
   ],
   "source": [
    "help(decorator)"
   ]
  },
  {
   "cell_type": "code",
   "execution_count": 1,
   "id": "9f819ab5-4790-4f16-9c84-d55964d858ba",
   "metadata": {},
   "outputs": [],
   "source": [
    "from decorator import *"
   ]
  },
  {
   "cell_type": "code",
   "execution_count": 2,
   "id": "476401c8-8b3d-4fae-9e69-a1aa1172b087",
   "metadata": {},
   "outputs": [
    {
     "name": "stdout",
     "output_type": "stream",
     "text": [
      "Good Morning\n"
     ]
    }
   ],
   "source": [
    "def mytext(text):\n",
    "    print(text)\n",
    "\n",
    "\n",
    "mytext('Good Morning')"
   ]
  },
  {
   "cell_type": "code",
   "execution_count": 3,
   "id": "00370e9f-4bbd-4416-ad2f-3894ff1cfea6",
   "metadata": {},
   "outputs": [
    {
     "data": {
      "text/plain": [
       "25"
      ]
     },
     "execution_count": 3,
     "metadata": {},
     "output_type": "execute_result"
    }
   ],
   "source": [
    "def multi(num):\n",
    "    return num*num\n",
    "\n",
    "x = multi(5)\n",
    "x"
   ]
  },
  {
   "cell_type": "code",
   "execution_count": 4,
   "id": "888cda62-9411-40e5-b037-cdcf50b40965",
   "metadata": {},
   "outputs": [
    {
     "name": "stdout",
     "output_type": "stream",
     "text": [
      "Python is a programming language.\n",
      "Hello world\n",
      "Congratulations! Trupti\n"
     ]
    }
   ],
   "source": [
    "def mytext():\n",
    "    print('Python is a programming language.')\n",
    "    def new_text():\n",
    "        print(\"Hello world\")\n",
    "    def message():\n",
    "        print(\"Congratulations! Trupti\")\n",
    "\n",
    "    new_text()\n",
    "    message()\n",
    "\n",
    "x1 = mytext()\n",
    "x1"
   ]
  },
  {
   "cell_type": "code",
   "execution_count": 5,
   "id": "c596c0c8-7ba9-49b3-898c-3a66aa6e3ad3",
   "metadata": {},
   "outputs": [
    {
     "name": "stdout",
     "output_type": "stream",
     "text": [
      "Your Result will be:100\n"
     ]
    }
   ],
   "source": [
    "def multi(x):\n",
    "    return x*10   #100\n",
    "\n",
    "\n",
    "def addition(x):\n",
    "    y = int(input('Enter any value:'))\n",
    "    return x+y\n",
    "\n",
    "\n",
    "def operator(function,x):   # multi,10  , multi(10)\n",
    "    number = function(x)  #multi(10)\n",
    "    print(f'Your Result will be:{number}')\n",
    "\n",
    "\n",
    "obj = operator(multi,10)\n",
    "obj"
   ]
  },
  {
   "cell_type": "code",
   "execution_count": 6,
   "id": "0363d560-bb6a-4bc0-8943-5341b76253b4",
   "metadata": {},
   "outputs": [
    {
     "name": "stdin",
     "output_type": "stream",
     "text": [
      "Enter any value: 10\n"
     ]
    },
    {
     "name": "stdout",
     "output_type": "stream",
     "text": [
      "Your Result will be:20\n"
     ]
    }
   ],
   "source": [
    "obj2 = operator(addition,10)\n",
    "obj2"
   ]
  },
  {
   "cell_type": "code",
   "execution_count": 7,
   "id": "16bddaa8-e954-4a62-be07-dc66e99447d5",
   "metadata": {},
   "outputs": [],
   "source": [
    "import math"
   ]
  },
  {
   "cell_type": "code",
   "execution_count": 20,
   "id": "32a73cac-fa94-4f80-be56-a6d5f6acc117",
   "metadata": {},
   "outputs": [
    {
     "name": "stdout",
     "output_type": "stream",
     "text": [
      "<function addition1 at 0x0000016376EF0EA0>\n"
     ]
    },
    {
     "data": {
      "text/plain": [
       "23.141592653589793"
      ]
     },
     "execution_count": 20,
     "metadata": {},
     "output_type": "execute_result"
    }
   ],
   "source": [
    "def addition1(num):\n",
    "    return num+20\n",
    "\n",
    "\n",
    "def called_function(trup):\n",
    "    print(trup)\n",
    "    added_num = math.pi   #3.141592653589793\n",
    "    return trup(added_num)   # addition1(3.141592653589793)\n",
    "\n",
    "obj1 = called_function(addition1)\n",
    "obj1"
   ]
  },
  {
   "cell_type": "code",
   "execution_count": 21,
   "id": "b46f4581-809c-44ad-9c20-85d65dabf5ad",
   "metadata": {},
   "outputs": [
    {
     "name": "stdout",
     "output_type": "stream",
     "text": [
      "<function multi at 0x0000016376EE0C20>\n"
     ]
    },
    {
     "data": {
      "text/plain": [
       "31.41592653589793"
      ]
     },
     "execution_count": 21,
     "metadata": {},
     "output_type": "execute_result"
    }
   ],
   "source": [
    "obj2 = called_function(multi)\n",
    "obj2"
   ]
  },
  {
   "cell_type": "code",
   "execution_count": 22,
   "id": "df8b8ae3-5adf-4c6e-a04f-322855304da0",
   "metadata": {},
   "outputs": [
    {
     "name": "stdout",
     "output_type": "stream",
     "text": [
      "<function division at 0x0000016376EF0A40>\n"
     ]
    },
    {
     "data": {
      "text/plain": [
       "1.5707963267948966"
      ]
     },
     "execution_count": 22,
     "metadata": {},
     "output_type": "execute_result"
    }
   ],
   "source": [
    "def division(x):\n",
    "    return x/2\n",
    "\n",
    "\n",
    "obj3=called_function(division)\n",
    "obj3"
   ]
  },
  {
   "cell_type": "code",
   "execution_count": 8,
   "id": "4a665a47-0351-4091-af16-69eb091ce140",
   "metadata": {},
   "outputs": [
    {
     "name": "stdin",
     "output_type": "stream",
     "text": [
      "Enter any text: hello\n"
     ]
    },
    {
     "data": {
      "text/plain": [
       "'HELLO'"
      ]
     },
     "execution_count": 8,
     "metadata": {},
     "output_type": "execute_result"
    }
   ],
   "source": [
    "def decorated_upper_case(trupti):\n",
    "    def upper():\n",
    "        function = trupti()\n",
    "        text_upper = function.upper()   # upper: all text convert into upper\n",
    "        return text_upper\n",
    "    return upper()\n",
    "\n",
    "def text():\n",
    "    y = input('Enter any text:')\n",
    "    return y\n",
    "\n",
    "\n",
    "obj1 = decorated_upper_case(text)\n",
    "obj1"
   ]
  },
  {
   "cell_type": "code",
   "execution_count": 9,
   "id": "bfef1303-d35b-430d-901f-dc6f47ecf1d0",
   "metadata": {},
   "outputs": [
    {
     "name": "stdin",
     "output_type": "stream",
     "text": [
      "Enter your first name: hello\n"
     ]
    },
    {
     "ename": "TypeError",
     "evalue": "'str' object is not callable",
     "output_type": "error",
     "traceback": [
      "\u001b[1;31m---------------------------------------------------------------------------\u001b[0m",
      "\u001b[1;31mTypeError\u001b[0m                                 Traceback (most recent call last)",
      "Cell \u001b[1;32mIn[9], line 9\u001b[0m\n\u001b[0;32m      5\u001b[0m     fullname \u001b[38;5;241m=\u001b[39m first\n\u001b[0;32m      6\u001b[0m     \u001b[38;5;28;01mreturn\u001b[39;00m fullname\n\u001b[1;32m----> 9\u001b[0m \u001b[43mtext2\u001b[49m\u001b[43m(\u001b[49m\u001b[43m)\u001b[49m\n",
      "\u001b[1;31mTypeError\u001b[0m: 'str' object is not callable"
     ]
    }
   ],
   "source": [
    "@decorated_upper_case\n",
    "def text2():\n",
    "    first = input('Enter your first name:')\n",
    "    # last = input('Enter your last name:')\n",
    "    fullname = first\n",
    "    return fullname\n",
    "\n",
    "\n",
    "text2()"
   ]
  },
  {
   "cell_type": "code",
   "execution_count": 10,
   "id": "29e511f8-bd16-4d4d-8c91-3377cfb08639",
   "metadata": {},
   "outputs": [
    {
     "ename": "TypeError",
     "evalue": "'str' object is not callable",
     "output_type": "error",
     "traceback": [
      "\u001b[1;31m---------------------------------------------------------------------------\u001b[0m",
      "\u001b[1;31mTypeError\u001b[0m                                 Traceback (most recent call last)",
      "Cell \u001b[1;32mIn[10], line 5\u001b[0m\n\u001b[0;32m      1\u001b[0m \u001b[38;5;129m@decorated_upper_case\u001b[39m\n\u001b[0;32m      2\u001b[0m \u001b[38;5;28;01mdef\u001b[39;00m \u001b[38;5;21mtext1\u001b[39m():\n\u001b[0;32m      3\u001b[0m     \u001b[38;5;28;01mreturn\u001b[39;00m \u001b[38;5;124m\"\u001b[39m\u001b[38;5;124mhello world\u001b[39m\u001b[38;5;124m\"\u001b[39m\n\u001b[1;32m----> 5\u001b[0m \u001b[43mtext1\u001b[49m\u001b[43m(\u001b[49m\u001b[43m)\u001b[49m\n",
      "\u001b[1;31mTypeError\u001b[0m: 'str' object is not callable"
     ]
    }
   ],
   "source": [
    "@decorated_upper_case\n",
    "def text1():\n",
    "    return \"hello world\"\n",
    "\n",
    "text1()"
   ]
  },
  {
   "cell_type": "code",
   "execution_count": 12,
   "id": "02567f7c-a94e-4259-b492-90b6e3d309ed",
   "metadata": {},
   "outputs": [
    {
     "data": {
      "text/plain": [
       "'HELLO'"
      ]
     },
     "execution_count": 12,
     "metadata": {},
     "output_type": "execute_result"
    }
   ],
   "source": [
    "def decorated_upper(func):\n",
    "    def upper1():\n",
    "        function = func()\n",
    "        text_upper = function.upper()\n",
    "        return text_upper\n",
    "    return upper1\n",
    "\n",
    "\n",
    "def text1():\n",
    "    y = \"hello\"\n",
    "    return y\n",
    "\n",
    "obj1 = decorated_upper(text1)\n",
    "obj1()"
   ]
  },
  {
   "cell_type": "code",
   "execution_count": 14,
   "id": "77979c57-0ea7-4cb3-a878-22c693f8e8ed",
   "metadata": {},
   "outputs": [
    {
     "data": {
      "text/plain": [
       "'HELLO TRUPTI'"
      ]
     },
     "execution_count": 14,
     "metadata": {},
     "output_type": "execute_result"
    }
   ],
   "source": [
    "@decorated_upper\n",
    "def text2():\n",
    "    return \"hello trupti\"\n",
    "\n",
    "text2()"
   ]
  },
  {
   "cell_type": "code",
   "execution_count": 16,
   "id": "2e31ee19-7850-46cd-97b8-4914ccdbe39e",
   "metadata": {},
   "outputs": [
    {
     "name": "stdin",
     "output_type": "stream",
     "text": [
      "Enter first name: trupti\n",
      "Enter last name: kupekar\n"
     ]
    },
    {
     "data": {
      "text/plain": [
       "'TRUPTI KUPEKAR'"
      ]
     },
     "execution_count": 16,
     "metadata": {},
     "output_type": "execute_result"
    }
   ],
   "source": [
    "@decorated_upper\n",
    "def text3():\n",
    "    firstname = input('Enter first name:')\n",
    "    middlename = ' '\n",
    "    lastname = input('Enter last name:')\n",
    "    fullname = firstname+middlename+lastname\n",
    "    return fullname\n",
    "\n",
    "\n",
    "text3()"
   ]
  },
  {
   "cell_type": "code",
   "execution_count": null,
   "id": "e2f838ae-7954-4ce2-8a49-303175d3acdd",
   "metadata": {},
   "outputs": [],
   "source": []
  }
 ],
 "metadata": {
  "kernelspec": {
   "display_name": "Python 3 (ipykernel)",
   "language": "python",
   "name": "python3"
  },
  "language_info": {
   "codemirror_mode": {
    "name": "ipython",
    "version": 3
   },
   "file_extension": ".py",
   "mimetype": "text/x-python",
   "name": "python",
   "nbconvert_exporter": "python",
   "pygments_lexer": "ipython3",
   "version": "3.12.2"
  }
 },
 "nbformat": 4,
 "nbformat_minor": 5
}
