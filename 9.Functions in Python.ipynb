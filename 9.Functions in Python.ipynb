{
 "cells": [
  {
   "cell_type": "markdown",
   "id": "89c61806-97a3-4d4c-bcee-ed3b87082cf7",
   "metadata": {},
   "source": [
    "# 9. Functions in Ptyhon\n",
    "\n",
    " * __In Python, a function is a group of related statements that performs a specific task.__\n",
    " * __Functions helps break out program into smaller and modular chunks.__\n",
    " * __As our programs grow larger and larger, functions make it more organized and manageable.__\n",
    " * __Furthermore, it avoids repetitions and make the code reusable.__\n",
    " * __There are two types of functions.__\n",
    " * __1.Pre-defined function (In-Build functions)__\n",
    " * __2.User-defined functions__(localhost)\n",
    " * __In Python, a function is defined using the def keywords followd by the function name and parenthesis().__\n",
    " * __Keyword def that marks to start of the function header.__\n",
    " * __A function name to uniquely indentify the function.__\n",
    " * __Function naming follows the same rule of writing identifiers in python.__\n",
    " * __Parameters(arguments) throught which we pass value to the function, They are optional.__\n",
    " * __Optional documentation string(docstring) to describe what the function body.__\n",
    " * __One or more valid statements that make up the function body.__\n",
    " * __Statements must have the same indentation level(usually 4-spaces).__\n",
    " * __An optional return statement to return a value from the functions.__\n",
    "\n",
    " * __Function have__\n",
    " * __1.Function with return.__\n",
    " * __2.Function without return.__\n",
    " * __--------------------------------__\n",
    " * __1.Nullable function.__\n",
    " * __2.Parameterized function.__\n",
    " * __3.Default parameterized function.__"
   ]
  },
  {
   "cell_type": "code",
   "execution_count": 9,
   "id": "b1c8d0e5-71ca-4356-b21f-13a768be26b0",
   "metadata": {},
   "outputs": [
    {
     "name": "stdout",
     "output_type": "stream",
     "text": [
      "Hello world\n"
     ]
    }
   ],
   "source": [
    "def funcname(): # function header and function name.\n",
    "    print('Hello world')  # statement\n",
    "funcname()   # function calling"
   ]
  },
  {
   "cell_type": "code",
   "execution_count": 7,
   "id": "a2d24c64-718a-44ea-9dfd-45e863ab377e",
   "metadata": {},
   "outputs": [
    {
     "name": "stdout",
     "output_type": "stream",
     "text": [
      "Hello world\n"
     ]
    }
   ],
   "source": [
    "funcname()"
   ]
  },
  {
   "cell_type": "code",
   "execution_count": 8,
   "id": "2ba038a2-58fb-4599-83f6-2d3df464eae1",
   "metadata": {},
   "outputs": [
    {
     "name": "stdout",
     "output_type": "stream",
     "text": [
      "Hello world\n"
     ]
    }
   ],
   "source": [
    "funcname()"
   ]
  },
  {
   "cell_type": "code",
   "execution_count": 10,
   "id": "f931407a-20d3-48fd-9a54-dfd12e8c2974",
   "metadata": {},
   "outputs": [
    {
     "name": "stdout",
     "output_type": "stream",
     "text": [
      "Oreo\n"
     ]
    }
   ],
   "source": [
    "# return and print()\n",
    "\n",
    "def chocolate():\n",
    "    print('Oreo')\n",
    "    # return None\n",
    "chocolate()"
   ]
  },
  {
   "cell_type": "code",
   "execution_count": 13,
   "id": "9e1a0ecc-7751-4ee4-9f8e-e37ea2b7d945",
   "metadata": {},
   "outputs": [
    {
     "name": "stdout",
     "output_type": "stream",
     "text": [
      "Oreo\n",
      "None\n"
     ]
    }
   ],
   "source": [
    "print(chocolate())"
   ]
  },
  {
   "cell_type": "code",
   "execution_count": 19,
   "id": "4a2cbae9-b011-48c2-b615-eebc7e339914",
   "metadata": {},
   "outputs": [
    {
     "name": "stdout",
     "output_type": "stream",
     "text": [
      "Hello world\n"
     ]
    }
   ],
   "source": [
    "def choco():\n",
    "    print('Hello world')\n",
    "    return None\n",
    "\n",
    "choco()"
   ]
  },
  {
   "cell_type": "code",
   "execution_count": 20,
   "id": "e9f2a3b7-d2eb-4922-a263-41c9633e6384",
   "metadata": {},
   "outputs": [
    {
     "name": "stdout",
     "output_type": "stream",
     "text": [
      "Hello world\n",
      "None\n"
     ]
    }
   ],
   "source": [
    "print(choco())"
   ]
  },
  {
   "cell_type": "code",
   "execution_count": 22,
   "id": "c4a07b2c-b52d-4bae-b3e3-dddd837adb5c",
   "metadata": {},
   "outputs": [
    {
     "data": {
      "text/plain": [
       "'Congratulations! Uday'"
      ]
     },
     "execution_count": 22,
     "metadata": {},
     "output_type": "execute_result"
    }
   ],
   "source": [
    "# 1. Nullable function: these function have without parameter.\n",
    "\n",
    "def greet():   # argument  \n",
    "    x = 'Congratulations!'\n",
    "    y = ' Uday'\n",
    "    z = x+y\n",
    "    return z\n",
    "greet()  # parameter # function invoking"
   ]
  },
  {
   "cell_type": "code",
   "execution_count": 25,
   "id": "c7d3789d-25df-4565-8a69-5f0812010bcb",
   "metadata": {},
   "outputs": [
    {
     "data": {
      "text/plain": [
       "'Congratulations! Ashish'"
      ]
     },
     "execution_count": 25,
     "metadata": {},
     "output_type": "execute_result"
    }
   ],
   "source": [
    "# 2. Parameterized function\n",
    "\n",
    "def greetings(x):\n",
    "    z = 'Congratulations!'+x\n",
    "    return z\n",
    "\n",
    "greetings(' Ashish')"
   ]
  },
  {
   "cell_type": "code",
   "execution_count": 26,
   "id": "f8ea95aa-d10a-4890-8b18-d0d119036f00",
   "metadata": {},
   "outputs": [
    {
     "data": {
      "text/plain": [
       "'Congratulations! Trupti'"
      ]
     },
     "execution_count": 26,
     "metadata": {},
     "output_type": "execute_result"
    }
   ],
   "source": [
    "greetings(' Trupti')"
   ]
  },
  {
   "cell_type": "code",
   "execution_count": 33,
   "id": "0320cb57-083e-44f4-9680-a4e0bdbe934d",
   "metadata": {},
   "outputs": [
    {
     "data": {
      "text/plain": [
       "'Welcome Ashish'"
      ]
     },
     "execution_count": 33,
     "metadata": {},
     "output_type": "execute_result"
    }
   ],
   "source": [
    "# Default Parameter functions\n",
    "\n",
    "def greeting(y1=' Uday'):\n",
    "    var = 'Welcome'+y1\n",
    "    return var\n",
    "\n",
    "\n",
    "greeting(\" Ashish\")"
   ]
  },
  {
   "cell_type": "code",
   "execution_count": 34,
   "id": "c570e40f-b3ba-4084-b2e3-52b4c98548be",
   "metadata": {},
   "outputs": [
    {
     "name": "stdin",
     "output_type": "stream",
     "text": [
      "Enter your name here: Hello\n"
     ]
    },
    {
     "data": {
      "text/plain": [
       "'Congratulations! Hello'"
      ]
     },
     "execution_count": 34,
     "metadata": {},
     "output_type": "execute_result"
    }
   ],
   "source": [
    "# wap to greet yourself from input function\n",
    "\n",
    "def greet():\n",
    "    x = input('Enter your name here:')\n",
    "    y = 'Congratulations! '+x\n",
    "    return y\n",
    "\n",
    "greet()"
   ]
  },
  {
   "cell_type": "code",
   "execution_count": 35,
   "id": "a6c3d2ec-af4d-4b96-a655-a2ee57e31efd",
   "metadata": {},
   "outputs": [
    {
     "name": "stdin",
     "output_type": "stream",
     "text": [
      "Enter your name here: Hello\n"
     ]
    },
    {
     "data": {
      "text/plain": [
       "'Congratulations! Hello'"
      ]
     },
     "execution_count": 35,
     "metadata": {},
     "output_type": "execute_result"
    }
   ],
   "source": [
    "greet()"
   ]
  },
  {
   "cell_type": "code",
   "execution_count": 38,
   "id": "81a4bad6-36da-43c2-a457-bb8e4bd9f266",
   "metadata": {},
   "outputs": [
    {
     "name": "stdin",
     "output_type": "stream",
     "text": [
      "Enter your name: 365522\n"
     ]
    },
    {
     "name": "stdout",
     "output_type": "stream",
     "text": [
      "congratulations!365522\n"
     ]
    }
   ],
   "source": [
    "# \n",
    "\n",
    "def greet1(x):\n",
    "    y = 'congratulations!'+ x\n",
    "    print(y)\n",
    "user=input('Enter your name:')\n",
    "greet1(user)"
   ]
  },
  {
   "cell_type": "code",
   "execution_count": 39,
   "id": "1639dd75-5511-4e02-812b-bb0ef4e060aa",
   "metadata": {},
   "outputs": [
    {
     "name": "stdin",
     "output_type": "stream",
     "text": [
      "Enter your name: Hello\n"
     ]
    },
    {
     "name": "stdout",
     "output_type": "stream",
     "text": [
      "congratulations!Hello\n"
     ]
    }
   ],
   "source": [
    "# \n",
    "\n",
    "def greet1(x='Ashish'):\n",
    "    y = 'congratulations!'+ x\n",
    "    print(y)\n",
    "user=input('Enter your name:')\n",
    "greet1(user)"
   ]
  },
  {
   "cell_type": "code",
   "execution_count": 42,
   "id": "e28ca5dc-906f-4cd6-8bef-a78ffba8d566",
   "metadata": {},
   "outputs": [
    {
     "name": "stdin",
     "output_type": "stream",
     "text": [
      "Enter first value: 25\n",
      "Enter second value: 63\n"
     ]
    },
    {
     "data": {
      "text/plain": [
       "'The sum of two numbers is:88'"
      ]
     },
     "execution_count": 42,
     "metadata": {},
     "output_type": "execute_result"
    }
   ],
   "source": [
    "# x,y\n",
    "\n",
    "def addition(x,y):\n",
    "    sum1 = x+y\n",
    "    return f\"The sum of two numbers is:{sum1}\"\n",
    "var1=int(input('Enter first value:'))\n",
    "var2 =int(input('Enter second value:'))\n",
    "addition(var1,var2)"
   ]
  },
  {
   "cell_type": "code",
   "execution_count": 48,
   "id": "8759d9c8-9e01-4b81-8dfc-bf61486da8d4",
   "metadata": {},
   "outputs": [
    {
     "name": "stdin",
     "output_type": "stream",
     "text": [
      "Enter your range: 50\n"
     ]
    },
    {
     "name": "stdout",
     "output_type": "stream",
     "text": [
      "[2, 4, 6, 8, 10, 12, 14, 16, 18, 20, 22, 24, 26, 28, 30, 32, 34, 36, 38, 40, 42, 44, 46, 48, 50] 650\n"
     ]
    }
   ],
   "source": [
    "# wap to take range from user and disply the sum of even numebrs.\n",
    "\n",
    "def sum2():\n",
    "    n = int(input('Enter your range:'))\n",
    "    list1 = []\n",
    "    sum1 = 0\n",
    "    for i in range(1,n+1):\n",
    "        if i%2==0:\n",
    "            list1.append(i)\n",
    "            sum1=sum1+i\n",
    "            # print(i)\n",
    "    print(list1,sum1)\n",
    "        # print(i)\n",
    "\n",
    "sum2()"
   ]
  },
  {
   "cell_type": "code",
   "execution_count": 49,
   "id": "ac1639f7-b7ca-4bbb-b88c-af11b8f9d1f0",
   "metadata": {},
   "outputs": [
    {
     "name": "stdin",
     "output_type": "stream",
     "text": [
      "Enter your range: 40\n"
     ]
    },
    {
     "name": "stdout",
     "output_type": "stream",
     "text": [
      "[2, 4, 6, 8, 10, 12, 14, 16, 18, 20, 22, 24, 26, 28, 30, 32, 34, 36, 38, 40] 420\n"
     ]
    }
   ],
   "source": [
    "sum2()"
   ]
  },
  {
   "cell_type": "code",
   "execution_count": 50,
   "id": "78af2885-2e93-41b1-8507-cfee11bf490b",
   "metadata": {},
   "outputs": [
    {
     "name": "stdin",
     "output_type": "stream",
     "text": [
      "Enter your range: 52\n"
     ]
    },
    {
     "name": "stdout",
     "output_type": "stream",
     "text": [
      "[2, 4, 6, 8, 10, 12, 14, 16, 18, 20, 22, 24, 26, 28, 30, 32, 34, 36, 38, 40, 42, 44, 46, 48, 50, 52] 702\n"
     ]
    }
   ],
   "source": [
    "sum2()"
   ]
  },
  {
   "cell_type": "code",
   "execution_count": 54,
   "id": "a638cd17-c0ad-40f5-bbf6-6b72e6909a25",
   "metadata": {},
   "outputs": [
    {
     "name": "stdin",
     "output_type": "stream",
     "text": [
      "Enter your range: 20\n"
     ]
    },
    {
     "name": "stdout",
     "output_type": "stream",
     "text": [
      "[1, 3, 5, 7, 9, 11, 13, 15, 17, 19] 100\n"
     ]
    }
   ],
   "source": [
    "# waf to find the sum of user input range using while loop\n",
    "\n",
    "def odd():\n",
    "    n1 = int(input('Enter your range:'))\n",
    "    i = 1\n",
    "    list2 = []\n",
    "    sum2 = 0\n",
    "    while i<n1+1:\n",
    "        if i%2!=0:\n",
    "            sum2=sum2+i\n",
    "            list2.append(i)\n",
    "        i+=1\n",
    "    print(list2,sum2)    \n",
    "odd()"
   ]
  },
  {
   "cell_type": "code",
   "execution_count": 55,
   "id": "33afd8c5-7776-4a4f-bad2-9a3207b54942",
   "metadata": {},
   "outputs": [
    {
     "name": "stdin",
     "output_type": "stream",
     "text": [
      "Enter your range: 50\n"
     ]
    },
    {
     "name": "stdout",
     "output_type": "stream",
     "text": [
      "[1, 3, 5, 7, 9, 11, 13, 15, 17, 19, 21, 23, 25, 27, 29, 31, 33, 35, 37, 39, 41, 43, 45, 47, 49] 625\n"
     ]
    }
   ],
   "source": [
    "odd()"
   ]
  },
  {
   "cell_type": "code",
   "execution_count": 60,
   "id": "cc10e797-5f63-450a-a0b2-38f3d050eb86",
   "metadata": {},
   "outputs": [
    {
     "name": "stdin",
     "output_type": "stream",
     "text": [
      "Enter Firstname: uday\n",
      "Enter Middlename: \n",
      "Enter lastname: rasal\n"
     ]
    },
    {
     "data": {
      "text/plain": [
       "'uday  rasal'"
      ]
     },
     "execution_count": 60,
     "metadata": {},
     "output_type": "execute_result"
    }
   ],
   "source": [
    "# waf to disply the user fullname.\n",
    "\n",
    "def fullname():\n",
    "    firstname = input('Enter Firstname:')\n",
    "    middlename = input('Enter Middlename:')\n",
    "    lastname = input('Enter lastname:')\n",
    "    fullname= firstname+' '+middlename+' '+lastname\n",
    "    return fullname\n",
    "\n",
    "fullname()"
   ]
  },
  {
   "cell_type": "code",
   "execution_count": 61,
   "id": "ac4d977e-70a9-43af-9d05-85aecbb98c37",
   "metadata": {},
   "outputs": [
    {
     "name": "stdin",
     "output_type": "stream",
     "text": [
      "Enter Firstname: uday\n",
      "Enter Middlename: \n",
      "Enter lastname: rasal\n"
     ]
    },
    {
     "data": {
      "text/plain": [
       "'uday  rasal'"
      ]
     },
     "execution_count": 61,
     "metadata": {},
     "output_type": "execute_result"
    }
   ],
   "source": [
    "fullname()"
   ]
  },
  {
   "cell_type": "code",
   "execution_count": 62,
   "id": "946923c0-efeb-4eb9-af97-7714300e8156",
   "metadata": {},
   "outputs": [
    {
     "name": "stdin",
     "output_type": "stream",
     "text": [
      "Enter Firstname: Trupti\n",
      "Enter Middlename: vijay\n",
      "Enter lastname: kupekar\n"
     ]
    },
    {
     "data": {
      "text/plain": [
       "'Trupti vijay kupekar'"
      ]
     },
     "execution_count": 62,
     "metadata": {},
     "output_type": "execute_result"
    }
   ],
   "source": [
    "fullname()"
   ]
  },
  {
   "cell_type": "code",
   "execution_count": 63,
   "id": "9c767320-bd50-4835-a1ad-bde46c8a2ea5",
   "metadata": {},
   "outputs": [
    {
     "name": "stdin",
     "output_type": "stream",
     "text": [
      "Enter your age: 22\n"
     ]
    },
    {
     "name": "stdout",
     "output_type": "stream",
     "text": [
      "You can vote now\n"
     ]
    }
   ],
   "source": [
    "# waf is person elgible for voting or not?''\n",
    "\n",
    "def voting():\n",
    "    age = int(input('Enter your age:'))\n",
    "    if age>=18:\n",
    "        print(f'You can vote now')\n",
    "    else:\n",
    "        print(\"You can't vote\")\n",
    "voting()"
   ]
  },
  {
   "cell_type": "code",
   "execution_count": 72,
   "id": "971de8d3-cb87-42dc-a2d3-10ff58598baf",
   "metadata": {},
   "outputs": [
    {
     "name": "stdout",
     "output_type": "stream",
     "text": [
      "[10, 20, 40, 52] : 122\n"
     ]
    }
   ],
   "source": [
    "def num(*args):\n",
    "    list1 = []\n",
    "    sum2=0\n",
    "    for _ in args:\n",
    "        list1.append(_)\n",
    "        sum2=sum2+_\n",
    "        # print(_)\n",
    "    print(list1,':',sum2)\n",
    "\n",
    "\n",
    "num(10,20,40,52)"
   ]
  },
  {
   "cell_type": "code",
   "execution_count": 75,
   "id": "15d57af6-d3cb-433d-a6de-983cb0905f87",
   "metadata": {},
   "outputs": [
    {
     "name": "stdout",
     "output_type": "stream",
     "text": [
      "The following function returns the sum of two numbers\n"
     ]
    },
    {
     "data": {
      "text/plain": [
       "30"
      ]
     },
     "execution_count": 75,
     "metadata": {},
     "output_type": "execute_result"
    }
   ],
   "source": [
    "# Docstring\n",
    "\n",
    "def funcname():\n",
    "    '''The following function returns the sum of two numbers'''\n",
    "    a = 10\n",
    "    b =20\n",
    "    return a+b\n",
    "print(funcname.__doc__)\n",
    "funcname()"
   ]
  },
  {
   "cell_type": "code",
   "execution_count": 1,
   "id": "f1377ee1-23af-4bfc-b753-9900a54c1f48",
   "metadata": {},
   "outputs": [],
   "source": [
    "# waf to disply youngestone amoung three people.\n",
    "def youngstone():\n",
    "    var1 = int(input('Enter first value:'))\n",
    "    var2 = int(input('Enter second value:'))\n",
    "    var3  =int(input('Enter third value:'))\n",
    "    if var1 < var2 and var1 < var3:\n",
    "        print(\"The youngest one is:\",var1)\n",
    "    elif var2 < var3 and var2 < var3:\n",
    "        print(\"The youngest one is:\", var2)\n",
    "    else:\n",
    "        print(\"The youngest one is:\", var3)\n",
    "\n",
    "youngstone()"
   ]
  },
  {
   "cell_type": "code",
   "execution_count": 5,
   "id": "e8ecaa42-3976-4d56-bd2d-27a958cb3bfd",
   "metadata": {},
   "outputs": [
    {
     "name": "stdin",
     "output_type": "stream",
     "text": [
      "Enter your roll no. 55\n"
     ]
    },
    {
     "name": "stdout",
     "output_type": "stream",
     "text": [
      "Student is Absent\n"
     ]
    }
   ],
   "source": [
    "# Define a function that accespts roll number and returns where the student is present or not.\n",
    "# roll no.= = [23,53,22,56,3,5,10,15] \n",
    "def stu_roll():\n",
    "    roll_no = [23,53,22,56,3,5,10,15]\n",
    "    user1 = int(input('Enter your roll no.'))\n",
    "    if user1 in roll_no:\n",
    "        print('Student is Present.')\n",
    "    else:\n",
    "        print('Student is Absent')\n",
    "\n",
    "stu_roll()"
   ]
  },
  {
   "cell_type": "code",
   "execution_count": 6,
   "id": "9970a806-817e-4ef1-b2ab-c0f207d230d4",
   "metadata": {},
   "outputs": [
    {
     "name": "stdin",
     "output_type": "stream",
     "text": [
      "Enter your roll no.: 55\n"
     ]
    },
    {
     "name": "stdout",
     "output_type": "stream",
     "text": [
      "Student is absent No roll number found 55\n"
     ]
    }
   ],
   "source": [
    "def stu_rollno():\n",
    "    roll_no=[23,43,22,56,3,5,10,15]\n",
    "    user1=int(input('Enter your roll no.:'))\n",
    "    if user1 in roll_no:\n",
    "        print(f'Student is present of roll number is {user1}')\n",
    "    else:\n",
    "        print(f'Student is absent No roll number found {user1}')\n",
    "\n",
    "stu_rollno()"
   ]
  },
  {
   "cell_type": "code",
   "execution_count": 18,
   "id": "c7f77d0b-3f13-4357-bcd1-000f28823b39",
   "metadata": {},
   "outputs": [
    {
     "name": "stdin",
     "output_type": "stream",
     "text": [
      "Enter your roll no.: 55\n"
     ]
    },
    {
     "name": "stdout",
     "output_type": "stream",
     "text": [
      "Student is absent No roll number found 55\n"
     ]
    },
    {
     "name": "stdin",
     "output_type": "stream",
     "text": [
      "Do you want to add this roll no [Yes/No]: y\n"
     ]
    },
    {
     "name": "stdout",
     "output_type": "stream",
     "text": [
      "Student Added Successfully! \n",
      "New List Generated: [23, 43, 22, 56, 3, 5, 10, 15, 55]\n"
     ]
    }
   ],
   "source": [
    "# 3. # Define a function that accespts roll number and returns where the student is present or not.\n",
    "# roll no.= = [23,53,22,56,3,5,10,15] \n",
    "# if student is absent open input box and do you want to add this student if yes then add in the roll_no list. \n",
    "# if press no then ternimate the condition.\n",
    "\n",
    "def stu_rollno():\n",
    "    roll_no=[23,43,22,56,3,5,10,15]\n",
    "    user1=int(input('Enter your roll no.:'))\n",
    "    if user1 in roll_no:\n",
    "        print(f'Student is present of roll number is {user1}')\n",
    "    else:\n",
    "        print(f'Student is absent No roll number found {user1}')\n",
    "        if user1 not in roll_no:\n",
    "            x = input('Do you want to add this roll no [Yes/No]:')\n",
    "            if x.lower() == 'yes':\n",
    "                roll_no.append(user1)\n",
    "                print('Student Added Successfully!','\\nNew List Generated:',roll_no)\n",
    "            elif x.lower() == 'n':\n",
    "                print('Thanks,Without adding student')\n",
    "            elif x.lower() == 'y':\n",
    "                roll_no.append(user1)\n",
    "                print('Student Added Successfully!','\\nNew List Generated:',roll_no)\n",
    "            else:\n",
    "                print('Thanks,Without adding student')\n",
    "            \n",
    "stu_rollno()"
   ]
  },
  {
   "cell_type": "code",
   "execution_count": 27,
   "id": "6842fe7a-dd46-46e8-8a28-49a86bc74c2c",
   "metadata": {},
   "outputs": [
    {
     "name": "stdin",
     "output_type": "stream",
     "text": [
      "Enter your name: TruPTI\n"
     ]
    },
    {
     "name": "stdout",
     "output_type": "stream",
     "text": [
      "Total Vowel in Your name: 2 ['u', 'I'] \n",
      "Total Consonent in your name: 4 ['T', 'r', 'P', 'T']\n"
     ]
    }
   ],
   "source": [
    "# Write a function count vowels and consonent in your name?\n",
    "# a,e,i,o,u and remaining 21 characters?\n",
    "\n",
    "def count():\n",
    "    user1 = input('Enter your name:')\n",
    "    vow= 0\n",
    "    vow_list = []\n",
    "    cons = 0\n",
    "    cons_list= []\n",
    "    for i in range(len(user1)):\n",
    "        if user1[i] in ['a','e','i','o','u','A','E','I',\"O\",\"U\"]:\n",
    "            vow_list.append(user1[i])\n",
    "            vow=vow+1\n",
    "        else:\n",
    "            cons = cons+1\n",
    "            cons_list.append(user1[i])\n",
    "    print('Total Vowel in Your name:',vow,vow_list,'\\nTotal Consonent in your name:',cons,cons_list)\n",
    "\n",
    "count()"
   ]
  },
  {
   "cell_type": "code",
   "execution_count": 29,
   "id": "29c98a07-a41c-406c-9cfd-a65f550f26d9",
   "metadata": {},
   "outputs": [
    {
     "name": "stdin",
     "output_type": "stream",
     "text": [
      "Enter Radius of the circle: 10\n"
     ]
    },
    {
     "name": "stdout",
     "output_type": "stream",
     "text": [
      "Total area of the cirlce is: 314.1592653589793 cm² \n",
      "Circumerence of circle is: 62.83185307179586 cm\n"
     ]
    }
   ],
   "source": [
    "# Define a function that accept radius and return the area and circumference of the circle.\n",
    "# area of cirlce = pi*r² [pi*r²]\n",
    "# cricumference of circle = 2*pi*r\n",
    "import math\n",
    "def circle():\n",
    "    radius = int(input('Enter Radius of the circle:'))\n",
    "\n",
    "    area = math.pi*radius*radius\n",
    "    circum = 2*math.pi*radius\n",
    "    print(f'Total area of the cirlce is: {area} cm² \\nCircumerence of circle is: {circum} cm')\n",
    "\n",
    "circle()"
   ]
  },
  {
   "cell_type": "code",
   "execution_count": 35,
   "id": "88b18f13-ca94-4ef6-8d57-d250a187f42e",
   "metadata": {},
   "outputs": [
    {
     "name": "stdin",
     "output_type": "stream",
     "text": [
      "Enter any value: 5\n",
      "Enter any value: 6\n",
      "Enter any value: 9\n",
      "Enter any value: 3\n",
      "Enter any value: 8\n",
      "Enter any value: 9\n",
      "Enter any value: 0\n"
     ]
    },
    {
     "name": "stdout",
     "output_type": "stream",
     "text": [
      "[5, 6, 9, 3, 8, 9, 0] [25, 36, 81, 9, 64, 81, 0]\n"
     ]
    }
   ],
   "source": [
    "# waf to take input as a number in range if user enter 0 then terminate. after find out square of taken data from the user.\n",
    "\n",
    "def square():\n",
    "    list1=[]\n",
    "    sqr_list = []\n",
    "    for i in iter(int,1):\n",
    "        user = int(input('Enter any value:'))\n",
    "        list1.append(user)\n",
    "        sqr = user*user\n",
    "        sqr_list.append(sqr)\n",
    "        if user == 0:\n",
    "            break\n",
    "    print(list1,sqr_list)\n",
    "square()"
   ]
  },
  {
   "cell_type": "code",
   "execution_count": 40,
   "id": "7bf79d8a-01f7-408c-806b-08e01c035518",
   "metadata": {},
   "outputs": [
    {
     "name": "stdin",
     "output_type": "stream",
     "text": [
      "Enter any value: 8\n",
      "Enter any value: 96\n",
      "Enter any value: 33\n",
      "Enter any value: 0\n"
     ]
    },
    {
     "name": "stdout",
     "output_type": "stream",
     "text": [
      "List is: [8, 96, 33, 0] \n",
      "Even List is: [8, 96, 0] \n",
      "Odd List is: [33]\n"
     ]
    }
   ],
   "source": [
    "# waf to take input from user if user enter 0 then terminate the input find out even or odd number.\n",
    "\n",
    "def even_odd():\n",
    "    list1= []\n",
    "    even = []\n",
    "    odd = []\n",
    "    for i in iter(int,1):\n",
    "        user1 =int(input('Enter any value:'))\n",
    "        list1.append(user1)\n",
    "        # print(user1)\n",
    "        if user1%2==0:\n",
    "            even.append(user1)\n",
    "        else:\n",
    "            odd.append(user1)\n",
    "        if user1==0:\n",
    "            break\n",
    "    \n",
    "    print(\"List is:\",list1,'\\nEven List is:',even,'\\nOdd List is:',odd)\n",
    "\n",
    "even_odd()"
   ]
  },
  {
   "cell_type": "code",
   "execution_count": 41,
   "id": "8b17bf18-f1dc-42b7-9bd4-ec0723c3b83d",
   "metadata": {},
   "outputs": [
    {
     "name": "stdin",
     "output_type": "stream",
     "text": [
      "Enter any value: 8\n",
      "Enter any value: 5\n",
      "Enter any value: 6\n",
      "Enter any value: 9\n",
      "Enter any value: 36\n",
      "Enter any value: 0\n"
     ]
    },
    {
     "name": "stdout",
     "output_type": "stream",
     "text": [
      "List is: [8, 5, 6, 9, 36, 0] \n",
      "Even List is: [8, 6, 36, 0] \n",
      "Odd List is: [5, 9]\n"
     ]
    }
   ],
   "source": [
    "even_odd()"
   ]
  },
  {
   "cell_type": "code",
   "execution_count": null,
   "id": "387b44bb-e791-4afa-a4ec-0fb98604b414",
   "metadata": {},
   "outputs": [],
   "source": []
  }
 ],
 "metadata": {
  "kernelspec": {
   "display_name": "Python 3 (ipykernel)",
   "language": "python",
   "name": "python3"
  },
  "language_info": {
   "codemirror_mode": {
    "name": "ipython",
    "version": 3
   },
   "file_extension": ".py",
   "mimetype": "text/x-python",
   "name": "python",
   "nbconvert_exporter": "python",
   "pygments_lexer": "ipython3",
   "version": "3.12.2"
  }
 },
 "nbformat": 4,
 "nbformat_minor": 5
}
