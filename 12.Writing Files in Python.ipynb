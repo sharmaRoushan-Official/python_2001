{
 "cells": [
  {
   "cell_type": "markdown",
   "id": "27378cd2-936e-40d3-81af-c1fb20195d65",
   "metadata": {},
   "source": [
    "# 12. Writing Files in Python\n",
    "\n",
    " * __To write to a file in Python, you follow these steps.__\n",
    " * __First, Open the text for writing (or appending) using open functions.__\n",
    " * __Second, Write to the file using the write() or writelines() method.__\n",
    " * __Third, close the file using close() method.__\n",
    "\n",
    "\n",
    "# Some Characters and their functions.\n",
    "\n",
    " * __r ----------> Open file for reading only. Starts reading from the beginning of the file.This is default mode.__\n",
    " * __rb ---------> Open file for reading only in binary format.Starts reading from the beginning of the file.__\n",
    " * __r+ ---------> Open file for reading and writing. File pointer placed at beginning of the file.__\n",
    " * __w-----------> Open file for writing only. File pointer placed at beginning of the file. Overwrites existing file and creates a new one if it does not exists.__\n",
    " * __wb----------> Same as dw but opens in binary mode.__\n",
    " * __wb+---------> Same as wb but also allows to read from the file.__\n",
    " * __a-----------> Open a file for appending. Starts writing at the end of the file. Creates a new file if file does not exists.__\n",
    " * __ab----------> Same as a but in binary format. Creates a new file if file does not exists.__\n",
    " * __a+----------> Same as a but also open for reading.__\n",
    " * __ab+---------> Same as ab but also open for reading.__"
   ]
  },
  {
   "cell_type": "code",
   "execution_count": 7,
   "id": "26e02948-914b-49f2-8160-f7366f0fcf4d",
   "metadata": {},
   "outputs": [],
   "source": [
    "x = \"C:\\\\Users\\\\Admin\\\\Desktop\\\\trup.txt\"\n",
    "\n",
    "with open(x,'w') as f:\n",
    "    f.write('My self Trupti Vijay Kupekar.\\n')\n",
    "    f.write('My Hobby is to listing song, playing badminton.')"
   ]
  },
  {
   "cell_type": "code",
   "execution_count": 8,
   "id": "1f0da86b-24f3-4e59-bffc-6183617acf4b",
   "metadata": {},
   "outputs": [
    {
     "name": "stdout",
     "output_type": "stream",
     "text": [
      "My self Trupti Vijay Kupekar.\n",
      "My Hobby is to listing song, playing badminton.\n"
     ]
    }
   ],
   "source": [
    "with open(x,'r')as f:\n",
    "    print(f.read())"
   ]
  },
  {
   "cell_type": "code",
   "execution_count": 9,
   "id": "ce6873bf-59c1-4472-b818-41e31e7a785b",
   "metadata": {},
   "outputs": [
    {
     "name": "stdin",
     "output_type": "stream",
     "text": [
      "Enter file name Kupekar\n",
      "Enter the number of lines: 5\n",
      "Enter text here:1 Myself Trupti vijay Kupekar.\n",
      "Enter text here:2 My Hobby is to playing badminton and listing song.\n",
      "Enter text here:3 My ambition is to become a software developer.\n",
      "Enter text here:4 My favoriate food is chat.\n",
      "Enter text here:5 My favouriate color is black. \n"
     ]
    }
   ],
   "source": [
    "# file writing using for loop from user input.\n",
    "\n",
    "fname = input('Enter file name')\n",
    "fname = fname+'.txt'\n",
    "n = int(input('Enter the number of lines:'))\n",
    "\n",
    "with open(fname,'w') as f:\n",
    "    for i in range(1,n+1):\n",
    "        s = input(f'Enter text here:{i}')\n",
    "        f.write(s)\n",
    "        f.write(\"\\n\")"
   ]
  },
  {
   "cell_type": "code",
   "execution_count": 10,
   "id": "6978cd62-d441-40da-9a9d-5b324707dc43",
   "metadata": {},
   "outputs": [
    {
     "name": "stdin",
     "output_type": "stream",
     "text": [
      "Enter file name Kupekar\n",
      "Enter the number of lines: 1\n",
      "Enter text here:1 Hello\n"
     ]
    }
   ],
   "source": [
    "# file writing using for loop from user input.\n",
    "\n",
    "fname = input('Enter file name')\n",
    "fname = fname+'.txt'\n",
    "n = int(input('Enter the number of lines:'))\n",
    "\n",
    "with open(fname,'w') as f:\n",
    "    for i in range(1,n+1):\n",
    "        s = input(f'Enter text here:{i}')\n",
    "        f.write(s)\n",
    "        f.write(\"\\n\")"
   ]
  },
  {
   "cell_type": "code",
   "execution_count": 11,
   "id": "71c84985-e902-4a37-91a4-d350a13aff35",
   "metadata": {},
   "outputs": [
    {
     "name": "stdin",
     "output_type": "stream",
     "text": [
      "Enter your file name: Kupekar.txt\n",
      "Enter number of lines here: 5\n",
      "Enter text here 1: Myself Trupti vijay Kupekar.\n",
      "Enter text here 2: My Hobby is to playing badminton and listing song.\n",
      "Enter text here 3: My ambition is to become a software developer.\n",
      "Enter text here 4: My favoriate food is chat.\n",
      "Enter text here 5: My favouriate color is black.\n"
     ]
    }
   ],
   "source": [
    "def write(x,n):\n",
    "    with open(x,'w') as f:\n",
    "        for i in range(1,n+1):\n",
    "            input1 = input(f'Enter text here {i}:')\n",
    "            f.write(input1)\n",
    "            f.write('\\n')\n",
    "\n",
    "filename = input('Enter your file name:')\n",
    "filename = filename+\".txt\"\n",
    "number = int(input('Enter number of lines here:'))\n",
    "\n",
    "write(filename,number)"
   ]
  },
  {
   "cell_type": "code",
   "execution_count": 22,
   "id": "c72ef8e0-fef9-4fa0-a00a-dda8875cc167",
   "metadata": {},
   "outputs": [
    {
     "name": "stdin",
     "output_type": "stream",
     "text": [
      "Enter your file name: hello\n",
      "Enter number of lines here: 1\n",
      "Enter text here 1: hello\n"
     ]
    }
   ],
   "source": [
    "def write():\n",
    "    try:\n",
    "        x = input('Enter your file name:')\n",
    "        x = x+\".jpeg\"\n",
    "        n = int(input('Enter number of lines here:'))\n",
    "        with open(x,'w') as f:\n",
    "            for i in range(1,n+1):\n",
    "                input1 = input(f'Enter text here {i}:')\n",
    "                f.write(input1)\n",
    "                f.write('\\n')\n",
    "    except ValueError:\n",
    "        print('Enter the valid Number input.')\n",
    "    except:\n",
    "        print(\"Invalid Syntax\")\n",
    "write()"
   ]
  },
  {
   "cell_type": "code",
   "execution_count": null,
   "id": "2e28cc47-668c-4ae5-813a-d8144ee244e9",
   "metadata": {},
   "outputs": [],
   "source": []
  }
 ],
 "metadata": {
  "kernelspec": {
   "display_name": "Python 3 (ipykernel)",
   "language": "python",
   "name": "python3"
  },
  "language_info": {
   "codemirror_mode": {
    "name": "ipython",
    "version": 3
   },
   "file_extension": ".py",
   "mimetype": "text/x-python",
   "name": "python",
   "nbconvert_exporter": "python",
   "pygments_lexer": "ipython3",
   "version": "3.12.2"
  }
 },
 "nbformat": 4,
 "nbformat_minor": 5
}
