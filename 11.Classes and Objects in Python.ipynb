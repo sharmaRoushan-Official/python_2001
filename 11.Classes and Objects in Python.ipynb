{
 "cells": [
  {
   "cell_type": "markdown",
   "id": "c839ce20-3d9b-4757-b07c-d42b4cd8197f",
   "metadata": {},
   "source": [
    "# 12. Classes and Objects in Python\n",
    "\n",
    " * __Python is an object-oriented programming language.__\n",
    " * __Unlike procedure-oriented programming, where the main emphasis is on function, object-oriented programming stresses on objects.__\n",
    " * __An object is simply a collection of data(variable) and methods(functions) that act on those data.__\n",
    " * __Similarly, a class is a blueprint for that object.__\n",
    " * __Like function definitions begin with the def keyword in python, class definition begin with a class keyword.__\n",
    " * __The first string inside the class is called docstring and has a brief description of the class.__\n",
    " * __Although not mandatory, this is highly recommended.__\n",
    "\n",
    "\n",
    "   * __class student:__   #class keyword\n",
    "     \n",
    "         * __School_name=\"ABC School\"__    # class variable\n",
    "         * __def__init__ __(self,name,age):__   # constructor to initialize instance variables.\n",
    "         * __self.name=name__    # object instance\n",
    "         * __self.age=age__       # object instance\n",
    "   \n",
    "\n",
    "   * __jessa=student(\"Rohini\",14)__   # object with name\n",
    "   * __print(jessa.name)__    # printing object."
   ]
  },
  {
   "cell_type": "code",
   "execution_count": 2,
   "id": "afd5b1c3-f644-4820-9869-6baf3aea7ae7",
   "metadata": {},
   "outputs": [
    {
     "name": "stdout",
     "output_type": "stream",
     "text": [
      "10\n"
     ]
    }
   ],
   "source": [
    "class Data:\n",
    "    num = 10\n",
    "\n",
    "print(Data.num)"
   ]
  },
  {
   "cell_type": "code",
   "execution_count": 6,
   "id": "bd143799-4dca-4975-982f-f49367a5adc9",
   "metadata": {},
   "outputs": [
    {
     "name": "stdout",
     "output_type": "stream",
     "text": [
      "Uday\n",
      "Sheetal\n",
      "Rasal\n"
     ]
    }
   ],
   "source": [
    "class person:\n",
    "    first = \"Uday\"\n",
    "    second = \"Sheetal\"\n",
    "    third = \"Rasal\"\n",
    "    forth=\"Ankteshwar\"\n",
    "    fith = \"Amitabh\"\n",
    "\n",
    "\n",
    "print(person.first)\n",
    "print(person.second)\n",
    "print(person.third)"
   ]
  },
  {
   "cell_type": "code",
   "execution_count": 8,
   "id": "7dfa803f-bfc6-46ae-a2d6-2c8841d758cf",
   "metadata": {},
   "outputs": [
    {
     "name": "stdout",
     "output_type": "stream",
     "text": [
      "Uday\n"
     ]
    }
   ],
   "source": [
    "class Male:\n",
    "    first='Uday'\n",
    "\n",
    "\n",
    "var = Male()\n",
    "print(var.first)"
   ]
  },
  {
   "cell_type": "code",
   "execution_count": 13,
   "id": "8e549bcf-edc7-44cc-b350-af3694e3d6b0",
   "metadata": {},
   "outputs": [
    {
     "name": "stdout",
     "output_type": "stream",
     "text": [
      "Trupti Vijay Kupekar\n",
      "45\n",
      "45632\n",
      "Zoology\n"
     ]
    }
   ],
   "source": [
    "class Data:\n",
    "    def __init__(self,name,age,roll,subject):\n",
    "        self.name = name\n",
    "        self.age = age\n",
    "        self.roll =roll\n",
    "        self.subject =subject\n",
    "\n",
    "\n",
    "obj1 =Data(\"Trupti Vijay Kupekar\",45,45632,'Zoology')\n",
    "print(obj1.name)\n",
    "print(obj1.age)\n",
    "print(obj1.roll)\n",
    "print(obj1.subject)"
   ]
  },
  {
   "cell_type": "code",
   "execution_count": 20,
   "id": "cd276d9f-8b3f-4bfd-88e9-ac5d5f72f04b",
   "metadata": {},
   "outputs": [
    {
     "name": "stdout",
     "output_type": "stream",
     "text": [
      "Uday Sharad Rasal\n",
      "50\n",
      "7896541\n",
      "CS\n"
     ]
    }
   ],
   "source": [
    "obj2 = Data(\"Uday Sharad Rasal\",50,7896541,'CS')\n",
    "print(obj2.name)\n",
    "print(obj2.age)\n",
    "print(obj2.roll)\n",
    "print(obj2.subject)"
   ]
  },
  {
   "cell_type": "code",
   "execution_count": 16,
   "id": "98af3747-d592-4646-ac0d-7658ca76a7f5",
   "metadata": {},
   "outputs": [
    {
     "name": "stdout",
     "output_type": "stream",
     "text": [
      "Trupti Vijay Kupekar\n",
      "45\n"
     ]
    }
   ],
   "source": [
    "print(obj1.name)\n",
    "print(obj1.age)"
   ]
  },
  {
   "cell_type": "code",
   "execution_count": 24,
   "id": "c243a894-5f25-4d2d-8995-cea0af0127c7",
   "metadata": {},
   "outputs": [
    {
     "name": "stdout",
     "output_type": "stream",
     "text": [
      "Myself Trupti.\n",
      "I am 27.\n",
      "My roll no is 789654\n",
      "Subject is CS\n"
     ]
    }
   ],
   "source": [
    "class Data:\n",
    "    def __init__(x,name,age,roll,subject):\n",
    "        x.name = name\n",
    "        x.age = age\n",
    "        x.roll =roll\n",
    "        x.subject =subject\n",
    "\n",
    "    def details(x):\n",
    "        print(f'Myself {x.name}.')\n",
    "        print(f'I am {x.age}.')\n",
    "        print(f'My roll no is {x.roll}')\n",
    "        print(f'Subject is {x.subject}')\n",
    "\n",
    "\n",
    "obj3 = Data('Trupti',27,789654,'CS')\n",
    "obj3.details()"
   ]
  },
  {
   "cell_type": "code",
   "execution_count": 25,
   "id": "efafb927-c9ca-4437-9202-64e8f3bf4091",
   "metadata": {},
   "outputs": [
    {
     "name": "stdout",
     "output_type": "stream",
     "text": [
      "Myself Uday.\n",
      "I am 10.\n",
      "My roll no is 12366554\n",
      "Subject is Bootany\n"
     ]
    }
   ],
   "source": [
    "obj4 = Data(\"Uday\",10,12366554,'Bootany')\n",
    "obj4.details()"
   ]
  },
  {
   "cell_type": "markdown",
   "id": "a9c30482-d540-4972-ba24-bf7b26c96c56",
   "metadata": {},
   "source": [
    "# Self parameter\n",
    "\n",
    " * __The Self parameter is a reference to the current instance of the class, and is used to access variables that belongs to the class.__\n",
    " * __It does not have to be named self, you can call it whatever you like, but it has to be the first parameter of any function in the class.__\n"
   ]
  },
  {
   "cell_type": "code",
   "execution_count": 31,
   "id": "16d21203-de56-47ba-9068-158e099e9159",
   "metadata": {},
   "outputs": [
    {
     "name": "stdout",
     "output_type": "stream",
     "text": [
      "('Area of Rectangle is:', 200, 'cm²')\n"
     ]
    }
   ],
   "source": [
    "class Rectangle:\n",
    "    def __init__(self,length,breadth):\n",
    "        self.length = length\n",
    "        self.breadth = breadth\n",
    "\n",
    "    def area_Rectangle(self):\n",
    "        area = self.length * self.breadth\n",
    "        return f'Area of Rectangle is:',area,\"cm²\"\n",
    "\n",
    "\n",
    "obj1= Rectangle(10,20)\n",
    "print(obj1.area_Rectangle())"
   ]
  },
  {
   "cell_type": "code",
   "execution_count": 32,
   "id": "f6f78db4-33b3-4e15-8aaf-3c67a6ee1112",
   "metadata": {},
   "outputs": [
    {
     "data": {
      "text/plain": [
       "('Area of Rectangle is:', 2000, 'cm²')"
      ]
     },
     "execution_count": 32,
     "metadata": {},
     "output_type": "execute_result"
    }
   ],
   "source": [
    "obj2 = Rectangle(20,100)\n",
    "obj2.area_Rectangle()"
   ]
  },
  {
   "cell_type": "code",
   "execution_count": 38,
   "id": "1606e789-c74c-4658-a230-e1a0229e549e",
   "metadata": {},
   "outputs": [
    {
     "name": "stdout",
     "output_type": "stream",
     "text": [
      "Area of circle is: 314.1592653589793 cm²\n",
      "Circumference of circle: 62.83185307179586 cm\n"
     ]
    }
   ],
   "source": [
    "import math\n",
    "class circle:\n",
    "    def __init__(self,radius):\n",
    "        self.radius=radius\n",
    "\n",
    "    def circle_details(self):\n",
    "        area = math.pi*self.radius*self.radius\n",
    "        cir = 2*math.pi*self.radius\n",
    "        print('Area of circle is:',area,'cm²')\n",
    "        print('Circumference of circle:',cir,'cm')\n",
    "        \n",
    "circle1 = circle(10)\n",
    "circle1.circle_details()"
   ]
  },
  {
   "cell_type": "code",
   "execution_count": 39,
   "id": "0463c4f2-b15c-4b85-8450-23ae78c4383e",
   "metadata": {},
   "outputs": [],
   "source": [
    "#1. Create a class: book, bookname, bookauthor,publishing_year = 15 books\n",
    "\n",
    "# 2. create class animal\n",
    "# conduct following criteria: 1. Kingdom, 2.Phylum or division, 3).class, 4)Order: 5) Family, 6) genes 7). species = 15 books\n",
    "\n",
    "# 3. Create a class cylinder calculate area, total surface area, surface area."
   ]
  },
  {
   "cell_type": "code",
   "execution_count": 40,
   "id": "e85723a4-e8bb-4fe5-853d-8cd2524b3f09",
   "metadata": {},
   "outputs": [],
   "source": [
    "# single inheritance,\n",
    "# Multiple Inheritance\n",
    "# Multilevel Inheritance\n",
    "# Hybrid Inheritance.\n",
    "# Hierarchical Inheritance."
   ]
  },
  {
   "cell_type": "code",
   "execution_count": null,
   "id": "0d20365b-0e4f-42ec-8d68-89159aaca6b9",
   "metadata": {},
   "outputs": [],
   "source": [
    "class Book:\n",
    "    def __init__(self,name,author,year):\n",
    "        self.name = name\n",
    "        self.author = author\n",
    "        self.year = year\n",
    "\n",
    "    def details(self):\n",
    "        print(f'Book name is {self.name}.')\n",
    "        print(f'Author name is {self.author}.')\n",
    "        print(f'Book published in year {self.year}.')\n",
    "\n",
    "Comic = Book('Tenali Rama' , 'C. L. L. Jayaprada', 2001)\n",
    "Comic.details()"
   ]
  }
 ],
 "metadata": {
  "kernelspec": {
   "display_name": "Python 3 (ipykernel)",
   "language": "python",
   "name": "python3"
  },
  "language_info": {
   "codemirror_mode": {
    "name": "ipython",
    "version": 3
   },
   "file_extension": ".py",
   "mimetype": "text/x-python",
   "name": "python",
   "nbconvert_exporter": "python",
   "pygments_lexer": "ipython3",
   "version": "3.12.2"
  }
 },
 "nbformat": 4,
 "nbformat_minor": 5
}
