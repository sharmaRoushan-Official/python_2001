{
 "cells": [
  {
   "cell_type": "markdown",
   "id": "c839ce20-3d9b-4757-b07c-d42b4cd8197f",
   "metadata": {},
   "source": [
    "# 12. Classes and Objects in Python\n",
    "\n",
    " * __Python is an object-oriented programming language.__\n",
    " * __Unlike procedure-oriented programming, where the main emphasis is on function, object-oriented programming stresses on objects.__\n",
    " * __An object is simply a collection of data(variable) and methods(functions) that act on those data.__\n",
    " * __Similarly, a class is a blueprint for that object.__\n",
    " * __Like function definitions begin with the def keyword in python, class definition begin with a class keyword.__\n",
    " * __The first string inside the class is called docstring and has a brief description of the class.__\n",
    " * __Although not mandatory, this is highly recommended.__\n",
    "\n",
    "\n",
    "   * __class student:__   #class keyword\n",
    "     \n",
    "         * __School_name=\"ABC School\"__    # class variable\n",
    "         * __def__init__ __(self,name,age):__   # constructor to initialize instance variables.\n",
    "         * __self.name=name__    # object instance\n",
    "         * __self.age=age__       # object instance\n",
    "   \n",
    "\n",
    "   * __jessa=student(\"Rohini\",14)__   # object with name\n",
    "   * __print(jessa.name)__    # printing object."
   ]
  },
  {
   "cell_type": "code",
   "execution_count": 2,
   "id": "afd5b1c3-f644-4820-9869-6baf3aea7ae7",
   "metadata": {},
   "outputs": [
    {
     "name": "stdout",
     "output_type": "stream",
     "text": [
      "10\n"
     ]
    }
   ],
   "source": [
    "class Data:\n",
    "    num = 10\n",
    "\n",
    "print(Data.num)"
   ]
  },
  {
   "cell_type": "code",
   "execution_count": 6,
   "id": "bd143799-4dca-4975-982f-f49367a5adc9",
   "metadata": {},
   "outputs": [
    {
     "name": "stdout",
     "output_type": "stream",
     "text": [
      "Uday\n",
      "Sheetal\n",
      "Rasal\n"
     ]
    }
   ],
   "source": [
    "class person:\n",
    "    first = \"Uday\"\n",
    "    second = \"Sheetal\"\n",
    "    third = \"Rasal\"\n",
    "    forth=\"Ankteshwar\"\n",
    "    fith = \"Amitabh\"\n",
    "\n",
    "\n",
    "print(person.first)\n",
    "print(person.second)\n",
    "print(person.third)"
   ]
  },
  {
   "cell_type": "code",
   "execution_count": 8,
   "id": "7dfa803f-bfc6-46ae-a2d6-2c8841d758cf",
   "metadata": {},
   "outputs": [
    {
     "name": "stdout",
     "output_type": "stream",
     "text": [
      "Uday\n"
     ]
    }
   ],
   "source": [
    "class Male:\n",
    "    first='Uday'\n",
    "\n",
    "\n",
    "var = Male()\n",
    "print(var.first)"
   ]
  },
  {
   "cell_type": "code",
   "execution_count": 13,
   "id": "8e549bcf-edc7-44cc-b350-af3694e3d6b0",
   "metadata": {},
   "outputs": [
    {
     "name": "stdout",
     "output_type": "stream",
     "text": [
      "Trupti Vijay Kupekar\n",
      "45\n",
      "45632\n",
      "Zoology\n"
     ]
    }
   ],
   "source": [
    "class Data:\n",
    "    def __init__(self,name,age,roll,subject):\n",
    "        self.name = name\n",
    "        self.age = age\n",
    "        self.roll =roll\n",
    "        self.subject =subject\n",
    "\n",
    "\n",
    "obj1 =Data(\"Trupti Vijay Kupekar\",45,45632,'Zoology')\n",
    "print(obj1.name)\n",
    "print(obj1.age)\n",
    "print(obj1.roll)\n",
    "print(obj1.subject)"
   ]
  },
  {
   "cell_type": "code",
   "execution_count": 20,
   "id": "cd276d9f-8b3f-4bfd-88e9-ac5d5f72f04b",
   "metadata": {},
   "outputs": [
    {
     "name": "stdout",
     "output_type": "stream",
     "text": [
      "Uday Sharad Rasal\n",
      "50\n",
      "7896541\n",
      "CS\n"
     ]
    }
   ],
   "source": [
    "obj2 = Data(\"Uday Sharad Rasal\",50,7896541,'CS')\n",
    "print(obj2.name)\n",
    "print(obj2.age)\n",
    "print(obj2.roll)\n",
    "print(obj2.subject)"
   ]
  },
  {
   "cell_type": "code",
   "execution_count": 16,
   "id": "98af3747-d592-4646-ac0d-7658ca76a7f5",
   "metadata": {},
   "outputs": [
    {
     "name": "stdout",
     "output_type": "stream",
     "text": [
      "Trupti Vijay Kupekar\n",
      "45\n"
     ]
    }
   ],
   "source": [
    "print(obj1.name)\n",
    "print(obj1.age)"
   ]
  },
  {
   "cell_type": "code",
   "execution_count": 24,
   "id": "c243a894-5f25-4d2d-8995-cea0af0127c7",
   "metadata": {},
   "outputs": [
    {
     "name": "stdout",
     "output_type": "stream",
     "text": [
      "Myself Trupti.\n",
      "I am 27.\n",
      "My roll no is 789654\n",
      "Subject is CS\n"
     ]
    }
   ],
   "source": [
    "class Data:\n",
    "    def __init__(x,name,age,roll,subject):\n",
    "        x.name = name\n",
    "        x.age = age\n",
    "        x.roll =roll\n",
    "        x.subject =subject\n",
    "\n",
    "    def details(x):\n",
    "        print(f'Myself {x.name}.')\n",
    "        print(f'I am {x.age}.')\n",
    "        print(f'My roll no is {x.roll}')\n",
    "        print(f'Subject is {x.subject}')\n",
    "\n",
    "\n",
    "obj3 = Data('Trupti',27,789654,'CS')\n",
    "obj3.details()"
   ]
  },
  {
   "cell_type": "code",
   "execution_count": 25,
   "id": "efafb927-c9ca-4437-9202-64e8f3bf4091",
   "metadata": {},
   "outputs": [
    {
     "name": "stdout",
     "output_type": "stream",
     "text": [
      "Myself Uday.\n",
      "I am 10.\n",
      "My roll no is 12366554\n",
      "Subject is Bootany\n"
     ]
    }
   ],
   "source": [
    "obj4 = Data(\"Uday\",10,12366554,'Bootany')\n",
    "obj4.details()"
   ]
  },
  {
   "cell_type": "markdown",
   "id": "a9c30482-d540-4972-ba24-bf7b26c96c56",
   "metadata": {},
   "source": [
    "# Self parameter\n",
    "\n",
    " * __The Self parameter is a reference to the current instance of the class, and is used to access variables that belongs to the class.__\n",
    " * __It does not have to be named self, you can call it whatever you like, but it has to be the first parameter of any function in the class.__\n"
   ]
  },
  {
   "cell_type": "code",
   "execution_count": 31,
   "id": "16d21203-de56-47ba-9068-158e099e9159",
   "metadata": {},
   "outputs": [
    {
     "name": "stdout",
     "output_type": "stream",
     "text": [
      "('Area of Rectangle is:', 200, 'cm²')\n"
     ]
    }
   ],
   "source": [
    "class Rectangle:\n",
    "    def __init__(self,length,breadth):\n",
    "        self.length = length\n",
    "        self.breadth = breadth\n",
    "\n",
    "    def area_Rectangle(self):\n",
    "        area = self.length * self.breadth\n",
    "        return f'Area of Rectangle is:',area,\"cm²\"\n",
    "\n",
    "\n",
    "obj1= Rectangle(10,20)\n",
    "print(obj1.area_Rectangle())"
   ]
  },
  {
   "cell_type": "code",
   "execution_count": 32,
   "id": "f6f78db4-33b3-4e15-8aaf-3c67a6ee1112",
   "metadata": {},
   "outputs": [
    {
     "data": {
      "text/plain": [
       "('Area of Rectangle is:', 2000, 'cm²')"
      ]
     },
     "execution_count": 32,
     "metadata": {},
     "output_type": "execute_result"
    }
   ],
   "source": [
    "obj2 = Rectangle(20,100)\n",
    "obj2.area_Rectangle()"
   ]
  },
  {
   "cell_type": "code",
   "execution_count": 38,
   "id": "1606e789-c74c-4658-a230-e1a0229e549e",
   "metadata": {},
   "outputs": [
    {
     "name": "stdout",
     "output_type": "stream",
     "text": [
      "Area of circle is: 314.1592653589793 cm²\n",
      "Circumference of circle: 62.83185307179586 cm\n"
     ]
    }
   ],
   "source": [
    "import math\n",
    "class circle:\n",
    "    def __init__(self,radius):\n",
    "        self.radius=radius\n",
    "\n",
    "    def circle_details(self):\n",
    "        area = math.pi*self.radius*self.radius\n",
    "        cir = 2*math.pi*self.radius\n",
    "        print('Area of circle is:',area,'cm²')\n",
    "        print('Circumference of circle:',cir,'cm')\n",
    "        \n",
    "circle1 = circle(10)\n",
    "circle1.circle_details()"
   ]
  },
  {
   "cell_type": "code",
   "execution_count": 39,
   "id": "0463c4f2-b15c-4b85-8450-23ae78c4383e",
   "metadata": {},
   "outputs": [],
   "source": [
    "#1. Create a class: book, bookname, bookauthor,publishing_year = 15 books\n",
    "\n",
    "# 2. create class animal\n",
    "# conduct following criteria: 1. Kingdom, 2.Phylum or division, 3).class, 4)Order: 5) Family, 6) genes 7). species = 15 books\n",
    "\n",
    "# 3. Create a class cylinder calculate area, total surface area, surface area."
   ]
  },
  {
   "cell_type": "code",
   "execution_count": 40,
   "id": "e85723a4-e8bb-4fe5-853d-8cd2524b3f09",
   "metadata": {},
   "outputs": [],
   "source": [
    "# single inheritance,\n",
    "# Multiple Inheritance\n",
    "# Multilevel Inheritance\n",
    "# Hybrid Inheritance.\n",
    "# Hierarchical Inheritance."
   ]
  },
  {
   "cell_type": "code",
   "execution_count": 1,
   "id": "0d20365b-0e4f-42ec-8d68-89159aaca6b9",
   "metadata": {},
   "outputs": [
    {
     "name": "stdout",
     "output_type": "stream",
     "text": [
      "Book name is Tenali Rama.\n",
      "Author name is C. L. L. Jayaprada.\n",
      "Book published in year 2001.\n"
     ]
    }
   ],
   "source": [
    "class Book:\n",
    "    def __init__(self,name,author,year):\n",
    "        self.name = name\n",
    "        self.author = author\n",
    "        self.year = year\n",
    "\n",
    "    def details(self):\n",
    "        print(f'Book name is {self.name}.')\n",
    "        print(f'Author name is {self.author}.')\n",
    "        print(f'Book published in year {self.year}.')\n",
    "\n",
    "Comic = Book('Tenali Rama' , 'C. L. L. Jayaprada', 2001)\n",
    "Comic.details()"
   ]
  },
  {
   "cell_type": "markdown",
   "id": "423a6233-f03b-490e-8d99-e4ba53f4fb25",
   "metadata": {},
   "source": [
    "# Inheritance \n",
    "\n",
    " * __Simple(Single) Inheritance:(Parent and child class)__\n",
    " * __Multilevel Inheritance: (Parent/Child-Child)__\n",
    " * __Multiple Inheritance: (Parent class/Parent class- Child class)__\n",
    " * __Hierarchical Inheritance: (Parent class-Child class/Child class)__\n",
    " * __Hybrid Inheritance__"
   ]
  },
  {
   "cell_type": "code",
   "execution_count": 4,
   "id": "c0898028-ea47-41ff-87f9-1e80ac84e150",
   "metadata": {},
   "outputs": [
    {
     "name": "stdout",
     "output_type": "stream",
     "text": [
      "Amazon is an Online Commerce Store\n",
      "Amazon is an Online Store\n"
     ]
    }
   ],
   "source": [
    "# single Inheritance:\n",
    "\n",
    "class a:    # parent\n",
    "    brand_name_1 = \"Amazon\"\n",
    "    brand_name_2=\"Flipkart\"\n",
    "    brand_name_3 = \"Myntra\"\n",
    "\n",
    "class b(a):   # child\n",
    "    prod_1 = \"Online Commerce Store\"\n",
    "    prod_2 = \"Online Store\"\n",
    "    prod_3 = 'E-commerce Store'\n",
    "\n",
    "obj1 = b()\n",
    "print(obj1.brand_name_1+\" is an \"+obj1.prod_1)\n",
    "print(obj1.brand_name_1+\" is an \"+obj1.prod_2)"
   ]
  },
  {
   "cell_type": "code",
   "execution_count": 8,
   "id": "eec89c31-9aa8-4514-9fd6-a072233109d9",
   "metadata": {},
   "outputs": [
    {
     "name": "stdout",
     "output_type": "stream",
     "text": [
      "Amazon is an Online Commerce Store and it's popularity is: 100\n"
     ]
    }
   ],
   "source": [
    "# Multilevel Inheritance: Parent class/child class/grand child\n",
    "\n",
    "class a:    # parent\n",
    "    brand_name_1 = \"Amazon\"\n",
    "    brand_name_2=\"Flipkart\"\n",
    "    brand_name_3 = \"Myntra\"\n",
    "\n",
    "class b(a):   # b is a child of a\n",
    "    prod_1 = \"Online Commerce Store\"\n",
    "    prod_2 = \"Online Store\"\n",
    "    prod_3 = 'E-commerce Store'\n",
    "\n",
    "\n",
    "class c(b):  # c is a child of b\n",
    "    popularity_1 = \"100\"\n",
    "    popularity_2 = '200'\n",
    "    popularity_3 = \"300\"\n",
    "\n",
    "obj_1 = c()\n",
    "\n",
    "print(obj_1.brand_name_1+' is an '+obj_1.prod_1+\" and it's popularity is: \"+obj_1.popularity_1)"
   ]
  },
  {
   "cell_type": "code",
   "execution_count": 12,
   "id": "9e199629-3b6b-4b59-a634-2b956d946f26",
   "metadata": {},
   "outputs": [
    {
     "name": "stdout",
     "output_type": "stream",
     "text": [
      "Amazon is an Online Commerce Store and It's populairyt is:100\n"
     ]
    }
   ],
   "source": [
    "# Multiple Inheritance:\n",
    "\n",
    "class a:    # parent\n",
    "    brand_name_1 = \"Amazon\"\n",
    "    brand_name_2=\"Flipkart\"\n",
    "    brand_name_3 = \"Myntra\"\n",
    "\n",
    "class b:    # parent\n",
    "    prod_1 = \"Online Commerce Store\"\n",
    "    prod_2 = \"Online Store\"\n",
    "    prod_3 = 'E-commerce Store'\n",
    "\n",
    "\n",
    "class c(a,b):   # child\n",
    "    popularity_1 = \"100\"\n",
    "    popularity_2 = '200'\n",
    "    popularity_3 = \"300\"\n",
    "\n",
    "obj2 = c()\n",
    "\n",
    "print(obj2.brand_name_1+' is an '+obj2.prod_1+\" and It's populairyt is:\"+obj2.popularity_1)"
   ]
  },
  {
   "cell_type": "code",
   "execution_count": 17,
   "id": "3dbd3b79-ef96-4b0c-bf4e-d482cd2d67a5",
   "metadata": {},
   "outputs": [
    {
     "name": "stdout",
     "output_type": "stream",
     "text": [
      "Amazon is an Online Commerce Store and its popularity is:100 and its value is:Best Value\n"
     ]
    }
   ],
   "source": [
    "# Hierarchical Inheritance:\n",
    "\n",
    "class a: # parent   \n",
    "    brand_name_1 = \"Amazon\"\n",
    "    brand_name_2=\"Flipkart\"\n",
    "    brand_name_3 = \"Myntra\"\n",
    "\n",
    "class b(a): # b is the child of a   \n",
    "    prod_1 = \"Online Commerce Store\"\n",
    "    prod_2 = \"Online Store\"\n",
    "    prod_3 = 'E-commerce Store'\n",
    "\n",
    "\n",
    "class c(a):  # c is the child of a  \n",
    "    popularity_1 = \"100\"\n",
    "    popularity_2 = '200'\n",
    "    popularity_3 = \"300\"\n",
    "\n",
    "class d(a):   # d is the child of a\n",
    "    prod_value_1 = \"Best Value\"\n",
    "    prod_value_2 = \"Good value\"\n",
    "    prod_value_3 = \"Better Value\"\n",
    "\n",
    "obj1 = b()\n",
    "obj2 = c()\n",
    "obj3 = d()\n",
    "\n",
    "print(obj1.brand_name_1+' is an '+obj1.prod_1+' and its popularity is:'+obj2.popularity_1+\" and its value is:\"+obj3.prod_value_1)"
   ]
  },
  {
   "cell_type": "code",
   "execution_count": 24,
   "id": "70b56807-269a-4880-b18c-cfaa151c95ab",
   "metadata": {},
   "outputs": [
    {
     "name": "stdout",
     "output_type": "stream",
     "text": [
      "Orry\n",
      "Karan Johar\n",
      "Yash and Roohi\n",
      "Final Product\n"
     ]
    }
   ],
   "source": [
    "# hybrid inheritance\n",
    "\n",
    "class a:\n",
    "    def name_a(self):\n",
    "        return('Karan Johar')\n",
    "\n",
    "class b:\n",
    "    def name_b(self):\n",
    "        return(\"Orry\")\n",
    "\n",
    "\n",
    "class c(a):\n",
    "    def name_c(self):\n",
    "        return(\"Yash and Roohi\")\n",
    "\n",
    "class d(b,c):\n",
    "    def name_d(self):\n",
    "        return('Final Product')\n",
    "\n",
    "\n",
    "obj1 = d()\n",
    "print(obj1.name_b())\n",
    "print(obj1.name_a())\n",
    "print(obj1.name_c())\n",
    "print(obj1.name_d())"
   ]
  },
  {
   "cell_type": "markdown",
   "id": "7b06ebb8-59ae-45f4-93de-d53bb025c030",
   "metadata": {},
   "source": [
    "# 4 Method of OOPS Concept\n",
    "\n",
    " * __1. Inheritance__\n",
    " * __2. Ploymorphism__\n",
    " * __3. Encapsulation__\n",
    " * __4. Data Abstraction__\n",
    "\n",
    " * __1.Inheritance(Mom And Daughter): Some property of mom inherits by her daughter.__\n",
    " * __2.Ploymorphism(child): In school behave like student, In home behave like son or daughter, In Bus behave like passenger, In shop behave like customer, In hospital behave like patients.__\n",
    " * __3.Encapsulation: School bag can keep books, pencil, pen, sharpner, eraser, LunchBox, Instrument Box.(Protecting or data).__\n",
    " * __Data Abstractions: ATM, Check Balance, Deposite cash, withdraw cash, print statement, (Hiding our irrelevant data).__"
   ]
  },
  {
   "cell_type": "code",
   "execution_count": 29,
   "id": "21e4b991-10a3-4e86-b16a-7240512ef13d",
   "metadata": {},
   "outputs": [
    {
     "name": "stdout",
     "output_type": "stream",
     "text": [
      "Hello Im calling child class.\n"
     ]
    }
   ],
   "source": [
    "# Inhertance\n",
    "\n",
    "class parent:\n",
    "    def parent_method(self):\n",
    "        print('Hello world')\n",
    "        print('Hi,Python')\n",
    "\n",
    "class child(parent):\n",
    "    def parent_method(self):\n",
    "        print('Hello Im calling child class.')\n",
    "\n",
    "x = child()\n",
    "x.parent_method()"
   ]
  },
  {
   "cell_type": "code",
   "execution_count": 30,
   "id": "1edb4a21-6033-4138-b4e1-dbb5d5c6bf82",
   "metadata": {},
   "outputs": [
    {
     "name": "stdout",
     "output_type": "stream",
     "text": [
      "Hello world\n",
      "Hi,Python\n"
     ]
    }
   ],
   "source": [
    "y = parent()\n",
    "y.parent_method()"
   ]
  },
  {
   "cell_type": "code",
   "execution_count": 33,
   "id": "8367b03b-5143-4c95-a3ea-a7b1cf405efd",
   "metadata": {},
   "outputs": [
    {
     "name": "stdout",
     "output_type": "stream",
     "text": [
      "Rasal\n",
      "22\n",
      "----------------------------------------------\n",
      "Ashish\n",
      "40\n",
      "Pune\n"
     ]
    }
   ],
   "source": [
    "class person:\n",
    "    def __init__(self,name,age):\n",
    "        self.name=name\n",
    "        self.age=age\n",
    "\n",
    "class person2:\n",
    "    def __init__(self,name,age,address):\n",
    "        self.name=name\n",
    "        self.age=age\n",
    "        self.address=address\n",
    "\n",
    "obj1=person('Rasal',22)\n",
    "print(obj1.name)\n",
    "print(obj1.age)\n",
    "\n",
    "print(\"----------------------------------------------\")\n",
    "obj2=person2('Ashish',40,'Pune')\n",
    "print(obj2.name)\n",
    "print(obj2.age)\n",
    "print(obj2.address)"
   ]
  },
  {
   "cell_type": "code",
   "execution_count": 40,
   "id": "56bde1f9-29dc-4610-8f2d-b7bae9215397",
   "metadata": {},
   "outputs": [
    {
     "name": "stdout",
     "output_type": "stream",
     "text": [
      "My Animal name is Tommy\n",
      "Animal Breed is Labrador\n",
      "Its color is Black\n",
      "Its size is Short\n"
     ]
    }
   ],
   "source": [
    "class animal:\n",
    "    def __init__(self,name,breed,color,food):\n",
    "        self.name=name\n",
    "        self.breed=breed  \n",
    "        self.color=color\n",
    "        self.food=food\n",
    "\n",
    "class animal1(animal):\n",
    "    def __init__(self,name,breed,color,food, size):\n",
    "        super().__init__(name,breed,color,food)\n",
    "        self.size = size\n",
    "\n",
    "    def details(self):\n",
    "        print(f'My Animal name is {self.name}')\n",
    "        print(f'Animal Breed is {self.breed}')\n",
    "        print(f'Its color is {self.color}')\n",
    "        print(f'Its size is {self.size}')\n",
    "\n",
    "obj1 = animal1('Tommy',\"Labrador\",\"Black\",\"Vegetarian\",\"Short\")\n",
    "# print(obj1.name)\n",
    "# print(obj1.breed)\n",
    "# print(obj1.color)\n",
    "# print(obj1.food)\n",
    "# print(obj1.size)\n",
    "obj1.details()"
   ]
  },
  {
   "cell_type": "code",
   "execution_count": 44,
   "id": "5afd9e0c-5d00-43f5-a5d7-bae47ec52944",
   "metadata": {},
   "outputs": [
    {
     "name": "stdout",
     "output_type": "stream",
     "text": [
      "Truputi\n",
      "55\n",
      "Pune\n",
      "Badminton\n"
     ]
    }
   ],
   "source": [
    "class person:\n",
    "    def __init__(self,name,age):\n",
    "        self.name = name\n",
    "        self.age =age\n",
    "\n",
    "\n",
    "class person1(person):\n",
    "    def __init__(self,name,age,address):\n",
    "        super().__init__(name,age)\n",
    "        self.address = address\n",
    "\n",
    "\n",
    "class person2(person1):\n",
    "    def __init__(self,name,age,address,hobby):\n",
    "        super().__init__(name,age,address)\n",
    "        self.hobby = hobby\n",
    "\n",
    "\n",
    "obj1 = person2('Truputi',55,'Pune','Badminton')\n",
    "print(obj1.name)\n",
    "print(obj1.age)\n",
    "print(obj1.address)\n",
    "print(obj1.hobby)"
   ]
  },
  {
   "cell_type": "code",
   "execution_count": 47,
   "id": "74d48e8a-34e5-4ae4-ab3d-4fc333926de2",
   "metadata": {},
   "outputs": [
    {
     "name": "stdout",
     "output_type": "stream",
     "text": [
      "Curved Surface Area of Cyliner is: (314.1592653589793, 'Cm²')\n",
      "Total Surface Area of Cyliner is: (471.23889803846896, 'Cm²')\n"
     ]
    }
   ],
   "source": [
    "import math\n",
    "class cylinder:\n",
    "    def __init__(self,radius,height):\n",
    "        self.radius = radius\n",
    "        self.height = height\n",
    "\n",
    "    def cylinder_details(self):\n",
    "        curved_surface_area = 2*math.pi*self.radius*self.height,'Cm²'\n",
    "        total_surface_area = 2*math.pi*self.radius*(self.radius + self.height),'Cm²'\n",
    "        volume = math.pi*self.radius**2*self.height\n",
    "        print('Curved Surface Area of Cyliner is:',curved_surface_area)\n",
    "        print('Total Surface Area of Cyliner is:',total_surface_area)\n",
    "\n",
    "\n",
    "obj =cylinder(5,10)\n",
    "obj.cylinder_details()"
   ]
  },
  {
   "cell_type": "code",
   "execution_count": null,
   "id": "94020bec-17e4-435c-b900-308bf90a96d6",
   "metadata": {},
   "outputs": [],
   "source": []
  }
 ],
 "metadata": {
  "kernelspec": {
   "display_name": "Python 3 (ipykernel)",
   "language": "python",
   "name": "python3"
  },
  "language_info": {
   "codemirror_mode": {
    "name": "ipython",
    "version": 3
   },
   "file_extension": ".py",
   "mimetype": "text/x-python",
   "name": "python",
   "nbconvert_exporter": "python",
   "pygments_lexer": "ipython3",
   "version": "3.12.2"
  }
 },
 "nbformat": 4,
 "nbformat_minor": 5
}
