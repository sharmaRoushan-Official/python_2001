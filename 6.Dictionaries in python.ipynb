{
 "cells": [
  {
   "cell_type": "markdown",
   "id": "0dc6d702-8096-4ddd-b84b-1d101604ad68",
   "metadata": {},
   "source": [
    "# 6. Dictioanries in Python\n",
    "\n",
    " * __Dicationaries are used to store data values in kay:values pair.__\n",
    " * __A dicationary is a colleciton which is ordered, changeable or mutable and do not allow duplicates.__\n",
    " * __Dicatioanry item are ordered, changeable, and does not allow duplicates.__\n",
    " * __Dicationary items are presented in key:value pairs, and can be referred to by using the kay name.__\n",
    " * __Dictioanries are changeable, meaning that we can change, add or remove items after the dictionary has been created.__\n",
    " * __Dictioanries cannot have two items with the same key.__\n",
    " * __A dictioanry can be nested and can contain any another dictionary.__\n",
    "\n",
    "       * ___Keys__:  __Values__\n",
    "       * __'Name'__: __'Xavier'__\n",
    "       * __'age'__: __25__\n",
    "       * __\"job\"__: __'Devops'__\n",
    "       * __\"city\" __: __'New York'__\n",
    "       * __'email'__: __'xavier@gmail.com'__\n",
    "       "
   ]
  },
  {
   "cell_type": "code",
   "execution_count": 2,
   "id": "2b020041-4175-4653-ac5b-6e79e7df46c2",
   "metadata": {},
   "outputs": [
    {
     "name": "stdout",
     "output_type": "stream",
     "text": [
      "{}\n",
      "<class 'dict'>\n"
     ]
    }
   ],
   "source": [
    "sample_dic = {}\n",
    "print(sample_dic)\n",
    "print(type(sample_dic))"
   ]
  },
  {
   "cell_type": "code",
   "execution_count": 5,
   "id": "2c5fe017-d337-478c-aa11-1a1d04b5f28a",
   "metadata": {},
   "outputs": [
    {
     "name": "stdout",
     "output_type": "stream",
     "text": [
      "{'name': 'happy new year', 'bool': True, 'bool2': False, 'year': 2025, 'pi': 3.147, 10: 20}\n"
     ]
    }
   ],
   "source": [
    "dict1 = {'name':'happy new year','bool':True,'bool2':False,\n",
    "        'year':2025,'pi':3.147,10:20}\n",
    "\n",
    "print(dict1)"
   ]
  },
  {
   "cell_type": "code",
   "execution_count": 6,
   "id": "5c3558b4-3191-4953-9071-513e43c5cf74",
   "metadata": {},
   "outputs": [
    {
     "name": "stdout",
     "output_type": "stream",
     "text": [
      "dict_keys(['name', 'bool', 'bool2', 'year', 'pi', 10])\n"
     ]
    }
   ],
   "source": [
    "print(dict1.keys())"
   ]
  },
  {
   "cell_type": "code",
   "execution_count": 7,
   "id": "620976ef-3402-460c-a63f-877d09371b50",
   "metadata": {},
   "outputs": [
    {
     "name": "stdout",
     "output_type": "stream",
     "text": [
      "dict_values(['happy new year', True, False, 2025, 3.147, 20])\n"
     ]
    }
   ],
   "source": [
    "print(dict1.values())"
   ]
  },
  {
   "cell_type": "code",
   "execution_count": 8,
   "id": "fcc35206-17ee-44cd-a615-1d3dfa27e453",
   "metadata": {},
   "outputs": [
    {
     "data": {
      "text/plain": [
       "{'name': 'happy new year',\n",
       " 'bool': True,\n",
       " 'bool2': False,\n",
       " 'year': 2025,\n",
       " 'pi': 3.147,\n",
       " 10: 20}"
      ]
     },
     "execution_count": 8,
     "metadata": {},
     "output_type": "execute_result"
    }
   ],
   "source": [
    "# Accessing value of the dictionary.\n",
    "\n",
    "dict1"
   ]
  },
  {
   "cell_type": "code",
   "execution_count": 9,
   "id": "3925095a-d655-4375-b1e3-f55dd999f5f5",
   "metadata": {},
   "outputs": [
    {
     "ename": "KeyError",
     "evalue": "0",
     "output_type": "error",
     "traceback": [
      "\u001b[1;31m---------------------------------------------------------------------------\u001b[0m",
      "\u001b[1;31mKeyError\u001b[0m                                  Traceback (most recent call last)",
      "Cell \u001b[1;32mIn[9], line 1\u001b[0m\n\u001b[1;32m----> 1\u001b[0m \u001b[43mdict1\u001b[49m\u001b[43m[\u001b[49m\u001b[38;5;241;43m0\u001b[39;49m\u001b[43m]\u001b[49m\n",
      "\u001b[1;31mKeyError\u001b[0m: 0"
     ]
    }
   ],
   "source": [
    "dict1[0]"
   ]
  },
  {
   "cell_type": "code",
   "execution_count": 10,
   "id": "9a272fa1-47bb-4672-ac2b-ff255e40e0d6",
   "metadata": {},
   "outputs": [
    {
     "data": {
      "text/plain": [
       "'happy new year'"
      ]
     },
     "execution_count": 10,
     "metadata": {},
     "output_type": "execute_result"
    }
   ],
   "source": [
    "dict1['name']"
   ]
  },
  {
   "cell_type": "code",
   "execution_count": 12,
   "id": "52df6040-680a-49a1-ba85-4436c8f9cf19",
   "metadata": {},
   "outputs": [
    {
     "data": {
      "text/plain": [
       "True"
      ]
     },
     "execution_count": 12,
     "metadata": {},
     "output_type": "execute_result"
    }
   ],
   "source": [
    "dict1['bool']"
   ]
  },
  {
   "cell_type": "code",
   "execution_count": 14,
   "id": "ffa0c649-ed8c-43bb-b461-dd9a5766c5ab",
   "metadata": {},
   "outputs": [
    {
     "data": {
      "text/plain": [
       "False"
      ]
     },
     "execution_count": 14,
     "metadata": {},
     "output_type": "execute_result"
    }
   ],
   "source": [
    "dict1['bool2']"
   ]
  },
  {
   "cell_type": "code",
   "execution_count": 15,
   "id": "c659254f-c745-42ae-b490-e3abba5d8e96",
   "metadata": {},
   "outputs": [
    {
     "data": {
      "text/plain": [
       "2025"
      ]
     },
     "execution_count": 15,
     "metadata": {},
     "output_type": "execute_result"
    }
   ],
   "source": [
    "dict1['year']"
   ]
  },
  {
   "cell_type": "code",
   "execution_count": 16,
   "id": "2ce97f62-fdef-46ab-87cb-593cb4731184",
   "metadata": {},
   "outputs": [
    {
     "data": {
      "text/plain": [
       "3.147"
      ]
     },
     "execution_count": 16,
     "metadata": {},
     "output_type": "execute_result"
    }
   ],
   "source": [
    "dict1['pi']"
   ]
  },
  {
   "cell_type": "code",
   "execution_count": 17,
   "id": "b10c0544-51fc-4cf9-b390-883d90f3f511",
   "metadata": {},
   "outputs": [
    {
     "data": {
      "text/plain": [
       "20"
      ]
     },
     "execution_count": 17,
     "metadata": {},
     "output_type": "execute_result"
    }
   ],
   "source": [
    "dict1[10]"
   ]
  },
  {
   "cell_type": "code",
   "execution_count": 19,
   "id": "404707d7-0847-486d-ab57-a241bdd910c5",
   "metadata": {},
   "outputs": [
    {
     "data": {
      "text/plain": [
       "'happy new year'"
      ]
     },
     "execution_count": 19,
     "metadata": {},
     "output_type": "execute_result"
    }
   ],
   "source": [
    "dict1['name']"
   ]
  },
  {
   "cell_type": "code",
   "execution_count": null,
   "id": "b727c482-aceb-4cb5-90f9-2f8a6c43b920",
   "metadata": {},
   "outputs": [],
   "source": []
  }
 ],
 "metadata": {
  "kernelspec": {
   "display_name": "Python 3 (ipykernel)",
   "language": "python",
   "name": "python3"
  },
  "language_info": {
   "codemirror_mode": {
    "name": "ipython",
    "version": 3
   },
   "file_extension": ".py",
   "mimetype": "text/x-python",
   "name": "python",
   "nbconvert_exporter": "python",
   "pygments_lexer": "ipython3",
   "version": "3.12.2"
  }
 },
 "nbformat": 4,
 "nbformat_minor": 5
}
