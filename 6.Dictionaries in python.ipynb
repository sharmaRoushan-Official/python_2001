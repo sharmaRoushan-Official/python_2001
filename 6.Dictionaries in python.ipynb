{
 "cells": [
  {
   "cell_type": "markdown",
   "id": "0dc6d702-8096-4ddd-b84b-1d101604ad68",
   "metadata": {},
   "source": [
    "# 6. Dictioanries in Python\n",
    "\n",
    " * __Dicationaries are used to store data values in kay:values pair.__\n",
    " * __A dicationary is a colleciton which is ordered, changeable or mutable and do not allow duplicates.__\n",
    " * __Dicatioanry item are ordered, changeable, and does not allow duplicates.__\n",
    " * __Dicationary items are presented in key:value pairs, and can be referred to by using the kay name.__\n",
    " * __Dictioanries are changeable, meaning that we can change, add or remove items after the dictionary has been created.__\n",
    " * __Dictioanries cannot have two items with the same key.__\n",
    " * __A dictioanry can be nested and can contain any another dictionary.__\n",
    "\n",
    "       * ___Keys__:  __Values__\n",
    "       * __'Name'__: __'Xavier'__\n",
    "       * __'age'__: __25__\n",
    "       * __\"job\"__: __'Devops'__\n",
    "       * __\"city\" __: __'New York'__\n",
    "       * __'email'__: __'xavier@gmail.com'__\n",
    "       "
   ]
  },
  {
   "cell_type": "code",
   "execution_count": 2,
   "id": "2b020041-4175-4653-ac5b-6e79e7df46c2",
   "metadata": {},
   "outputs": [
    {
     "name": "stdout",
     "output_type": "stream",
     "text": [
      "{}\n",
      "<class 'dict'>\n"
     ]
    }
   ],
   "source": [
    "sample_dic = {}\n",
    "print(sample_dic)\n",
    "print(type(sample_dic))"
   ]
  },
  {
   "cell_type": "code",
   "execution_count": 5,
   "id": "2c5fe017-d337-478c-aa11-1a1d04b5f28a",
   "metadata": {},
   "outputs": [
    {
     "name": "stdout",
     "output_type": "stream",
     "text": [
      "{'name': 'happy new year', 'bool': True, 'bool2': False, 'year': 2025, 'pi': 3.147, 10: 20}\n"
     ]
    }
   ],
   "source": [
    "dict1 = {'name':'happy new year','bool':True,'bool2':False,\n",
    "        'year':2025,'pi':3.147,10:20}\n",
    "\n",
    "print(dict1)"
   ]
  },
  {
   "cell_type": "code",
   "execution_count": 6,
   "id": "5c3558b4-3191-4953-9071-513e43c5cf74",
   "metadata": {},
   "outputs": [
    {
     "name": "stdout",
     "output_type": "stream",
     "text": [
      "dict_keys(['name', 'bool', 'bool2', 'year', 'pi', 10])\n"
     ]
    }
   ],
   "source": [
    "print(dict1.keys())"
   ]
  },
  {
   "cell_type": "code",
   "execution_count": 7,
   "id": "620976ef-3402-460c-a63f-877d09371b50",
   "metadata": {},
   "outputs": [
    {
     "name": "stdout",
     "output_type": "stream",
     "text": [
      "dict_values(['happy new year', True, False, 2025, 3.147, 20])\n"
     ]
    }
   ],
   "source": [
    "print(dict1.values())"
   ]
  },
  {
   "cell_type": "code",
   "execution_count": 8,
   "id": "fcc35206-17ee-44cd-a615-1d3dfa27e453",
   "metadata": {},
   "outputs": [
    {
     "data": {
      "text/plain": [
       "{'name': 'happy new year',\n",
       " 'bool': True,\n",
       " 'bool2': False,\n",
       " 'year': 2025,\n",
       " 'pi': 3.147,\n",
       " 10: 20}"
      ]
     },
     "execution_count": 8,
     "metadata": {},
     "output_type": "execute_result"
    }
   ],
   "source": [
    "# Accessing value of the dictionary.\n",
    "\n",
    "dict1"
   ]
  },
  {
   "cell_type": "code",
   "execution_count": 9,
   "id": "3925095a-d655-4375-b1e3-f55dd999f5f5",
   "metadata": {},
   "outputs": [
    {
     "ename": "KeyError",
     "evalue": "0",
     "output_type": "error",
     "traceback": [
      "\u001b[1;31m---------------------------------------------------------------------------\u001b[0m",
      "\u001b[1;31mKeyError\u001b[0m                                  Traceback (most recent call last)",
      "Cell \u001b[1;32mIn[9], line 1\u001b[0m\n\u001b[1;32m----> 1\u001b[0m \u001b[43mdict1\u001b[49m\u001b[43m[\u001b[49m\u001b[38;5;241;43m0\u001b[39;49m\u001b[43m]\u001b[49m\n",
      "\u001b[1;31mKeyError\u001b[0m: 0"
     ]
    }
   ],
   "source": [
    "dict1[0]"
   ]
  },
  {
   "cell_type": "code",
   "execution_count": 10,
   "id": "9a272fa1-47bb-4672-ac2b-ff255e40e0d6",
   "metadata": {},
   "outputs": [
    {
     "data": {
      "text/plain": [
       "'happy new year'"
      ]
     },
     "execution_count": 10,
     "metadata": {},
     "output_type": "execute_result"
    }
   ],
   "source": [
    "dict1['name']"
   ]
  },
  {
   "cell_type": "code",
   "execution_count": 12,
   "id": "52df6040-680a-49a1-ba85-4436c8f9cf19",
   "metadata": {},
   "outputs": [
    {
     "data": {
      "text/plain": [
       "True"
      ]
     },
     "execution_count": 12,
     "metadata": {},
     "output_type": "execute_result"
    }
   ],
   "source": [
    "dict1['bool']"
   ]
  },
  {
   "cell_type": "code",
   "execution_count": 14,
   "id": "ffa0c649-ed8c-43bb-b461-dd9a5766c5ab",
   "metadata": {},
   "outputs": [
    {
     "data": {
      "text/plain": [
       "False"
      ]
     },
     "execution_count": 14,
     "metadata": {},
     "output_type": "execute_result"
    }
   ],
   "source": [
    "dict1['bool2']"
   ]
  },
  {
   "cell_type": "code",
   "execution_count": 15,
   "id": "c659254f-c745-42ae-b490-e3abba5d8e96",
   "metadata": {},
   "outputs": [
    {
     "data": {
      "text/plain": [
       "2025"
      ]
     },
     "execution_count": 15,
     "metadata": {},
     "output_type": "execute_result"
    }
   ],
   "source": [
    "dict1['year']"
   ]
  },
  {
   "cell_type": "code",
   "execution_count": 16,
   "id": "2ce97f62-fdef-46ab-87cb-593cb4731184",
   "metadata": {},
   "outputs": [
    {
     "data": {
      "text/plain": [
       "3.147"
      ]
     },
     "execution_count": 16,
     "metadata": {},
     "output_type": "execute_result"
    }
   ],
   "source": [
    "dict1['pi']"
   ]
  },
  {
   "cell_type": "code",
   "execution_count": 17,
   "id": "b10c0544-51fc-4cf9-b390-883d90f3f511",
   "metadata": {},
   "outputs": [
    {
     "data": {
      "text/plain": [
       "20"
      ]
     },
     "execution_count": 17,
     "metadata": {},
     "output_type": "execute_result"
    }
   ],
   "source": [
    "dict1[10]"
   ]
  },
  {
   "cell_type": "code",
   "execution_count": 19,
   "id": "404707d7-0847-486d-ab57-a241bdd910c5",
   "metadata": {},
   "outputs": [
    {
     "data": {
      "text/plain": [
       "'happy new year'"
      ]
     },
     "execution_count": 19,
     "metadata": {},
     "output_type": "execute_result"
    }
   ],
   "source": [
    "dict1['name']"
   ]
  },
  {
   "cell_type": "code",
   "execution_count": 1,
   "id": "b727c482-aceb-4cb5-90f9-2f8a6c43b920",
   "metadata": {},
   "outputs": [
    {
     "name": "stdout",
     "output_type": "stream",
     "text": [
      "{}\n"
     ]
    }
   ],
   "source": [
    "# Accessing dictionary\n",
    "sample_dict={}\n",
    "print(sample_dict)"
   ]
  },
  {
   "cell_type": "code",
   "execution_count": 2,
   "id": "9ed28dba-5988-4958-9a5e-7d7b4574641d",
   "metadata": {},
   "outputs": [
    {
     "name": "stdout",
     "output_type": "stream",
     "text": [
      "<class 'dict'>\n"
     ]
    }
   ],
   "source": [
    "print(type(sample_dict))"
   ]
  },
  {
   "cell_type": "code",
   "execution_count": 3,
   "id": "9a63d068-d2ee-4861-aa46-3f423bad6adb",
   "metadata": {},
   "outputs": [
    {
     "name": "stdout",
     "output_type": "stream",
     "text": [
      "{'name': 'Uday Rasal', 'age': 45, 'phone no': '123456789', 'Address': 'India Gate'}\n"
     ]
    }
   ],
   "source": [
    "sample_dict={'name':'Uday Rasal','age':45,'phone no':'123456789','Address':'India Gate'}\n",
    "print(sample_dict)"
   ]
  },
  {
   "cell_type": "code",
   "execution_count": 5,
   "id": "d8948743-a296-4219-b14d-55f214e4a68a",
   "metadata": {},
   "outputs": [
    {
     "data": {
      "text/plain": [
       "'Uday Rasal'"
      ]
     },
     "execution_count": 5,
     "metadata": {},
     "output_type": "execute_result"
    }
   ],
   "source": [
    "sample_dict['name']"
   ]
  },
  {
   "cell_type": "code",
   "execution_count": 6,
   "id": "81667588-7d77-4329-8c43-9ec47585f979",
   "metadata": {},
   "outputs": [
    {
     "data": {
      "text/plain": [
       "45"
      ]
     },
     "execution_count": 6,
     "metadata": {},
     "output_type": "execute_result"
    }
   ],
   "source": [
    "sample_dict['age']"
   ]
  },
  {
   "cell_type": "code",
   "execution_count": 7,
   "id": "279edb21-bd77-4040-9ddb-a2c94c0ebe03",
   "metadata": {},
   "outputs": [
    {
     "data": {
      "text/plain": [
       "'123456789'"
      ]
     },
     "execution_count": 7,
     "metadata": {},
     "output_type": "execute_result"
    }
   ],
   "source": [
    "sample_dict['phone no']"
   ]
  },
  {
   "cell_type": "code",
   "execution_count": 8,
   "id": "98fd3903-5711-45f2-8078-003a36962779",
   "metadata": {},
   "outputs": [
    {
     "data": {
      "text/plain": [
       "'India Gate'"
      ]
     },
     "execution_count": 8,
     "metadata": {},
     "output_type": "execute_result"
    }
   ],
   "source": [
    "sample_dict['Address']"
   ]
  },
  {
   "cell_type": "code",
   "execution_count": 12,
   "id": "73dec72f-d4b9-4d0a-b8cf-0ade47056b07",
   "metadata": {},
   "outputs": [],
   "source": [
    "# Adding new key and their value in the dicationary.\n",
    "\n",
    "sample_dict['Gender'] = 'Male'"
   ]
  },
  {
   "cell_type": "code",
   "execution_count": 13,
   "id": "2f8e4def-1d39-47c7-8320-5d29712ae564",
   "metadata": {},
   "outputs": [
    {
     "data": {
      "text/plain": [
       "{'name': 'Uday Rasal',\n",
       " 'age': 45,\n",
       " 'phone no': '123456789',\n",
       " 'Address': 'India Gate',\n",
       " 'Gender': 'Male'}"
      ]
     },
     "execution_count": 13,
     "metadata": {},
     "output_type": "execute_result"
    }
   ],
   "source": [
    "sample_dict"
   ]
  },
  {
   "cell_type": "code",
   "execution_count": 15,
   "id": "92338990-110a-4188-a6cf-b7377c8f9a45",
   "metadata": {},
   "outputs": [],
   "source": [
    "sample_dict['Gender'] = 'Female'"
   ]
  },
  {
   "cell_type": "code",
   "execution_count": 16,
   "id": "4ea8e257-98dc-4b3e-b6ab-cb839db7bf8c",
   "metadata": {},
   "outputs": [
    {
     "data": {
      "text/plain": [
       "{'name': 'Uday Rasal',\n",
       " 'age': 45,\n",
       " 'phone no': '123456789',\n",
       " 'Address': 'India Gate',\n",
       " 'Gender': 'Female'}"
      ]
     },
     "execution_count": 16,
     "metadata": {},
     "output_type": "execute_result"
    }
   ],
   "source": [
    "sample_dict"
   ]
  },
  {
   "cell_type": "code",
   "execution_count": 17,
   "id": "73d1fad3-445b-45f0-87a1-55ed3923b49a",
   "metadata": {},
   "outputs": [
    {
     "data": {
      "text/plain": [
       "{'name': 'Uday Rasal',\n",
       " 'age': 45,\n",
       " 'phone no': '123456789',\n",
       " 'Address': 'India Gate',\n",
       " 'Gender': 'Male'}"
      ]
     },
     "execution_count": 17,
     "metadata": {},
     "output_type": "execute_result"
    }
   ],
   "source": [
    "sample_dict['Gender'] = 'Male'\n",
    "sample_dict"
   ]
  },
  {
   "cell_type": "code",
   "execution_count": 19,
   "id": "ac4440fb-8630-4843-adca-d867f58ba629",
   "metadata": {},
   "outputs": [],
   "source": [
    "# del() to delete key inside the dictioanry\n",
    "del(sample_dict['Gender'])"
   ]
  },
  {
   "cell_type": "code",
   "execution_count": 20,
   "id": "ff47f4d1-bdb0-47cd-ad14-8a548be62e67",
   "metadata": {},
   "outputs": [
    {
     "data": {
      "text/plain": [
       "{'name': 'Uday Rasal',\n",
       " 'age': 45,\n",
       " 'phone no': '123456789',\n",
       " 'Address': 'India Gate'}"
      ]
     },
     "execution_count": 20,
     "metadata": {},
     "output_type": "execute_result"
    }
   ],
   "source": [
    "sample_dict"
   ]
  },
  {
   "cell_type": "code",
   "execution_count": 21,
   "id": "fec582e3-2ae6-4573-980c-253a4c3b5eee",
   "metadata": {},
   "outputs": [
    {
     "data": {
      "text/plain": [
       "dict_keys(['name', 'age', 'phone no', 'Address'])"
      ]
     },
     "execution_count": 21,
     "metadata": {},
     "output_type": "execute_result"
    }
   ],
   "source": [
    "sample_dict.keys()"
   ]
  },
  {
   "cell_type": "code",
   "execution_count": 22,
   "id": "de4866b9-2a67-4729-87cb-abf2f04a9727",
   "metadata": {},
   "outputs": [
    {
     "data": {
      "text/plain": [
       "dict_values(['Uday Rasal', 45, '123456789', 'India Gate'])"
      ]
     },
     "execution_count": 22,
     "metadata": {},
     "output_type": "execute_result"
    }
   ],
   "source": [
    "sample_dict.values()"
   ]
  },
  {
   "cell_type": "code",
   "execution_count": 23,
   "id": "cd0381ab-7d87-41ae-8705-94fc3fa375d7",
   "metadata": {},
   "outputs": [
    {
     "data": {
      "text/plain": [
       "{'family': 'Music', 'type': 'Pop', 'year': 2025, 'name': 'New Year'}"
      ]
     },
     "execution_count": 23,
     "metadata": {},
     "output_type": "execute_result"
    }
   ],
   "source": [
    "# dict() method\n",
    "\n",
    "dict_sample = dict(family='Music',type='Pop',year=2025,name='New Year')\n",
    "dict_sample"
   ]
  },
  {
   "cell_type": "code",
   "execution_count": 24,
   "id": "78d480dc-de36-45e1-ae7c-baf09a8a566e",
   "metadata": {},
   "outputs": [
    {
     "data": {
      "text/plain": [
       "{'family': 'Music', 'type': 'Pop', 'year': 2025, 'name': 'New Year'}"
      ]
     },
     "execution_count": 24,
     "metadata": {},
     "output_type": "execute_result"
    }
   ],
   "source": [
    "# clear() function\n",
    "\n",
    "dict_sample1 = dict(family='Music',type='Pop',year=2025,name='New Year')\n",
    "dict_sample1"
   ]
  },
  {
   "cell_type": "code",
   "execution_count": 25,
   "id": "58c14b46-1b18-4730-b3fe-f417dc395048",
   "metadata": {},
   "outputs": [],
   "source": [
    "dict_sample1.clear()"
   ]
  },
  {
   "cell_type": "code",
   "execution_count": 26,
   "id": "c39a3b90-17a2-444d-b439-0f7ba76ff2e6",
   "metadata": {},
   "outputs": [
    {
     "data": {
      "text/plain": [
       "{}"
      ]
     },
     "execution_count": 26,
     "metadata": {},
     "output_type": "execute_result"
    }
   ],
   "source": [
    "dict_sample1"
   ]
  },
  {
   "cell_type": "code",
   "execution_count": 27,
   "id": "92ea1293-972c-4d59-a3f8-a11bc8bfdc08",
   "metadata": {},
   "outputs": [],
   "source": [
    "# pop() function\n",
    "# This function is used to remove a specific item from the dictioanry.\n"
   ]
  },
  {
   "cell_type": "code",
   "execution_count": 28,
   "id": "2e257b4b-78a9-4039-b14f-d56f604131e2",
   "metadata": {},
   "outputs": [
    {
     "data": {
      "text/plain": [
       "{'family': 'Music', 'type': 'Pop', 'year': 2025, 'name': 'New Year'}"
      ]
     },
     "execution_count": 28,
     "metadata": {},
     "output_type": "execute_result"
    }
   ],
   "source": [
    "dict_sample"
   ]
  },
  {
   "cell_type": "code",
   "execution_count": 29,
   "id": "41a5eb41-b1ff-4ae0-abda-ccedda73dda4",
   "metadata": {},
   "outputs": [
    {
     "data": {
      "text/plain": [
       "'Pop'"
      ]
     },
     "execution_count": 29,
     "metadata": {},
     "output_type": "execute_result"
    }
   ],
   "source": [
    "dict_sample.pop('type')"
   ]
  },
  {
   "cell_type": "code",
   "execution_count": 30,
   "id": "e56fa443-6fee-4d57-9d1f-b57c04713285",
   "metadata": {},
   "outputs": [
    {
     "data": {
      "text/plain": [
       "{'family': 'Music', 'year': 2025, 'name': 'New Year'}"
      ]
     },
     "execution_count": 30,
     "metadata": {},
     "output_type": "execute_result"
    }
   ],
   "source": [
    "dict_sample"
   ]
  },
  {
   "cell_type": "code",
   "execution_count": 31,
   "id": "c3ec30a6-7083-4e54-8c56-82ffd3bdb4d6",
   "metadata": {},
   "outputs": [
    {
     "data": {
      "text/plain": [
       "{'name': 'Uday Rasal',\n",
       " 'age': 45,\n",
       " 'phone no': '123456789',\n",
       " 'Address': 'India Gate'}"
      ]
     },
     "execution_count": 31,
     "metadata": {},
     "output_type": "execute_result"
    }
   ],
   "source": [
    "# popitem() function\n",
    "\n",
    "sample_dict"
   ]
  },
  {
   "cell_type": "code",
   "execution_count": 32,
   "id": "d0a49944-7310-4c54-a4df-3313c5fc527f",
   "metadata": {},
   "outputs": [
    {
     "data": {
      "text/plain": [
       "('Address', 'India Gate')"
      ]
     },
     "execution_count": 32,
     "metadata": {},
     "output_type": "execute_result"
    }
   ],
   "source": [
    "sample_dict.popitem()"
   ]
  },
  {
   "cell_type": "code",
   "execution_count": 33,
   "id": "46b5c21f-6337-495d-b545-6302e1459de5",
   "metadata": {},
   "outputs": [
    {
     "data": {
      "text/plain": [
       "{'name': 'Uday Rasal', 'age': 45, 'phone no': '123456789'}"
      ]
     },
     "execution_count": 33,
     "metadata": {},
     "output_type": "execute_result"
    }
   ],
   "source": [
    "sample_dict"
   ]
  },
  {
   "cell_type": "code",
   "execution_count": 34,
   "id": "25f22e31-c0d5-4d00-8ab9-2b5e00249799",
   "metadata": {},
   "outputs": [
    {
     "data": {
      "text/plain": [
       "{'name': 'Uday Rasal', 'age': 45, 'phone no': '123456789'}"
      ]
     },
     "execution_count": 34,
     "metadata": {},
     "output_type": "execute_result"
    }
   ],
   "source": [
    "# get() function\n",
    "sample_dict"
   ]
  },
  {
   "cell_type": "code",
   "execution_count": 35,
   "id": "af6e76b4-a138-4372-a667-5be126b6d10f",
   "metadata": {},
   "outputs": [
    {
     "data": {
      "text/plain": [
       "'Uday Rasal'"
      ]
     },
     "execution_count": 35,
     "metadata": {},
     "output_type": "execute_result"
    }
   ],
   "source": [
    "sample_dict.get('name')"
   ]
  },
  {
   "cell_type": "code",
   "execution_count": 37,
   "id": "babb1c20-1480-4230-8b39-a6fba42b803e",
   "metadata": {},
   "outputs": [
    {
     "name": "stdout",
     "output_type": "stream",
     "text": [
      "None\n"
     ]
    }
   ],
   "source": [
    "print(sample_dict.get('Address'))"
   ]
  },
  {
   "cell_type": "code",
   "execution_count": 39,
   "id": "4d4ee657-4e71-46e4-9e82-175919511ab5",
   "metadata": {},
   "outputs": [
    {
     "data": {
      "text/plain": [
       "dict_items([('name', 'Uday Rasal'), ('age', 45), ('phone no', '123456789')])"
      ]
     },
     "execution_count": 39,
     "metadata": {},
     "output_type": "execute_result"
    }
   ],
   "source": [
    "# items() method\n",
    "sample_dict.items()"
   ]
  },
  {
   "cell_type": "code",
   "execution_count": 40,
   "id": "fccbafe3-587a-4abb-9693-1263064f720a",
   "metadata": {},
   "outputs": [
    {
     "data": {
      "text/plain": [
       "{'name': 'Uday Rasal', 'age': 45, 'phone no': '123456789'}"
      ]
     },
     "execution_count": 40,
     "metadata": {},
     "output_type": "execute_result"
    }
   ],
   "source": [
    "# loop\n",
    "\n",
    "sample_dict"
   ]
  },
  {
   "cell_type": "code",
   "execution_count": 41,
   "id": "8b01a3e9-8d19-4dae-b57d-71f054ca0c29",
   "metadata": {},
   "outputs": [
    {
     "name": "stdout",
     "output_type": "stream",
     "text": [
      "('name', 'Uday Rasal')\n",
      "('age', 45)\n",
      "('phone no', '123456789')\n"
     ]
    }
   ],
   "source": [
    "for i in sample_dict.items():\n",
    "    print(i)"
   ]
  },
  {
   "cell_type": "code",
   "execution_count": null,
   "id": "c5bdbe43-734a-4496-ac89-8906cb898dca",
   "metadata": {},
   "outputs": [],
   "source": []
  }
 ],
 "metadata": {
  "kernelspec": {
   "display_name": "Python 3 (ipykernel)",
   "language": "python",
   "name": "python3"
  },
  "language_info": {
   "codemirror_mode": {
    "name": "ipython",
    "version": 3
   },
   "file_extension": ".py",
   "mimetype": "text/x-python",
   "name": "python",
   "nbconvert_exporter": "python",
   "pygments_lexer": "ipython3",
   "version": "3.12.2"
  }
 },
 "nbformat": 4,
 "nbformat_minor": 5
}
