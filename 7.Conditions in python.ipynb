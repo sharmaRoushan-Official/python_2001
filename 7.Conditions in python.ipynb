{
 "cells": [
  {
   "cell_type": "markdown",
   "id": "2b42c16f-70a7-4dbe-83a5-cbd5ab8a8839",
   "metadata": {},
   "source": [
    "# 7. Conditions in Python\n",
    "\n",
    " * __Operator__\n",
    " * __1.Mathematical Operator:+,-,*,/,//,** etc.__\n",
    " * __2.Logical Operator: AND,OR,NOT etc.__\n",
    " * __3.Membership Opertor: in or not in__\n",
    " * __4.Identity Operator: is or is not.__\n",
    " * __5.Comparison Opertor: >,<,>=,<=,==,!=.__\n",
    " * __6.Assignment Operator: =__\n",
    "\n",
    "\n",
    "# Branching (if,elif,else)\n",
    "\n",
    " * __Decision making is required when we wanto to execute a code if a cetain condition is satisfied.__\n",
    " * __The if/elif/else statement is used in python decision making.__\n",
    " * __An else statement can be combined with an if statement.__\n",
    " * __An else statement contains the block of code that executes if the conditional expression in the if statemnt resolves to 0 or a False value.__\n",
    " * __The else statement allow you to check multiple expression for True and execute a block of code as soon as one of the coditions evaluates to True.__\n",
    " * __Similar to the else, the elif statement is optional.__\n",
    " * __However, unlike else, for which there can be at most one statement, there can be an arbitrary number of elif statement following an if.__"
   ]
  },
  {
   "cell_type": "code",
   "execution_count": 8,
   "id": "5fde1af1-fded-483b-abc9-f1ce03800761",
   "metadata": {},
   "outputs": [
    {
     "name": "stdout",
     "output_type": "stream",
     "text": [
      "The number pi 3.14 is greater than the ratio 2.718.\n"
     ]
    }
   ],
   "source": [
    "pi = 3.14\n",
    "ratio = 2.718\n",
    "\n",
    "# if conidition(True/False):\n",
    "#     print('statement')\n",
    "\n",
    "\n",
    "# else:\n",
    "#     print('Statement')\n",
    "\n",
    "\n",
    "if pi>ratio:\n",
    "    print(f'The number pi {pi} is greater than the ratio {ratio}.')   # f-string ()\n",
    "\n",
    "\n",
    "else:\n",
    "    print('Done')"
   ]
  },
  {
   "cell_type": "code",
   "execution_count": 13,
   "id": "705772f6-7b17-4c1f-94fe-f5c0664d7145",
   "metadata": {},
   "outputs": [
    {
     "name": "stdout",
     "output_type": "stream",
     "text": [
      "You should go to Kindergarted.\n"
     ]
    }
   ],
   "source": [
    "age = 5\n",
    "\n",
    "if age>6:\n",
    "    print('You can go to primary school.')\n",
    "elif age==5:\n",
    "    print('You should go to Kindergarted.')\n",
    "\n",
    "else:\n",
    "    print('You are Baby.')"
   ]
  },
  {
   "cell_type": "code",
   "execution_count": 16,
   "id": "92d58b32-aba5-47a5-8430-b07b8d807269",
   "metadata": {},
   "outputs": [
    {
     "name": "stdin",
     "output_type": "stream",
     "text": [
      "Enter Your First Age: 50\n",
      "Enter Your Second Age: 52\n"
     ]
    },
    {
     "name": "stdout",
     "output_type": "stream",
     "text": [
      "Age 52 is greter than age 50\n"
     ]
    }
   ],
   "source": [
    "# wap to take two input from user and display greatest of them.\n",
    "\n",
    "age1 = int(input('Enter Your First Age:'))\n",
    "\n",
    "age2 = int(input('Enter Your Second Age:'))\n",
    "\n",
    "\n",
    "if age1>age2:\n",
    "    print(f'Age {age1} is greater than age {age2}')\n",
    "\n",
    "\n",
    "else:\n",
    "    print(f'Age {age2} is greter than age {age1}')"
   ]
  },
  {
   "cell_type": "code",
   "execution_count": null,
   "id": "bed57c40-db36-4a65-8ac6-abf4e496ef43",
   "metadata": {},
   "outputs": [],
   "source": [
    "# Wap to display monthname if user enter the value 1= 'Januaray', 2='February', 3='March' etc 13-\"Not Month Found.\"\n",
    "\n",
    "# Q.1 - Wap to take input from user and display movie rating according to the rating value.\n",
    "# 8.0 - 10.0 => 'You can watch movie in the Theater.'\n",
    "# 5.0 - 8.0 => \"You can watch this movie at your home.\"\n",
    "# Below 5.0 => \"You can't watch this movie.\"\n",
    "\n",
    "\n",
    "# Q.2 -> Write a program to find the even or odd number from user input number.\n",
    "\n",
    "\n",
    "# Q.3 -> Write a program to check user input value is divisible by 7,8. [56]\n",
    "\n",
    "\n",
    "# Q.4 -> Wap to check user inptu value is divisible by 3,5,7=15\n",
    "\n",
    "# Q.5 -> Wap to find the sum of three number given by the user.\n",
    "\n",
    "\n",
    "# Q.6 -> Wap to find the sum of three number if all numbers are less then 20.\n",
    "# if number is greater than 20 then find their subtract.\n",
    "# if any number given by the user is greater than 30 then find their multiplication.\n",
    "\n",
    "# Q. 7 -> Givan a list = [10,20,30,40,50,70,80,90,100,110]\n",
    "# First reverse the value 40 to 80 = output is [10,20,30,80,70,60,50,40,90,100,110]\n",
    "# Return the whole list like pattern = [110,100,90,80,70,60,50,40,30,20,10]\n",
    "\n",
    "# Q. 8 -> Write a program to find the exponenet of user input number.\n",
    "\n",
    "\n",
    "# Q. 9 -> Accept any city from the user and display monument of the city.\n",
    "# \"City\" -------------------> \"Monument\"\n",
    "# \"Delhi\" ------------------> \"QubutMinary,LotusTemple,IndiaGate,RedFort\"\n",
    "# \"Agra\" ------------------->\"TajMahal\"\n",
    "# \"Jaipur\" -----------------> \"JalMahal,HawaMahal\"\n",
    "# \"Amritsar\" ---------------> \"Golden Temple\"\n",
    "# \"Madurai\" ---------------> \"Meenakshi Temple\"\n",
    "# \"Mysore\" ----------------> \"Mysore Palace\"\n",
    "# \"Mumabi\" ---------------> \"Gateway of India\"\n",
    "# \"Sanchi\" ----------------> \"Sanchi Stupa\"\n",
    "# \"Hydrabad\" ---------------> \"Charminar\"\n",
    "# \"Bihar\" -------------------> \"Nalanda University\"\n",
    "# \"Pune\" --------------------> \"Shaniwar wada\"\n",
    "\n",
    "# Q.10. A shop will give discount of \n",
    "# 20%  ---------------> more than ₹2000.\n",
    "# 10% ---------------> More than ₹1000.\n",
    "# Below ₹1000 'No Discount'.\n",
    "# ₹3000 more than \"No Discount\"\n",
    "\n",
    "\n",
    "# price enter   'price,discount,discount get, total price'\n",
    "\n",
    "# Q.11- Wap to find sum of even number from the list.\n",
    "# list1 = [1,0,2,5,78,5,21,5,5,521,45,5,78,90]\n",
    "\n",
    "\n",
    "# Q.12 - A company decided to given the bouns to the employee according to the conditions.\n",
    "# Time period of services ------------------> \"Bonus\"\n",
    "# More than 10 years  ----------------------> 10% of his/her salary. 10000 10% = 11000 [Your Net salary is ]\n",
    "# >=6 years and <10 yrs -------------------> 8% of his/her salary.\n",
    "# <6 years ---------------------------------> 5% of his/her salary.\n",
    "# Ask the user for their salary and years of service and print their net salary and bonus salary and total salary."
   ]
  }
 ],
 "metadata": {
  "kernelspec": {
   "display_name": "Python 3 (ipykernel)",
   "language": "python",
   "name": "python3"
  },
  "language_info": {
   "codemirror_mode": {
    "name": "ipython",
    "version": 3
   },
   "file_extension": ".py",
   "mimetype": "text/x-python",
   "name": "python",
   "nbconvert_exporter": "python",
   "pygments_lexer": "ipython3",
   "version": "3.12.2"
  }
 },
 "nbformat": 4,
 "nbformat_minor": 5
}
