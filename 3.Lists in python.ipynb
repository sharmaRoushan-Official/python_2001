{
 "cells": [
  {
   "cell_type": "markdown",
   "id": "822ead05-689d-4a06-be31-d9cb948783f4",
   "metadata": {},
   "source": [
    "# 3. Lists in python\n",
    "\n",
    " * __Lists are ordered.__\n",
    " * __Lists can contains any arbitrary objects.__\n",
    " * __Lists elements can be accessed by index value.__\n",
    " * __Lists can be nested to any arbitrary depth.__\n",
    " * __Lists are mutable data type in python.__\n",
    " * __Lists are dynamic.__"
   ]
  },
  {
   "cell_type": "code",
   "execution_count": 1,
   "id": "ed767257-cc1d-47d7-8ada-2998e71b36b3",
   "metadata": {},
   "outputs": [
    {
     "name": "stdout",
     "output_type": "stream",
     "text": [
      "[]\n"
     ]
    }
   ],
   "source": [
    "# Creating a list in python\n",
    "\n",
    "nlis=[]\n",
    "print(nlis)"
   ]
  },
  {
   "cell_type": "code",
   "execution_count": 2,
   "id": "1afae083-45bf-4d24-a5dd-cb7c44dcfc5a",
   "metadata": {},
   "outputs": [
    {
     "name": "stdout",
     "output_type": "stream",
     "text": [
      "<class 'list'>\n"
     ]
    }
   ],
   "source": [
    "print(type(nlis))"
   ]
  },
  {
   "cell_type": "code",
   "execution_count": 3,
   "id": "05f1eba6-4e3b-4586-bb7f-ceb1b86a105b",
   "metadata": {},
   "outputs": [
    {
     "name": "stdout",
     "output_type": "stream",
     "text": [
      "[1]\n",
      "<class 'list'>\n"
     ]
    }
   ],
   "source": [
    "# single element as a list.\n",
    "\n",
    "nlis=[1]\n",
    "print(nlis)\n",
    "print(type(nlis))"
   ]
  },
  {
   "cell_type": "code",
   "execution_count": 4,
   "id": "1fbb54e9-dc89-49d0-9d20-fc59a804fc25",
   "metadata": {},
   "outputs": [
    {
     "name": "stdout",
     "output_type": "stream",
     "text": [
      "()\n"
     ]
    }
   ],
   "source": [
    "tup = ()\n",
    "print(tup)"
   ]
  },
  {
   "cell_type": "code",
   "execution_count": 5,
   "id": "e79a32e7-35b0-440d-8393-eda3eaa7365e",
   "metadata": {},
   "outputs": [
    {
     "name": "stdout",
     "output_type": "stream",
     "text": [
      "<class 'tuple'>\n"
     ]
    }
   ],
   "source": [
    "print(type(tup))"
   ]
  },
  {
   "cell_type": "code",
   "execution_count": 6,
   "id": "692f7422-bc9a-4ee6-96c8-4fe9c455e698",
   "metadata": {},
   "outputs": [
    {
     "name": "stdout",
     "output_type": "stream",
     "text": [
      "1\n",
      "<class 'int'>\n"
     ]
    }
   ],
   "source": [
    "tup1=(1)\n",
    "print(tup1)\n",
    "print(type(tup1))"
   ]
  },
  {
   "cell_type": "code",
   "execution_count": 7,
   "id": "635c0c47-1596-445c-8d4a-27f1154e9d04",
   "metadata": {},
   "outputs": [],
   "source": [
    "# list\n",
    "\n",
    "# sting\n",
    "# integer\n",
    "# float\n",
    "# boolean\n",
    "# nested list\n",
    "# nested tuple\n",
    "# nested set\n",
    "# nested dictionary\n",
    "# other data structure."
   ]
  },
  {
   "cell_type": "code",
   "execution_count": 9,
   "id": "32062a3d-9a57-4c4d-a196-50a0c8b17881",
   "metadata": {},
   "outputs": [
    {
     "name": "stdout",
     "output_type": "stream",
     "text": [
      "['Python', 200, 3.147, True, False, ['Hello world', 'hey python', 10, 50.2], ('True', True), {1, 2, 3, 4, 5}, {'a': 'Uday', 'b': 'Trupti', 'c': 'Vinod'}]\n",
      "<class 'list'>\n"
     ]
    }
   ],
   "source": [
    "list1 =['Python',200,3.147,True,False,['Hello world','hey python',10,50.20],('True',True),{1,2,3,4,5},{'a':'Uday','b':\"Trupti\",'c':\"Vinod\"}]\n",
    "\n",
    "print(list1)\n",
    "print(type(list1))"
   ]
  },
  {
   "cell_type": "code",
   "execution_count": 13,
   "id": "0ede2bdc-7154-45d1-921e-63d5d8f7b587",
   "metadata": {},
   "outputs": [
    {
     "name": "stdout",
     "output_type": "stream",
     "text": [
      "Python\n",
      "200\n",
      "3.147\n",
      "True\n",
      "False\n",
      "['Hello world', 'hey python', 10, 50.2]\n"
     ]
    }
   ],
   "source": [
    "# Accessing element of the list\n",
    "print(list1[0])\n",
    "print(list1[1])\n",
    "print(list1[2])\n",
    "print(list1[3])\n",
    "print(list1[4])\n",
    "print(list1[5])"
   ]
  },
  {
   "cell_type": "code",
   "execution_count": 14,
   "id": "8689f2fa-55f8-48d8-af60-c16b03f2380a",
   "metadata": {},
   "outputs": [
    {
     "name": "stdout",
     "output_type": "stream",
     "text": [
      "{'a': 'Uday', 'b': 'Trupti', 'c': 'Vinod'}\n"
     ]
    }
   ],
   "source": [
    "# Negative index \n",
    "print(list1[-1])"
   ]
  },
  {
   "cell_type": "code",
   "execution_count": 15,
   "id": "2d6d0d9d-d089-48dd-a05b-12d947a3f1b6",
   "metadata": {},
   "outputs": [
    {
     "data": {
      "text/plain": [
       "['Python',\n",
       " 200,\n",
       " 3.147,\n",
       " True,\n",
       " False,\n",
       " ['Hello world', 'hey python', 10, 50.2],\n",
       " ('True', True),\n",
       " {1, 2, 3, 4, 5},\n",
       " {'a': 'Uday', 'b': 'Trupti', 'c': 'Vinod'}]"
      ]
     },
     "execution_count": 15,
     "metadata": {},
     "output_type": "execute_result"
    }
   ],
   "source": [
    "list1"
   ]
  },
  {
   "cell_type": "code",
   "execution_count": 18,
   "id": "d1d8dc44-701a-40c7-8beb-c3e8aaede9d8",
   "metadata": {},
   "outputs": [
    {
     "name": "stdout",
     "output_type": "stream",
     "text": [
      "['Python', 200, 3.147, True, False]\n",
      "[['Hello world', 'hey python', 10, 50.2]]\n"
     ]
    }
   ],
   "source": [
    "# With the help slicing.\n",
    "print(list1[:5])   # colon\n",
    "print(list1[5:6])"
   ]
  },
  {
   "cell_type": "code",
   "execution_count": 22,
   "id": "a04f8673-138e-43ca-9ded-55b4350fbae3",
   "metadata": {},
   "outputs": [
    {
     "data": {
      "text/plain": [
       "['hey python']"
      ]
     },
     "execution_count": 22,
     "metadata": {},
     "output_type": "execute_result"
    }
   ],
   "source": [
    "list1[5][1:2]"
   ]
  },
  {
   "cell_type": "code",
   "execution_count": 23,
   "id": "9ebb74e1-c365-445c-8c38-a5d3e0e2b8f1",
   "metadata": {},
   "outputs": [
    {
     "data": {
      "text/plain": [
       "['Python',\n",
       " 200,\n",
       " 3.147,\n",
       " True,\n",
       " False,\n",
       " ['Hello world', 'hey python', 10, 50.2],\n",
       " ('True', True),\n",
       " {1, 2, 3, 4, 5},\n",
       " {'a': 'Uday', 'b': 'Trupti', 'c': 'Vinod'}]"
      ]
     },
     "execution_count": 23,
     "metadata": {},
     "output_type": "execute_result"
    }
   ],
   "source": [
    "list1"
   ]
  },
  {
   "cell_type": "code",
   "execution_count": 24,
   "id": "15e8bd5c-9a54-4250-be81-edfa47073a6a",
   "metadata": {},
   "outputs": [
    {
     "data": {
      "text/plain": [
       "9"
      ]
     },
     "execution_count": 24,
     "metadata": {},
     "output_type": "execute_result"
    }
   ],
   "source": [
    "# lenght of the list.\n",
    "len(list1)"
   ]
  },
  {
   "cell_type": "code",
   "execution_count": 25,
   "id": "19348103-2ac1-4bf1-ae0f-a879f845fdbd",
   "metadata": {},
   "outputs": [
    {
     "data": {
      "text/plain": [
       "[10, 20, 30, 50, 60, 70, 'Hello']"
      ]
     },
     "execution_count": 25,
     "metadata": {},
     "output_type": "execute_result"
    }
   ],
   "source": [
    "# CRUD-[Create,Read,Update,Delete]->Mutable\n",
    "list2 = [10,20,30,50,60,70,'Hello']\n",
    "# to add element inside the list we have three methods [append,extend,insert]\n",
    "# append-one by one.\n",
    "# extend - multiple parameter at one time.\n",
    "# insert-it takes only two parameter at one time,position, element.\n",
    "list2"
   ]
  },
  {
   "cell_type": "code",
   "execution_count": 26,
   "id": "9b2a0ab8-ded6-4c4c-9d10-870dfa1f51b1",
   "metadata": {},
   "outputs": [
    {
     "data": {
      "text/plain": [
       "[10, 20, 30, 50, 60, 70, 'Hello', 'Good Evening']"
      ]
     },
     "execution_count": 26,
     "metadata": {},
     "output_type": "execute_result"
    }
   ],
   "source": [
    "list2.append(\"Good Evening\")\n",
    "list2"
   ]
  },
  {
   "cell_type": "code",
   "execution_count": 27,
   "id": "eead3037-015e-4e58-aa9d-c6718faf5958",
   "metadata": {},
   "outputs": [
    {
     "ename": "TypeError",
     "evalue": "list.append() takes exactly one argument (2 given)",
     "output_type": "error",
     "traceback": [
      "\u001b[1;31m---------------------------------------------------------------------------\u001b[0m",
      "\u001b[1;31mTypeError\u001b[0m                                 Traceback (most recent call last)",
      "Cell \u001b[1;32mIn[27], line 1\u001b[0m\n\u001b[1;32m----> 1\u001b[0m \u001b[43mlist2\u001b[49m\u001b[38;5;241;43m.\u001b[39;49m\u001b[43mappend\u001b[49m\u001b[43m(\u001b[49m\u001b[38;5;124;43m'\u001b[39;49m\u001b[38;5;124;43mGood Evening\u001b[39;49m\u001b[38;5;124;43m'\u001b[39;49m\u001b[43m,\u001b[49m\u001b[38;5;241;43m2\u001b[39;49m\u001b[43m)\u001b[49m\n",
      "\u001b[1;31mTypeError\u001b[0m: list.append() takes exactly one argument (2 given)"
     ]
    }
   ],
   "source": [
    "list2.append('Good Evening',2)"
   ]
  },
  {
   "cell_type": "code",
   "execution_count": 29,
   "id": "07796a2f-6b24-49f9-81d5-d2e20170a009",
   "metadata": {},
   "outputs": [],
   "source": [
    "# insert:\n",
    "list2.insert(0,\"Good Morning\")"
   ]
  },
  {
   "cell_type": "code",
   "execution_count": 30,
   "id": "21dc0d03-9093-43f5-907a-cead36bb3968",
   "metadata": {},
   "outputs": [
    {
     "data": {
      "text/plain": [
       "['Good Morning', 10, 20, 30, 50, 60, 70, 'Hello', 'Good Evening']"
      ]
     },
     "execution_count": 30,
     "metadata": {},
     "output_type": "execute_result"
    }
   ],
   "source": [
    "list2"
   ]
  },
  {
   "cell_type": "code",
   "execution_count": 31,
   "id": "c44d1a1a-0e0e-4577-9d3c-8ed2cf3bea7f",
   "metadata": {},
   "outputs": [],
   "source": [
    "list2.insert(0,100)"
   ]
  },
  {
   "cell_type": "code",
   "execution_count": 32,
   "id": "c20e85ae-8d29-43ed-b1c0-76b707cfdbe2",
   "metadata": {},
   "outputs": [
    {
     "data": {
      "text/plain": [
       "[100, 'Good Morning', 10, 20, 30, 50, 60, 70, 'Hello', 'Good Evening']"
      ]
     },
     "execution_count": 32,
     "metadata": {},
     "output_type": "execute_result"
    }
   ],
   "source": [
    "list2"
   ]
  },
  {
   "cell_type": "code",
   "execution_count": 33,
   "id": "ee701b83-a6a4-4825-bd7b-388cafed410e",
   "metadata": {},
   "outputs": [
    {
     "ename": "TypeError",
     "evalue": "insert expected 2 arguments, got 3",
     "output_type": "error",
     "traceback": [
      "\u001b[1;31m---------------------------------------------------------------------------\u001b[0m",
      "\u001b[1;31mTypeError\u001b[0m                                 Traceback (most recent call last)",
      "Cell \u001b[1;32mIn[33], line 1\u001b[0m\n\u001b[1;32m----> 1\u001b[0m \u001b[43mlist2\u001b[49m\u001b[38;5;241;43m.\u001b[39;49m\u001b[43minsert\u001b[49m\u001b[43m(\u001b[49m\u001b[38;5;241;43m0\u001b[39;49m\u001b[43m,\u001b[49m\u001b[38;5;241;43m200\u001b[39;49m\u001b[43m,\u001b[49m\u001b[38;5;241;43m500\u001b[39;49m\u001b[43m)\u001b[49m\n",
      "\u001b[1;31mTypeError\u001b[0m: insert expected 2 arguments, got 3"
     ]
    }
   ],
   "source": [
    "list2.insert(0,200,500)"
   ]
  },
  {
   "cell_type": "code",
   "execution_count": 34,
   "id": "287c185d-0228-45f4-8cd3-6ee88938a8a4",
   "metadata": {},
   "outputs": [
    {
     "data": {
      "text/plain": [
       "[100, 'Good Morning', 10, 20, 30, 50, 60, 70, 'Hello', 'Good Evening']"
      ]
     },
     "execution_count": 34,
     "metadata": {},
     "output_type": "execute_result"
    }
   ],
   "source": [
    "# Extend() method\n",
    "list2"
   ]
  },
  {
   "cell_type": "code",
   "execution_count": 35,
   "id": "ae460154-5197-45db-8b45-a1c384a40dc3",
   "metadata": {},
   "outputs": [
    {
     "data": {
      "text/plain": [
       "[100,\n",
       " 'Good Morning',\n",
       " 10,\n",
       " 20,\n",
       " 30,\n",
       " 50,\n",
       " 60,\n",
       " 70,\n",
       " 'Hello',\n",
       " 'Good Evening',\n",
       " 'Anpurna',\n",
       " 'Anup',\n",
       " 'Uday',\n",
       " 'Rasal',\n",
       " 78]"
      ]
     },
     "execution_count": 35,
     "metadata": {},
     "output_type": "execute_result"
    }
   ],
   "source": [
    "list2.extend(['Anpurna',\"Anup\",\"Uday\",\"Rasal\",78])\n"
   ]
  },
  {
   "cell_type": "code",
   "execution_count": 36,
   "id": "60c071eb-a434-4924-a5f5-87bc6b592d1a",
   "metadata": {},
   "outputs": [
    {
     "name": "stdout",
     "output_type": "stream",
     "text": [
      "[100, 'Good Morning', 10, 20, 30, 50, 60, 70, 'Hello', 'Good Evening', 'Anpurna', 'Anup', 'Uday', 'Rasal', 78]\n"
     ]
    }
   ],
   "source": [
    "print(list2)"
   ]
  },
  {
   "cell_type": "code",
   "execution_count": 46,
   "id": "b05cda0b-18a0-43aa-9be7-55a6b20933c1",
   "metadata": {},
   "outputs": [
    {
     "name": "stdout",
     "output_type": "stream",
     "text": [
      "List element: [1, 1, 1, 1, 2, 2, 2, 2, 3, 3, 5, 5, 5, 5, 8, 8, 8, 8, 8]\n",
      "4\n",
      "5\n",
      "8\n",
      "1\n",
      "78\n",
      "4.105263157894737\n",
      "19\n",
      "4\n"
     ]
    }
   ],
   "source": [
    "#count(),index(),max(),min(),sum(),average() method\n",
    "\n",
    "list3 =[1,1,1,1,2,2,2,2,3,3,5,5,5,5,8,8,8,8,8]\n",
    "print('List element:',list3)\n",
    "\n",
    "#count()\n",
    "print(list3.count(1))\n",
    "print(list3.count(8))\n",
    "\n",
    "# max()\n",
    "print(max(list3))  # max(list3)\n",
    "print(min(list3))\n",
    "\n",
    "# sum()\n",
    "print(sum(list3))\n",
    "\n",
    "# average of list\n",
    "print(sum(list3)/len(list3))\n",
    "print(len(list3))\n",
    "\n",
    "\n",
    "# index()\n",
    "print(list3.index(2))"
   ]
  },
  {
   "cell_type": "code",
   "execution_count": 48,
   "id": "82fe0af3-cb19-4268-b8ab-66fac41be683",
   "metadata": {},
   "outputs": [
    {
     "data": {
      "text/plain": [
       "['Uday', 3.14, 50]"
      ]
     },
     "execution_count": 48,
     "metadata": {},
     "output_type": "execute_result"
    }
   ],
   "source": [
    "# changing an element inside the list.\n",
    "x3 = [\"Python\",3.14,50]\n",
    "x3[0] = \"Uday\"\n",
    "x3"
   ]
  },
  {
   "cell_type": "code",
   "execution_count": 50,
   "id": "4edc2983-3985-406e-a891-7284c2ae8d96",
   "metadata": {},
   "outputs": [
    {
     "data": {
      "text/plain": [
       "['Uday', 3.14, 100]"
      ]
     },
     "execution_count": 50,
     "metadata": {},
     "output_type": "execute_result"
    }
   ],
   "source": [
    "x3[2] = 100\n",
    "x3"
   ]
  },
  {
   "cell_type": "code",
   "execution_count": 51,
   "id": "12152433-2e50-4102-9dfd-834cc2aab309",
   "metadata": {},
   "outputs": [
    {
     "data": {
      "text/plain": [
       "['Uday', 3.14, 100]"
      ]
     },
     "execution_count": 51,
     "metadata": {},
     "output_type": "execute_result"
    }
   ],
   "source": [
    "# Deleting an element\n",
    "# del() method\n",
    "x3"
   ]
  },
  {
   "cell_type": "code",
   "execution_count": 52,
   "id": "cbac1f98-3c52-491c-80c1-1b06eb3cd56b",
   "metadata": {},
   "outputs": [],
   "source": [
    "del(x3[0])"
   ]
  },
  {
   "cell_type": "code",
   "execution_count": 53,
   "id": "2be54915-fa8c-4b8b-833a-268c23f68bee",
   "metadata": {},
   "outputs": [
    {
     "data": {
      "text/plain": [
       "[3.14, 100]"
      ]
     },
     "execution_count": 53,
     "metadata": {},
     "output_type": "execute_result"
    }
   ],
   "source": [
    "x3"
   ]
  },
  {
   "cell_type": "code",
   "execution_count": 54,
   "id": "cd131a9d-5e86-4b23-b53c-5a0844e135eb",
   "metadata": {},
   "outputs": [],
   "source": [
    "del(x3)"
   ]
  },
  {
   "cell_type": "code",
   "execution_count": 55,
   "id": "d4387ab1-d58a-4fe6-b8d0-504dff8f7411",
   "metadata": {},
   "outputs": [
    {
     "ename": "NameError",
     "evalue": "name 'x3' is not defined",
     "output_type": "error",
     "traceback": [
      "\u001b[1;31m---------------------------------------------------------------------------\u001b[0m",
      "\u001b[1;31mNameError\u001b[0m                                 Traceback (most recent call last)",
      "Cell \u001b[1;32mIn[55], line 1\u001b[0m\n\u001b[1;32m----> 1\u001b[0m \u001b[43mx3\u001b[49m\n",
      "\u001b[1;31mNameError\u001b[0m: name 'x3' is not defined"
     ]
    }
   ],
   "source": [
    "x3"
   ]
  },
  {
   "cell_type": "code",
   "execution_count": 57,
   "id": "1cafddf8-4b15-44d6-9fcb-0a0a222d9ded",
   "metadata": {},
   "outputs": [
    {
     "name": "stdout",
     "output_type": "stream",
     "text": [
      "['python', 3.14, 10, 20]\n",
      "<class 'list'>\n"
     ]
    },
    {
     "ename": "NameError",
     "evalue": "name 'x4' is not defined",
     "output_type": "error",
     "traceback": [
      "\u001b[1;31m---------------------------------------------------------------------------\u001b[0m",
      "\u001b[1;31mNameError\u001b[0m                                 Traceback (most recent call last)",
      "Cell \u001b[1;32mIn[57], line 13\u001b[0m\n\u001b[0;32m      9\u001b[0m \u001b[38;5;28mprint\u001b[39m(x3)\n\u001b[0;32m     10\u001b[0m \u001b[38;5;28mprint\u001b[39m(\u001b[38;5;28mtype\u001b[39m(x3))\n\u001b[1;32m---> 13\u001b[0m \u001b[38;5;28mprint\u001b[39m(\u001b[43mx4\u001b[49m)\n",
      "\u001b[1;31mNameError\u001b[0m: name 'x4' is not defined"
     ]
    }
   ],
   "source": [
    "# Copy() method of the list.\n",
    "\n",
    "# shallow copy = shallow copy\n",
    "# deep copy  =  Deep copy\n",
    "# -------------------------------------------\n",
    "\n",
    "x3 = ['python',3.14,10,20]\n",
    "\n",
    "print(x3)\n",
    "print(type(x3))\n",
    "\n",
    "\n",
    "print(x4)"
   ]
  },
  {
   "cell_type": "code",
   "execution_count": 60,
   "id": "f089a7bb-06b2-4251-92f4-d7bf5b84fea4",
   "metadata": {},
   "outputs": [
    {
     "name": "stdout",
     "output_type": "stream",
     "text": [
      "['python', 3.14, 10, 20, 'Cat']\n"
     ]
    }
   ],
   "source": [
    "# shallow copy\n",
    "x4 = x3.copy()\n",
    "x4\n",
    "\n",
    "# adding an element\n",
    "x4.append('Cat')\n",
    "print(x4)"
   ]
  },
  {
   "cell_type": "code",
   "execution_count": 61,
   "id": "408cf6a2-7e14-4c9e-826c-3f110fa0fec3",
   "metadata": {},
   "outputs": [
    {
     "data": {
      "text/plain": [
       "['python', 3.14, 10, 20]"
      ]
     },
     "execution_count": 61,
     "metadata": {},
     "output_type": "execute_result"
    }
   ],
   "source": [
    "x3"
   ]
  },
  {
   "cell_type": "code",
   "execution_count": 63,
   "id": "277787b6-d2ec-4df7-bc8e-17e819be9b0c",
   "metadata": {},
   "outputs": [
    {
     "name": "stdout",
     "output_type": "stream",
     "text": [
      "['Python', 'Hello']\n",
      "['Python', 'Hello']\n"
     ]
    }
   ],
   "source": [
    "# Deep copy()\n",
    "\n",
    "x5 = ['Python','Hello']\n",
    "print(x5)\n",
    "\n",
    "x6 = x5\n",
    "print(x6)   # deep copy"
   ]
  },
  {
   "cell_type": "code",
   "execution_count": 64,
   "id": "b1c15f35-fa45-475f-8fb4-678727d30563",
   "metadata": {},
   "outputs": [
    {
     "data": {
      "text/plain": [
       "['Python', 'Hello', 'Trupti']"
      ]
     },
     "execution_count": 64,
     "metadata": {},
     "output_type": "execute_result"
    }
   ],
   "source": [
    "x6.append('Trupti')\n",
    "x6"
   ]
  },
  {
   "cell_type": "code",
   "execution_count": 65,
   "id": "f3c99af1-2e41-4c8c-90d9-3c69b9f3768b",
   "metadata": {},
   "outputs": [
    {
     "data": {
      "text/plain": [
       "['Python', 'Hello', 'Trupti']"
      ]
     },
     "execution_count": 65,
     "metadata": {},
     "output_type": "execute_result"
    }
   ],
   "source": [
    "x5"
   ]
  },
  {
   "cell_type": "code",
   "execution_count": 69,
   "id": "dca551d0-bdd5-42fc-a520-acebce5b3b21",
   "metadata": {},
   "outputs": [
    {
     "name": "stdin",
     "output_type": "stream",
     "text": [
      " Hello\n"
     ]
    },
    {
     "name": "stdout",
     "output_type": "stream",
     "text": [
      "Hello\n",
      "<class 'str'>\n"
     ]
    }
   ],
   "source": [
    "# input() function: With the help of input function you are able to take input from the user.\n",
    "\n",
    "x1=input()\n",
    "print(x1)\n",
    "print(type(x1))   # string"
   ]
  },
  {
   "cell_type": "code",
   "execution_count": 71,
   "id": "cf92f4b1-991c-4ad4-9aa8-705548565ab5",
   "metadata": {},
   "outputs": [
    {
     "name": "stdin",
     "output_type": "stream",
     "text": [
      "Enter any value: 100\n"
     ]
    },
    {
     "name": "stdout",
     "output_type": "stream",
     "text": [
      "100\n",
      "<class 'int'>\n"
     ]
    }
   ],
   "source": [
    "x1 = int(input('Enter any value:'))\n",
    "print(x1)\n",
    "print(type(x1))"
   ]
  },
  {
   "cell_type": "code",
   "execution_count": 72,
   "id": "35c29752-f2f9-4053-951f-66fefea520b3",
   "metadata": {},
   "outputs": [
    {
     "name": "stdin",
     "output_type": "stream",
     "text": [
      "Enter any value: 100\n"
     ]
    },
    {
     "name": "stdout",
     "output_type": "stream",
     "text": [
      "100.0\n",
      "<class 'float'>\n"
     ]
    }
   ],
   "source": [
    "x2 = float(input('Enter any value:'))\n",
    "print(x2)\n",
    "print(type(x2))"
   ]
  },
  {
   "cell_type": "code",
   "execution_count": 78,
   "id": "0fda8601-ed9f-4949-bd63-563b9a091f04",
   "metadata": {},
   "outputs": [
    {
     "name": "stdin",
     "output_type": "stream",
     "text": [
      "Enter first value: 500.66\n",
      "Enter second value: 896.235886\n"
     ]
    },
    {
     "name": "stdout",
     "output_type": "stream",
     "text": [
      "Sum of the two value is: 1396.895886\n"
     ]
    }
   ],
   "source": [
    "# program find the sum of two value from user input\n",
    "\n",
    "x1=float(input('Enter first value:'))\n",
    "x2 = float(input('Enter second value:'))\n",
    "x3 = x1+x2\n",
    "print(\"Sum of the two value is:\",x3)"
   ]
  },
  {
   "cell_type": "code",
   "execution_count": 81,
   "id": "0d5fe688-414c-4bb6-9971-265be705b673",
   "metadata": {},
   "outputs": [
    {
     "name": "stdin",
     "output_type": "stream",
     "text": [
      "Enter the first value: 110\n",
      "Enter second value: 220\n"
     ]
    },
    {
     "name": "stdout",
     "output_type": "stream",
     "text": [
      "330.0\n",
      "Sum of 110.0 and 220.0 is 330.0\n"
     ]
    }
   ],
   "source": [
    "# format() function\n",
    "# This function helps to format the output printed on the screen with good look and attractive.\n",
    "\n",
    "a = float(input('Enter the first value:'))\n",
    "b= float(input('Enter second value:'))\n",
    "total = a+b\n",
    "print(total)\n",
    "print('Sum of {} and {} is {}'.format(a,b,total))"
   ]
  },
  {
   "cell_type": "code",
   "execution_count": 87,
   "id": "caf6b06d-75e5-46ac-a207-c098b69141af",
   "metadata": {},
   "outputs": [
    {
     "name": "stdin",
     "output_type": "stream",
     "text": [
      "Enter your favourite fruits: Mango\n",
      "Enter your favourite dish: apple\n"
     ]
    },
    {
     "name": "stdout",
     "output_type": "stream",
     "text": [
      "I like Mango and apple\n",
      "I like apple and Mango.\n",
      "I like Mango and apple\n",
      "I like Mango and apple\n"
     ]
    }
   ],
   "source": [
    "a = input('Enter your favourite fruits:')\n",
    "b = input('Enter your favourite dish:')\n",
    "print('I like {} and {}'.format(a,b))\n",
    "print('I like {} and {}.'.format(b,a))\n",
    "print('I like {0} and {1}'.format(a,b))\n",
    "print(\"I like {1} and {0}\".format(b,a))"
   ]
  },
  {
   "cell_type": "code",
   "execution_count": 90,
   "id": "8deda6d8-d734-4aa9-9d7f-3dd54ea889de",
   "metadata": {},
   "outputs": [
    {
     "name": "stdout",
     "output_type": "stream",
     "text": [
      "4+5\n",
      "<class 'str'>\n"
     ]
    }
   ],
   "source": [
    "# eval()\n",
    "\n",
    "a1 = \"4+5\"\n",
    "print(a1)\n",
    "print(type(a1))"
   ]
  },
  {
   "cell_type": "code",
   "execution_count": 91,
   "id": "6216ff02-cd13-4c74-88bc-529a740d98b3",
   "metadata": {},
   "outputs": [
    {
     "name": "stdout",
     "output_type": "stream",
     "text": [
      "9\n",
      "<class 'int'>\n"
     ]
    }
   ],
   "source": [
    "a2 = eval(a1)\n",
    "print(a2)\n",
    "print(type(a2))"
   ]
  },
  {
   "cell_type": "code",
   "execution_count": null,
   "id": "b15a5596-7bf3-4747-bd1e-5d82cdcdfcfe",
   "metadata": {},
   "outputs": [],
   "source": []
  }
 ],
 "metadata": {
  "kernelspec": {
   "display_name": "Python 3 (ipykernel)",
   "language": "python",
   "name": "python3"
  },
  "language_info": {
   "codemirror_mode": {
    "name": "ipython",
    "version": 3
   },
   "file_extension": ".py",
   "mimetype": "text/x-python",
   "name": "python",
   "nbconvert_exporter": "python",
   "pygments_lexer": "ipython3",
   "version": "3.12.2"
  }
 },
 "nbformat": 4,
 "nbformat_minor": 5
}
